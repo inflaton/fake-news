{
  "cells": [
    {
      "cell_type": "code",
      "execution_count": 16,
      "metadata": {},
      "outputs": [
        {
          "name": "stdout",
          "output_type": "stream",
          "text": [
            "The autoreload extension is already loaded. To reload it, use:\n",
            "  %reload_ext autoreload\n"
          ]
        }
      ],
      "source": [
        "%load_ext autoreload\n",
        "%autoreload 2"
      ]
    },
    {
      "cell_type": "code",
      "execution_count": 17,
      "metadata": {},
      "outputs": [
        {
          "name": "stdout",
          "output_type": "stream",
          "text": [
            "working dir: /Users/inflaton/code/engd/papers/DM-Fake-News-Detection\n"
          ]
        }
      ],
      "source": [
        "import os\n",
        "import sys\n",
        "from pathlib import Path\n",
        "\n",
        "if \"workding_dir\" not in locals():\n",
        "    workding_dir = str(Path.cwd().parent)\n",
        "os.chdir(workding_dir)\n",
        "sys.path.append(workding_dir)\n",
        "print(\"working dir:\", workding_dir)"
      ]
    },
    {
      "cell_type": "code",
      "execution_count": 18,
      "metadata": {},
      "outputs": [
        {
          "name": "stdout",
          "output_type": "stream",
          "text": [
            "loading env vars from: /Users/inflaton/code/engd/papers/DM-Fake-News-Detection/.env\n"
          ]
        },
        {
          "data": {
            "text/plain": [
              "True"
            ]
          },
          "execution_count": 18,
          "metadata": {},
          "output_type": "execute_result"
        }
      ],
      "source": [
        "from dotenv import find_dotenv, load_dotenv\n",
        "\n",
        "found_dotenv = find_dotenv(\".env\")\n",
        "\n",
        "if len(found_dotenv) == 0:\n",
        "    found_dotenv = find_dotenv(\".env.example\")\n",
        "print(f\"loading env vars from: {found_dotenv}\")\n",
        "load_dotenv(found_dotenv, override=True)"
      ]
    },
    {
      "cell_type": "code",
      "execution_count": 19,
      "metadata": {},
      "outputs": [],
      "source": [
        "from llm_experiements.utils import *"
      ]
    },
    {
      "cell_type": "code",
      "execution_count": 20,
      "metadata": {},
      "outputs": [],
      "source": [
        "model_name = \"./results/DistilBERT-original\""
      ]
    },
    {
      "cell_type": "code",
      "execution_count": 21,
      "metadata": {},
      "outputs": [
        {
          "data": {
            "text/html": [
              "\n",
              "    <div>\n",
              "      \n",
              "      <progress value='379' max='379' style='width:300px; height:20px; vertical-align: middle;'></progress>\n",
              "      [379/379 01:00]\n",
              "    </div>\n",
              "    "
            ],
            "text/plain": [
              "<IPython.core.display.HTML object>"
            ]
          },
          "metadata": {},
          "output_type": "display_data"
        },
        {
          "name": "stdout",
          "output_type": "stream",
          "text": [
            "Evaluation Results: {'eval_loss': 0.03182598203420639, 'eval_model_preparation_time': 0.0006, 'eval_accuracy': 0.9948760330578512, 'eval_precision': 0.9928409947249435, 'eval_recall': 0.9954665659236872, 'eval_f1_score': 0.9941520467836257, 'eval_runtime': 60.8845, 'eval_samples_per_second': 99.368, 'eval_steps_per_second': 6.225}\n",
            "\n",
            "🏆 Final Evaluation Results:\n",
            "🔹 Accuracy: 0.9949\n",
            "🔹 Precision: 0.9928\n",
            "🔹 Recall: 0.9955\n",
            "🔹 F1_score: 0.9942\n",
            "CPU times: user 6.53 s, sys: 1.32 s, total: 7.85 s\n",
            "Wall time: 1min 6s\n"
          ]
        }
      ],
      "source": [
        "%%time\n",
        "\n",
        "perf_original_model_val_data = evaluate_fine_tuned_llm(model_name, config=\"original\")"
      ]
    },
    {
      "cell_type": "code",
      "execution_count": 22,
      "metadata": {},
      "outputs": [
        {
          "data": {
            "text/html": [
              "\n",
              "    <div>\n",
              "      \n",
              "      <progress value='379' max='379' style='width:300px; height:20px; vertical-align: middle;'></progress>\n",
              "      [379/379 01:03]\n",
              "    </div>\n",
              "    "
            ],
            "text/plain": [
              "<IPython.core.display.HTML object>"
            ]
          },
          "metadata": {},
          "output_type": "display_data"
        },
        {
          "name": "stdout",
          "output_type": "stream",
          "text": [
            "Evaluation Results: {'eval_loss': 1.7086507081985474, 'eval_model_preparation_time': 0.0005, 'eval_accuracy': 0.7687603305785125, 'eval_precision': 0.9121532364597094, 'eval_recall': 0.5217227049489989, 'eval_f1_score': 0.6637827445325643, 'eval_runtime': 63.7523, 'eval_samples_per_second': 94.898, 'eval_steps_per_second': 5.945}\n",
            "\n",
            "🏆 Final Evaluation Results:\n",
            "🔹 Accuracy: 0.7688\n",
            "🔹 Precision: 0.9122\n",
            "🔹 Recall: 0.5217\n",
            "🔹 F1_score: 0.6638\n",
            "CPU times: user 7.59 s, sys: 1.44 s, total: 9.03 s\n",
            "Wall time: 1min 9s\n"
          ]
        }
      ],
      "source": [
        "%%time\n",
        "\n",
        "perf_original_model_val_data_rewritten = evaluate_fine_tuned_llm(\n",
        "    model_name, config=\"rewritten\"\n",
        ")"
      ]
    },
    {
      "cell_type": "code",
      "execution_count": 23,
      "metadata": {},
      "outputs": [],
      "source": [
        "model_name = \"./results/DistilBERT-combined\""
      ]
    },
    {
      "cell_type": "code",
      "execution_count": 24,
      "metadata": {},
      "outputs": [
        {
          "data": {
            "text/html": [
              "\n",
              "    <div>\n",
              "      \n",
              "      <progress value='379' max='379' style='width:300px; height:20px; vertical-align: middle;'></progress>\n",
              "      [379/379 01:11]\n",
              "    </div>\n",
              "    "
            ],
            "text/plain": [
              "<IPython.core.display.HTML object>"
            ]
          },
          "metadata": {},
          "output_type": "display_data"
        },
        {
          "name": "stdout",
          "output_type": "stream",
          "text": [
            "Evaluation Results: {'eval_loss': 0.037787407636642456, 'eval_model_preparation_time': 0.0006, 'eval_accuracy': 0.9930578512396694, 'eval_precision': 0.9916949792374481, 'eval_recall': 0.9924442765394786, 'eval_f1_score': 0.9920694864048338, 'eval_runtime': 71.2776, 'eval_samples_per_second': 84.879, 'eval_steps_per_second': 5.317}\n",
            "\n",
            "🏆 Final Evaluation Results:\n",
            "🔹 Accuracy: 0.9931\n",
            "🔹 Precision: 0.9917\n",
            "🔹 Recall: 0.9924\n",
            "🔹 F1_score: 0.9921\n",
            "CPU times: user 7.11 s, sys: 1.48 s, total: 8.6 s\n",
            "Wall time: 1min 17s\n"
          ]
        }
      ],
      "source": [
        "%%time\n",
        "\n",
        "perf_combined_model_val_data = evaluate_fine_tuned_llm(model_name, config=\"original\")"
      ]
    },
    {
      "cell_type": "code",
      "execution_count": 25,
      "metadata": {},
      "outputs": [
        {
          "data": {
            "text/html": [
              "\n",
              "    <div>\n",
              "      \n",
              "      <progress value='379' max='379' style='width:300px; height:20px; vertical-align: middle;'></progress>\n",
              "      [379/379 03:26]\n",
              "    </div>\n",
              "    "
            ],
            "text/plain": [
              "<IPython.core.display.HTML object>"
            ]
          },
          "metadata": {},
          "output_type": "display_data"
        },
        {
          "name": "stdout",
          "output_type": "stream",
          "text": [
            "Evaluation Results: {'eval_loss': 0.3002549409866333, 'eval_model_preparation_time': 0.0006, 'eval_accuracy': 0.9373553719008264, 'eval_precision': 0.9419329696024942, 'eval_recall': 0.9131091802040046, 'eval_f1_score': 0.9272971417609822, 'eval_runtime': 207.1936, 'eval_samples_per_second': 29.2, 'eval_steps_per_second': 1.829}\n",
            "\n",
            "🏆 Final Evaluation Results:\n",
            "🔹 Accuracy: 0.9374\n",
            "🔹 Precision: 0.9419\n",
            "🔹 Recall: 0.9131\n",
            "🔹 F1_score: 0.9273\n",
            "CPU times: user 10.4 s, sys: 2.31 s, total: 12.7 s\n",
            "Wall time: 3min 32s\n"
          ]
        }
      ],
      "source": [
        "%%time\n",
        "\n",
        "perf_combined_model_val_data_rewritten = evaluate_fine_tuned_llm(model_name, config=\"rewritten\")"
      ]
    },
    {
      "cell_type": "code",
      "execution_count": 26,
      "metadata": {},
      "outputs": [],
      "source": [
        "model_name = \"./results/DistilBERT-rewritten\""
      ]
    },
    {
      "cell_type": "code",
      "execution_count": 27,
      "metadata": {},
      "outputs": [
        {
          "data": {
            "application/vnd.jupyter.widget-view+json": {
              "model_id": "9c507d1b9ac1482ca5e5860717996610",
              "version_major": 2,
              "version_minor": 0
            },
            "text/plain": [
              "Map:   0%|          | 0/54441 [00:00<?, ? examples/s]"
            ]
          },
          "metadata": {},
          "output_type": "display_data"
        },
        {
          "data": {
            "application/vnd.jupyter.widget-view+json": {
              "model_id": "7afd67554b604494bb877b09c6ff6f24",
              "version_major": 2,
              "version_minor": 0
            },
            "text/plain": [
              "Map:   0%|          | 0/6050 [00:00<?, ? examples/s]"
            ]
          },
          "metadata": {},
          "output_type": "display_data"
        },
        {
          "data": {
            "application/vnd.jupyter.widget-view+json": {
              "model_id": "f59675e5d81b40538f66de07f77e4c0e",
              "version_major": 2,
              "version_minor": 0
            },
            "text/plain": [
              "Map:   0%|          | 0/54441 [00:00<?, ? examples/s]"
            ]
          },
          "metadata": {},
          "output_type": "display_data"
        },
        {
          "data": {
            "application/vnd.jupyter.widget-view+json": {
              "model_id": "7f0e11e16eb94398a82bf3832bef1427",
              "version_major": 2,
              "version_minor": 0
            },
            "text/plain": [
              "Map:   0%|          | 0/6050 [00:00<?, ? examples/s]"
            ]
          },
          "metadata": {},
          "output_type": "display_data"
        },
        {
          "data": {
            "text/html": [
              "\n",
              "    <div>\n",
              "      \n",
              "      <progress value='379' max='379' style='width:300px; height:20px; vertical-align: middle;'></progress>\n",
              "      [379/379 01:34]\n",
              "    </div>\n",
              "    "
            ],
            "text/plain": [
              "<IPython.core.display.HTML object>"
            ]
          },
          "metadata": {},
          "output_type": "display_data"
        },
        {
          "name": "stdout",
          "output_type": "stream",
          "text": [
            "Evaluation Results: {'eval_loss': 0.15522737801074982, 'eval_model_preparation_time': 0.0005, 'eval_accuracy': 0.9659504132231405, 'eval_precision': 0.9739805825242719, 'eval_recall': 0.9474877219493767, 'eval_f1_score': 0.9605515128303332, 'eval_runtime': 94.8882, 'eval_samples_per_second': 63.759, 'eval_steps_per_second': 3.994}\n",
            "\n",
            "🏆 Final Evaluation Results:\n",
            "🔹 Accuracy: 0.9660\n",
            "🔹 Precision: 0.9740\n",
            "🔹 Recall: 0.9475\n",
            "🔹 F1_score: 0.9606\n",
            "CPU times: user 1min 17s, sys: 3.29 s, total: 1min 20s\n",
            "Wall time: 2min 52s\n"
          ]
        }
      ],
      "source": [
        "%%time\n",
        "\n",
        "perf_rewritten_model_val_data = evaluate_fine_tuned_llm(model_name, config=\"original\")"
      ]
    },
    {
      "cell_type": "code",
      "execution_count": 28,
      "metadata": {},
      "outputs": [
        {
          "data": {
            "text/html": [
              "\n",
              "    <div>\n",
              "      \n",
              "      <progress value='379' max='379' style='width:300px; height:20px; vertical-align: middle;'></progress>\n",
              "      [379/379 01:22]\n",
              "    </div>\n",
              "    "
            ],
            "text/plain": [
              "<IPython.core.display.HTML object>"
            ]
          },
          "metadata": {},
          "output_type": "display_data"
        },
        {
          "name": "stdout",
          "output_type": "stream",
          "text": [
            "Evaluation Results: {'eval_loss': 0.2721322476863861, 'eval_model_preparation_time': 0.0005, 'eval_accuracy': 0.9375206611570248, 'eval_precision': 0.9292470677260689, 'eval_recall': 0.9278428409520212, 'eval_f1_score': 0.9285444234404537, 'eval_runtime': 82.6941, 'eval_samples_per_second': 73.161, 'eval_steps_per_second': 4.583}\n",
            "\n",
            "🏆 Final Evaluation Results:\n",
            "🔹 Accuracy: 0.9375\n",
            "🔹 Precision: 0.9292\n",
            "🔹 Recall: 0.9278\n",
            "🔹 F1_score: 0.9285\n",
            "CPU times: user 8.42 s, sys: 1.67 s, total: 10.1 s\n",
            "Wall time: 1min 28s\n"
          ]
        }
      ],
      "source": [
        "%%time\n",
        "\n",
        "perf_rewritten_model_val_data_rewritten = evaluate_fine_tuned_llm(model_name, config=\"rewritten\")"
      ]
    },
    {
      "cell_type": "code",
      "execution_count": 29,
      "metadata": {},
      "outputs": [
        {
          "name": "stdout",
          "output_type": "stream",
          "text": [
            "Results saved to results/DistilBERT_metrics.csv\n"
          ]
        },
        {
          "data": {
            "image/png": "[encoded data removed]",
            "text/plain": [
              "<Figure size 1500x500 with 6 Axes>"
            ]
          },
          "metadata": {},
          "output_type": "display_data"
        }
      ],
      "source": [
        "from llm_experiements.utils import *\n",
        "\n",
        "model = \"DistilBERT\"\n",
        "save_results(\n",
        "    model,\n",
        "    perf_original_model_val_data,\n",
        "    perf_original_model_val_data_rewritten,\n",
        "    perf_combined_model_val_data,\n",
        "    perf_combined_model_val_data_rewritten,\n",
        "    perf_rewritten_model_val_data,\n",
        "    perf_rewritten_model_val_data_rewritten,\n",
        ")\n",
        "\n",
        "plot_results(\n",
        "    model,\n",
        "    perf_original_model_val_data,\n",
        "    perf_original_model_val_data_rewritten,\n",
        "    perf_combined_model_val_data,\n",
        "    perf_combined_model_val_data_rewritten,\n",
        "    perf_rewritten_model_val_data,\n",
        "    perf_rewritten_model_val_data_rewritten,\n",
        ")"
      ]
    }
  ],
  "metadata": {
    "accelerator": "GPU",
    "colab": {
      "private_outputs": true,
      "provenance": [],
      "toc_visible": true
    },
    "kernelspec": {
      "display_name": "fake-news",
      "language": "python",
      "name": "python3"
    },
    "language_info": {
      "codemirror_mode": {
        "name": "ipython",
        "version": 3
      },
      "file_extension": ".py",
      "mimetype": "text/x-python",
      "name": "python",
      "nbconvert_exporter": "python",
      "pygments_lexer": "ipython3",
      "version": "3.11.11"
    }
  },
  "nbformat": 4,
  "nbformat_minor": 0
}
