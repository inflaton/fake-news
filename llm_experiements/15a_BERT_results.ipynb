{
  "cells": [
    {
      "cell_type": "code",
      "execution_count": 1,
      "metadata": {},
      "outputs": [],
      "source": [
        "%load_ext autoreload\n",
        "%autoreload 2"
      ]
    },
    {
      "cell_type": "code",
      "execution_count": 2,
      "metadata": {},
      "outputs": [
        {
          "name": "stdout",
          "output_type": "stream",
          "text": [
            "working dir: /home/inflaton/code/CrediNews\n"
          ]
        }
      ],
      "source": [
        "import os\n",
        "import sys\n",
        "from pathlib import Path\n",
        "\n",
        "if \"workding_dir\" not in locals():\n",
        "    workding_dir = str(Path.cwd().parent)\n",
        "os.chdir(workding_dir)\n",
        "sys.path.append(workding_dir)\n",
        "print(\"working dir:\", workding_dir)"
      ]
    },
    {
      "cell_type": "code",
      "execution_count": 3,
      "metadata": {},
      "outputs": [
        {
          "name": "stdout",
          "output_type": "stream",
          "text": [
            "loading env vars from: /home/inflaton/code/CrediNews/.env\n"
          ]
        },
        {
          "data": {
            "text/plain": [
              "True"
            ]
          },
          "execution_count": 3,
          "metadata": {},
          "output_type": "execute_result"
        }
      ],
      "source": [
        "from dotenv import find_dotenv, load_dotenv\n",
        "\n",
        "found_dotenv = find_dotenv(\".env\")\n",
        "\n",
        "if len(found_dotenv) == 0:\n",
        "    found_dotenv = find_dotenv(\".env.example\")\n",
        "print(f\"loading env vars from: {found_dotenv}\")\n",
        "load_dotenv(found_dotenv, override=True)"
      ]
    },
    {
      "cell_type": "code",
      "execution_count": 4,
      "metadata": {},
      "outputs": [
        {
          "name": "stderr",
          "output_type": "stream",
          "text": [
            "2025-02-25 08:51:42.912429: I tensorflow/core/util/port.cc:153] oneDNN custom operations are on. You may see slightly different numerical results due to floating-point round-off errors from different computation orders. To turn them off, set the environment variable `TF_ENABLE_ONEDNN_OPTS=0`.\n",
            "2025-02-25 08:51:42.919326: E external/local_xla/xla/stream_executor/cuda/cuda_fft.cc:477] Unable to register cuFFT factory: Attempting to register factory for plugin cuFFT when one has already been registered\n",
            "WARNING: All log messages before absl::InitializeLog() is called are written to STDERR\n",
            "E0000 00:00:1740444702.926790  105995 cuda_dnn.cc:8310] Unable to register cuDNN factory: Attempting to register factory for plugin cuDNN when one has already been registered\n",
            "E0000 00:00:1740444702.929031  105995 cuda_blas.cc:1418] Unable to register cuBLAS factory: Attempting to register factory for plugin cuBLAS when one has already been registered\n",
            "2025-02-25 08:51:42.937665: I tensorflow/core/platform/cpu_feature_guard.cc:210] This TensorFlow binary is optimized to use available CPU instructions in performance-critical operations.\n",
            "To enable the following instructions: AVX2 AVX512F AVX512_VNNI AVX512_BF16 AVX_VNNI FMA, in other operations, rebuild TensorFlow with the appropriate compiler flags.\n"
          ]
        }
      ],
      "source": [
        "from llm_experiements.utils import *"
      ]
    },
    {
      "cell_type": "code",
      "execution_count": 5,
      "metadata": {},
      "outputs": [],
      "source": [
        "model_name = \"./results/BERT-original\""
      ]
    },
    {
      "cell_type": "code",
      "execution_count": 6,
      "metadata": {},
      "outputs": [
        {
          "name": "stderr",
          "output_type": "stream",
          "text": [
            "Using the `WANDB_DISABLED` environment variable is deprecated and will be removed in v5. Use the --report_to flag to control the integrations used for logging result (for instance --report_to none).\n"
          ]
        },
        {
          "data": {
            "text/html": [
              "\n",
              "    <div>\n",
              "      \n",
              "      <progress value='379' max='379' style='width:300px; height:20px; vertical-align: middle;'></progress>\n",
              "      [379/379 00:30]\n",
              "    </div>\n",
              "    "
            ],
            "text/plain": [
              "<IPython.core.display.HTML object>"
            ]
          },
          "metadata": {},
          "output_type": "display_data"
        },
        {
          "name": "stdout",
          "output_type": "stream",
          "text": [
            "Evaluation Results: {'eval_loss': 0.035875339061021805, 'eval_model_preparation_time': 0.001, 'eval_accuracy': 0.9945454545454545, 'eval_precision': 0.9920933734939759, 'eval_recall': 0.9954665659236872, 'eval_f1_score': 0.993777107297756, 'eval_runtime': 30.3313, 'eval_samples_per_second': 199.464, 'eval_steps_per_second': 12.495}\n",
            "\n",
            "🏆 Final Evaluation Results:\n",
            "🔹 Accuracy: 0.9945\n",
            "🔹 Precision: 0.9921\n",
            "🔹 Recall: 0.9955\n",
            "🔹 F1_score: 0.9938\n",
            "🔹 Throughput: 196.9169\n",
            "CPU times: user 30.3 s, sys: 385 ms, total: 30.6 s\n",
            "Wall time: 46.3 s\n"
          ]
        }
      ],
      "source": [
        "%%time\n",
        "\n",
        "perf_original_model_val_data = evaluate_fine_tuned_llm(model_name, config=\"original\")"
      ]
    },
    {
      "cell_type": "code",
      "execution_count": 7,
      "metadata": {},
      "outputs": [
        {
          "name": "stderr",
          "output_type": "stream",
          "text": [
            "Using the `WANDB_DISABLED` environment variable is deprecated and will be removed in v5. Use the --report_to flag to control the integrations used for logging result (for instance --report_to none).\n"
          ]
        },
        {
          "data": {
            "text/html": [
              "\n",
              "    <div>\n",
              "      \n",
              "      <progress value='379' max='379' style='width:300px; height:20px; vertical-align: middle;'></progress>\n",
              "      [379/379 00:31]\n",
              "    </div>\n",
              "    "
            ],
            "text/plain": [
              "<IPython.core.display.HTML object>"
            ]
          },
          "metadata": {},
          "output_type": "display_data"
        },
        {
          "name": "stdout",
          "output_type": "stream",
          "text": [
            "Evaluation Results: {'eval_loss': 1.6217832565307617, 'eval_model_preparation_time': 0.0011, 'eval_accuracy': 0.7725619834710744, 'eval_precision': 0.9156311314584696, 'eval_recall': 0.5289006422364941, 'eval_f1_score': 0.6704980842911877, 'eval_runtime': 31.3449, 'eval_samples_per_second': 193.014, 'eval_steps_per_second': 12.091}\n",
            "\n",
            "🏆 Final Evaluation Results:\n",
            "🔹 Accuracy: 0.7726\n",
            "🔹 Precision: 0.9156\n",
            "🔹 Recall: 0.5289\n",
            "🔹 F1_score: 0.6705\n",
            "🔹 Throughput: 190.9021\n",
            "CPU times: user 31.5 s, sys: 309 ms, total: 31.8 s\n",
            "Wall time: 48.2 s\n"
          ]
        }
      ],
      "source": [
        "%%time\n",
        "\n",
        "perf_original_model_val_data_rewritten = evaluate_fine_tuned_llm(\n",
        "    model_name, config=\"rewritten\"\n",
        ")"
      ]
    },
    {
      "cell_type": "code",
      "execution_count": 8,
      "metadata": {},
      "outputs": [],
      "source": [
        "model_name = \"./results/BERT-combined\""
      ]
    },
    {
      "cell_type": "code",
      "execution_count": 9,
      "metadata": {},
      "outputs": [
        {
          "name": "stderr",
          "output_type": "stream",
          "text": [
            "Using the `WANDB_DISABLED` environment variable is deprecated and will be removed in v5. Use the --report_to flag to control the integrations used for logging result (for instance --report_to none).\n"
          ]
        },
        {
          "data": {
            "text/html": [
              "\n",
              "    <div>\n",
              "      \n",
              "      <progress value='379' max='379' style='width:300px; height:20px; vertical-align: middle;'></progress>\n",
              "      [379/379 00:31]\n",
              "    </div>\n",
              "    "
            ],
            "text/plain": [
              "<IPython.core.display.HTML object>"
            ]
          },
          "metadata": {},
          "output_type": "display_data"
        },
        {
          "name": "stdout",
          "output_type": "stream",
          "text": [
            "Evaluation Results: {'eval_loss': 0.03658825904130936, 'eval_model_preparation_time': 0.0012, 'eval_accuracy': 0.9932231404958678, 'eval_precision': 0.9905873493975904, 'eval_recall': 0.9939554212315829, 'eval_f1_score': 0.9922685272487272, 'eval_runtime': 31.8441, 'eval_samples_per_second': 189.988, 'eval_steps_per_second': 11.902}\n",
            "\n",
            "🏆 Final Evaluation Results:\n",
            "🔹 Accuracy: 0.9932\n",
            "🔹 Precision: 0.9906\n",
            "🔹 Recall: 0.9940\n",
            "🔹 F1_score: 0.9923\n",
            "🔹 Throughput: 187.9146\n",
            "CPU times: user 31.9 s, sys: 369 ms, total: 32.3 s\n",
            "Wall time: 47.6 s\n"
          ]
        }
      ],
      "source": [
        "%%time\n",
        "\n",
        "perf_combined_model_val_data = evaluate_fine_tuned_llm(model_name, config=\"original\")"
      ]
    },
    {
      "cell_type": "code",
      "execution_count": 10,
      "metadata": {},
      "outputs": [
        {
          "name": "stderr",
          "output_type": "stream",
          "text": [
            "Using the `WANDB_DISABLED` environment variable is deprecated and will be removed in v5. Use the --report_to flag to control the integrations used for logging result (for instance --report_to none).\n"
          ]
        },
        {
          "data": {
            "text/html": [
              "\n",
              "    <div>\n",
              "      \n",
              "      <progress value='379' max='379' style='width:300px; height:20px; vertical-align: middle;'></progress>\n",
              "      [379/379 00:31]\n",
              "    </div>\n",
              "    "
            ],
            "text/plain": [
              "<IPython.core.display.HTML object>"
            ]
          },
          "metadata": {},
          "output_type": "display_data"
        },
        {
          "name": "stdout",
          "output_type": "stream",
          "text": [
            "Evaluation Results: {'eval_loss': 0.2802513837814331, 'eval_model_preparation_time': 0.0014, 'eval_accuracy': 0.9418181818181818, 'eval_precision': 0.9318780579601054, 'eval_recall': 0.9353985644125425, 'eval_f1_score': 0.9336349924585219, 'eval_runtime': 32.0593, 'eval_samples_per_second': 188.713, 'eval_steps_per_second': 11.822}\n",
            "\n",
            "🏆 Final Evaluation Results:\n",
            "🔹 Accuracy: 0.9418\n",
            "🔹 Precision: 0.9319\n",
            "🔹 Recall: 0.9354\n",
            "🔹 F1_score: 0.9336\n",
            "🔹 Throughput: 186.6510\n",
            "CPU times: user 32.2 s, sys: 291 ms, total: 32.5 s\n",
            "Wall time: 48.5 s\n"
          ]
        }
      ],
      "source": [
        "%%time\n",
        "\n",
        "perf_combined_model_val_data_rewritten = evaluate_fine_tuned_llm(model_name, config=\"rewritten\")"
      ]
    },
    {
      "cell_type": "code",
      "execution_count": 11,
      "metadata": {},
      "outputs": [],
      "source": [
        "model_name = \"./results/BERT-rewritten\""
      ]
    },
    {
      "cell_type": "code",
      "execution_count": 12,
      "metadata": {},
      "outputs": [
        {
          "data": {
            "application/vnd.jupyter.widget-view+json": {
              "model_id": "9ce1527931f9464e9accb102eb171395",
              "version_major": 2,
              "version_minor": 0
            },
            "text/plain": [
              "Map:   0%|          | 0/54441 [00:00<?, ? examples/s]"
            ]
          },
          "metadata": {},
          "output_type": "display_data"
        },
        {
          "data": {
            "application/vnd.jupyter.widget-view+json": {
              "model_id": "5a641b4e337b41f089d5fb72d8f4f24d",
              "version_major": 2,
              "version_minor": 0
            },
            "text/plain": [
              "Map:   0%|          | 0/6050 [00:00<?, ? examples/s]"
            ]
          },
          "metadata": {},
          "output_type": "display_data"
        },
        {
          "data": {
            "application/vnd.jupyter.widget-view+json": {
              "model_id": "df99c8bac5844f32986e2d5ede952fb9",
              "version_major": 2,
              "version_minor": 0
            },
            "text/plain": [
              "Map:   0%|          | 0/54441 [00:00<?, ? examples/s]"
            ]
          },
          "metadata": {},
          "output_type": "display_data"
        },
        {
          "data": {
            "application/vnd.jupyter.widget-view+json": {
              "model_id": "69d65e53a6b84254aa32b1b3aa7d2324",
              "version_major": 2,
              "version_minor": 0
            },
            "text/plain": [
              "Map:   0%|          | 0/6050 [00:00<?, ? examples/s]"
            ]
          },
          "metadata": {},
          "output_type": "display_data"
        },
        {
          "name": "stderr",
          "output_type": "stream",
          "text": [
            "Using the `WANDB_DISABLED` environment variable is deprecated and will be removed in v5. Use the --report_to flag to control the integrations used for logging result (for instance --report_to none).\n"
          ]
        },
        {
          "data": {
            "text/html": [
              "\n",
              "    <div>\n",
              "      \n",
              "      <progress value='379' max='379' style='width:300px; height:20px; vertical-align: middle;'></progress>\n",
              "      [379/379 00:30]\n",
              "    </div>\n",
              "    "
            ],
            "text/plain": [
              "<IPython.core.display.HTML object>"
            ]
          },
          "metadata": {},
          "output_type": "display_data"
        },
        {
          "name": "stdout",
          "output_type": "stream",
          "text": [
            "Evaluation Results: {'eval_loss': 0.10673486441373825, 'eval_model_preparation_time': 0.0012, 'eval_accuracy': 0.9694214876033058, 'eval_precision': 0.9801092043681747, 'eval_recall': 0.949376652814507, 'eval_f1_score': 0.9644981769334101, 'eval_runtime': 31.0073, 'eval_samples_per_second': 195.115, 'eval_steps_per_second': 12.223}\n",
            "\n",
            "🏆 Final Evaluation Results:\n",
            "🔹 Accuracy: 0.9694\n",
            "🔹 Precision: 0.9801\n",
            "🔹 Recall: 0.9494\n",
            "🔹 F1_score: 0.9645\n",
            "🔹 Throughput: 122.2010\n",
            "CPU times: user 2min 2s, sys: 2.22 s, total: 2min 4s\n",
            "Wall time: 1min 4s\n"
          ]
        }
      ],
      "source": [
        "%%time\n",
        "\n",
        "perf_rewritten_model_val_data = evaluate_fine_tuned_llm(model_name, config=\"original\")"
      ]
    },
    {
      "cell_type": "code",
      "execution_count": 13,
      "metadata": {},
      "outputs": [
        {
          "name": "stderr",
          "output_type": "stream",
          "text": [
            "Using the `WANDB_DISABLED` environment variable is deprecated and will be removed in v5. Use the --report_to flag to control the integrations used for logging result (for instance --report_to none).\n"
          ]
        },
        {
          "data": {
            "text/html": [
              "\n",
              "    <div>\n",
              "      \n",
              "      <progress value='379' max='379' style='width:300px; height:20px; vertical-align: middle;'></progress>\n",
              "      [379/379 00:31]\n",
              "    </div>\n",
              "    "
            ],
            "text/plain": [
              "<IPython.core.display.HTML object>"
            ]
          },
          "metadata": {},
          "output_type": "display_data"
        },
        {
          "name": "stdout",
          "output_type": "stream",
          "text": [
            "Evaluation Results: {'eval_loss': 0.2025102972984314, 'eval_model_preparation_time': 0.0012, 'eval_accuracy': 0.9370247933884297, 'eval_precision': 0.927870090634441, 'eval_recall': 0.9282206271250473, 'eval_f1_score': 0.9280453257790369, 'eval_runtime': 31.4086, 'eval_samples_per_second': 192.622, 'eval_steps_per_second': 12.067}\n",
            "\n",
            "🏆 Final Evaluation Results:\n",
            "🔹 Accuracy: 0.9370\n",
            "🔹 Precision: 0.9279\n",
            "🔹 Recall: 0.9282\n",
            "🔹 F1_score: 0.9280\n",
            "🔹 Throughput: 190.4444\n",
            "CPU times: user 31.6 s, sys: 290 ms, total: 31.9 s\n",
            "Wall time: 47.3 s\n"
          ]
        }
      ],
      "source": [
        "%%time\n",
        "\n",
        "perf_rewritten_model_val_data_rewritten = evaluate_fine_tuned_llm(model_name, config=\"rewritten\")"
      ]
    },
    {
      "cell_type": "code",
      "execution_count": 14,
      "metadata": {},
      "outputs": [
        {
          "name": "stdout",
          "output_type": "stream",
          "text": [
            "Results saved to results/BERT_metrics.csv\n"
          ]
        }
      ],
      "source": [
        "from llm_experiements.utils import *\n",
        "\n",
        "model = \"BERT\"\n",
        "save_results(\n",
        "    model,\n",
        "    perf_original_model_val_data,\n",
        "    perf_original_model_val_data_rewritten,\n",
        "    perf_combined_model_val_data,\n",
        "    perf_combined_model_val_data_rewritten,\n",
        "    perf_rewritten_model_val_data,\n",
        "    perf_rewritten_model_val_data_rewritten,\n",
        ")"
      ]
    },
    {
      "cell_type": "code",
      "execution_count": 15,
      "metadata": {},
      "outputs": [
        {
          "data": {
            "image/png": "[encoded data removed]",
            "text/plain": [
              "<Figure size 1500x500 with 6 Axes>"
            ]
          },
          "metadata": {},
          "output_type": "display_data"
        }
      ],
      "source": [
        "plot_results(\n",
        "    model,\n",
        "    perf_original_model_val_data,\n",
        "    perf_original_model_val_data_rewritten,\n",
        "    perf_combined_model_val_data,\n",
        "    perf_combined_model_val_data_rewritten,\n",
        "    perf_rewritten_model_val_data,\n",
        "    perf_rewritten_model_val_data_rewritten,\n",
        ")"
      ]
    }
  ],
  "metadata": {
    "accelerator": "GPU",
    "colab": {
      "private_outputs": true,
      "provenance": [],
      "toc_visible": true
    },
    "kernelspec": {
      "display_name": "fake-news",
      "language": "python",
      "name": "python3"
    },
    "language_info": {
      "codemirror_mode": {
        "name": "ipython",
        "version": 3
      },
      "file_extension": ".py",
      "mimetype": "text/x-python",
      "name": "python",
      "nbconvert_exporter": "python",
      "pygments_lexer": "ipython3",
      "version": "3.11.11"
    }
  },
  "nbformat": 4,
  "nbformat_minor": 0
}
