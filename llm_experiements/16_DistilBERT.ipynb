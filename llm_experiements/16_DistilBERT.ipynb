{
  "cells": [
    {
      "cell_type": "code",
      "execution_count": 1,
      "metadata": {},
      "outputs": [
        {
          "name": "stdout",
          "output_type": "stream",
          "text": [
            "working dir: /home/inflaton/code/CrediNews\n"
          ]
        }
      ],
      "source": [
        "import os\n",
        "import sys\n",
        "from pathlib import Path\n",
        "\n",
        "if \"workding_dir\" not in locals():\n",
        "    workding_dir = str(Path.cwd().parent)\n",
        "os.chdir(workding_dir)\n",
        "sys.path.append(workding_dir)\n",
        "print(\"working dir:\", workding_dir)"
      ]
    },
    {
      "cell_type": "code",
      "execution_count": 2,
      "metadata": {},
      "outputs": [
        {
          "name": "stdout",
          "output_type": "stream",
          "text": [
            "loading env vars from: /home/inflaton/code/CrediNews/.env\n"
          ]
        },
        {
          "data": {
            "text/plain": [
              "True"
            ]
          },
          "execution_count": 2,
          "metadata": {},
          "output_type": "execute_result"
        }
      ],
      "source": [
        "from dotenv import find_dotenv, load_dotenv\n",
        "\n",
        "found_dotenv = find_dotenv(\".env\")\n",
        "\n",
        "if len(found_dotenv) == 0:\n",
        "    found_dotenv = find_dotenv(\".env.example\")\n",
        "print(f\"loading env vars from: {found_dotenv}\")\n",
        "load_dotenv(found_dotenv, override=True)"
      ]
    },
    {
      "cell_type": "code",
      "execution_count": 3,
      "metadata": {
        "id": "Jqhhzz6YtRqD"
      },
      "outputs": [
        {
          "data": {
            "text/plain": [
              "'f541b'"
            ]
          },
          "execution_count": 3,
          "metadata": {},
          "output_type": "execute_result"
        }
      ],
      "source": [
        "# !pip install wandb\n",
        "import os\n",
        "os.getenv(\"WANDB_API_KEY\", \"empty\")[-5:]"
      ]
    },
    {
      "cell_type": "code",
      "execution_count": 4,
      "metadata": {
        "id": "hcfbQ8FmuIM9"
      },
      "outputs": [
        {
          "name": "stderr",
          "output_type": "stream",
          "text": [
            "2025-02-22 14:24:40.715277: I tensorflow/core/util/port.cc:153] oneDNN custom operations are on. You may see slightly different numerical results due to floating-point round-off errors from different computation orders. To turn them off, set the environment variable `TF_ENABLE_ONEDNN_OPTS=0`.\n",
            "2025-02-22 14:24:40.723598: E external/local_xla/xla/stream_executor/cuda/cuda_fft.cc:477] Unable to register cuFFT factory: Attempting to register factory for plugin cuFFT when one has already been registered\n",
            "WARNING: All log messages before absl::InitializeLog() is called are written to STDERR\n",
            "E0000 00:00:1740205480.733634 3358873 cuda_dnn.cc:8310] Unable to register cuDNN factory: Attempting to register factory for plugin cuDNN when one has already been registered\n",
            "E0000 00:00:1740205480.736757 3358873 cuda_blas.cc:1418] Unable to register cuBLAS factory: Attempting to register factory for plugin cuBLAS when one has already been registered\n",
            "2025-02-22 14:24:40.748190: I tensorflow/core/platform/cpu_feature_guard.cc:210] This TensorFlow binary is optimized to use available CPU instructions in performance-critical operations.\n",
            "To enable the following instructions: AVX2 AVX_VNNI FMA, in other operations, rebuild TensorFlow with the appropriate compiler flags.\n"
          ]
        },
        {
          "data": {
            "application/vnd.jupyter.widget-view+json": {
              "model_id": "470c655c00224f678199db5e2e4d535f",
              "version_major": 2,
              "version_minor": 0
            },
            "text/plain": [
              "tokenizer_config.json:   0%|          | 0.00/48.0 [00:00<?, ?B/s]"
            ]
          },
          "metadata": {},
          "output_type": "display_data"
        },
        {
          "data": {
            "application/vnd.jupyter.widget-view+json": {
              "model_id": "8036eb70a92844e5a3554ae65e1b51c7",
              "version_major": 2,
              "version_minor": 0
            },
            "text/plain": [
              "config.json:   0%|          | 0.00/483 [00:00<?, ?B/s]"
            ]
          },
          "metadata": {},
          "output_type": "display_data"
        },
        {
          "data": {
            "application/vnd.jupyter.widget-view+json": {
              "model_id": "a913cab674c04638b384172596fb997d",
              "version_major": 2,
              "version_minor": 0
            },
            "text/plain": [
              "vocab.txt:   0%|          | 0.00/232k [00:00<?, ?B/s]"
            ]
          },
          "metadata": {},
          "output_type": "display_data"
        },
        {
          "data": {
            "application/vnd.jupyter.widget-view+json": {
              "model_id": "b034e63752434b5ea5fd1f90c31ef970",
              "version_major": 2,
              "version_minor": 0
            },
            "text/plain": [
              "tokenizer.json:   0%|          | 0.00/466k [00:00<?, ?B/s]"
            ]
          },
          "metadata": {},
          "output_type": "display_data"
        },
        {
          "name": "stdout",
          "output_type": "stream",
          "text": [
            "Downloading and caching pre-trained model\n"
          ]
        },
        {
          "data": {
            "application/vnd.jupyter.widget-view+json": {
              "model_id": "d4b29225b83a41a8a9dc0500c62920de",
              "version_major": 2,
              "version_minor": 0
            },
            "text/plain": [
              "model.safetensors:   0%|          | 0.00/268M [00:00<?, ?B/s]"
            ]
          },
          "metadata": {},
          "output_type": "display_data"
        },
        {
          "name": "stderr",
          "output_type": "stream",
          "text": [
            "Some weights of DistilBertForSequenceClassification were not initialized from the model checkpoint at distilbert/distilbert-base-uncased and are newly initialized: ['classifier.bias', 'classifier.weight', 'pre_classifier.bias', 'pre_classifier.weight']\n",
            "You should probably TRAIN this model on a down-stream task to be able to use it for predictions and inference.\n"
          ]
        },
        {
          "data": {
            "text/plain": [
              "DistilBertForSequenceClassification(\n",
              "  (distilbert): DistilBertModel(\n",
              "    (embeddings): Embeddings(\n",
              "      (word_embeddings): Embedding(30522, 768, padding_idx=0)\n",
              "      (position_embeddings): Embedding(512, 768)\n",
              "      (LayerNorm): LayerNorm((768,), eps=1e-12, elementwise_affine=True)\n",
              "      (dropout): Dropout(p=0.1, inplace=False)\n",
              "    )\n",
              "    (transformer): Transformer(\n",
              "      (layer): ModuleList(\n",
              "        (0-5): 6 x TransformerBlock(\n",
              "          (attention): DistilBertSdpaAttention(\n",
              "            (dropout): Dropout(p=0.1, inplace=False)\n",
              "            (q_lin): Linear(in_features=768, out_features=768, bias=True)\n",
              "            (k_lin): Linear(in_features=768, out_features=768, bias=True)\n",
              "            (v_lin): Linear(in_features=768, out_features=768, bias=True)\n",
              "            (out_lin): Linear(in_features=768, out_features=768, bias=True)\n",
              "          )\n",
              "          (sa_layer_norm): LayerNorm((768,), eps=1e-12, elementwise_affine=True)\n",
              "          (ffn): FFN(\n",
              "            (dropout): Dropout(p=0.1, inplace=False)\n",
              "            (lin1): Linear(in_features=768, out_features=3072, bias=True)\n",
              "            (lin2): Linear(in_features=3072, out_features=768, bias=True)\n",
              "            (activation): GELUActivation()\n",
              "          )\n",
              "          (output_layer_norm): LayerNorm((768,), eps=1e-12, elementwise_affine=True)\n",
              "        )\n",
              "      )\n",
              "    )\n",
              "  )\n",
              "  (pre_classifier): Linear(in_features=768, out_features=768, bias=True)\n",
              "  (classifier): Linear(in_features=768, out_features=2, bias=True)\n",
              "  (dropout): Dropout(p=0.2, inplace=False)\n",
              ")"
            ]
          },
          "execution_count": 4,
          "metadata": {},
          "output_type": "execute_result"
        }
      ],
      "source": [
        "import os\n",
        "from transformers import DataCollatorWithPadding, AutoTokenizer, AutoModelForSequenceClassification\n",
        "\n",
        "# Change these as needed.\n",
        "model_name = \"distilbert/distilbert-base-uncased\"\n",
        "\n",
        "# Triggers tokenizer download to cache\n",
        "tokenizer = AutoTokenizer.from_pretrained(model_name)\n",
        "print(\"Downloading and caching pre-trained model\")\n",
        "\n",
        "data_collator = DataCollatorWithPadding(tokenizer=tokenizer)\n",
        "\n",
        "# Triggers model download to cache\n",
        "AutoModelForSequenceClassification.from_pretrained(model_name)"
      ]
    },
    {
      "cell_type": "markdown",
      "metadata": {
        "id": "KB5BLmKev_6-"
      },
      "source": [
        "## Training"
      ]
    },
    {
      "cell_type": "markdown",
      "metadata": {
        "id": "u3ICOgXTwEIh"
      },
      "source": [
        "With everything now downloaded and cached, we can now set up our training function. Our training function defines the training execution for a single hyperparameter configuration. For now we pull these hyperparameters from a config argument, but we’ll see later how this is passed in."
      ]
    },
    {
      "cell_type": "markdown",
      "metadata": {
        "id": "m9GTvUzawE5b"
      },
      "source": [
        "First we get our datasets- we only use the first half of the dev dataset for validation, and leave the rest of testing:"
      ]
    },
    {
      "cell_type": "code",
      "execution_count": 5,
      "metadata": {
        "id": "uikm4YpavIOh"
      },
      "outputs": [
        {
          "data": {
            "application/vnd.jupyter.widget-view+json": {
              "model_id": "aae2567db245434195ebba56288eeddb",
              "version_major": 2,
              "version_minor": 0
            },
            "text/plain": [
              "Map:   0%|          | 0/54441 [00:00<?, ? examples/s]"
            ]
          },
          "metadata": {},
          "output_type": "display_data"
        },
        {
          "data": {
            "application/vnd.jupyter.widget-view+json": {
              "model_id": "f06e2adf83554f349955581f697eb746",
              "version_major": 2,
              "version_minor": 0
            },
            "text/plain": [
              "Map:   0%|          | 0/6050 [00:00<?, ? examples/s]"
            ]
          },
          "metadata": {},
          "output_type": "display_data"
        },
        {
          "data": {
            "application/vnd.jupyter.widget-view+json": {
              "model_id": "c1f79f9eff754cd58e6c97a77822f6eb",
              "version_major": 2,
              "version_minor": 0
            },
            "text/plain": [
              "Map:   0%|          | 0/54441 [00:00<?, ? examples/s]"
            ]
          },
          "metadata": {},
          "output_type": "display_data"
        },
        {
          "data": {
            "application/vnd.jupyter.widget-view+json": {
              "model_id": "c7f4f9b5314f419990ed8bc0ba099d65",
              "version_major": 2,
              "version_minor": 0
            },
            "text/plain": [
              "Map:   0%|          | 0/6050 [00:00<?, ? examples/s]"
            ]
          },
          "metadata": {},
          "output_type": "display_data"
        }
      ],
      "source": [
        "from datasets import load_dataset, concatenate_datasets, Dataset\n",
        "\n",
        "datasets = load_dataset(\n",
        "    \"csv\",\n",
        "    data_files={\n",
        "        \"train\": [\n",
        "            \"dataset/train_data_1.csv\",\n",
        "            \"dataset/train_data_2.csv\",\n",
        "            \"dataset/train_data_3.csv\",\n",
        "            \"dataset/train_data_4.csv\",\n",
        "        ],\n",
        "        \"test\": \"dataset/test_data.csv\",\n",
        "        \"rewritten_train\": [\n",
        "            \"dataset/rewritten_train_data_1.csv\",\n",
        "            \"dataset/rewritten_train_data_2.csv\",\n",
        "            \"dataset/rewritten_train_data_3.csv\",\n",
        "            \"dataset/rewritten_train_data_4.csv\",\n",
        "        ],\n",
        "        \"rewritten_test\": \"dataset/rewritten_test_data.csv\",\n",
        "    },\n",
        ")\n",
        "\n",
        "# Tokenize the dataset\n",
        "def tokenize_function(example):\n",
        "    return tokenizer(example[\"processed_full_content\"], padding=\"max_length\", truncation=True)\n",
        "\n",
        "tokenized_datasets = datasets.map(tokenize_function, batched=True)\n",
        "\n",
        "def get_datasets(config=\"original\"):\n",
        "    if config == \"rewritten\":\n",
        "        train_dataset = tokenized_datasets[\"rewritten_train\"]\n",
        "        eval_dataset = tokenized_datasets[\"rewritten_test\"]\n",
        "    elif config == \"original\":\n",
        "        train_dataset = tokenized_datasets[\"train\"]\n",
        "        eval_dataset = tokenized_datasets[\"test\"]\n",
        "    else:\n",
        "        train_dataset = concatenate_datasets(\n",
        "            [tokenized_datasets[\"train\"], tokenized_datasets[\"rewritten_train\"]]\n",
        "        )\n",
        "        eval_dataset = concatenate_datasets(\n",
        "            [tokenized_datasets[\"test\"], tokenized_datasets[\"rewritten_test\"]]\n",
        "        )\n",
        "\n",
        "    return train_dataset, eval_dataset"
      ]
    },
    {
      "cell_type": "code",
      "execution_count": 6,
      "metadata": {},
      "outputs": [
        {
          "data": {
            "text/plain": [
              "((Dataset({\n",
              "      features: ['label', 'full_content', 'processed_full_content', 'input_ids', 'attention_mask'],\n",
              "      num_rows: 54441\n",
              "  }),\n",
              "  Dataset({\n",
              "      features: ['label', 'full_content', 'processed_full_content', 'input_ids', 'attention_mask'],\n",
              "      num_rows: 6050\n",
              "  })),\n",
              " (Dataset({\n",
              "      features: ['label', 'full_content', 'processed_full_content', 'input_ids', 'attention_mask'],\n",
              "      num_rows: 54441\n",
              "  }),\n",
              "  Dataset({\n",
              "      features: ['label', 'full_content', 'processed_full_content', 'input_ids', 'attention_mask'],\n",
              "      num_rows: 6050\n",
              "  })),\n",
              " (Dataset({\n",
              "      features: ['label', 'full_content', 'processed_full_content', 'input_ids', 'attention_mask'],\n",
              "      num_rows: 108882\n",
              "  }),\n",
              "  Dataset({\n",
              "      features: ['label', 'full_content', 'processed_full_content', 'input_ids', 'attention_mask'],\n",
              "      num_rows: 12100\n",
              "  })))"
            ]
          },
          "execution_count": 6,
          "metadata": {},
          "output_type": "execute_result"
        }
      ],
      "source": [
        "get_datasets(config=\"original\"), get_datasets(config=\"rewritten\"), get_datasets(config=\"all\")"
      ]
    },
    {
      "cell_type": "code",
      "execution_count": 7,
      "metadata": {},
      "outputs": [],
      "source": [
        "def wandb_hp_space(trial):\n",
        "    return {\n",
        "        \"method\": \"random\",\n",
        "        \"metric\": {\"name\": \"accuracy\", \"goal\": \"maximize\"},\n",
        "        \"parameters\": {\n",
        "            \"learning_rate\": {\"distribution\": \"uniform\", \"min\": 1e-6, \"max\": 1e-4},\n",
        "            \"per_device_train_batch_size\": {\"values\": [16, 32]},\n",
        "        },\n",
        "    }"
      ]
    },
    {
      "cell_type": "code",
      "execution_count": 8,
      "metadata": {},
      "outputs": [],
      "source": [
        "from transformers import AutoModelForSequenceClassification\n",
        "import numpy as np\n",
        "import evaluate\n",
        "from transformers import EvalPrediction\n",
        "\n",
        "# Load the accuracy metric from the evaluate library\n",
        "accuracy_metric = evaluate.load(\"accuracy\")\n",
        "\n",
        "def compute_metrics(eval_pred: EvalPrediction) -> dict:\n",
        "    logits, labels = eval_pred\n",
        "    predictions = np.argmax(logits, axis=-1)\n",
        "    accuracy = accuracy_metric.compute(predictions=predictions, references=labels)\n",
        "    return accuracy\n",
        "\n",
        "def model_init():\n",
        "    return AutoModelForSequenceClassification.from_pretrained(model_name, num_labels=2)\n"
      ]
    },
    {
      "cell_type": "code",
      "execution_count": 9,
      "metadata": {},
      "outputs": [],
      "source": [
        "from transformers import Trainer, TrainingArguments\n",
        "\n",
        "def do_grid_search(config):\n",
        "    train_dataset, eval_dataset = get_datasets(config)\n",
        "    training_args = TrainingArguments(\n",
        "        output_dir=\"./results\",\n",
        "        evaluation_strategy=\"epoch\",\n",
        "        save_strategy=\"epoch\",\n",
        "        per_device_train_batch_size=8,\n",
        "        per_device_eval_batch_size=8,\n",
        "        num_train_epochs=4,\n",
        "        weight_decay=0.01,\n",
        "    )\n",
        "\n",
        "    trainer = Trainer(\n",
        "        model_init=model_init,\n",
        "        args=training_args,\n",
        "        train_dataset=train_dataset,\n",
        "        eval_dataset=eval_dataset,\n",
        "        compute_metrics=compute_metrics,\n",
        "        tokenizer=tokenizer,\n",
        "        data_collator=data_collator,\n",
        "    )\n",
        "\n",
        "    return trainer.hyperparameter_search(\n",
        "        direction=\"maximize\",\n",
        "        backend=\"wandb\", # or \"ray\", \"optuna\", \"sigopt\"\n",
        "        hp_space=wandb_hp_space, #ray_hp_space, \n",
        "        n_trials=5,\n",
        "    )"
      ]
    },
    {
      "cell_type": "code",
      "execution_count": 10,
      "metadata": {},
      "outputs": [
        {
          "name": "stderr",
          "output_type": "stream",
          "text": [
            "/home/inflaton/miniconda3/envs/fake-news/lib/python3.11/site-packages/transformers/training_args.py:1575: FutureWarning: `evaluation_strategy` is deprecated and will be removed in version 4.46 of 🤗 Transformers. Use `eval_strategy` instead\n",
            "  warnings.warn(\n",
            "/tmp/ipykernel_3358873/1062649897.py:15: FutureWarning: `tokenizer` is deprecated and will be removed in version 5.0.0 for `Trainer.__init__`. Use `processing_class` instead.\n",
            "  trainer = Trainer(\n",
            "Some weights of DistilBertForSequenceClassification were not initialized from the model checkpoint at distilbert/distilbert-base-uncased and are newly initialized: ['classifier.bias', 'classifier.weight', 'pre_classifier.bias', 'pre_classifier.weight']\n",
            "You should probably TRAIN this model on a down-stream task to be able to use it for predictions and inference.\n",
            "\u001b[34m\u001b[1mwandb\u001b[0m: Using wandb-core as the SDK backend.  Please refer to https://wandb.me/wandb-core for more information.\n"
          ]
        },
        {
          "name": "stdout",
          "output_type": "stream",
          "text": [
            "Create sweep with ID: k78ubaon\n",
            "Sweep URL: https://wandb.ai/inflaton-ai/uncategorized/sweeps/k78ubaon\n"
          ]
        },
        {
          "name": "stderr",
          "output_type": "stream",
          "text": [
            "\u001b[34m\u001b[1mwandb\u001b[0m: Agent Starting Run: kow0by3e with config:\n",
            "\u001b[34m\u001b[1mwandb\u001b[0m: \tlearning_rate: 6.537781141095448e-06\n",
            "\u001b[34m\u001b[1mwandb\u001b[0m: \tper_device_train_batch_size: 16\n",
            "\u001b[34m\u001b[1mwandb\u001b[0m: Currently logged in as: \u001b[33minflaton-sg\u001b[0m (\u001b[33minflaton-ai\u001b[0m) to \u001b[32mhttps://api.wandb.ai\u001b[0m. Use \u001b[1m`wandb login --relogin`\u001b[0m to force relogin\n"
          ]
        },
        {
          "data": {
            "text/html": [
              "Tracking run with wandb version 0.19.7"
            ],
            "text/plain": [
              "<IPython.core.display.HTML object>"
            ]
          },
          "metadata": {},
          "output_type": "display_data"
        },
        {
          "data": {
            "text/html": [
              "Run data is saved locally in <code>/home/inflaton/code/CrediNews/wandb/run-20250222_142518-kow0by3e</code>"
            ],
            "text/plain": [
              "<IPython.core.display.HTML object>"
            ]
          },
          "metadata": {},
          "output_type": "display_data"
        },
        {
          "data": {
            "text/html": [
              "Syncing run <strong><a href='https://wandb.ai/inflaton-ai/uncategorized/runs/kow0by3e' target=\"_blank\">genial-sweep-1</a></strong> to <a href='https://wandb.ai/inflaton-ai/uncategorized' target=\"_blank\">Weights & Biases</a> (<a href='https://wandb.me/developer-guide' target=\"_blank\">docs</a>)<br>Sweep page: <a href='https://wandb.ai/inflaton-ai/uncategorized/sweeps/k78ubaon' target=\"_blank\">https://wandb.ai/inflaton-ai/uncategorized/sweeps/k78ubaon</a>"
            ],
            "text/plain": [
              "<IPython.core.display.HTML object>"
            ]
          },
          "metadata": {},
          "output_type": "display_data"
        },
        {
          "data": {
            "text/html": [
              " View project at <a href='https://wandb.ai/inflaton-ai/uncategorized' target=\"_blank\">https://wandb.ai/inflaton-ai/uncategorized</a>"
            ],
            "text/plain": [
              "<IPython.core.display.HTML object>"
            ]
          },
          "metadata": {},
          "output_type": "display_data"
        },
        {
          "data": {
            "text/html": [
              " View sweep at <a href='https://wandb.ai/inflaton-ai/uncategorized/sweeps/k78ubaon' target=\"_blank\">https://wandb.ai/inflaton-ai/uncategorized/sweeps/k78ubaon</a>"
            ],
            "text/plain": [
              "<IPython.core.display.HTML object>"
            ]
          },
          "metadata": {},
          "output_type": "display_data"
        },
        {
          "data": {
            "text/html": [
              " View run at <a href='https://wandb.ai/inflaton-ai/uncategorized/runs/kow0by3e' target=\"_blank\">https://wandb.ai/inflaton-ai/uncategorized/runs/kow0by3e</a>"
            ],
            "text/plain": [
              "<IPython.core.display.HTML object>"
            ]
          },
          "metadata": {},
          "output_type": "display_data"
        },
        {
          "name": "stderr",
          "output_type": "stream",
          "text": [
            "Trying to set _wandb in the hyperparameter search but there is no corresponding field in `TrainingArguments`.\n",
            "Trying to set assignments in the hyperparameter search but there is no corresponding field in `TrainingArguments`.\n",
            "Trying to set metric in the hyperparameter search but there is no corresponding field in `TrainingArguments`.\n",
            "Some weights of DistilBertForSequenceClassification were not initialized from the model checkpoint at distilbert/distilbert-base-uncased and are newly initialized: ['classifier.bias', 'classifier.weight', 'pre_classifier.bias', 'pre_classifier.weight']\n",
            "You should probably TRAIN this model on a down-stream task to be able to use it for predictions and inference.\n"
          ]
        },
        {
          "data": {
            "text/html": [],
            "text/plain": [
              "<IPython.core.display.HTML object>"
            ]
          },
          "metadata": {},
          "output_type": "display_data"
        },
        {
          "data": {
            "text/html": [
              " View run <strong style=\"color:#cdcd00\">genial-sweep-1</strong> at: <a href='https://wandb.ai/inflaton-ai/uncategorized/runs/kow0by3e' target=\"_blank\">https://wandb.ai/inflaton-ai/uncategorized/runs/kow0by3e</a><br> View project at: <a href='https://wandb.ai/inflaton-ai/uncategorized' target=\"_blank\">https://wandb.ai/inflaton-ai/uncategorized</a><br>Synced 5 W&B file(s), 0 media file(s), 0 artifact file(s) and 0 other file(s)"
            ],
            "text/plain": [
              "<IPython.core.display.HTML object>"
            ]
          },
          "metadata": {},
          "output_type": "display_data"
        },
        {
          "data": {
            "text/html": [
              "Find logs at: <code>./wandb/run-20250222_142518-kow0by3e/logs</code>"
            ],
            "text/plain": [
              "<IPython.core.display.HTML object>"
            ]
          },
          "metadata": {},
          "output_type": "display_data"
        },
        {
          "data": {
            "text/html": [
              "Ignoring project 'uncategorized' when running a sweep."
            ],
            "text/plain": [
              "<IPython.core.display.HTML object>"
            ]
          },
          "metadata": {},
          "output_type": "display_data"
        },
        {
          "data": {
            "text/html": [
              "Tracking run with wandb version 0.19.7"
            ],
            "text/plain": [
              "<IPython.core.display.HTML object>"
            ]
          },
          "metadata": {},
          "output_type": "display_data"
        },
        {
          "data": {
            "text/html": [
              "Run data is saved locally in <code>/home/inflaton/code/CrediNews/wandb/run-20250222_142524-kow0by3e</code>"
            ],
            "text/plain": [
              "<IPython.core.display.HTML object>"
            ]
          },
          "metadata": {},
          "output_type": "display_data"
        },
        {
          "data": {
            "text/html": [
              "Syncing run <strong><a href='https://wandb.ai/inflaton-ai/uncategorized/runs/kow0by3e' target=\"_blank\">genial-sweep-1</a></strong> to <a href='https://wandb.ai/inflaton-ai/uncategorized' target=\"_blank\">Weights & Biases</a> (<a href='https://wandb.me/developer-guide' target=\"_blank\">docs</a>)<br>Sweep page: <a href='https://wandb.ai/inflaton-ai/uncategorized/sweeps/k78ubaon' target=\"_blank\">https://wandb.ai/inflaton-ai/uncategorized/sweeps/k78ubaon</a>"
            ],
            "text/plain": [
              "<IPython.core.display.HTML object>"
            ]
          },
          "metadata": {},
          "output_type": "display_data"
        },
        {
          "data": {
            "text/html": [
              " View project at <a href='https://wandb.ai/inflaton-ai/uncategorized' target=\"_blank\">https://wandb.ai/inflaton-ai/uncategorized</a>"
            ],
            "text/plain": [
              "<IPython.core.display.HTML object>"
            ]
          },
          "metadata": {},
          "output_type": "display_data"
        },
        {
          "data": {
            "text/html": [
              " View sweep at <a href='https://wandb.ai/inflaton-ai/uncategorized/sweeps/k78ubaon' target=\"_blank\">https://wandb.ai/inflaton-ai/uncategorized/sweeps/k78ubaon</a>"
            ],
            "text/plain": [
              "<IPython.core.display.HTML object>"
            ]
          },
          "metadata": {},
          "output_type": "display_data"
        },
        {
          "data": {
            "text/html": [
              " View run at <a href='https://wandb.ai/inflaton-ai/uncategorized/runs/kow0by3e' target=\"_blank\">https://wandb.ai/inflaton-ai/uncategorized/runs/kow0by3e</a>"
            ],
            "text/plain": [
              "<IPython.core.display.HTML object>"
            ]
          },
          "metadata": {},
          "output_type": "display_data"
        },
        {
          "name": "stderr",
          "output_type": "stream",
          "text": [
            "\u001b[34m\u001b[1mwandb\u001b[0m: \u001b[33mWARNING\u001b[0m Config item 'per_device_train_batch_size' was locked by 'sweep' (ignored update).\n",
            "\u001b[34m\u001b[1mwandb\u001b[0m: \u001b[33mWARNING\u001b[0m Config item 'learning_rate' was locked by 'sweep' (ignored update).\n"
          ]
        },
        {
          "data": {
            "text/html": [
              "\n",
              "    <div>\n",
              "      \n",
              "      <progress value='13612' max='13612' style='width:300px; height:20px; vertical-align: middle;'></progress>\n",
              "      [13612/13612 39:18, Epoch 4/4]\n",
              "    </div>\n",
              "    <table border=\"1\" class=\"dataframe\">\n",
              "  <thead>\n",
              " <tr style=\"text-align: left;\">\n",
              "      <th>Epoch</th>\n",
              "      <th>Training Loss</th>\n",
              "      <th>Validation Loss</th>\n",
              "      <th>Accuracy</th>\n",
              "    </tr>\n",
              "  </thead>\n",
              "  <tbody>\n",
              "    <tr>\n",
              "      <td>1</td>\n",
              "      <td>0.061900</td>\n",
              "      <td>0.051239</td>\n",
              "      <td>0.988264</td>\n",
              "    </tr>\n",
              "    <tr>\n",
              "      <td>2</td>\n",
              "      <td>0.036900</td>\n",
              "      <td>0.038189</td>\n",
              "      <td>0.991736</td>\n",
              "    </tr>\n",
              "    <tr>\n",
              "      <td>3</td>\n",
              "      <td>0.021300</td>\n",
              "      <td>0.043106</td>\n",
              "      <td>0.990744</td>\n",
              "    </tr>\n",
              "    <tr>\n",
              "      <td>4</td>\n",
              "      <td>0.009400</td>\n",
              "      <td>0.045709</td>\n",
              "      <td>0.991736</td>\n",
              "    </tr>\n",
              "  </tbody>\n",
              "</table><p>"
            ],
            "text/plain": [
              "<IPython.core.display.HTML object>"
            ]
          },
          "metadata": {},
          "output_type": "display_data"
        },
        {
          "data": {
            "text/html": [],
            "text/plain": [
              "<IPython.core.display.HTML object>"
            ]
          },
          "metadata": {},
          "output_type": "display_data"
        },
        {
          "data": {
            "text/html": [
              "<br>    <style><br>        .wandb-row {<br>            display: flex;<br>            flex-direction: row;<br>            flex-wrap: wrap;<br>            justify-content: flex-start;<br>            width: 100%;<br>        }<br>        .wandb-col {<br>            display: flex;<br>            flex-direction: column;<br>            flex-basis: 100%;<br>            flex: 1;<br>            padding: 10px;<br>        }<br>    </style><br><div class=\"wandb-row\"><div class=\"wandb-col\"><h3>Run history:</h3><br/><table class=\"wandb\"><tr><td>eval/accuracy</td><td>▁█▆█</td></tr><tr><td>eval/loss</td><td>█▁▄▅</td></tr><tr><td>eval/runtime</td><td>█▁▁▇</td></tr><tr><td>eval/samples_per_second</td><td>▁██▂</td></tr><tr><td>eval/steps_per_second</td><td>▁██▂</td></tr><tr><td>train/epoch</td><td>▁▁▂▂▂▂▃▃▃▃▃▄▄▄▄▄▅▅▅▆▆▆▆▆▇▇▇▇████</td></tr><tr><td>train/global_step</td><td>▁▁▂▂▂▂▃▃▃▃▃▄▄▄▄▄▅▅▅▆▆▆▆▆▇▇▇▇████</td></tr><tr><td>train/grad_norm</td><td>▂▇█▁▁▂▁▁▁▁▁▁▁▁▁▁▁▁▁▁▁▁▁▁▁▁▁</td></tr><tr><td>train/learning_rate</td><td>██▇▇▇▇▆▆▆▆▅▅▅▅▄▄▄▃▃▃▃▂▂▂▂▁▁</td></tr><tr><td>train/loss</td><td>█▄▃▃▂▃▂▂▂▂▂▂▂▂▁▁▁▁▁▁▁▁▁▁▁▁▁</td></tr></table><br/></div><div class=\"wandb-col\"><h3>Run summary:</h3><br/><table class=\"wandb\"><tr><td>eval/accuracy</td><td>0.99174</td></tr><tr><td>eval/loss</td><td>0.04571</td></tr><tr><td>eval/runtime</td><td>22.0041</td></tr><tr><td>eval/samples_per_second</td><td>274.949</td></tr><tr><td>eval/steps_per_second</td><td>34.403</td></tr><tr><td>total_flos</td><td>2.8846630600925184e+16</td></tr><tr><td>train/epoch</td><td>4</td></tr><tr><td>train/global_step</td><td>13612</td></tr><tr><td>train/grad_norm</td><td>0.00534</td></tr><tr><td>train/learning_rate</td><td>0.0</td></tr><tr><td>train/loss</td><td>0.0094</td></tr><tr><td>train_loss</td><td>0.04229</td></tr><tr><td>train_runtime</td><td>2364.2033</td></tr><tr><td>train_samples_per_second</td><td>92.109</td></tr><tr><td>train_steps_per_second</td><td>5.758</td></tr></table><br/></div></div>"
            ],
            "text/plain": [
              "<IPython.core.display.HTML object>"
            ]
          },
          "metadata": {},
          "output_type": "display_data"
        },
        {
          "data": {
            "text/html": [
              " View run <strong style=\"color:#cdcd00\">genial-sweep-1</strong> at: <a href='https://wandb.ai/inflaton-ai/uncategorized/runs/kow0by3e' target=\"_blank\">https://wandb.ai/inflaton-ai/uncategorized/runs/kow0by3e</a><br> View project at: <a href='https://wandb.ai/inflaton-ai/uncategorized' target=\"_blank\">https://wandb.ai/inflaton-ai/uncategorized</a><br>Synced 5 W&B file(s), 0 media file(s), 0 artifact file(s) and 0 other file(s)"
            ],
            "text/plain": [
              "<IPython.core.display.HTML object>"
            ]
          },
          "metadata": {},
          "output_type": "display_data"
        },
        {
          "data": {
            "text/html": [
              "Find logs at: <code>./wandb/run-20250222_142524-kow0by3e/logs</code>"
            ],
            "text/plain": [
              "<IPython.core.display.HTML object>"
            ]
          },
          "metadata": {},
          "output_type": "display_data"
        },
        {
          "name": "stderr",
          "output_type": "stream",
          "text": [
            "\u001b[34m\u001b[1mwandb\u001b[0m: Agent Starting Run: g6wjndyc with config:\n",
            "\u001b[34m\u001b[1mwandb\u001b[0m: \tlearning_rate: 8.236326386768741e-05\n",
            "\u001b[34m\u001b[1mwandb\u001b[0m: \tper_device_train_batch_size: 32\n"
          ]
        },
        {
          "data": {
            "text/html": [
              "Tracking run with wandb version 0.19.7"
            ],
            "text/plain": [
              "<IPython.core.display.HTML object>"
            ]
          },
          "metadata": {},
          "output_type": "display_data"
        },
        {
          "data": {
            "text/html": [
              "Run data is saved locally in <code>/home/inflaton/code/CrediNews/wandb/run-20250222_150451-g6wjndyc</code>"
            ],
            "text/plain": [
              "<IPython.core.display.HTML object>"
            ]
          },
          "metadata": {},
          "output_type": "display_data"
        },
        {
          "data": {
            "text/html": [
              "Syncing run <strong><a href='https://wandb.ai/inflaton-ai/uncategorized/runs/g6wjndyc' target=\"_blank\">ruby-sweep-2</a></strong> to <a href='https://wandb.ai/inflaton-ai/uncategorized' target=\"_blank\">Weights & Biases</a> (<a href='https://wandb.me/developer-guide' target=\"_blank\">docs</a>)<br>Sweep page: <a href='https://wandb.ai/inflaton-ai/uncategorized/sweeps/k78ubaon' target=\"_blank\">https://wandb.ai/inflaton-ai/uncategorized/sweeps/k78ubaon</a>"
            ],
            "text/plain": [
              "<IPython.core.display.HTML object>"
            ]
          },
          "metadata": {},
          "output_type": "display_data"
        },
        {
          "data": {
            "text/html": [
              " View project at <a href='https://wandb.ai/inflaton-ai/uncategorized' target=\"_blank\">https://wandb.ai/inflaton-ai/uncategorized</a>"
            ],
            "text/plain": [
              "<IPython.core.display.HTML object>"
            ]
          },
          "metadata": {},
          "output_type": "display_data"
        },
        {
          "data": {
            "text/html": [
              " View sweep at <a href='https://wandb.ai/inflaton-ai/uncategorized/sweeps/k78ubaon' target=\"_blank\">https://wandb.ai/inflaton-ai/uncategorized/sweeps/k78ubaon</a>"
            ],
            "text/plain": [
              "<IPython.core.display.HTML object>"
            ]
          },
          "metadata": {},
          "output_type": "display_data"
        },
        {
          "data": {
            "text/html": [
              " View run at <a href='https://wandb.ai/inflaton-ai/uncategorized/runs/g6wjndyc' target=\"_blank\">https://wandb.ai/inflaton-ai/uncategorized/runs/g6wjndyc</a>"
            ],
            "text/plain": [
              "<IPython.core.display.HTML object>"
            ]
          },
          "metadata": {},
          "output_type": "display_data"
        },
        {
          "name": "stderr",
          "output_type": "stream",
          "text": [
            "Trying to set _wandb in the hyperparameter search but there is no corresponding field in `TrainingArguments`.\n",
            "Trying to set assignments in the hyperparameter search but there is no corresponding field in `TrainingArguments`.\n",
            "Trying to set metric in the hyperparameter search but there is no corresponding field in `TrainingArguments`.\n",
            "Some weights of DistilBertForSequenceClassification were not initialized from the model checkpoint at distilbert/distilbert-base-uncased and are newly initialized: ['classifier.bias', 'classifier.weight', 'pre_classifier.bias', 'pre_classifier.weight']\n",
            "You should probably TRAIN this model on a down-stream task to be able to use it for predictions and inference.\n"
          ]
        },
        {
          "data": {
            "text/html": [],
            "text/plain": [
              "<IPython.core.display.HTML object>"
            ]
          },
          "metadata": {},
          "output_type": "display_data"
        },
        {
          "data": {
            "text/html": [
              " View run <strong style=\"color:#cdcd00\">ruby-sweep-2</strong> at: <a href='https://wandb.ai/inflaton-ai/uncategorized/runs/g6wjndyc' target=\"_blank\">https://wandb.ai/inflaton-ai/uncategorized/runs/g6wjndyc</a><br> View project at: <a href='https://wandb.ai/inflaton-ai/uncategorized' target=\"_blank\">https://wandb.ai/inflaton-ai/uncategorized</a><br>Synced 5 W&B file(s), 0 media file(s), 0 artifact file(s) and 0 other file(s)"
            ],
            "text/plain": [
              "<IPython.core.display.HTML object>"
            ]
          },
          "metadata": {},
          "output_type": "display_data"
        },
        {
          "data": {
            "text/html": [
              "Find logs at: <code>./wandb/run-20250222_150451-g6wjndyc/logs</code>"
            ],
            "text/plain": [
              "<IPython.core.display.HTML object>"
            ]
          },
          "metadata": {},
          "output_type": "display_data"
        },
        {
          "data": {
            "text/html": [
              "Ignoring project 'uncategorized' when running a sweep."
            ],
            "text/plain": [
              "<IPython.core.display.HTML object>"
            ]
          },
          "metadata": {},
          "output_type": "display_data"
        },
        {
          "data": {
            "text/html": [
              "Tracking run with wandb version 0.19.7"
            ],
            "text/plain": [
              "<IPython.core.display.HTML object>"
            ]
          },
          "metadata": {},
          "output_type": "display_data"
        },
        {
          "data": {
            "text/html": [
              "Run data is saved locally in <code>/home/inflaton/code/CrediNews/wandb/run-20250222_150455-g6wjndyc</code>"
            ],
            "text/plain": [
              "<IPython.core.display.HTML object>"
            ]
          },
          "metadata": {},
          "output_type": "display_data"
        },
        {
          "data": {
            "text/html": [
              "Syncing run <strong><a href='https://wandb.ai/inflaton-ai/uncategorized/runs/g6wjndyc' target=\"_blank\">ruby-sweep-2</a></strong> to <a href='https://wandb.ai/inflaton-ai/uncategorized' target=\"_blank\">Weights & Biases</a> (<a href='https://wandb.me/developer-guide' target=\"_blank\">docs</a>)<br>Sweep page: <a href='https://wandb.ai/inflaton-ai/uncategorized/sweeps/k78ubaon' target=\"_blank\">https://wandb.ai/inflaton-ai/uncategorized/sweeps/k78ubaon</a>"
            ],
            "text/plain": [
              "<IPython.core.display.HTML object>"
            ]
          },
          "metadata": {},
          "output_type": "display_data"
        },
        {
          "data": {
            "text/html": [
              " View project at <a href='https://wandb.ai/inflaton-ai/uncategorized' target=\"_blank\">https://wandb.ai/inflaton-ai/uncategorized</a>"
            ],
            "text/plain": [
              "<IPython.core.display.HTML object>"
            ]
          },
          "metadata": {},
          "output_type": "display_data"
        },
        {
          "data": {
            "text/html": [
              " View sweep at <a href='https://wandb.ai/inflaton-ai/uncategorized/sweeps/k78ubaon' target=\"_blank\">https://wandb.ai/inflaton-ai/uncategorized/sweeps/k78ubaon</a>"
            ],
            "text/plain": [
              "<IPython.core.display.HTML object>"
            ]
          },
          "metadata": {},
          "output_type": "display_data"
        },
        {
          "data": {
            "text/html": [
              " View run at <a href='https://wandb.ai/inflaton-ai/uncategorized/runs/g6wjndyc' target=\"_blank\">https://wandb.ai/inflaton-ai/uncategorized/runs/g6wjndyc</a>"
            ],
            "text/plain": [
              "<IPython.core.display.HTML object>"
            ]
          },
          "metadata": {},
          "output_type": "display_data"
        },
        {
          "name": "stderr",
          "output_type": "stream",
          "text": [
            "\u001b[34m\u001b[1mwandb\u001b[0m: \u001b[33mWARNING\u001b[0m Config item 'per_device_train_batch_size' was locked by 'sweep' (ignored update).\n",
            "\u001b[34m\u001b[1mwandb\u001b[0m: \u001b[33mWARNING\u001b[0m Config item 'learning_rate' was locked by 'sweep' (ignored update).\n"
          ]
        },
        {
          "data": {
            "text/html": [
              "\n",
              "    <div>\n",
              "      \n",
              "      <progress value='6808' max='6808' style='width:300px; height:20px; vertical-align: middle;'></progress>\n",
              "      [6808/6808 37:57, Epoch 4/4]\n",
              "    </div>\n",
              "    <table border=\"1\" class=\"dataframe\">\n",
              "  <thead>\n",
              " <tr style=\"text-align: left;\">\n",
              "      <th>Epoch</th>\n",
              "      <th>Training Loss</th>\n",
              "      <th>Validation Loss</th>\n",
              "      <th>Accuracy</th>\n",
              "    </tr>\n",
              "  </thead>\n",
              "  <tbody>\n",
              "    <tr>\n",
              "      <td>1</td>\n",
              "      <td>0.055000</td>\n",
              "      <td>0.031291</td>\n",
              "      <td>0.989421</td>\n",
              "    </tr>\n",
              "    <tr>\n",
              "      <td>2</td>\n",
              "      <td>0.024000</td>\n",
              "      <td>0.035550</td>\n",
              "      <td>0.990744</td>\n",
              "    </tr>\n",
              "    <tr>\n",
              "      <td>3</td>\n",
              "      <td>0.012300</td>\n",
              "      <td>0.033801</td>\n",
              "      <td>0.993058</td>\n",
              "    </tr>\n",
              "    <tr>\n",
              "      <td>4</td>\n",
              "      <td>0.003000</td>\n",
              "      <td>0.037147</td>\n",
              "      <td>0.992562</td>\n",
              "    </tr>\n",
              "  </tbody>\n",
              "</table><p>"
            ],
            "text/plain": [
              "<IPython.core.display.HTML object>"
            ]
          },
          "metadata": {},
          "output_type": "display_data"
        },
        {
          "data": {
            "text/html": [],
            "text/plain": [
              "<IPython.core.display.HTML object>"
            ]
          },
          "metadata": {},
          "output_type": "display_data"
        },
        {
          "data": {
            "text/html": [
              "<br>    <style><br>        .wandb-row {<br>            display: flex;<br>            flex-direction: row;<br>            flex-wrap: wrap;<br>            justify-content: flex-start;<br>            width: 100%;<br>        }<br>        .wandb-col {<br>            display: flex;<br>            flex-direction: column;<br>            flex-basis: 100%;<br>            flex: 1;<br>            padding: 10px;<br>        }<br>    </style><br><div class=\"wandb-row\"><div class=\"wandb-col\"><h3>Run history:</h3><br/><table class=\"wandb\"><tr><td>eval/accuracy</td><td>▁▄█▇</td></tr><tr><td>eval/loss</td><td>▁▆▄█</td></tr><tr><td>eval/runtime</td><td>▇▁▆█</td></tr><tr><td>eval/samples_per_second</td><td>▂█▃▁</td></tr><tr><td>eval/steps_per_second</td><td>▂█▃▁</td></tr><tr><td>train/epoch</td><td>▁▂▂▂▃▃▄▄▄▅▅▆▆▇▇███</td></tr><tr><td>train/global_step</td><td>▁▂▂▂▃▃▄▄▄▅▅▆▆▇▇███</td></tr><tr><td>train/grad_norm</td><td>▄▁▅▄█▁▆▁▁▁▁▁▁</td></tr><tr><td>train/learning_rate</td><td>█▇▇▆▆▅▄▄▃▃▂▂▁</td></tr><tr><td>train/loss</td><td>█▄▄▂▂▂▂▁▁▁▁▁▁</td></tr></table><br/></div><div class=\"wandb-col\"><h3>Run summary:</h3><br/><table class=\"wandb\"><tr><td>eval/accuracy</td><td>0.99256</td></tr><tr><td>eval/loss</td><td>0.03715</td></tr><tr><td>eval/runtime</td><td>22.1696</td></tr><tr><td>eval/samples_per_second</td><td>272.897</td></tr><tr><td>eval/steps_per_second</td><td>34.146</td></tr><tr><td>total_flos</td><td>2.8846630600925184e+16</td></tr><tr><td>train/epoch</td><td>4</td></tr><tr><td>train/global_step</td><td>6808</td></tr><tr><td>train/grad_norm</td><td>0.00512</td></tr><tr><td>train/learning_rate</td><td>0.0</td></tr><tr><td>train/loss</td><td>0.003</td></tr><tr><td>train_loss</td><td>0.02982</td></tr><tr><td>train_runtime</td><td>2281.0656</td></tr><tr><td>train_samples_per_second</td><td>95.466</td></tr><tr><td>train_steps_per_second</td><td>2.985</td></tr></table><br/></div></div>"
            ],
            "text/plain": [
              "<IPython.core.display.HTML object>"
            ]
          },
          "metadata": {},
          "output_type": "display_data"
        },
        {
          "data": {
            "text/html": [
              " View run <strong style=\"color:#cdcd00\">ruby-sweep-2</strong> at: <a href='https://wandb.ai/inflaton-ai/uncategorized/runs/g6wjndyc' target=\"_blank\">https://wandb.ai/inflaton-ai/uncategorized/runs/g6wjndyc</a><br> View project at: <a href='https://wandb.ai/inflaton-ai/uncategorized' target=\"_blank\">https://wandb.ai/inflaton-ai/uncategorized</a><br>Synced 5 W&B file(s), 0 media file(s), 0 artifact file(s) and 0 other file(s)"
            ],
            "text/plain": [
              "<IPython.core.display.HTML object>"
            ]
          },
          "metadata": {},
          "output_type": "display_data"
        },
        {
          "data": {
            "text/html": [
              "Find logs at: <code>./wandb/run-20250222_150455-g6wjndyc/logs</code>"
            ],
            "text/plain": [
              "<IPython.core.display.HTML object>"
            ]
          },
          "metadata": {},
          "output_type": "display_data"
        },
        {
          "name": "stderr",
          "output_type": "stream",
          "text": [
            "\u001b[34m\u001b[1mwandb\u001b[0m: Agent Starting Run: hcjvxp5p with config:\n",
            "\u001b[34m\u001b[1mwandb\u001b[0m: \tlearning_rate: 5.644497791637146e-05\n",
            "\u001b[34m\u001b[1mwandb\u001b[0m: \tper_device_train_batch_size: 16\n"
          ]
        },
        {
          "data": {
            "text/html": [
              "Tracking run with wandb version 0.19.7"
            ],
            "text/plain": [
              "<IPython.core.display.HTML object>"
            ]
          },
          "metadata": {},
          "output_type": "display_data"
        },
        {
          "data": {
            "text/html": [
              "Run data is saved locally in <code>/home/inflaton/code/CrediNews/wandb/run-20250222_154259-hcjvxp5p</code>"
            ],
            "text/plain": [
              "<IPython.core.display.HTML object>"
            ]
          },
          "metadata": {},
          "output_type": "display_data"
        },
        {
          "data": {
            "text/html": [
              "Syncing run <strong><a href='https://wandb.ai/inflaton-ai/uncategorized/runs/hcjvxp5p' target=\"_blank\">light-sweep-3</a></strong> to <a href='https://wandb.ai/inflaton-ai/uncategorized' target=\"_blank\">Weights & Biases</a> (<a href='https://wandb.me/developer-guide' target=\"_blank\">docs</a>)<br>Sweep page: <a href='https://wandb.ai/inflaton-ai/uncategorized/sweeps/k78ubaon' target=\"_blank\">https://wandb.ai/inflaton-ai/uncategorized/sweeps/k78ubaon</a>"
            ],
            "text/plain": [
              "<IPython.core.display.HTML object>"
            ]
          },
          "metadata": {},
          "output_type": "display_data"
        },
        {
          "data": {
            "text/html": [
              " View project at <a href='https://wandb.ai/inflaton-ai/uncategorized' target=\"_blank\">https://wandb.ai/inflaton-ai/uncategorized</a>"
            ],
            "text/plain": [
              "<IPython.core.display.HTML object>"
            ]
          },
          "metadata": {},
          "output_type": "display_data"
        },
        {
          "data": {
            "text/html": [
              " View sweep at <a href='https://wandb.ai/inflaton-ai/uncategorized/sweeps/k78ubaon' target=\"_blank\">https://wandb.ai/inflaton-ai/uncategorized/sweeps/k78ubaon</a>"
            ],
            "text/plain": [
              "<IPython.core.display.HTML object>"
            ]
          },
          "metadata": {},
          "output_type": "display_data"
        },
        {
          "data": {
            "text/html": [
              " View run at <a href='https://wandb.ai/inflaton-ai/uncategorized/runs/hcjvxp5p' target=\"_blank\">https://wandb.ai/inflaton-ai/uncategorized/runs/hcjvxp5p</a>"
            ],
            "text/plain": [
              "<IPython.core.display.HTML object>"
            ]
          },
          "metadata": {},
          "output_type": "display_data"
        },
        {
          "name": "stderr",
          "output_type": "stream",
          "text": [
            "Trying to set _wandb in the hyperparameter search but there is no corresponding field in `TrainingArguments`.\n",
            "Trying to set assignments in the hyperparameter search but there is no corresponding field in `TrainingArguments`.\n",
            "Trying to set metric in the hyperparameter search but there is no corresponding field in `TrainingArguments`.\n",
            "Some weights of DistilBertForSequenceClassification were not initialized from the model checkpoint at distilbert/distilbert-base-uncased and are newly initialized: ['classifier.bias', 'classifier.weight', 'pre_classifier.bias', 'pre_classifier.weight']\n",
            "You should probably TRAIN this model on a down-stream task to be able to use it for predictions and inference.\n"
          ]
        },
        {
          "data": {
            "text/html": [],
            "text/plain": [
              "<IPython.core.display.HTML object>"
            ]
          },
          "metadata": {},
          "output_type": "display_data"
        },
        {
          "data": {
            "text/html": [
              " View run <strong style=\"color:#cdcd00\">light-sweep-3</strong> at: <a href='https://wandb.ai/inflaton-ai/uncategorized/runs/hcjvxp5p' target=\"_blank\">https://wandb.ai/inflaton-ai/uncategorized/runs/hcjvxp5p</a><br> View project at: <a href='https://wandb.ai/inflaton-ai/uncategorized' target=\"_blank\">https://wandb.ai/inflaton-ai/uncategorized</a><br>Synced 5 W&B file(s), 0 media file(s), 0 artifact file(s) and 0 other file(s)"
            ],
            "text/plain": [
              "<IPython.core.display.HTML object>"
            ]
          },
          "metadata": {},
          "output_type": "display_data"
        },
        {
          "data": {
            "text/html": [
              "Find logs at: <code>./wandb/run-20250222_154259-hcjvxp5p/logs</code>"
            ],
            "text/plain": [
              "<IPython.core.display.HTML object>"
            ]
          },
          "metadata": {},
          "output_type": "display_data"
        },
        {
          "data": {
            "text/html": [
              "Ignoring project 'uncategorized' when running a sweep."
            ],
            "text/plain": [
              "<IPython.core.display.HTML object>"
            ]
          },
          "metadata": {},
          "output_type": "display_data"
        },
        {
          "data": {
            "text/html": [
              "Tracking run with wandb version 0.19.7"
            ],
            "text/plain": [
              "<IPython.core.display.HTML object>"
            ]
          },
          "metadata": {},
          "output_type": "display_data"
        },
        {
          "data": {
            "text/html": [
              "Run data is saved locally in <code>/home/inflaton/code/CrediNews/wandb/run-20250222_154303-hcjvxp5p</code>"
            ],
            "text/plain": [
              "<IPython.core.display.HTML object>"
            ]
          },
          "metadata": {},
          "output_type": "display_data"
        },
        {
          "data": {
            "text/html": [
              "Syncing run <strong><a href='https://wandb.ai/inflaton-ai/uncategorized/runs/hcjvxp5p' target=\"_blank\">light-sweep-3</a></strong> to <a href='https://wandb.ai/inflaton-ai/uncategorized' target=\"_blank\">Weights & Biases</a> (<a href='https://wandb.me/developer-guide' target=\"_blank\">docs</a>)<br>Sweep page: <a href='https://wandb.ai/inflaton-ai/uncategorized/sweeps/k78ubaon' target=\"_blank\">https://wandb.ai/inflaton-ai/uncategorized/sweeps/k78ubaon</a>"
            ],
            "text/plain": [
              "<IPython.core.display.HTML object>"
            ]
          },
          "metadata": {},
          "output_type": "display_data"
        },
        {
          "data": {
            "text/html": [
              " View project at <a href='https://wandb.ai/inflaton-ai/uncategorized' target=\"_blank\">https://wandb.ai/inflaton-ai/uncategorized</a>"
            ],
            "text/plain": [
              "<IPython.core.display.HTML object>"
            ]
          },
          "metadata": {},
          "output_type": "display_data"
        },
        {
          "data": {
            "text/html": [
              " View sweep at <a href='https://wandb.ai/inflaton-ai/uncategorized/sweeps/k78ubaon' target=\"_blank\">https://wandb.ai/inflaton-ai/uncategorized/sweeps/k78ubaon</a>"
            ],
            "text/plain": [
              "<IPython.core.display.HTML object>"
            ]
          },
          "metadata": {},
          "output_type": "display_data"
        },
        {
          "data": {
            "text/html": [
              " View run at <a href='https://wandb.ai/inflaton-ai/uncategorized/runs/hcjvxp5p' target=\"_blank\">https://wandb.ai/inflaton-ai/uncategorized/runs/hcjvxp5p</a>"
            ],
            "text/plain": [
              "<IPython.core.display.HTML object>"
            ]
          },
          "metadata": {},
          "output_type": "display_data"
        },
        {
          "name": "stderr",
          "output_type": "stream",
          "text": [
            "\u001b[34m\u001b[1mwandb\u001b[0m: \u001b[33mWARNING\u001b[0m Config item 'per_device_train_batch_size' was locked by 'sweep' (ignored update).\n",
            "\u001b[34m\u001b[1mwandb\u001b[0m: \u001b[33mWARNING\u001b[0m Config item 'learning_rate' was locked by 'sweep' (ignored update).\n"
          ]
        },
        {
          "data": {
            "text/html": [
              "\n",
              "    <div>\n",
              "      \n",
              "      <progress value='13612' max='13612' style='width:300px; height:20px; vertical-align: middle;'></progress>\n",
              "      [13612/13612 39:32, Epoch 4/4]\n",
              "    </div>\n",
              "    <table border=\"1\" class=\"dataframe\">\n",
              "  <thead>\n",
              " <tr style=\"text-align: left;\">\n",
              "      <th>Epoch</th>\n",
              "      <th>Training Loss</th>\n",
              "      <th>Validation Loss</th>\n",
              "      <th>Accuracy</th>\n",
              "    </tr>\n",
              "  </thead>\n",
              "  <tbody>\n",
              "    <tr>\n",
              "      <td>1</td>\n",
              "      <td>0.056800</td>\n",
              "      <td>0.054047</td>\n",
              "      <td>0.990248</td>\n",
              "    </tr>\n",
              "    <tr>\n",
              "      <td>2</td>\n",
              "      <td>0.025100</td>\n",
              "      <td>0.028896</td>\n",
              "      <td>0.991901</td>\n",
              "    </tr>\n",
              "    <tr>\n",
              "      <td>3</td>\n",
              "      <td>0.009300</td>\n",
              "      <td>0.037379</td>\n",
              "      <td>0.994545</td>\n",
              "    </tr>\n",
              "    <tr>\n",
              "      <td>4</td>\n",
              "      <td>0.002500</td>\n",
              "      <td>0.031826</td>\n",
              "      <td>0.994876</td>\n",
              "    </tr>\n",
              "  </tbody>\n",
              "</table><p>"
            ],
            "text/plain": [
              "<IPython.core.display.HTML object>"
            ]
          },
          "metadata": {},
          "output_type": "display_data"
        },
        {
          "data": {
            "text/html": [],
            "text/plain": [
              "<IPython.core.display.HTML object>"
            ]
          },
          "metadata": {},
          "output_type": "display_data"
        },
        {
          "data": {
            "text/html": [
              "<br>    <style><br>        .wandb-row {<br>            display: flex;<br>            flex-direction: row;<br>            flex-wrap: wrap;<br>            justify-content: flex-start;<br>            width: 100%;<br>        }<br>        .wandb-col {<br>            display: flex;<br>            flex-direction: column;<br>            flex-basis: 100%;<br>            flex: 1;<br>            padding: 10px;<br>        }<br>    </style><br><div class=\"wandb-row\"><div class=\"wandb-col\"><h3>Run history:</h3><br/><table class=\"wandb\"><tr><td>eval/accuracy</td><td>▁▃██</td></tr><tr><td>eval/loss</td><td>█▁▃▂</td></tr><tr><td>eval/runtime</td><td>▃▁█▆</td></tr><tr><td>eval/samples_per_second</td><td>▆█▁▃</td></tr><tr><td>eval/steps_per_second</td><td>▆█▁▃</td></tr><tr><td>train/epoch</td><td>▁▁▂▂▂▂▃▃▃▃▃▄▄▄▄▄▅▅▅▆▆▆▆▆▇▇▇▇████</td></tr><tr><td>train/global_step</td><td>▁▁▂▂▂▂▃▃▃▃▃▄▄▄▄▄▅▅▅▆▆▆▆▆▇▇▇▇████</td></tr><tr><td>train/grad_norm</td><td>▁▁▁▁▁▁▁▂▁▁▁█▁▁▁▃▆▁▂▁▁▁▁▁▁▁▁</td></tr><tr><td>train/learning_rate</td><td>██▇▇▇▇▆▆▆▆▅▅▅▅▄▄▄▃▃▃▃▂▂▂▂▁▁</td></tr><tr><td>train/loss</td><td>█▄▄▄▃▃▂▂▂▂▂▂▂▂▁▁▁▁▁▁▁▁▁▁▁▁▁</td></tr></table><br/></div><div class=\"wandb-col\"><h3>Run summary:</h3><br/><table class=\"wandb\"><tr><td>eval/accuracy</td><td>0.99488</td></tr><tr><td>eval/loss</td><td>0.03183</td></tr><tr><td>eval/runtime</td><td>22.345</td></tr><tr><td>eval/samples_per_second</td><td>270.754</td></tr><tr><td>eval/steps_per_second</td><td>33.878</td></tr><tr><td>total_flos</td><td>2.8846630600925184e+16</td></tr><tr><td>train/epoch</td><td>4</td></tr><tr><td>train/global_step</td><td>13612</td></tr><tr><td>train/grad_norm</td><td>0.00147</td></tr><tr><td>train/learning_rate</td><td>0.0</td></tr><tr><td>train/loss</td><td>0.0025</td></tr><tr><td>train_loss</td><td>0.03083</td></tr><tr><td>train_runtime</td><td>2376.4351</td></tr><tr><td>train_samples_per_second</td><td>91.635</td></tr><tr><td>train_steps_per_second</td><td>5.728</td></tr></table><br/></div></div>"
            ],
            "text/plain": [
              "<IPython.core.display.HTML object>"
            ]
          },
          "metadata": {},
          "output_type": "display_data"
        },
        {
          "data": {
            "text/html": [
              " View run <strong style=\"color:#cdcd00\">light-sweep-3</strong> at: <a href='https://wandb.ai/inflaton-ai/uncategorized/runs/hcjvxp5p' target=\"_blank\">https://wandb.ai/inflaton-ai/uncategorized/runs/hcjvxp5p</a><br> View project at: <a href='https://wandb.ai/inflaton-ai/uncategorized' target=\"_blank\">https://wandb.ai/inflaton-ai/uncategorized</a><br>Synced 5 W&B file(s), 0 media file(s), 0 artifact file(s) and 0 other file(s)"
            ],
            "text/plain": [
              "<IPython.core.display.HTML object>"
            ]
          },
          "metadata": {},
          "output_type": "display_data"
        },
        {
          "data": {
            "text/html": [
              "Find logs at: <code>./wandb/run-20250222_154303-hcjvxp5p/logs</code>"
            ],
            "text/plain": [
              "<IPython.core.display.HTML object>"
            ]
          },
          "metadata": {},
          "output_type": "display_data"
        },
        {
          "name": "stderr",
          "output_type": "stream",
          "text": [
            "\u001b[34m\u001b[1mwandb\u001b[0m: Agent Starting Run: 2p64kywg with config:\n",
            "\u001b[34m\u001b[1mwandb\u001b[0m: \tlearning_rate: 2.478156135253373e-06\n",
            "\u001b[34m\u001b[1mwandb\u001b[0m: \tper_device_train_batch_size: 32\n"
          ]
        },
        {
          "data": {
            "text/html": [
              "Tracking run with wandb version 0.19.7"
            ],
            "text/plain": [
              "<IPython.core.display.HTML object>"
            ]
          },
          "metadata": {},
          "output_type": "display_data"
        },
        {
          "data": {
            "text/html": [
              "Run data is saved locally in <code>/home/inflaton/code/CrediNews/wandb/run-20250222_162243-2p64kywg</code>"
            ],
            "text/plain": [
              "<IPython.core.display.HTML object>"
            ]
          },
          "metadata": {},
          "output_type": "display_data"
        },
        {
          "data": {
            "text/html": [
              "Syncing run <strong><a href='https://wandb.ai/inflaton-ai/uncategorized/runs/2p64kywg' target=\"_blank\">apricot-sweep-4</a></strong> to <a href='https://wandb.ai/inflaton-ai/uncategorized' target=\"_blank\">Weights & Biases</a> (<a href='https://wandb.me/developer-guide' target=\"_blank\">docs</a>)<br>Sweep page: <a href='https://wandb.ai/inflaton-ai/uncategorized/sweeps/k78ubaon' target=\"_blank\">https://wandb.ai/inflaton-ai/uncategorized/sweeps/k78ubaon</a>"
            ],
            "text/plain": [
              "<IPython.core.display.HTML object>"
            ]
          },
          "metadata": {},
          "output_type": "display_data"
        },
        {
          "data": {
            "text/html": [
              " View project at <a href='https://wandb.ai/inflaton-ai/uncategorized' target=\"_blank\">https://wandb.ai/inflaton-ai/uncategorized</a>"
            ],
            "text/plain": [
              "<IPython.core.display.HTML object>"
            ]
          },
          "metadata": {},
          "output_type": "display_data"
        },
        {
          "data": {
            "text/html": [
              " View sweep at <a href='https://wandb.ai/inflaton-ai/uncategorized/sweeps/k78ubaon' target=\"_blank\">https://wandb.ai/inflaton-ai/uncategorized/sweeps/k78ubaon</a>"
            ],
            "text/plain": [
              "<IPython.core.display.HTML object>"
            ]
          },
          "metadata": {},
          "output_type": "display_data"
        },
        {
          "data": {
            "text/html": [
              " View run at <a href='https://wandb.ai/inflaton-ai/uncategorized/runs/2p64kywg' target=\"_blank\">https://wandb.ai/inflaton-ai/uncategorized/runs/2p64kywg</a>"
            ],
            "text/plain": [
              "<IPython.core.display.HTML object>"
            ]
          },
          "metadata": {},
          "output_type": "display_data"
        },
        {
          "name": "stderr",
          "output_type": "stream",
          "text": [
            "Trying to set _wandb in the hyperparameter search but there is no corresponding field in `TrainingArguments`.\n",
            "Trying to set assignments in the hyperparameter search but there is no corresponding field in `TrainingArguments`.\n",
            "Trying to set metric in the hyperparameter search but there is no corresponding field in `TrainingArguments`.\n",
            "Some weights of DistilBertForSequenceClassification were not initialized from the model checkpoint at distilbert/distilbert-base-uncased and are newly initialized: ['classifier.bias', 'classifier.weight', 'pre_classifier.bias', 'pre_classifier.weight']\n",
            "You should probably TRAIN this model on a down-stream task to be able to use it for predictions and inference.\n"
          ]
        },
        {
          "data": {
            "text/html": [],
            "text/plain": [
              "<IPython.core.display.HTML object>"
            ]
          },
          "metadata": {},
          "output_type": "display_data"
        },
        {
          "data": {
            "text/html": [
              " View run <strong style=\"color:#cdcd00\">apricot-sweep-4</strong> at: <a href='https://wandb.ai/inflaton-ai/uncategorized/runs/2p64kywg' target=\"_blank\">https://wandb.ai/inflaton-ai/uncategorized/runs/2p64kywg</a><br> View project at: <a href='https://wandb.ai/inflaton-ai/uncategorized' target=\"_blank\">https://wandb.ai/inflaton-ai/uncategorized</a><br>Synced 5 W&B file(s), 0 media file(s), 0 artifact file(s) and 0 other file(s)"
            ],
            "text/plain": [
              "<IPython.core.display.HTML object>"
            ]
          },
          "metadata": {},
          "output_type": "display_data"
        },
        {
          "data": {
            "text/html": [
              "Find logs at: <code>./wandb/run-20250222_162243-2p64kywg/logs</code>"
            ],
            "text/plain": [
              "<IPython.core.display.HTML object>"
            ]
          },
          "metadata": {},
          "output_type": "display_data"
        },
        {
          "data": {
            "text/html": [
              "Ignoring project 'uncategorized' when running a sweep."
            ],
            "text/plain": [
              "<IPython.core.display.HTML object>"
            ]
          },
          "metadata": {},
          "output_type": "display_data"
        },
        {
          "data": {
            "text/html": [
              "Tracking run with wandb version 0.19.7"
            ],
            "text/plain": [
              "<IPython.core.display.HTML object>"
            ]
          },
          "metadata": {},
          "output_type": "display_data"
        },
        {
          "data": {
            "text/html": [
              "Run data is saved locally in <code>/home/inflaton/code/CrediNews/wandb/run-20250222_162247-2p64kywg</code>"
            ],
            "text/plain": [
              "<IPython.core.display.HTML object>"
            ]
          },
          "metadata": {},
          "output_type": "display_data"
        },
        {
          "data": {
            "text/html": [
              "Syncing run <strong><a href='https://wandb.ai/inflaton-ai/uncategorized/runs/2p64kywg' target=\"_blank\">apricot-sweep-4</a></strong> to <a href='https://wandb.ai/inflaton-ai/uncategorized' target=\"_blank\">Weights & Biases</a> (<a href='https://wandb.me/developer-guide' target=\"_blank\">docs</a>)<br>Sweep page: <a href='https://wandb.ai/inflaton-ai/uncategorized/sweeps/k78ubaon' target=\"_blank\">https://wandb.ai/inflaton-ai/uncategorized/sweeps/k78ubaon</a>"
            ],
            "text/plain": [
              "<IPython.core.display.HTML object>"
            ]
          },
          "metadata": {},
          "output_type": "display_data"
        },
        {
          "data": {
            "text/html": [
              " View project at <a href='https://wandb.ai/inflaton-ai/uncategorized' target=\"_blank\">https://wandb.ai/inflaton-ai/uncategorized</a>"
            ],
            "text/plain": [
              "<IPython.core.display.HTML object>"
            ]
          },
          "metadata": {},
          "output_type": "display_data"
        },
        {
          "data": {
            "text/html": [
              " View sweep at <a href='https://wandb.ai/inflaton-ai/uncategorized/sweeps/k78ubaon' target=\"_blank\">https://wandb.ai/inflaton-ai/uncategorized/sweeps/k78ubaon</a>"
            ],
            "text/plain": [
              "<IPython.core.display.HTML object>"
            ]
          },
          "metadata": {},
          "output_type": "display_data"
        },
        {
          "data": {
            "text/html": [
              " View run at <a href='https://wandb.ai/inflaton-ai/uncategorized/runs/2p64kywg' target=\"_blank\">https://wandb.ai/inflaton-ai/uncategorized/runs/2p64kywg</a>"
            ],
            "text/plain": [
              "<IPython.core.display.HTML object>"
            ]
          },
          "metadata": {},
          "output_type": "display_data"
        },
        {
          "name": "stderr",
          "output_type": "stream",
          "text": [
            "\u001b[34m\u001b[1mwandb\u001b[0m: \u001b[33mWARNING\u001b[0m Config item 'per_device_train_batch_size' was locked by 'sweep' (ignored update).\n",
            "\u001b[34m\u001b[1mwandb\u001b[0m: \u001b[33mWARNING\u001b[0m Config item 'learning_rate' was locked by 'sweep' (ignored update).\n"
          ]
        },
        {
          "data": {
            "text/html": [
              "\n",
              "    <div>\n",
              "      \n",
              "      <progress value='6808' max='6808' style='width:300px; height:20px; vertical-align: middle;'></progress>\n",
              "      [6808/6808 38:08, Epoch 4/4]\n",
              "    </div>\n",
              "    <table border=\"1\" class=\"dataframe\">\n",
              "  <thead>\n",
              " <tr style=\"text-align: left;\">\n",
              "      <th>Epoch</th>\n",
              "      <th>Training Loss</th>\n",
              "      <th>Validation Loss</th>\n",
              "      <th>Accuracy</th>\n",
              "    </tr>\n",
              "  </thead>\n",
              "  <tbody>\n",
              "    <tr>\n",
              "      <td>1</td>\n",
              "      <td>0.082600</td>\n",
              "      <td>0.079314</td>\n",
              "      <td>0.975372</td>\n",
              "    </tr>\n",
              "    <tr>\n",
              "      <td>2</td>\n",
              "      <td>0.057800</td>\n",
              "      <td>0.060385</td>\n",
              "      <td>0.982810</td>\n",
              "    </tr>\n",
              "    <tr>\n",
              "      <td>3</td>\n",
              "      <td>0.044200</td>\n",
              "      <td>0.058880</td>\n",
              "      <td>0.984132</td>\n",
              "    </tr>\n",
              "    <tr>\n",
              "      <td>4</td>\n",
              "      <td>0.041200</td>\n",
              "      <td>0.057048</td>\n",
              "      <td>0.984463</td>\n",
              "    </tr>\n",
              "  </tbody>\n",
              "</table><p>"
            ],
            "text/plain": [
              "<IPython.core.display.HTML object>"
            ]
          },
          "metadata": {},
          "output_type": "display_data"
        },
        {
          "data": {
            "text/html": [],
            "text/plain": [
              "<IPython.core.display.HTML object>"
            ]
          },
          "metadata": {},
          "output_type": "display_data"
        },
        {
          "data": {
            "text/html": [
              "<br>    <style><br>        .wandb-row {<br>            display: flex;<br>            flex-direction: row;<br>            flex-wrap: wrap;<br>            justify-content: flex-start;<br>            width: 100%;<br>        }<br>        .wandb-col {<br>            display: flex;<br>            flex-direction: column;<br>            flex-basis: 100%;<br>            flex: 1;<br>            padding: 10px;<br>        }<br>    </style><br><div class=\"wandb-row\"><div class=\"wandb-col\"><h3>Run history:</h3><br/><table class=\"wandb\"><tr><td>eval/accuracy</td><td>▁▇██</td></tr><tr><td>eval/loss</td><td>█▂▂▁</td></tr><tr><td>eval/runtime</td><td>▂▁▂█</td></tr><tr><td>eval/samples_per_second</td><td>▇█▇▁</td></tr><tr><td>eval/steps_per_second</td><td>▇█▇▁</td></tr><tr><td>train/epoch</td><td>▁▂▂▂▃▃▄▄▄▅▅▆▆▇▇███</td></tr><tr><td>train/global_step</td><td>▁▂▂▂▃▃▄▄▄▅▅▆▆▇▇███</td></tr><tr><td>train/grad_norm</td><td>▂▂▂▃▁█▂▁▇▄▅▁▁</td></tr><tr><td>train/learning_rate</td><td>█▇▇▆▆▅▅▄▃▃▂▂▁</td></tr><tr><td>train/loss</td><td>█▃▂▂▂▁▁▁▁▁▁▁▁</td></tr></table><br/></div><div class=\"wandb-col\"><h3>Run summary:</h3><br/><table class=\"wandb\"><tr><td>eval/accuracy</td><td>0.98446</td></tr><tr><td>eval/loss</td><td>0.05705</td></tr><tr><td>eval/runtime</td><td>22.354</td></tr><tr><td>eval/samples_per_second</td><td>270.646</td></tr><tr><td>eval/steps_per_second</td><td>33.864</td></tr><tr><td>total_flos</td><td>2.8846630600925184e+16</td></tr><tr><td>train/epoch</td><td>4</td></tr><tr><td>train/global_step</td><td>6808</td></tr><tr><td>train/grad_norm</td><td>0.7816</td></tr><tr><td>train/learning_rate</td><td>0.0</td></tr><tr><td>train/loss</td><td>0.0412</td></tr><tr><td>train_loss</td><td>0.07821</td></tr><tr><td>train_runtime</td><td>2292.8751</td></tr><tr><td>train_samples_per_second</td><td>94.974</td></tr><tr><td>train_steps_per_second</td><td>2.969</td></tr></table><br/></div></div>"
            ],
            "text/plain": [
              "<IPython.core.display.HTML object>"
            ]
          },
          "metadata": {},
          "output_type": "display_data"
        },
        {
          "data": {
            "text/html": [
              " View run <strong style=\"color:#cdcd00\">apricot-sweep-4</strong> at: <a href='https://wandb.ai/inflaton-ai/uncategorized/runs/2p64kywg' target=\"_blank\">https://wandb.ai/inflaton-ai/uncategorized/runs/2p64kywg</a><br> View project at: <a href='https://wandb.ai/inflaton-ai/uncategorized' target=\"_blank\">https://wandb.ai/inflaton-ai/uncategorized</a><br>Synced 5 W&B file(s), 0 media file(s), 0 artifact file(s) and 0 other file(s)"
            ],
            "text/plain": [
              "<IPython.core.display.HTML object>"
            ]
          },
          "metadata": {},
          "output_type": "display_data"
        },
        {
          "data": {
            "text/html": [
              "Find logs at: <code>./wandb/run-20250222_162247-2p64kywg/logs</code>"
            ],
            "text/plain": [
              "<IPython.core.display.HTML object>"
            ]
          },
          "metadata": {},
          "output_type": "display_data"
        },
        {
          "name": "stderr",
          "output_type": "stream",
          "text": [
            "\u001b[34m\u001b[1mwandb\u001b[0m: Agent Starting Run: 33aqk0ey with config:\n",
            "\u001b[34m\u001b[1mwandb\u001b[0m: \tlearning_rate: 6.335494784309435e-05\n",
            "\u001b[34m\u001b[1mwandb\u001b[0m: \tper_device_train_batch_size: 32\n"
          ]
        },
        {
          "data": {
            "text/html": [
              "Tracking run with wandb version 0.19.7"
            ],
            "text/plain": [
              "<IPython.core.display.HTML object>"
            ]
          },
          "metadata": {},
          "output_type": "display_data"
        },
        {
          "data": {
            "text/html": [
              "Run data is saved locally in <code>/home/inflaton/code/CrediNews/wandb/run-20250222_170105-33aqk0ey</code>"
            ],
            "text/plain": [
              "<IPython.core.display.HTML object>"
            ]
          },
          "metadata": {},
          "output_type": "display_data"
        },
        {
          "data": {
            "text/html": [
              "Syncing run <strong><a href='https://wandb.ai/inflaton-ai/uncategorized/runs/33aqk0ey' target=\"_blank\">resilient-sweep-5</a></strong> to <a href='https://wandb.ai/inflaton-ai/uncategorized' target=\"_blank\">Weights & Biases</a> (<a href='https://wandb.me/developer-guide' target=\"_blank\">docs</a>)<br>Sweep page: <a href='https://wandb.ai/inflaton-ai/uncategorized/sweeps/k78ubaon' target=\"_blank\">https://wandb.ai/inflaton-ai/uncategorized/sweeps/k78ubaon</a>"
            ],
            "text/plain": [
              "<IPython.core.display.HTML object>"
            ]
          },
          "metadata": {},
          "output_type": "display_data"
        },
        {
          "data": {
            "text/html": [
              " View project at <a href='https://wandb.ai/inflaton-ai/uncategorized' target=\"_blank\">https://wandb.ai/inflaton-ai/uncategorized</a>"
            ],
            "text/plain": [
              "<IPython.core.display.HTML object>"
            ]
          },
          "metadata": {},
          "output_type": "display_data"
        },
        {
          "data": {
            "text/html": [
              " View sweep at <a href='https://wandb.ai/inflaton-ai/uncategorized/sweeps/k78ubaon' target=\"_blank\">https://wandb.ai/inflaton-ai/uncategorized/sweeps/k78ubaon</a>"
            ],
            "text/plain": [
              "<IPython.core.display.HTML object>"
            ]
          },
          "metadata": {},
          "output_type": "display_data"
        },
        {
          "data": {
            "text/html": [
              " View run at <a href='https://wandb.ai/inflaton-ai/uncategorized/runs/33aqk0ey' target=\"_blank\">https://wandb.ai/inflaton-ai/uncategorized/runs/33aqk0ey</a>"
            ],
            "text/plain": [
              "<IPython.core.display.HTML object>"
            ]
          },
          "metadata": {},
          "output_type": "display_data"
        },
        {
          "name": "stderr",
          "output_type": "stream",
          "text": [
            "Trying to set _wandb in the hyperparameter search but there is no corresponding field in `TrainingArguments`.\n",
            "Trying to set assignments in the hyperparameter search but there is no corresponding field in `TrainingArguments`.\n",
            "Trying to set metric in the hyperparameter search but there is no corresponding field in `TrainingArguments`.\n",
            "Some weights of DistilBertForSequenceClassification were not initialized from the model checkpoint at distilbert/distilbert-base-uncased and are newly initialized: ['classifier.bias', 'classifier.weight', 'pre_classifier.bias', 'pre_classifier.weight']\n",
            "You should probably TRAIN this model on a down-stream task to be able to use it for predictions and inference.\n"
          ]
        },
        {
          "data": {
            "text/html": [],
            "text/plain": [
              "<IPython.core.display.HTML object>"
            ]
          },
          "metadata": {},
          "output_type": "display_data"
        },
        {
          "data": {
            "text/html": [
              " View run <strong style=\"color:#cdcd00\">resilient-sweep-5</strong> at: <a href='https://wandb.ai/inflaton-ai/uncategorized/runs/33aqk0ey' target=\"_blank\">https://wandb.ai/inflaton-ai/uncategorized/runs/33aqk0ey</a><br> View project at: <a href='https://wandb.ai/inflaton-ai/uncategorized' target=\"_blank\">https://wandb.ai/inflaton-ai/uncategorized</a><br>Synced 5 W&B file(s), 0 media file(s), 0 artifact file(s) and 0 other file(s)"
            ],
            "text/plain": [
              "<IPython.core.display.HTML object>"
            ]
          },
          "metadata": {},
          "output_type": "display_data"
        },
        {
          "data": {
            "text/html": [
              "Find logs at: <code>./wandb/run-20250222_170105-33aqk0ey/logs</code>"
            ],
            "text/plain": [
              "<IPython.core.display.HTML object>"
            ]
          },
          "metadata": {},
          "output_type": "display_data"
        },
        {
          "data": {
            "text/html": [
              "Ignoring project 'uncategorized' when running a sweep."
            ],
            "text/plain": [
              "<IPython.core.display.HTML object>"
            ]
          },
          "metadata": {},
          "output_type": "display_data"
        },
        {
          "data": {
            "text/html": [
              "Tracking run with wandb version 0.19.7"
            ],
            "text/plain": [
              "<IPython.core.display.HTML object>"
            ]
          },
          "metadata": {},
          "output_type": "display_data"
        },
        {
          "data": {
            "text/html": [
              "Run data is saved locally in <code>/home/inflaton/code/CrediNews/wandb/run-20250222_170110-33aqk0ey</code>"
            ],
            "text/plain": [
              "<IPython.core.display.HTML object>"
            ]
          },
          "metadata": {},
          "output_type": "display_data"
        },
        {
          "data": {
            "text/html": [
              "Syncing run <strong><a href='https://wandb.ai/inflaton-ai/uncategorized/runs/33aqk0ey' target=\"_blank\">resilient-sweep-5</a></strong> to <a href='https://wandb.ai/inflaton-ai/uncategorized' target=\"_blank\">Weights & Biases</a> (<a href='https://wandb.me/developer-guide' target=\"_blank\">docs</a>)<br>Sweep page: <a href='https://wandb.ai/inflaton-ai/uncategorized/sweeps/k78ubaon' target=\"_blank\">https://wandb.ai/inflaton-ai/uncategorized/sweeps/k78ubaon</a>"
            ],
            "text/plain": [
              "<IPython.core.display.HTML object>"
            ]
          },
          "metadata": {},
          "output_type": "display_data"
        },
        {
          "data": {
            "text/html": [
              " View project at <a href='https://wandb.ai/inflaton-ai/uncategorized' target=\"_blank\">https://wandb.ai/inflaton-ai/uncategorized</a>"
            ],
            "text/plain": [
              "<IPython.core.display.HTML object>"
            ]
          },
          "metadata": {},
          "output_type": "display_data"
        },
        {
          "data": {
            "text/html": [
              " View sweep at <a href='https://wandb.ai/inflaton-ai/uncategorized/sweeps/k78ubaon' target=\"_blank\">https://wandb.ai/inflaton-ai/uncategorized/sweeps/k78ubaon</a>"
            ],
            "text/plain": [
              "<IPython.core.display.HTML object>"
            ]
          },
          "metadata": {},
          "output_type": "display_data"
        },
        {
          "data": {
            "text/html": [
              " View run at <a href='https://wandb.ai/inflaton-ai/uncategorized/runs/33aqk0ey' target=\"_blank\">https://wandb.ai/inflaton-ai/uncategorized/runs/33aqk0ey</a>"
            ],
            "text/plain": [
              "<IPython.core.display.HTML object>"
            ]
          },
          "metadata": {},
          "output_type": "display_data"
        },
        {
          "name": "stderr",
          "output_type": "stream",
          "text": [
            "\u001b[34m\u001b[1mwandb\u001b[0m: \u001b[33mWARNING\u001b[0m Config item 'per_device_train_batch_size' was locked by 'sweep' (ignored update).\n",
            "\u001b[34m\u001b[1mwandb\u001b[0m: \u001b[33mWARNING\u001b[0m Config item 'learning_rate' was locked by 'sweep' (ignored update).\n"
          ]
        },
        {
          "data": {
            "text/html": [
              "\n",
              "    <div>\n",
              "      \n",
              "      <progress value='6808' max='6808' style='width:300px; height:20px; vertical-align: middle;'></progress>\n",
              "      [6808/6808 38:01, Epoch 4/4]\n",
              "    </div>\n",
              "    <table border=\"1\" class=\"dataframe\">\n",
              "  <thead>\n",
              " <tr style=\"text-align: left;\">\n",
              "      <th>Epoch</th>\n",
              "      <th>Training Loss</th>\n",
              "      <th>Validation Loss</th>\n",
              "      <th>Accuracy</th>\n",
              "    </tr>\n",
              "  </thead>\n",
              "  <tbody>\n",
              "    <tr>\n",
              "      <td>1</td>\n",
              "      <td>0.045800</td>\n",
              "      <td>0.072953</td>\n",
              "      <td>0.984628</td>\n",
              "    </tr>\n",
              "    <tr>\n",
              "      <td>2</td>\n",
              "      <td>0.022600</td>\n",
              "      <td>0.027620</td>\n",
              "      <td>0.991570</td>\n",
              "    </tr>\n",
              "    <tr>\n",
              "      <td>3</td>\n",
              "      <td>0.008400</td>\n",
              "      <td>0.033815</td>\n",
              "      <td>0.992231</td>\n",
              "    </tr>\n",
              "    <tr>\n",
              "      <td>4</td>\n",
              "      <td>0.002700</td>\n",
              "      <td>0.043594</td>\n",
              "      <td>0.992727</td>\n",
              "    </tr>\n",
              "  </tbody>\n",
              "</table><p>"
            ],
            "text/plain": [
              "<IPython.core.display.HTML object>"
            ]
          },
          "metadata": {},
          "output_type": "display_data"
        },
        {
          "data": {
            "text/html": [],
            "text/plain": [
              "<IPython.core.display.HTML object>"
            ]
          },
          "metadata": {},
          "output_type": "display_data"
        },
        {
          "data": {
            "text/html": [
              "<br>    <style><br>        .wandb-row {<br>            display: flex;<br>            flex-direction: row;<br>            flex-wrap: wrap;<br>            justify-content: flex-start;<br>            width: 100%;<br>        }<br>        .wandb-col {<br>            display: flex;<br>            flex-direction: column;<br>            flex-basis: 100%;<br>            flex: 1;<br>            padding: 10px;<br>        }<br>    </style><br><div class=\"wandb-row\"><div class=\"wandb-col\"><h3>Run history:</h3><br/><table class=\"wandb\"><tr><td>eval/accuracy</td><td>▁▇██</td></tr><tr><td>eval/loss</td><td>█▁▂▃</td></tr><tr><td>eval/runtime</td><td>▄▇▁█</td></tr><tr><td>eval/samples_per_second</td><td>▅▂█▁</td></tr><tr><td>eval/steps_per_second</td><td>▅▂█▁</td></tr><tr><td>train/epoch</td><td>▁▂▂▂▃▃▄▄▄▅▅▆▆▇▇███</td></tr><tr><td>train/global_step</td><td>▁▂▂▂▃▃▄▄▄▅▅▆▆▇▇███</td></tr><tr><td>train/grad_norm</td><td>▁▄█▂▁▁▂▁▁▁▂▁▁</td></tr><tr><td>train/learning_rate</td><td>█▇▇▆▆▅▅▄▃▃▂▂▁</td></tr><tr><td>train/loss</td><td>█▄▃▂▂▂▂▁▁▁▁▁▁</td></tr></table><br/></div><div class=\"wandb-col\"><h3>Run summary:</h3><br/><table class=\"wandb\"><tr><td>eval/accuracy</td><td>0.99273</td></tr><tr><td>eval/loss</td><td>0.04359</td></tr><tr><td>eval/runtime</td><td>22.4047</td></tr><tr><td>eval/samples_per_second</td><td>270.032</td></tr><tr><td>eval/steps_per_second</td><td>33.787</td></tr><tr><td>total_flos</td><td>2.8846630600925184e+16</td></tr><tr><td>train/epoch</td><td>4</td></tr><tr><td>train/global_step</td><td>6808</td></tr><tr><td>train/grad_norm</td><td>0.00453</td></tr><tr><td>train/learning_rate</td><td>0.0</td></tr><tr><td>train/loss</td><td>0.0027</td></tr><tr><td>train_loss</td><td>0.02623</td></tr><tr><td>train_runtime</td><td>2285.0224</td></tr><tr><td>train_samples_per_second</td><td>95.301</td></tr><tr><td>train_steps_per_second</td><td>2.979</td></tr></table><br/></div></div>"
            ],
            "text/plain": [
              "<IPython.core.display.HTML object>"
            ]
          },
          "metadata": {},
          "output_type": "display_data"
        },
        {
          "data": {
            "text/html": [
              " View run <strong style=\"color:#cdcd00\">resilient-sweep-5</strong> at: <a href='https://wandb.ai/inflaton-ai/uncategorized/runs/33aqk0ey' target=\"_blank\">https://wandb.ai/inflaton-ai/uncategorized/runs/33aqk0ey</a><br> View project at: <a href='https://wandb.ai/inflaton-ai/uncategorized' target=\"_blank\">https://wandb.ai/inflaton-ai/uncategorized</a><br>Synced 5 W&B file(s), 0 media file(s), 0 artifact file(s) and 0 other file(s)"
            ],
            "text/plain": [
              "<IPython.core.display.HTML object>"
            ]
          },
          "metadata": {},
          "output_type": "display_data"
        },
        {
          "data": {
            "text/html": [
              "Find logs at: <code>./wandb/run-20250222_170110-33aqk0ey/logs</code>"
            ],
            "text/plain": [
              "<IPython.core.display.HTML object>"
            ]
          },
          "metadata": {},
          "output_type": "display_data"
        },
        {
          "name": "stdout",
          "output_type": "stream",
          "text": [
            "CPU times: user 3h 11min 38s, sys: 1min 52s, total: 3h 13min 30s\n",
            "Wall time: 3h 14min\n"
          ]
        },
        {
          "data": {
            "text/plain": [
              "BestRun(run_id='hcjvxp5p', objective=0.9948760330578512, hyperparameters={'learning_rate': 5.644497791637146e-05, 'per_device_train_batch_size': 16, 'assignments': {}, 'metric': 'eval/loss'}, run_summary=None)"
            ]
          },
          "execution_count": 10,
          "metadata": {},
          "output_type": "execute_result"
        }
      ],
      "source": [
        "%%time\n",
        "\n",
        "best_trial = do_grid_search(\"original\")\n",
        "best_trial"
      ]
    },
    {
      "cell_type": "code",
      "execution_count": 11,
      "metadata": {},
      "outputs": [
        {
          "name": "stderr",
          "output_type": "stream",
          "text": [
            "/home/inflaton/miniconda3/envs/fake-news/lib/python3.11/site-packages/transformers/training_args.py:1575: FutureWarning: `evaluation_strategy` is deprecated and will be removed in version 4.46 of 🤗 Transformers. Use `eval_strategy` instead\n",
            "  warnings.warn(\n",
            "/tmp/ipykernel_3358873/1062649897.py:15: FutureWarning: `tokenizer` is deprecated and will be removed in version 5.0.0 for `Trainer.__init__`. Use `processing_class` instead.\n",
            "  trainer = Trainer(\n",
            "Some weights of DistilBertForSequenceClassification were not initialized from the model checkpoint at distilbert/distilbert-base-uncased and are newly initialized: ['classifier.bias', 'classifier.weight', 'pre_classifier.bias', 'pre_classifier.weight']\n",
            "You should probably TRAIN this model on a down-stream task to be able to use it for predictions and inference.\n"
          ]
        },
        {
          "name": "stdout",
          "output_type": "stream",
          "text": [
            "Create sweep with ID: 1pmhicln\n",
            "Sweep URL: https://wandb.ai/inflaton-ai/uncategorized/sweeps/1pmhicln\n"
          ]
        },
        {
          "name": "stderr",
          "output_type": "stream",
          "text": [
            "\u001b[34m\u001b[1mwandb\u001b[0m: Agent Starting Run: 93v46at6 with config:\n",
            "\u001b[34m\u001b[1mwandb\u001b[0m: \tlearning_rate: 7.225528979449591e-05\n",
            "\u001b[34m\u001b[1mwandb\u001b[0m: \tper_device_train_batch_size: 32\n"
          ]
        },
        {
          "data": {
            "text/html": [
              "Tracking run with wandb version 0.19.7"
            ],
            "text/plain": [
              "<IPython.core.display.HTML object>"
            ]
          },
          "metadata": {},
          "output_type": "display_data"
        },
        {
          "data": {
            "text/html": [
              "Run data is saved locally in <code>/home/inflaton/code/CrediNews/wandb/run-20250222_173918-93v46at6</code>"
            ],
            "text/plain": [
              "<IPython.core.display.HTML object>"
            ]
          },
          "metadata": {},
          "output_type": "display_data"
        },
        {
          "data": {
            "text/html": [
              "Syncing run <strong><a href='https://wandb.ai/inflaton-ai/uncategorized/runs/93v46at6' target=\"_blank\">lively-sweep-1</a></strong> to <a href='https://wandb.ai/inflaton-ai/uncategorized' target=\"_blank\">Weights & Biases</a> (<a href='https://wandb.me/developer-guide' target=\"_blank\">docs</a>)<br>Sweep page: <a href='https://wandb.ai/inflaton-ai/uncategorized/sweeps/1pmhicln' target=\"_blank\">https://wandb.ai/inflaton-ai/uncategorized/sweeps/1pmhicln</a>"
            ],
            "text/plain": [
              "<IPython.core.display.HTML object>"
            ]
          },
          "metadata": {},
          "output_type": "display_data"
        },
        {
          "data": {
            "text/html": [
              " View project at <a href='https://wandb.ai/inflaton-ai/uncategorized' target=\"_blank\">https://wandb.ai/inflaton-ai/uncategorized</a>"
            ],
            "text/plain": [
              "<IPython.core.display.HTML object>"
            ]
          },
          "metadata": {},
          "output_type": "display_data"
        },
        {
          "data": {
            "text/html": [
              " View sweep at <a href='https://wandb.ai/inflaton-ai/uncategorized/sweeps/1pmhicln' target=\"_blank\">https://wandb.ai/inflaton-ai/uncategorized/sweeps/1pmhicln</a>"
            ],
            "text/plain": [
              "<IPython.core.display.HTML object>"
            ]
          },
          "metadata": {},
          "output_type": "display_data"
        },
        {
          "data": {
            "text/html": [
              " View run at <a href='https://wandb.ai/inflaton-ai/uncategorized/runs/93v46at6' target=\"_blank\">https://wandb.ai/inflaton-ai/uncategorized/runs/93v46at6</a>"
            ],
            "text/plain": [
              "<IPython.core.display.HTML object>"
            ]
          },
          "metadata": {},
          "output_type": "display_data"
        },
        {
          "name": "stderr",
          "output_type": "stream",
          "text": [
            "Trying to set _wandb in the hyperparameter search but there is no corresponding field in `TrainingArguments`.\n",
            "Trying to set assignments in the hyperparameter search but there is no corresponding field in `TrainingArguments`.\n",
            "Trying to set metric in the hyperparameter search but there is no corresponding field in `TrainingArguments`.\n",
            "Some weights of DistilBertForSequenceClassification were not initialized from the model checkpoint at distilbert/distilbert-base-uncased and are newly initialized: ['classifier.bias', 'classifier.weight', 'pre_classifier.bias', 'pre_classifier.weight']\n",
            "You should probably TRAIN this model on a down-stream task to be able to use it for predictions and inference.\n"
          ]
        },
        {
          "data": {
            "text/html": [],
            "text/plain": [
              "<IPython.core.display.HTML object>"
            ]
          },
          "metadata": {},
          "output_type": "display_data"
        },
        {
          "data": {
            "text/html": [
              " View run <strong style=\"color:#cdcd00\">lively-sweep-1</strong> at: <a href='https://wandb.ai/inflaton-ai/uncategorized/runs/93v46at6' target=\"_blank\">https://wandb.ai/inflaton-ai/uncategorized/runs/93v46at6</a><br> View project at: <a href='https://wandb.ai/inflaton-ai/uncategorized' target=\"_blank\">https://wandb.ai/inflaton-ai/uncategorized</a><br>Synced 5 W&B file(s), 0 media file(s), 0 artifact file(s) and 0 other file(s)"
            ],
            "text/plain": [
              "<IPython.core.display.HTML object>"
            ]
          },
          "metadata": {},
          "output_type": "display_data"
        },
        {
          "data": {
            "text/html": [
              "Find logs at: <code>./wandb/run-20250222_173918-93v46at6/logs</code>"
            ],
            "text/plain": [
              "<IPython.core.display.HTML object>"
            ]
          },
          "metadata": {},
          "output_type": "display_data"
        },
        {
          "data": {
            "text/html": [
              "Ignoring project 'uncategorized' when running a sweep."
            ],
            "text/plain": [
              "<IPython.core.display.HTML object>"
            ]
          },
          "metadata": {},
          "output_type": "display_data"
        },
        {
          "data": {
            "text/html": [
              "Tracking run with wandb version 0.19.7"
            ],
            "text/plain": [
              "<IPython.core.display.HTML object>"
            ]
          },
          "metadata": {},
          "output_type": "display_data"
        },
        {
          "data": {
            "text/html": [
              "Run data is saved locally in <code>/home/inflaton/code/CrediNews/wandb/run-20250222_173922-93v46at6</code>"
            ],
            "text/plain": [
              "<IPython.core.display.HTML object>"
            ]
          },
          "metadata": {},
          "output_type": "display_data"
        },
        {
          "data": {
            "text/html": [
              "Syncing run <strong><a href='https://wandb.ai/inflaton-ai/uncategorized/runs/93v46at6' target=\"_blank\">lively-sweep-1</a></strong> to <a href='https://wandb.ai/inflaton-ai/uncategorized' target=\"_blank\">Weights & Biases</a> (<a href='https://wandb.me/developer-guide' target=\"_blank\">docs</a>)<br>Sweep page: <a href='https://wandb.ai/inflaton-ai/uncategorized/sweeps/1pmhicln' target=\"_blank\">https://wandb.ai/inflaton-ai/uncategorized/sweeps/1pmhicln</a>"
            ],
            "text/plain": [
              "<IPython.core.display.HTML object>"
            ]
          },
          "metadata": {},
          "output_type": "display_data"
        },
        {
          "data": {
            "text/html": [
              " View project at <a href='https://wandb.ai/inflaton-ai/uncategorized' target=\"_blank\">https://wandb.ai/inflaton-ai/uncategorized</a>"
            ],
            "text/plain": [
              "<IPython.core.display.HTML object>"
            ]
          },
          "metadata": {},
          "output_type": "display_data"
        },
        {
          "data": {
            "text/html": [
              " View sweep at <a href='https://wandb.ai/inflaton-ai/uncategorized/sweeps/1pmhicln' target=\"_blank\">https://wandb.ai/inflaton-ai/uncategorized/sweeps/1pmhicln</a>"
            ],
            "text/plain": [
              "<IPython.core.display.HTML object>"
            ]
          },
          "metadata": {},
          "output_type": "display_data"
        },
        {
          "data": {
            "text/html": [
              " View run at <a href='https://wandb.ai/inflaton-ai/uncategorized/runs/93v46at6' target=\"_blank\">https://wandb.ai/inflaton-ai/uncategorized/runs/93v46at6</a>"
            ],
            "text/plain": [
              "<IPython.core.display.HTML object>"
            ]
          },
          "metadata": {},
          "output_type": "display_data"
        },
        {
          "name": "stderr",
          "output_type": "stream",
          "text": [
            "\u001b[34m\u001b[1mwandb\u001b[0m: \u001b[33mWARNING\u001b[0m Config item 'per_device_train_batch_size' was locked by 'sweep' (ignored update).\n",
            "\u001b[34m\u001b[1mwandb\u001b[0m: \u001b[33mWARNING\u001b[0m Config item 'learning_rate' was locked by 'sweep' (ignored update).\n"
          ]
        },
        {
          "data": {
            "text/html": [
              "\n",
              "    <div>\n",
              "      \n",
              "      <progress value='13612' max='13612' style='width:300px; height:20px; vertical-align: middle;'></progress>\n",
              "      [13612/13612 1:15:45, Epoch 4/4]\n",
              "    </div>\n",
              "    <table border=\"1\" class=\"dataframe\">\n",
              "  <thead>\n",
              " <tr style=\"text-align: left;\">\n",
              "      <th>Epoch</th>\n",
              "      <th>Training Loss</th>\n",
              "      <th>Validation Loss</th>\n",
              "      <th>Accuracy</th>\n",
              "    </tr>\n",
              "  </thead>\n",
              "  <tbody>\n",
              "    <tr>\n",
              "      <td>1</td>\n",
              "      <td>0.114700</td>\n",
              "      <td>0.110031</td>\n",
              "      <td>0.961983</td>\n",
              "    </tr>\n",
              "    <tr>\n",
              "      <td>2</td>\n",
              "      <td>0.072500</td>\n",
              "      <td>0.118706</td>\n",
              "      <td>0.961736</td>\n",
              "    </tr>\n",
              "    <tr>\n",
              "      <td>3</td>\n",
              "      <td>0.039900</td>\n",
              "      <td>0.135649</td>\n",
              "      <td>0.964628</td>\n",
              "    </tr>\n",
              "    <tr>\n",
              "      <td>4</td>\n",
              "      <td>0.015300</td>\n",
              "      <td>0.179321</td>\n",
              "      <td>0.963058</td>\n",
              "    </tr>\n",
              "  </tbody>\n",
              "</table><p>"
            ],
            "text/plain": [
              "<IPython.core.display.HTML object>"
            ]
          },
          "metadata": {},
          "output_type": "display_data"
        },
        {
          "data": {
            "text/html": [],
            "text/plain": [
              "<IPython.core.display.HTML object>"
            ]
          },
          "metadata": {},
          "output_type": "display_data"
        },
        {
          "data": {
            "text/html": [
              "<br>    <style><br>        .wandb-row {<br>            display: flex;<br>            flex-direction: row;<br>            flex-wrap: wrap;<br>            justify-content: flex-start;<br>            width: 100%;<br>        }<br>        .wandb-col {<br>            display: flex;<br>            flex-direction: column;<br>            flex-basis: 100%;<br>            flex: 1;<br>            padding: 10px;<br>        }<br>    </style><br><div class=\"wandb-row\"><div class=\"wandb-col\"><h3>Run history:</h3><br/><table class=\"wandb\"><tr><td>eval/accuracy</td><td>▂▁█▄</td></tr><tr><td>eval/loss</td><td>▁▂▄█</td></tr><tr><td>eval/runtime</td><td>▃▁█▂</td></tr><tr><td>eval/samples_per_second</td><td>▆█▁▇</td></tr><tr><td>eval/steps_per_second</td><td>▆█▁▇</td></tr><tr><td>train/epoch</td><td>▁▁▂▂▂▂▃▃▃▃▃▄▄▄▄▄▅▅▅▆▆▆▆▆▇▇▇▇████</td></tr><tr><td>train/global_step</td><td>▁▁▂▂▂▂▃▃▃▃▃▄▄▄▄▄▅▅▅▆▆▆▆▆▇▇▇▇████</td></tr><tr><td>train/grad_norm</td><td>▂▃█▁▂▂▂▂█▁▂▁▃▇▁▁▆▁▁▁▁▁▁▁▂▁▁</td></tr><tr><td>train/learning_rate</td><td>██▇▇▇▇▆▆▆▆▅▅▅▄▄▄▄▃▃▃▃▂▂▂▂▁▁</td></tr><tr><td>train/loss</td><td>█▅▅▅▄▄▄▃▃▃▃▃▃▂▂▂▂▂▂▂▁▁▁▁▁▁▁</td></tr></table><br/></div><div class=\"wandb-col\"><h3>Run summary:</h3><br/><table class=\"wandb\"><tr><td>eval/accuracy</td><td>0.96306</td></tr><tr><td>eval/loss</td><td>0.17932</td></tr><tr><td>eval/runtime</td><td>42.647</td></tr><tr><td>eval/samples_per_second</td><td>283.725</td></tr><tr><td>eval/steps_per_second</td><td>35.477</td></tr><tr><td>total_flos</td><td>5.769326120185037e+16</td></tr><tr><td>train/epoch</td><td>4</td></tr><tr><td>train/global_step</td><td>13612</td></tr><tr><td>train/grad_norm</td><td>0.01983</td></tr><tr><td>train/learning_rate</td><td>0.0</td></tr><tr><td>train/loss</td><td>0.0153</td></tr><tr><td>train_loss</td><td>0.06844</td></tr><tr><td>train_runtime</td><td>4549.4787</td></tr><tr><td>train_samples_per_second</td><td>95.731</td></tr><tr><td>train_steps_per_second</td><td>2.992</td></tr></table><br/></div></div>"
            ],
            "text/plain": [
              "<IPython.core.display.HTML object>"
            ]
          },
          "metadata": {},
          "output_type": "display_data"
        },
        {
          "data": {
            "text/html": [
              " View run <strong style=\"color:#cdcd00\">lively-sweep-1</strong> at: <a href='https://wandb.ai/inflaton-ai/uncategorized/runs/93v46at6' target=\"_blank\">https://wandb.ai/inflaton-ai/uncategorized/runs/93v46at6</a><br> View project at: <a href='https://wandb.ai/inflaton-ai/uncategorized' target=\"_blank\">https://wandb.ai/inflaton-ai/uncategorized</a><br>Synced 5 W&B file(s), 0 media file(s), 0 artifact file(s) and 0 other file(s)"
            ],
            "text/plain": [
              "<IPython.core.display.HTML object>"
            ]
          },
          "metadata": {},
          "output_type": "display_data"
        },
        {
          "data": {
            "text/html": [
              "Find logs at: <code>./wandb/run-20250222_173922-93v46at6/logs</code>"
            ],
            "text/plain": [
              "<IPython.core.display.HTML object>"
            ]
          },
          "metadata": {},
          "output_type": "display_data"
        },
        {
          "name": "stderr",
          "output_type": "stream",
          "text": [
            "\u001b[34m\u001b[1mwandb\u001b[0m: Agent Starting Run: 799i63a5 with config:\n",
            "\u001b[34m\u001b[1mwandb\u001b[0m: \tlearning_rate: 6.286286632658257e-05\n",
            "\u001b[34m\u001b[1mwandb\u001b[0m: \tper_device_train_batch_size: 32\n"
          ]
        },
        {
          "data": {
            "text/html": [
              "Tracking run with wandb version 0.19.7"
            ],
            "text/plain": [
              "<IPython.core.display.HTML object>"
            ]
          },
          "metadata": {},
          "output_type": "display_data"
        },
        {
          "data": {
            "text/html": [
              "Run data is saved locally in <code>/home/inflaton/code/CrediNews/wandb/run-20250222_185513-799i63a5</code>"
            ],
            "text/plain": [
              "<IPython.core.display.HTML object>"
            ]
          },
          "metadata": {},
          "output_type": "display_data"
        },
        {
          "data": {
            "text/html": [
              "Syncing run <strong><a href='https://wandb.ai/inflaton-ai/uncategorized/runs/799i63a5' target=\"_blank\">confused-sweep-2</a></strong> to <a href='https://wandb.ai/inflaton-ai/uncategorized' target=\"_blank\">Weights & Biases</a> (<a href='https://wandb.me/developer-guide' target=\"_blank\">docs</a>)<br>Sweep page: <a href='https://wandb.ai/inflaton-ai/uncategorized/sweeps/1pmhicln' target=\"_blank\">https://wandb.ai/inflaton-ai/uncategorized/sweeps/1pmhicln</a>"
            ],
            "text/plain": [
              "<IPython.core.display.HTML object>"
            ]
          },
          "metadata": {},
          "output_type": "display_data"
        },
        {
          "data": {
            "text/html": [
              " View project at <a href='https://wandb.ai/inflaton-ai/uncategorized' target=\"_blank\">https://wandb.ai/inflaton-ai/uncategorized</a>"
            ],
            "text/plain": [
              "<IPython.core.display.HTML object>"
            ]
          },
          "metadata": {},
          "output_type": "display_data"
        },
        {
          "data": {
            "text/html": [
              " View sweep at <a href='https://wandb.ai/inflaton-ai/uncategorized/sweeps/1pmhicln' target=\"_blank\">https://wandb.ai/inflaton-ai/uncategorized/sweeps/1pmhicln</a>"
            ],
            "text/plain": [
              "<IPython.core.display.HTML object>"
            ]
          },
          "metadata": {},
          "output_type": "display_data"
        },
        {
          "data": {
            "text/html": [
              " View run at <a href='https://wandb.ai/inflaton-ai/uncategorized/runs/799i63a5' target=\"_blank\">https://wandb.ai/inflaton-ai/uncategorized/runs/799i63a5</a>"
            ],
            "text/plain": [
              "<IPython.core.display.HTML object>"
            ]
          },
          "metadata": {},
          "output_type": "display_data"
        },
        {
          "name": "stderr",
          "output_type": "stream",
          "text": [
            "Trying to set _wandb in the hyperparameter search but there is no corresponding field in `TrainingArguments`.\n",
            "Trying to set assignments in the hyperparameter search but there is no corresponding field in `TrainingArguments`.\n",
            "Trying to set metric in the hyperparameter search but there is no corresponding field in `TrainingArguments`.\n",
            "Some weights of DistilBertForSequenceClassification were not initialized from the model checkpoint at distilbert/distilbert-base-uncased and are newly initialized: ['classifier.bias', 'classifier.weight', 'pre_classifier.bias', 'pre_classifier.weight']\n",
            "You should probably TRAIN this model on a down-stream task to be able to use it for predictions and inference.\n"
          ]
        },
        {
          "data": {
            "text/html": [],
            "text/plain": [
              "<IPython.core.display.HTML object>"
            ]
          },
          "metadata": {},
          "output_type": "display_data"
        },
        {
          "data": {
            "text/html": [
              " View run <strong style=\"color:#cdcd00\">confused-sweep-2</strong> at: <a href='https://wandb.ai/inflaton-ai/uncategorized/runs/799i63a5' target=\"_blank\">https://wandb.ai/inflaton-ai/uncategorized/runs/799i63a5</a><br> View project at: <a href='https://wandb.ai/inflaton-ai/uncategorized' target=\"_blank\">https://wandb.ai/inflaton-ai/uncategorized</a><br>Synced 5 W&B file(s), 0 media file(s), 0 artifact file(s) and 0 other file(s)"
            ],
            "text/plain": [
              "<IPython.core.display.HTML object>"
            ]
          },
          "metadata": {},
          "output_type": "display_data"
        },
        {
          "data": {
            "text/html": [
              "Find logs at: <code>./wandb/run-20250222_185513-799i63a5/logs</code>"
            ],
            "text/plain": [
              "<IPython.core.display.HTML object>"
            ]
          },
          "metadata": {},
          "output_type": "display_data"
        },
        {
          "data": {
            "text/html": [
              "Ignoring project 'uncategorized' when running a sweep."
            ],
            "text/plain": [
              "<IPython.core.display.HTML object>"
            ]
          },
          "metadata": {},
          "output_type": "display_data"
        },
        {
          "data": {
            "text/html": [
              "Tracking run with wandb version 0.19.7"
            ],
            "text/plain": [
              "<IPython.core.display.HTML object>"
            ]
          },
          "metadata": {},
          "output_type": "display_data"
        },
        {
          "data": {
            "text/html": [
              "Run data is saved locally in <code>/home/inflaton/code/CrediNews/wandb/run-20250222_185519-799i63a5</code>"
            ],
            "text/plain": [
              "<IPython.core.display.HTML object>"
            ]
          },
          "metadata": {},
          "output_type": "display_data"
        },
        {
          "data": {
            "text/html": [
              "Syncing run <strong><a href='https://wandb.ai/inflaton-ai/uncategorized/runs/799i63a5' target=\"_blank\">confused-sweep-2</a></strong> to <a href='https://wandb.ai/inflaton-ai/uncategorized' target=\"_blank\">Weights & Biases</a> (<a href='https://wandb.me/developer-guide' target=\"_blank\">docs</a>)<br>Sweep page: <a href='https://wandb.ai/inflaton-ai/uncategorized/sweeps/1pmhicln' target=\"_blank\">https://wandb.ai/inflaton-ai/uncategorized/sweeps/1pmhicln</a>"
            ],
            "text/plain": [
              "<IPython.core.display.HTML object>"
            ]
          },
          "metadata": {},
          "output_type": "display_data"
        },
        {
          "data": {
            "text/html": [
              " View project at <a href='https://wandb.ai/inflaton-ai/uncategorized' target=\"_blank\">https://wandb.ai/inflaton-ai/uncategorized</a>"
            ],
            "text/plain": [
              "<IPython.core.display.HTML object>"
            ]
          },
          "metadata": {},
          "output_type": "display_data"
        },
        {
          "data": {
            "text/html": [
              " View sweep at <a href='https://wandb.ai/inflaton-ai/uncategorized/sweeps/1pmhicln' target=\"_blank\">https://wandb.ai/inflaton-ai/uncategorized/sweeps/1pmhicln</a>"
            ],
            "text/plain": [
              "<IPython.core.display.HTML object>"
            ]
          },
          "metadata": {},
          "output_type": "display_data"
        },
        {
          "data": {
            "text/html": [
              " View run at <a href='https://wandb.ai/inflaton-ai/uncategorized/runs/799i63a5' target=\"_blank\">https://wandb.ai/inflaton-ai/uncategorized/runs/799i63a5</a>"
            ],
            "text/plain": [
              "<IPython.core.display.HTML object>"
            ]
          },
          "metadata": {},
          "output_type": "display_data"
        },
        {
          "name": "stderr",
          "output_type": "stream",
          "text": [
            "\u001b[34m\u001b[1mwandb\u001b[0m: \u001b[33mWARNING\u001b[0m Config item 'per_device_train_batch_size' was locked by 'sweep' (ignored update).\n",
            "\u001b[34m\u001b[1mwandb\u001b[0m: \u001b[33mWARNING\u001b[0m Config item 'learning_rate' was locked by 'sweep' (ignored update).\n"
          ]
        },
        {
          "data": {
            "text/html": [
              "\n",
              "    <div>\n",
              "      \n",
              "      <progress value='13612' max='13612' style='width:300px; height:20px; vertical-align: middle;'></progress>\n",
              "      [13612/13612 1:15:48, Epoch 4/4]\n",
              "    </div>\n",
              "    <table border=\"1\" class=\"dataframe\">\n",
              "  <thead>\n",
              " <tr style=\"text-align: left;\">\n",
              "      <th>Epoch</th>\n",
              "      <th>Training Loss</th>\n",
              "      <th>Validation Loss</th>\n",
              "      <th>Accuracy</th>\n",
              "    </tr>\n",
              "  </thead>\n",
              "  <tbody>\n",
              "    <tr>\n",
              "      <td>1</td>\n",
              "      <td>0.116000</td>\n",
              "      <td>0.111645</td>\n",
              "      <td>0.962479</td>\n",
              "    </tr>\n",
              "    <tr>\n",
              "      <td>2</td>\n",
              "      <td>0.072700</td>\n",
              "      <td>0.114521</td>\n",
              "      <td>0.963884</td>\n",
              "    </tr>\n",
              "    <tr>\n",
              "      <td>3</td>\n",
              "      <td>0.039100</td>\n",
              "      <td>0.138558</td>\n",
              "      <td>0.964711</td>\n",
              "    </tr>\n",
              "    <tr>\n",
              "      <td>4</td>\n",
              "      <td>0.013400</td>\n",
              "      <td>0.176185</td>\n",
              "      <td>0.964793</td>\n",
              "    </tr>\n",
              "  </tbody>\n",
              "</table><p>"
            ],
            "text/plain": [
              "<IPython.core.display.HTML object>"
            ]
          },
          "metadata": {},
          "output_type": "display_data"
        },
        {
          "data": {
            "text/html": [],
            "text/plain": [
              "<IPython.core.display.HTML object>"
            ]
          },
          "metadata": {},
          "output_type": "display_data"
        },
        {
          "data": {
            "text/html": [
              "<br>    <style><br>        .wandb-row {<br>            display: flex;<br>            flex-direction: row;<br>            flex-wrap: wrap;<br>            justify-content: flex-start;<br>            width: 100%;<br>        }<br>        .wandb-col {<br>            display: flex;<br>            flex-direction: column;<br>            flex-basis: 100%;<br>            flex: 1;<br>            padding: 10px;<br>        }<br>    </style><br><div class=\"wandb-row\"><div class=\"wandb-col\"><h3>Run history:</h3><br/><table class=\"wandb\"><tr><td>eval/accuracy</td><td>▁▅██</td></tr><tr><td>eval/loss</td><td>▁▁▄█</td></tr><tr><td>eval/runtime</td><td>█▁█▁</td></tr><tr><td>eval/samples_per_second</td><td>▁█▁█</td></tr><tr><td>eval/steps_per_second</td><td>▁█▁█</td></tr><tr><td>train/epoch</td><td>▁▁▂▂▂▂▃▃▃▃▃▄▄▄▄▄▅▅▅▆▆▆▆▆▇▇▇▇████</td></tr><tr><td>train/global_step</td><td>▁▁▂▂▂▂▃▃▃▃▃▄▄▄▄▄▅▅▅▆▆▆▆▆▇▇▇▇████</td></tr><tr><td>train/grad_norm</td><td>▂▃▂▂▃▂▄▁▄▂▃▁▄▄▃▃▂▁▁▁█▁▁▁▁▁▁</td></tr><tr><td>train/learning_rate</td><td>██▇▇▇▇▆▆▆▆▅▅▅▄▄▄▄▃▃▃▃▂▂▂▂▁▁</td></tr><tr><td>train/loss</td><td>█▅▅▄▄▄▄▃▃▃▃▃▃▂▂▂▂▂▂▂▁▁▁▁▁▁▁</td></tr></table><br/></div><div class=\"wandb-col\"><h3>Run summary:</h3><br/><table class=\"wandb\"><tr><td>eval/accuracy</td><td>0.96479</td></tr><tr><td>eval/loss</td><td>0.17619</td></tr><tr><td>eval/runtime</td><td>42.5649</td></tr><tr><td>eval/samples_per_second</td><td>284.272</td></tr><tr><td>eval/steps_per_second</td><td>35.546</td></tr><tr><td>total_flos</td><td>5.769326120185037e+16</td></tr><tr><td>train/epoch</td><td>4</td></tr><tr><td>train/global_step</td><td>13612</td></tr><tr><td>train/grad_norm</td><td>0.17482</td></tr><tr><td>train/learning_rate</td><td>0.0</td></tr><tr><td>train/loss</td><td>0.0134</td></tr><tr><td>train_loss</td><td>0.06876</td></tr><tr><td>train_runtime</td><td>4554.0088</td></tr><tr><td>train_samples_per_second</td><td>95.636</td></tr><tr><td>train_steps_per_second</td><td>2.989</td></tr></table><br/></div></div>"
            ],
            "text/plain": [
              "<IPython.core.display.HTML object>"
            ]
          },
          "metadata": {},
          "output_type": "display_data"
        },
        {
          "data": {
            "text/html": [
              " View run <strong style=\"color:#cdcd00\">confused-sweep-2</strong> at: <a href='https://wandb.ai/inflaton-ai/uncategorized/runs/799i63a5' target=\"_blank\">https://wandb.ai/inflaton-ai/uncategorized/runs/799i63a5</a><br> View project at: <a href='https://wandb.ai/inflaton-ai/uncategorized' target=\"_blank\">https://wandb.ai/inflaton-ai/uncategorized</a><br>Synced 5 W&B file(s), 0 media file(s), 0 artifact file(s) and 0 other file(s)"
            ],
            "text/plain": [
              "<IPython.core.display.HTML object>"
            ]
          },
          "metadata": {},
          "output_type": "display_data"
        },
        {
          "data": {
            "text/html": [
              "Find logs at: <code>./wandb/run-20250222_185519-799i63a5/logs</code>"
            ],
            "text/plain": [
              "<IPython.core.display.HTML object>"
            ]
          },
          "metadata": {},
          "output_type": "display_data"
        },
        {
          "name": "stderr",
          "output_type": "stream",
          "text": [
            "\u001b[34m\u001b[1mwandb\u001b[0m: Agent Starting Run: b3twkgas with config:\n",
            "\u001b[34m\u001b[1mwandb\u001b[0m: \tlearning_rate: 9.275080578813964e-05\n",
            "\u001b[34m\u001b[1mwandb\u001b[0m: \tper_device_train_batch_size: 16\n"
          ]
        },
        {
          "data": {
            "text/html": [
              "Tracking run with wandb version 0.19.7"
            ],
            "text/plain": [
              "<IPython.core.display.HTML object>"
            ]
          },
          "metadata": {},
          "output_type": "display_data"
        },
        {
          "data": {
            "text/html": [
              "Run data is saved locally in <code>/home/inflaton/code/CrediNews/wandb/run-20250222_201114-b3twkgas</code>"
            ],
            "text/plain": [
              "<IPython.core.display.HTML object>"
            ]
          },
          "metadata": {},
          "output_type": "display_data"
        },
        {
          "data": {
            "text/html": [
              "Syncing run <strong><a href='https://wandb.ai/inflaton-ai/uncategorized/runs/b3twkgas' target=\"_blank\">wandering-sweep-3</a></strong> to <a href='https://wandb.ai/inflaton-ai/uncategorized' target=\"_blank\">Weights & Biases</a> (<a href='https://wandb.me/developer-guide' target=\"_blank\">docs</a>)<br>Sweep page: <a href='https://wandb.ai/inflaton-ai/uncategorized/sweeps/1pmhicln' target=\"_blank\">https://wandb.ai/inflaton-ai/uncategorized/sweeps/1pmhicln</a>"
            ],
            "text/plain": [
              "<IPython.core.display.HTML object>"
            ]
          },
          "metadata": {},
          "output_type": "display_data"
        },
        {
          "data": {
            "text/html": [
              " View project at <a href='https://wandb.ai/inflaton-ai/uncategorized' target=\"_blank\">https://wandb.ai/inflaton-ai/uncategorized</a>"
            ],
            "text/plain": [
              "<IPython.core.display.HTML object>"
            ]
          },
          "metadata": {},
          "output_type": "display_data"
        },
        {
          "data": {
            "text/html": [
              " View sweep at <a href='https://wandb.ai/inflaton-ai/uncategorized/sweeps/1pmhicln' target=\"_blank\">https://wandb.ai/inflaton-ai/uncategorized/sweeps/1pmhicln</a>"
            ],
            "text/plain": [
              "<IPython.core.display.HTML object>"
            ]
          },
          "metadata": {},
          "output_type": "display_data"
        },
        {
          "data": {
            "text/html": [
              " View run at <a href='https://wandb.ai/inflaton-ai/uncategorized/runs/b3twkgas' target=\"_blank\">https://wandb.ai/inflaton-ai/uncategorized/runs/b3twkgas</a>"
            ],
            "text/plain": [
              "<IPython.core.display.HTML object>"
            ]
          },
          "metadata": {},
          "output_type": "display_data"
        },
        {
          "name": "stderr",
          "output_type": "stream",
          "text": [
            "Trying to set _wandb in the hyperparameter search but there is no corresponding field in `TrainingArguments`.\n",
            "Trying to set assignments in the hyperparameter search but there is no corresponding field in `TrainingArguments`.\n",
            "Trying to set metric in the hyperparameter search but there is no corresponding field in `TrainingArguments`.\n",
            "Some weights of DistilBertForSequenceClassification were not initialized from the model checkpoint at distilbert/distilbert-base-uncased and are newly initialized: ['classifier.bias', 'classifier.weight', 'pre_classifier.bias', 'pre_classifier.weight']\n",
            "You should probably TRAIN this model on a down-stream task to be able to use it for predictions and inference.\n"
          ]
        },
        {
          "data": {
            "text/html": [],
            "text/plain": [
              "<IPython.core.display.HTML object>"
            ]
          },
          "metadata": {},
          "output_type": "display_data"
        },
        {
          "data": {
            "text/html": [
              " View run <strong style=\"color:#cdcd00\">wandering-sweep-3</strong> at: <a href='https://wandb.ai/inflaton-ai/uncategorized/runs/b3twkgas' target=\"_blank\">https://wandb.ai/inflaton-ai/uncategorized/runs/b3twkgas</a><br> View project at: <a href='https://wandb.ai/inflaton-ai/uncategorized' target=\"_blank\">https://wandb.ai/inflaton-ai/uncategorized</a><br>Synced 5 W&B file(s), 0 media file(s), 0 artifact file(s) and 0 other file(s)"
            ],
            "text/plain": [
              "<IPython.core.display.HTML object>"
            ]
          },
          "metadata": {},
          "output_type": "display_data"
        },
        {
          "data": {
            "text/html": [
              "Find logs at: <code>./wandb/run-20250222_201114-b3twkgas/logs</code>"
            ],
            "text/plain": [
              "<IPython.core.display.HTML object>"
            ]
          },
          "metadata": {},
          "output_type": "display_data"
        },
        {
          "data": {
            "text/html": [
              "Ignoring project 'uncategorized' when running a sweep."
            ],
            "text/plain": [
              "<IPython.core.display.HTML object>"
            ]
          },
          "metadata": {},
          "output_type": "display_data"
        },
        {
          "data": {
            "text/html": [
              "Tracking run with wandb version 0.19.7"
            ],
            "text/plain": [
              "<IPython.core.display.HTML object>"
            ]
          },
          "metadata": {},
          "output_type": "display_data"
        },
        {
          "data": {
            "text/html": [
              "Run data is saved locally in <code>/home/inflaton/code/CrediNews/wandb/run-20250222_201118-b3twkgas</code>"
            ],
            "text/plain": [
              "<IPython.core.display.HTML object>"
            ]
          },
          "metadata": {},
          "output_type": "display_data"
        },
        {
          "data": {
            "text/html": [
              "Syncing run <strong><a href='https://wandb.ai/inflaton-ai/uncategorized/runs/b3twkgas' target=\"_blank\">wandering-sweep-3</a></strong> to <a href='https://wandb.ai/inflaton-ai/uncategorized' target=\"_blank\">Weights & Biases</a> (<a href='https://wandb.me/developer-guide' target=\"_blank\">docs</a>)<br>Sweep page: <a href='https://wandb.ai/inflaton-ai/uncategorized/sweeps/1pmhicln' target=\"_blank\">https://wandb.ai/inflaton-ai/uncategorized/sweeps/1pmhicln</a>"
            ],
            "text/plain": [
              "<IPython.core.display.HTML object>"
            ]
          },
          "metadata": {},
          "output_type": "display_data"
        },
        {
          "data": {
            "text/html": [
              " View project at <a href='https://wandb.ai/inflaton-ai/uncategorized' target=\"_blank\">https://wandb.ai/inflaton-ai/uncategorized</a>"
            ],
            "text/plain": [
              "<IPython.core.display.HTML object>"
            ]
          },
          "metadata": {},
          "output_type": "display_data"
        },
        {
          "data": {
            "text/html": [
              " View sweep at <a href='https://wandb.ai/inflaton-ai/uncategorized/sweeps/1pmhicln' target=\"_blank\">https://wandb.ai/inflaton-ai/uncategorized/sweeps/1pmhicln</a>"
            ],
            "text/plain": [
              "<IPython.core.display.HTML object>"
            ]
          },
          "metadata": {},
          "output_type": "display_data"
        },
        {
          "data": {
            "text/html": [
              " View run at <a href='https://wandb.ai/inflaton-ai/uncategorized/runs/b3twkgas' target=\"_blank\">https://wandb.ai/inflaton-ai/uncategorized/runs/b3twkgas</a>"
            ],
            "text/plain": [
              "<IPython.core.display.HTML object>"
            ]
          },
          "metadata": {},
          "output_type": "display_data"
        },
        {
          "name": "stderr",
          "output_type": "stream",
          "text": [
            "\u001b[34m\u001b[1mwandb\u001b[0m: \u001b[33mWARNING\u001b[0m Config item 'per_device_train_batch_size' was locked by 'sweep' (ignored update).\n",
            "\u001b[34m\u001b[1mwandb\u001b[0m: \u001b[33mWARNING\u001b[0m Config item 'learning_rate' was locked by 'sweep' (ignored update).\n"
          ]
        },
        {
          "data": {
            "text/html": [
              "\n",
              "    <div>\n",
              "      \n",
              "      <progress value='27224' max='27224' style='width:300px; height:20px; vertical-align: middle;'></progress>\n",
              "      [27224/27224 1:18:21, Epoch 4/4]\n",
              "    </div>\n",
              "    <table border=\"1\" class=\"dataframe\">\n",
              "  <thead>\n",
              " <tr style=\"text-align: left;\">\n",
              "      <th>Epoch</th>\n",
              "      <th>Training Loss</th>\n",
              "      <th>Validation Loss</th>\n",
              "      <th>Accuracy</th>\n",
              "    </tr>\n",
              "  </thead>\n",
              "  <tbody>\n",
              "    <tr>\n",
              "      <td>1</td>\n",
              "      <td>0.222700</td>\n",
              "      <td>0.194644</td>\n",
              "      <td>0.943719</td>\n",
              "    </tr>\n",
              "    <tr>\n",
              "      <td>2</td>\n",
              "      <td>0.163400</td>\n",
              "      <td>0.196841</td>\n",
              "      <td>0.938182</td>\n",
              "    </tr>\n",
              "    <tr>\n",
              "      <td>3</td>\n",
              "      <td>0.134500</td>\n",
              "      <td>0.197958</td>\n",
              "      <td>0.946777</td>\n",
              "    </tr>\n",
              "    <tr>\n",
              "      <td>4</td>\n",
              "      <td>0.107900</td>\n",
              "      <td>0.137233</td>\n",
              "      <td>0.951488</td>\n",
              "    </tr>\n",
              "  </tbody>\n",
              "</table><p>"
            ],
            "text/plain": [
              "<IPython.core.display.HTML object>"
            ]
          },
          "metadata": {},
          "output_type": "display_data"
        },
        {
          "data": {
            "text/html": [],
            "text/plain": [
              "<IPython.core.display.HTML object>"
            ]
          },
          "metadata": {},
          "output_type": "display_data"
        },
        {
          "data": {
            "text/html": [
              "<br>    <style><br>        .wandb-row {<br>            display: flex;<br>            flex-direction: row;<br>            flex-wrap: wrap;<br>            justify-content: flex-start;<br>            width: 100%;<br>        }<br>        .wandb-col {<br>            display: flex;<br>            flex-direction: column;<br>            flex-basis: 100%;<br>            flex: 1;<br>            padding: 10px;<br>        }<br>    </style><br><div class=\"wandb-row\"><div class=\"wandb-col\"><h3>Run history:</h3><br/><table class=\"wandb\"><tr><td>eval/accuracy</td><td>▄▁▆█</td></tr><tr><td>eval/loss</td><td>███▁</td></tr><tr><td>eval/runtime</td><td>▁█▇█</td></tr><tr><td>eval/samples_per_second</td><td>█▁▂▁</td></tr><tr><td>eval/steps_per_second</td><td>█▁▂▁</td></tr><tr><td>train/epoch</td><td>▁▁▁▂▂▂▂▂▂▃▃▃▃▃▃▄▄▄▅▅▅▅▆▆▆▆▆▆▆▇▇▇▇▇▇█████</td></tr><tr><td>train/global_step</td><td>▁▁▁▂▂▂▂▂▂▃▃▃▃▃▃▄▄▄▄▄▄▅▅▅▅▅▅▅▆▆▆▆▆▆▇▇▇▇██</td></tr><tr><td>train/grad_norm</td><td>▁▁▁▁▃▁▁▁▁▁▁▁▁▁▃▁▁▆█▁▂▁▁▁▁▁▁▁▁▁▁▁▁▁▁▁▁▁▁▁</td></tr><tr><td>train/learning_rate</td><td>███▇▇▇▇▇▇▇▆▆▆▆▆▅▅▅▅▅▄▄▄▄▄▄▃▃▃▃▃▂▂▂▂▂▂▂▁▁</td></tr><tr><td>train/loss</td><td>█▆▄▅▄▄▅▅▄▄▄▄▅▅▆▆▄▃▃▃▃▃▄▄▆▄▃▃▂▂▂▂▁▁▁▁▁▁▁▁</td></tr></table><br/></div><div class=\"wandb-col\"><h3>Run summary:</h3><br/><table class=\"wandb\"><tr><td>eval/accuracy</td><td>0.95149</td></tr><tr><td>eval/loss</td><td>0.13723</td></tr><tr><td>eval/runtime</td><td>42.3659</td></tr><tr><td>eval/samples_per_second</td><td>285.607</td></tr><tr><td>eval/steps_per_second</td><td>35.713</td></tr><tr><td>total_flos</td><td>5.769326120185037e+16</td></tr><tr><td>train/epoch</td><td>4</td></tr><tr><td>train/global_step</td><td>27224</td></tr><tr><td>train/grad_norm</td><td>1.68426</td></tr><tr><td>train/learning_rate</td><td>0.0</td></tr><tr><td>train/loss</td><td>0.1079</td></tr><tr><td>train_loss</td><td>0.18761</td></tr><tr><td>train_runtime</td><td>4705.5615</td></tr><tr><td>train_samples_per_second</td><td>92.556</td></tr><tr><td>train_steps_per_second</td><td>5.785</td></tr></table><br/></div></div>"
            ],
            "text/plain": [
              "<IPython.core.display.HTML object>"
            ]
          },
          "metadata": {},
          "output_type": "display_data"
        },
        {
          "data": {
            "text/html": [
              " View run <strong style=\"color:#cdcd00\">wandering-sweep-3</strong> at: <a href='https://wandb.ai/inflaton-ai/uncategorized/runs/b3twkgas' target=\"_blank\">https://wandb.ai/inflaton-ai/uncategorized/runs/b3twkgas</a><br> View project at: <a href='https://wandb.ai/inflaton-ai/uncategorized' target=\"_blank\">https://wandb.ai/inflaton-ai/uncategorized</a><br>Synced 5 W&B file(s), 0 media file(s), 0 artifact file(s) and 0 other file(s)"
            ],
            "text/plain": [
              "<IPython.core.display.HTML object>"
            ]
          },
          "metadata": {},
          "output_type": "display_data"
        },
        {
          "data": {
            "text/html": [
              "Find logs at: <code>./wandb/run-20250222_201118-b3twkgas/logs</code>"
            ],
            "text/plain": [
              "<IPython.core.display.HTML object>"
            ]
          },
          "metadata": {},
          "output_type": "display_data"
        },
        {
          "name": "stderr",
          "output_type": "stream",
          "text": [
            "\u001b[34m\u001b[1mwandb\u001b[0m: Agent Starting Run: a3vo985i with config:\n",
            "\u001b[34m\u001b[1mwandb\u001b[0m: \tlearning_rate: 5.065523986980171e-05\n",
            "\u001b[34m\u001b[1mwandb\u001b[0m: \tper_device_train_batch_size: 32\n"
          ]
        },
        {
          "data": {
            "text/html": [
              "Tracking run with wandb version 0.19.7"
            ],
            "text/plain": [
              "<IPython.core.display.HTML object>"
            ]
          },
          "metadata": {},
          "output_type": "display_data"
        },
        {
          "data": {
            "text/html": [
              "Run data is saved locally in <code>/home/inflaton/code/CrediNews/wandb/run-20250222_212951-a3vo985i</code>"
            ],
            "text/plain": [
              "<IPython.core.display.HTML object>"
            ]
          },
          "metadata": {},
          "output_type": "display_data"
        },
        {
          "data": {
            "text/html": [
              "Syncing run <strong><a href='https://wandb.ai/inflaton-ai/uncategorized/runs/a3vo985i' target=\"_blank\">dutiful-sweep-4</a></strong> to <a href='https://wandb.ai/inflaton-ai/uncategorized' target=\"_blank\">Weights & Biases</a> (<a href='https://wandb.me/developer-guide' target=\"_blank\">docs</a>)<br>Sweep page: <a href='https://wandb.ai/inflaton-ai/uncategorized/sweeps/1pmhicln' target=\"_blank\">https://wandb.ai/inflaton-ai/uncategorized/sweeps/1pmhicln</a>"
            ],
            "text/plain": [
              "<IPython.core.display.HTML object>"
            ]
          },
          "metadata": {},
          "output_type": "display_data"
        },
        {
          "data": {
            "text/html": [
              " View project at <a href='https://wandb.ai/inflaton-ai/uncategorized' target=\"_blank\">https://wandb.ai/inflaton-ai/uncategorized</a>"
            ],
            "text/plain": [
              "<IPython.core.display.HTML object>"
            ]
          },
          "metadata": {},
          "output_type": "display_data"
        },
        {
          "data": {
            "text/html": [
              " View sweep at <a href='https://wandb.ai/inflaton-ai/uncategorized/sweeps/1pmhicln' target=\"_blank\">https://wandb.ai/inflaton-ai/uncategorized/sweeps/1pmhicln</a>"
            ],
            "text/plain": [
              "<IPython.core.display.HTML object>"
            ]
          },
          "metadata": {},
          "output_type": "display_data"
        },
        {
          "data": {
            "text/html": [
              " View run at <a href='https://wandb.ai/inflaton-ai/uncategorized/runs/a3vo985i' target=\"_blank\">https://wandb.ai/inflaton-ai/uncategorized/runs/a3vo985i</a>"
            ],
            "text/plain": [
              "<IPython.core.display.HTML object>"
            ]
          },
          "metadata": {},
          "output_type": "display_data"
        },
        {
          "name": "stderr",
          "output_type": "stream",
          "text": [
            "Trying to set _wandb in the hyperparameter search but there is no corresponding field in `TrainingArguments`.\n",
            "Trying to set assignments in the hyperparameter search but there is no corresponding field in `TrainingArguments`.\n",
            "Trying to set metric in the hyperparameter search but there is no corresponding field in `TrainingArguments`.\n",
            "Some weights of DistilBertForSequenceClassification were not initialized from the model checkpoint at distilbert/distilbert-base-uncased and are newly initialized: ['classifier.bias', 'classifier.weight', 'pre_classifier.bias', 'pre_classifier.weight']\n",
            "You should probably TRAIN this model on a down-stream task to be able to use it for predictions and inference.\n"
          ]
        },
        {
          "data": {
            "text/html": [],
            "text/plain": [
              "<IPython.core.display.HTML object>"
            ]
          },
          "metadata": {},
          "output_type": "display_data"
        },
        {
          "data": {
            "text/html": [
              " View run <strong style=\"color:#cdcd00\">dutiful-sweep-4</strong> at: <a href='https://wandb.ai/inflaton-ai/uncategorized/runs/a3vo985i' target=\"_blank\">https://wandb.ai/inflaton-ai/uncategorized/runs/a3vo985i</a><br> View project at: <a href='https://wandb.ai/inflaton-ai/uncategorized' target=\"_blank\">https://wandb.ai/inflaton-ai/uncategorized</a><br>Synced 5 W&B file(s), 0 media file(s), 0 artifact file(s) and 0 other file(s)"
            ],
            "text/plain": [
              "<IPython.core.display.HTML object>"
            ]
          },
          "metadata": {},
          "output_type": "display_data"
        },
        {
          "data": {
            "text/html": [
              "Find logs at: <code>./wandb/run-20250222_212951-a3vo985i/logs</code>"
            ],
            "text/plain": [
              "<IPython.core.display.HTML object>"
            ]
          },
          "metadata": {},
          "output_type": "display_data"
        },
        {
          "data": {
            "text/html": [
              "Ignoring project 'uncategorized' when running a sweep."
            ],
            "text/plain": [
              "<IPython.core.display.HTML object>"
            ]
          },
          "metadata": {},
          "output_type": "display_data"
        },
        {
          "data": {
            "text/html": [
              "Tracking run with wandb version 0.19.7"
            ],
            "text/plain": [
              "<IPython.core.display.HTML object>"
            ]
          },
          "metadata": {},
          "output_type": "display_data"
        },
        {
          "data": {
            "text/html": [
              "Run data is saved locally in <code>/home/inflaton/code/CrediNews/wandb/run-20250222_212955-a3vo985i</code>"
            ],
            "text/plain": [
              "<IPython.core.display.HTML object>"
            ]
          },
          "metadata": {},
          "output_type": "display_data"
        },
        {
          "data": {
            "text/html": [
              "Syncing run <strong><a href='https://wandb.ai/inflaton-ai/uncategorized/runs/a3vo985i' target=\"_blank\">dutiful-sweep-4</a></strong> to <a href='https://wandb.ai/inflaton-ai/uncategorized' target=\"_blank\">Weights & Biases</a> (<a href='https://wandb.me/developer-guide' target=\"_blank\">docs</a>)<br>Sweep page: <a href='https://wandb.ai/inflaton-ai/uncategorized/sweeps/1pmhicln' target=\"_blank\">https://wandb.ai/inflaton-ai/uncategorized/sweeps/1pmhicln</a>"
            ],
            "text/plain": [
              "<IPython.core.display.HTML object>"
            ]
          },
          "metadata": {},
          "output_type": "display_data"
        },
        {
          "data": {
            "text/html": [
              " View project at <a href='https://wandb.ai/inflaton-ai/uncategorized' target=\"_blank\">https://wandb.ai/inflaton-ai/uncategorized</a>"
            ],
            "text/plain": [
              "<IPython.core.display.HTML object>"
            ]
          },
          "metadata": {},
          "output_type": "display_data"
        },
        {
          "data": {
            "text/html": [
              " View sweep at <a href='https://wandb.ai/inflaton-ai/uncategorized/sweeps/1pmhicln' target=\"_blank\">https://wandb.ai/inflaton-ai/uncategorized/sweeps/1pmhicln</a>"
            ],
            "text/plain": [
              "<IPython.core.display.HTML object>"
            ]
          },
          "metadata": {},
          "output_type": "display_data"
        },
        {
          "data": {
            "text/html": [
              " View run at <a href='https://wandb.ai/inflaton-ai/uncategorized/runs/a3vo985i' target=\"_blank\">https://wandb.ai/inflaton-ai/uncategorized/runs/a3vo985i</a>"
            ],
            "text/plain": [
              "<IPython.core.display.HTML object>"
            ]
          },
          "metadata": {},
          "output_type": "display_data"
        },
        {
          "name": "stderr",
          "output_type": "stream",
          "text": [
            "\u001b[34m\u001b[1mwandb\u001b[0m: \u001b[33mWARNING\u001b[0m Config item 'per_device_train_batch_size' was locked by 'sweep' (ignored update).\n",
            "\u001b[34m\u001b[1mwandb\u001b[0m: \u001b[33mWARNING\u001b[0m Config item 'learning_rate' was locked by 'sweep' (ignored update).\n"
          ]
        },
        {
          "data": {
            "text/html": [
              "\n",
              "    <div>\n",
              "      \n",
              "      <progress value='13612' max='13612' style='width:300px; height:20px; vertical-align: middle;'></progress>\n",
              "      [13612/13612 1:21:08, Epoch 4/4]\n",
              "    </div>\n",
              "    <table border=\"1\" class=\"dataframe\">\n",
              "  <thead>\n",
              " <tr style=\"text-align: left;\">\n",
              "      <th>Epoch</th>\n",
              "      <th>Training Loss</th>\n",
              "      <th>Validation Loss</th>\n",
              "      <th>Accuracy</th>\n",
              "    </tr>\n",
              "  </thead>\n",
              "  <tbody>\n",
              "    <tr>\n",
              "      <td>1</td>\n",
              "      <td>0.114400</td>\n",
              "      <td>0.104908</td>\n",
              "      <td>0.962479</td>\n",
              "    </tr>\n",
              "    <tr>\n",
              "      <td>2</td>\n",
              "      <td>0.070500</td>\n",
              "      <td>0.096000</td>\n",
              "      <td>0.965289</td>\n",
              "    </tr>\n",
              "    <tr>\n",
              "      <td>3</td>\n",
              "      <td>0.036300</td>\n",
              "      <td>0.119118</td>\n",
              "      <td>0.966116</td>\n",
              "    </tr>\n",
              "    <tr>\n",
              "      <td>4</td>\n",
              "      <td>0.013300</td>\n",
              "      <td>0.169021</td>\n",
              "      <td>0.965207</td>\n",
              "    </tr>\n",
              "  </tbody>\n",
              "</table><p>"
            ],
            "text/plain": [
              "<IPython.core.display.HTML object>"
            ]
          },
          "metadata": {},
          "output_type": "display_data"
        },
        {
          "data": {
            "text/html": [],
            "text/plain": [
              "<IPython.core.display.HTML object>"
            ]
          },
          "metadata": {},
          "output_type": "display_data"
        },
        {
          "data": {
            "text/html": [
              "<br>    <style><br>        .wandb-row {<br>            display: flex;<br>            flex-direction: row;<br>            flex-wrap: wrap;<br>            justify-content: flex-start;<br>            width: 100%;<br>        }<br>        .wandb-col {<br>            display: flex;<br>            flex-direction: column;<br>            flex-basis: 100%;<br>            flex: 1;<br>            padding: 10px;<br>        }<br>    </style><br><div class=\"wandb-row\"><div class=\"wandb-col\"><h3>Run history:</h3><br/><table class=\"wandb\"><tr><td>eval/accuracy</td><td>▁▆█▆</td></tr><tr><td>eval/loss</td><td>▂▁▃█</td></tr><tr><td>eval/runtime</td><td>▁▄█▆</td></tr><tr><td>eval/samples_per_second</td><td>█▅▁▃</td></tr><tr><td>eval/steps_per_second</td><td>█▅▁▃</td></tr><tr><td>train/epoch</td><td>▁▁▂▂▂▂▃▃▃▃▃▄▄▄▄▄▅▅▅▆▆▆▆▆▇▇▇▇████</td></tr><tr><td>train/global_step</td><td>▁▁▂▂▂▂▃▃▃▃▃▄▄▄▄▄▅▅▅▆▆▆▆▆▇▇▇▇████</td></tr><tr><td>train/grad_norm</td><td>▂▃▂▄▂▂▅▂▄▃▃▁▂█▂▁▃▁▁▁▁▁▁▁▁▂▁</td></tr><tr><td>train/learning_rate</td><td>██▇▇▇▇▆▆▆▆▅▅▅▄▄▄▄▃▃▃▃▂▂▂▂▁▁</td></tr><tr><td>train/loss</td><td>█▅▅▄▄▄▄▃▃▃▃▃▃▂▂▂▂▂▂▂▁▁▁▁▁▁▁</td></tr></table><br/></div><div class=\"wandb-col\"><h3>Run summary:</h3><br/><table class=\"wandb\"><tr><td>eval/accuracy</td><td>0.96521</td></tr><tr><td>eval/loss</td><td>0.16902</td></tr><tr><td>eval/runtime</td><td>43.7871</td></tr><tr><td>eval/samples_per_second</td><td>276.337</td></tr><tr><td>eval/steps_per_second</td><td>34.554</td></tr><tr><td>total_flos</td><td>5.769326120185037e+16</td></tr><tr><td>train/epoch</td><td>4</td></tr><tr><td>train/global_step</td><td>13612</td></tr><tr><td>train/grad_norm</td><td>0.02026</td></tr><tr><td>train/learning_rate</td><td>0.0</td></tr><tr><td>train/loss</td><td>0.0133</td></tr><tr><td>train_loss</td><td>0.06773</td></tr><tr><td>train_runtime</td><td>4872.8032</td></tr><tr><td>train_samples_per_second</td><td>89.379</td></tr><tr><td>train_steps_per_second</td><td>2.793</td></tr></table><br/></div></div>"
            ],
            "text/plain": [
              "<IPython.core.display.HTML object>"
            ]
          },
          "metadata": {},
          "output_type": "display_data"
        },
        {
          "data": {
            "text/html": [
              " View run <strong style=\"color:#cdcd00\">dutiful-sweep-4</strong> at: <a href='https://wandb.ai/inflaton-ai/uncategorized/runs/a3vo985i' target=\"_blank\">https://wandb.ai/inflaton-ai/uncategorized/runs/a3vo985i</a><br> View project at: <a href='https://wandb.ai/inflaton-ai/uncategorized' target=\"_blank\">https://wandb.ai/inflaton-ai/uncategorized</a><br>Synced 5 W&B file(s), 0 media file(s), 0 artifact file(s) and 0 other file(s)"
            ],
            "text/plain": [
              "<IPython.core.display.HTML object>"
            ]
          },
          "metadata": {},
          "output_type": "display_data"
        },
        {
          "data": {
            "text/html": [
              "Find logs at: <code>./wandb/run-20250222_212955-a3vo985i/logs</code>"
            ],
            "text/plain": [
              "<IPython.core.display.HTML object>"
            ]
          },
          "metadata": {},
          "output_type": "display_data"
        },
        {
          "name": "stderr",
          "output_type": "stream",
          "text": [
            "\u001b[34m\u001b[1mwandb\u001b[0m: Agent Starting Run: rg5hbqzv with config:\n",
            "\u001b[34m\u001b[1mwandb\u001b[0m: \tlearning_rate: 4.3366233744797814e-05\n",
            "\u001b[34m\u001b[1mwandb\u001b[0m: \tper_device_train_batch_size: 16\n"
          ]
        },
        {
          "data": {
            "text/html": [
              "Tracking run with wandb version 0.19.7"
            ],
            "text/plain": [
              "<IPython.core.display.HTML object>"
            ]
          },
          "metadata": {},
          "output_type": "display_data"
        },
        {
          "data": {
            "text/html": [
              "Run data is saved locally in <code>/home/inflaton/code/CrediNews/wandb/run-20250222_225110-rg5hbqzv</code>"
            ],
            "text/plain": [
              "<IPython.core.display.HTML object>"
            ]
          },
          "metadata": {},
          "output_type": "display_data"
        },
        {
          "data": {
            "text/html": [
              "Syncing run <strong><a href='https://wandb.ai/inflaton-ai/uncategorized/runs/rg5hbqzv' target=\"_blank\">upbeat-sweep-5</a></strong> to <a href='https://wandb.ai/inflaton-ai/uncategorized' target=\"_blank\">Weights & Biases</a> (<a href='https://wandb.me/developer-guide' target=\"_blank\">docs</a>)<br>Sweep page: <a href='https://wandb.ai/inflaton-ai/uncategorized/sweeps/1pmhicln' target=\"_blank\">https://wandb.ai/inflaton-ai/uncategorized/sweeps/1pmhicln</a>"
            ],
            "text/plain": [
              "<IPython.core.display.HTML object>"
            ]
          },
          "metadata": {},
          "output_type": "display_data"
        },
        {
          "data": {
            "text/html": [
              " View project at <a href='https://wandb.ai/inflaton-ai/uncategorized' target=\"_blank\">https://wandb.ai/inflaton-ai/uncategorized</a>"
            ],
            "text/plain": [
              "<IPython.core.display.HTML object>"
            ]
          },
          "metadata": {},
          "output_type": "display_data"
        },
        {
          "data": {
            "text/html": [
              " View sweep at <a href='https://wandb.ai/inflaton-ai/uncategorized/sweeps/1pmhicln' target=\"_blank\">https://wandb.ai/inflaton-ai/uncategorized/sweeps/1pmhicln</a>"
            ],
            "text/plain": [
              "<IPython.core.display.HTML object>"
            ]
          },
          "metadata": {},
          "output_type": "display_data"
        },
        {
          "data": {
            "text/html": [
              " View run at <a href='https://wandb.ai/inflaton-ai/uncategorized/runs/rg5hbqzv' target=\"_blank\">https://wandb.ai/inflaton-ai/uncategorized/runs/rg5hbqzv</a>"
            ],
            "text/plain": [
              "<IPython.core.display.HTML object>"
            ]
          },
          "metadata": {},
          "output_type": "display_data"
        },
        {
          "name": "stderr",
          "output_type": "stream",
          "text": [
            "Trying to set _wandb in the hyperparameter search but there is no corresponding field in `TrainingArguments`.\n",
            "Trying to set assignments in the hyperparameter search but there is no corresponding field in `TrainingArguments`.\n",
            "Trying to set metric in the hyperparameter search but there is no corresponding field in `TrainingArguments`.\n",
            "Some weights of DistilBertForSequenceClassification were not initialized from the model checkpoint at distilbert/distilbert-base-uncased and are newly initialized: ['classifier.bias', 'classifier.weight', 'pre_classifier.bias', 'pre_classifier.weight']\n",
            "You should probably TRAIN this model on a down-stream task to be able to use it for predictions and inference.\n"
          ]
        },
        {
          "data": {
            "text/html": [],
            "text/plain": [
              "<IPython.core.display.HTML object>"
            ]
          },
          "metadata": {},
          "output_type": "display_data"
        },
        {
          "data": {
            "text/html": [
              " View run <strong style=\"color:#cdcd00\">upbeat-sweep-5</strong> at: <a href='https://wandb.ai/inflaton-ai/uncategorized/runs/rg5hbqzv' target=\"_blank\">https://wandb.ai/inflaton-ai/uncategorized/runs/rg5hbqzv</a><br> View project at: <a href='https://wandb.ai/inflaton-ai/uncategorized' target=\"_blank\">https://wandb.ai/inflaton-ai/uncategorized</a><br>Synced 5 W&B file(s), 0 media file(s), 0 artifact file(s) and 0 other file(s)"
            ],
            "text/plain": [
              "<IPython.core.display.HTML object>"
            ]
          },
          "metadata": {},
          "output_type": "display_data"
        },
        {
          "data": {
            "text/html": [
              "Find logs at: <code>./wandb/run-20250222_225110-rg5hbqzv/logs</code>"
            ],
            "text/plain": [
              "<IPython.core.display.HTML object>"
            ]
          },
          "metadata": {},
          "output_type": "display_data"
        },
        {
          "data": {
            "text/html": [
              "Ignoring project 'uncategorized' when running a sweep."
            ],
            "text/plain": [
              "<IPython.core.display.HTML object>"
            ]
          },
          "metadata": {},
          "output_type": "display_data"
        },
        {
          "data": {
            "text/html": [
              "Tracking run with wandb version 0.19.7"
            ],
            "text/plain": [
              "<IPython.core.display.HTML object>"
            ]
          },
          "metadata": {},
          "output_type": "display_data"
        },
        {
          "data": {
            "text/html": [
              "Run data is saved locally in <code>/home/inflaton/code/CrediNews/wandb/run-20250222_225115-rg5hbqzv</code>"
            ],
            "text/plain": [
              "<IPython.core.display.HTML object>"
            ]
          },
          "metadata": {},
          "output_type": "display_data"
        },
        {
          "data": {
            "text/html": [
              "Syncing run <strong><a href='https://wandb.ai/inflaton-ai/uncategorized/runs/rg5hbqzv' target=\"_blank\">upbeat-sweep-5</a></strong> to <a href='https://wandb.ai/inflaton-ai/uncategorized' target=\"_blank\">Weights & Biases</a> (<a href='https://wandb.me/developer-guide' target=\"_blank\">docs</a>)<br>Sweep page: <a href='https://wandb.ai/inflaton-ai/uncategorized/sweeps/1pmhicln' target=\"_blank\">https://wandb.ai/inflaton-ai/uncategorized/sweeps/1pmhicln</a>"
            ],
            "text/plain": [
              "<IPython.core.display.HTML object>"
            ]
          },
          "metadata": {},
          "output_type": "display_data"
        },
        {
          "data": {
            "text/html": [
              " View project at <a href='https://wandb.ai/inflaton-ai/uncategorized' target=\"_blank\">https://wandb.ai/inflaton-ai/uncategorized</a>"
            ],
            "text/plain": [
              "<IPython.core.display.HTML object>"
            ]
          },
          "metadata": {},
          "output_type": "display_data"
        },
        {
          "data": {
            "text/html": [
              " View sweep at <a href='https://wandb.ai/inflaton-ai/uncategorized/sweeps/1pmhicln' target=\"_blank\">https://wandb.ai/inflaton-ai/uncategorized/sweeps/1pmhicln</a>"
            ],
            "text/plain": [
              "<IPython.core.display.HTML object>"
            ]
          },
          "metadata": {},
          "output_type": "display_data"
        },
        {
          "data": {
            "text/html": [
              " View run at <a href='https://wandb.ai/inflaton-ai/uncategorized/runs/rg5hbqzv' target=\"_blank\">https://wandb.ai/inflaton-ai/uncategorized/runs/rg5hbqzv</a>"
            ],
            "text/plain": [
              "<IPython.core.display.HTML object>"
            ]
          },
          "metadata": {},
          "output_type": "display_data"
        },
        {
          "name": "stderr",
          "output_type": "stream",
          "text": [
            "\u001b[34m\u001b[1mwandb\u001b[0m: \u001b[33mWARNING\u001b[0m Config item 'per_device_train_batch_size' was locked by 'sweep' (ignored update).\n",
            "\u001b[34m\u001b[1mwandb\u001b[0m: \u001b[33mWARNING\u001b[0m Config item 'learning_rate' was locked by 'sweep' (ignored update).\n"
          ]
        },
        {
          "data": {
            "text/html": [
              "\n",
              "    <div>\n",
              "      \n",
              "      <progress value='27224' max='27224' style='width:300px; height:20px; vertical-align: middle;'></progress>\n",
              "      [27224/27224 1:17:53, Epoch 4/4]\n",
              "    </div>\n",
              "    <table border=\"1\" class=\"dataframe\">\n",
              "  <thead>\n",
              " <tr style=\"text-align: left;\">\n",
              "      <th>Epoch</th>\n",
              "      <th>Training Loss</th>\n",
              "      <th>Validation Loss</th>\n",
              "      <th>Accuracy</th>\n",
              "    </tr>\n",
              "  </thead>\n",
              "  <tbody>\n",
              "    <tr>\n",
              "      <td>1</td>\n",
              "      <td>0.123300</td>\n",
              "      <td>0.108198</td>\n",
              "      <td>0.961901</td>\n",
              "    </tr>\n",
              "    <tr>\n",
              "      <td>2</td>\n",
              "      <td>0.081600</td>\n",
              "      <td>0.130055</td>\n",
              "      <td>0.962893</td>\n",
              "    </tr>\n",
              "    <tr>\n",
              "      <td>3</td>\n",
              "      <td>0.049500</td>\n",
              "      <td>0.159044</td>\n",
              "      <td>0.963884</td>\n",
              "    </tr>\n",
              "    <tr>\n",
              "      <td>4</td>\n",
              "      <td>0.019800</td>\n",
              "      <td>0.189388</td>\n",
              "      <td>0.964132</td>\n",
              "    </tr>\n",
              "  </tbody>\n",
              "</table><p>"
            ],
            "text/plain": [
              "<IPython.core.display.HTML object>"
            ]
          },
          "metadata": {},
          "output_type": "display_data"
        },
        {
          "data": {
            "text/html": [],
            "text/plain": [
              "<IPython.core.display.HTML object>"
            ]
          },
          "metadata": {},
          "output_type": "display_data"
        },
        {
          "data": {
            "text/html": [
              "<br>    <style><br>        .wandb-row {<br>            display: flex;<br>            flex-direction: row;<br>            flex-wrap: wrap;<br>            justify-content: flex-start;<br>            width: 100%;<br>        }<br>        .wandb-col {<br>            display: flex;<br>            flex-direction: column;<br>            flex-basis: 100%;<br>            flex: 1;<br>            padding: 10px;<br>        }<br>    </style><br><div class=\"wandb-row\"><div class=\"wandb-col\"><h3>Run history:</h3><br/><table class=\"wandb\"><tr><td>eval/accuracy</td><td>▁▄▇█</td></tr><tr><td>eval/loss</td><td>▁▃▅█</td></tr><tr><td>eval/runtime</td><td>▂█▁█</td></tr><tr><td>eval/samples_per_second</td><td>▇▁█▁</td></tr><tr><td>eval/steps_per_second</td><td>▇▁█▁</td></tr><tr><td>train/epoch</td><td>▁▂▂▂▂▂▂▃▃▃▃▃▃▃▄▄▄▄▅▅▅▅▅▅▆▆▆▆▆▆▇▇▇▇▇█████</td></tr><tr><td>train/global_step</td><td>▁▁▁▂▂▂▂▂▃▃▃▃▃▃▃▄▄▄▄▄▄▅▅▅▅▅▆▆▆▆▆▆▇▇▇▇████</td></tr><tr><td>train/grad_norm</td><td>▂▁▁▂▁▂▁▁▁▂▂▁▁▁▁▁▃▁▁▁▁▂▁▁▂▃▁▁▁▁▁▁▁▁▁▁▁▁█▁</td></tr><tr><td>train/learning_rate</td><td>████▇▇▇▆▆▆▆▆▅▅▅▅▅▅▄▄▄▄▄▄▄▃▃▃▃▃▂▂▂▂▂▂▂▁▁▁</td></tr><tr><td>train/loss</td><td>█▅▅▅▄▄▄▄▄▄▄▃▃▃▃▃▃▃▃▂▃▃▂▂▂▂▂▂▂▂▂▂▁▁▁▁▁▁▁▁</td></tr></table><br/></div><div class=\"wandb-col\"><h3>Run summary:</h3><br/><table class=\"wandb\"><tr><td>eval/accuracy</td><td>0.96413</td></tr><tr><td>eval/loss</td><td>0.18939</td></tr><tr><td>eval/runtime</td><td>44.2382</td></tr><tr><td>eval/samples_per_second</td><td>273.519</td></tr><tr><td>eval/steps_per_second</td><td>34.201</td></tr><tr><td>total_flos</td><td>5.769326120185037e+16</td></tr><tr><td>train/epoch</td><td>4</td></tr><tr><td>train/global_step</td><td>27224</td></tr><tr><td>train/grad_norm</td><td>0.09436</td></tr><tr><td>train/learning_rate</td><td>0.0</td></tr><tr><td>train/loss</td><td>0.0198</td></tr><tr><td>train_loss</td><td>0.08015</td></tr><tr><td>train_runtime</td><td>4676.9805</td></tr><tr><td>train_samples_per_second</td><td>93.122</td></tr><tr><td>train_steps_per_second</td><td>5.821</td></tr></table><br/></div></div>"
            ],
            "text/plain": [
              "<IPython.core.display.HTML object>"
            ]
          },
          "metadata": {},
          "output_type": "display_data"
        },
        {
          "data": {
            "text/html": [
              " View run <strong style=\"color:#cdcd00\">upbeat-sweep-5</strong> at: <a href='https://wandb.ai/inflaton-ai/uncategorized/runs/rg5hbqzv' target=\"_blank\">https://wandb.ai/inflaton-ai/uncategorized/runs/rg5hbqzv</a><br> View project at: <a href='https://wandb.ai/inflaton-ai/uncategorized' target=\"_blank\">https://wandb.ai/inflaton-ai/uncategorized</a><br>Synced 5 W&B file(s), 0 media file(s), 0 artifact file(s) and 0 other file(s)"
            ],
            "text/plain": [
              "<IPython.core.display.HTML object>"
            ]
          },
          "metadata": {},
          "output_type": "display_data"
        },
        {
          "data": {
            "text/html": [
              "Find logs at: <code>./wandb/run-20250222_225115-rg5hbqzv/logs</code>"
            ],
            "text/plain": [
              "<IPython.core.display.HTML object>"
            ]
          },
          "metadata": {},
          "output_type": "display_data"
        },
        {
          "name": "stdout",
          "output_type": "stream",
          "text": [
            "CPU times: user 6h 26min 23s, sys: 3min 22s, total: 6h 29min 45s\n",
            "Wall time: 6h 30min 10s\n"
          ]
        },
        {
          "data": {
            "text/plain": [
              "BestRun(run_id='a3vo985i', objective=0.9652066115702479, hyperparameters={'learning_rate': 5.065523986980171e-05, 'per_device_train_batch_size': 32, 'assignments': {}, 'metric': 'eval/loss'}, run_summary=None)"
            ]
          },
          "execution_count": 11,
          "metadata": {},
          "output_type": "execute_result"
        }
      ],
      "source": [
        "%%time\n",
        "\n",
        "best_trial_combined = do_grid_search(\"combined\")\n",
        "best_trial_combined"
      ]
    },
    {
      "cell_type": "code",
      "execution_count": 12,
      "metadata": {},
      "outputs": [
        {
          "name": "stderr",
          "output_type": "stream",
          "text": [
            "/home/inflaton/miniconda3/envs/fake-news/lib/python3.11/site-packages/transformers/training_args.py:1575: FutureWarning: `evaluation_strategy` is deprecated and will be removed in version 4.46 of 🤗 Transformers. Use `eval_strategy` instead\n",
            "  warnings.warn(\n",
            "/tmp/ipykernel_3358873/1062649897.py:15: FutureWarning: `tokenizer` is deprecated and will be removed in version 5.0.0 for `Trainer.__init__`. Use `processing_class` instead.\n",
            "  trainer = Trainer(\n",
            "Some weights of DistilBertForSequenceClassification were not initialized from the model checkpoint at distilbert/distilbert-base-uncased and are newly initialized: ['classifier.bias', 'classifier.weight', 'pre_classifier.bias', 'pre_classifier.weight']\n",
            "You should probably TRAIN this model on a down-stream task to be able to use it for predictions and inference.\n"
          ]
        },
        {
          "name": "stdout",
          "output_type": "stream",
          "text": [
            "Create sweep with ID: uyvcwcf5\n",
            "Sweep URL: https://wandb.ai/inflaton-ai/uncategorized/sweeps/uyvcwcf5\n"
          ]
        },
        {
          "name": "stderr",
          "output_type": "stream",
          "text": [
            "\u001b[34m\u001b[1mwandb\u001b[0m: Agent Starting Run: xflumwy4 with config:\n",
            "\u001b[34m\u001b[1mwandb\u001b[0m: \tlearning_rate: 7.481087570424631e-05\n",
            "\u001b[34m\u001b[1mwandb\u001b[0m: \tper_device_train_batch_size: 16\n"
          ]
        },
        {
          "data": {
            "text/html": [
              "Tracking run with wandb version 0.19.7"
            ],
            "text/plain": [
              "<IPython.core.display.HTML object>"
            ]
          },
          "metadata": {},
          "output_type": "display_data"
        },
        {
          "data": {
            "text/html": [
              "Run data is saved locally in <code>/home/inflaton/code/CrediNews/wandb/run-20250223_000929-xflumwy4</code>"
            ],
            "text/plain": [
              "<IPython.core.display.HTML object>"
            ]
          },
          "metadata": {},
          "output_type": "display_data"
        },
        {
          "data": {
            "text/html": [
              "Syncing run <strong><a href='https://wandb.ai/inflaton-ai/uncategorized/runs/xflumwy4' target=\"_blank\">apricot-sweep-1</a></strong> to <a href='https://wandb.ai/inflaton-ai/uncategorized' target=\"_blank\">Weights & Biases</a> (<a href='https://wandb.me/developer-guide' target=\"_blank\">docs</a>)<br>Sweep page: <a href='https://wandb.ai/inflaton-ai/uncategorized/sweeps/uyvcwcf5' target=\"_blank\">https://wandb.ai/inflaton-ai/uncategorized/sweeps/uyvcwcf5</a>"
            ],
            "text/plain": [
              "<IPython.core.display.HTML object>"
            ]
          },
          "metadata": {},
          "output_type": "display_data"
        },
        {
          "data": {
            "text/html": [
              " View project at <a href='https://wandb.ai/inflaton-ai/uncategorized' target=\"_blank\">https://wandb.ai/inflaton-ai/uncategorized</a>"
            ],
            "text/plain": [
              "<IPython.core.display.HTML object>"
            ]
          },
          "metadata": {},
          "output_type": "display_data"
        },
        {
          "data": {
            "text/html": [
              " View sweep at <a href='https://wandb.ai/inflaton-ai/uncategorized/sweeps/uyvcwcf5' target=\"_blank\">https://wandb.ai/inflaton-ai/uncategorized/sweeps/uyvcwcf5</a>"
            ],
            "text/plain": [
              "<IPython.core.display.HTML object>"
            ]
          },
          "metadata": {},
          "output_type": "display_data"
        },
        {
          "data": {
            "text/html": [
              " View run at <a href='https://wandb.ai/inflaton-ai/uncategorized/runs/xflumwy4' target=\"_blank\">https://wandb.ai/inflaton-ai/uncategorized/runs/xflumwy4</a>"
            ],
            "text/plain": [
              "<IPython.core.display.HTML object>"
            ]
          },
          "metadata": {},
          "output_type": "display_data"
        },
        {
          "name": "stderr",
          "output_type": "stream",
          "text": [
            "Trying to set _wandb in the hyperparameter search but there is no corresponding field in `TrainingArguments`.\n",
            "Trying to set assignments in the hyperparameter search but there is no corresponding field in `TrainingArguments`.\n",
            "Trying to set metric in the hyperparameter search but there is no corresponding field in `TrainingArguments`.\n",
            "Some weights of DistilBertForSequenceClassification were not initialized from the model checkpoint at distilbert/distilbert-base-uncased and are newly initialized: ['classifier.bias', 'classifier.weight', 'pre_classifier.bias', 'pre_classifier.weight']\n",
            "You should probably TRAIN this model on a down-stream task to be able to use it for predictions and inference.\n"
          ]
        },
        {
          "data": {
            "text/html": [],
            "text/plain": [
              "<IPython.core.display.HTML object>"
            ]
          },
          "metadata": {},
          "output_type": "display_data"
        },
        {
          "data": {
            "text/html": [
              " View run <strong style=\"color:#cdcd00\">apricot-sweep-1</strong> at: <a href='https://wandb.ai/inflaton-ai/uncategorized/runs/xflumwy4' target=\"_blank\">https://wandb.ai/inflaton-ai/uncategorized/runs/xflumwy4</a><br> View project at: <a href='https://wandb.ai/inflaton-ai/uncategorized' target=\"_blank\">https://wandb.ai/inflaton-ai/uncategorized</a><br>Synced 5 W&B file(s), 0 media file(s), 0 artifact file(s) and 0 other file(s)"
            ],
            "text/plain": [
              "<IPython.core.display.HTML object>"
            ]
          },
          "metadata": {},
          "output_type": "display_data"
        },
        {
          "data": {
            "text/html": [
              "Find logs at: <code>./wandb/run-20250223_000929-xflumwy4/logs</code>"
            ],
            "text/plain": [
              "<IPython.core.display.HTML object>"
            ]
          },
          "metadata": {},
          "output_type": "display_data"
        },
        {
          "data": {
            "text/html": [
              "Ignoring project 'uncategorized' when running a sweep."
            ],
            "text/plain": [
              "<IPython.core.display.HTML object>"
            ]
          },
          "metadata": {},
          "output_type": "display_data"
        },
        {
          "data": {
            "text/html": [
              "Tracking run with wandb version 0.19.7"
            ],
            "text/plain": [
              "<IPython.core.display.HTML object>"
            ]
          },
          "metadata": {},
          "output_type": "display_data"
        },
        {
          "data": {
            "text/html": [
              "Run data is saved locally in <code>/home/inflaton/code/CrediNews/wandb/run-20250223_000935-xflumwy4</code>"
            ],
            "text/plain": [
              "<IPython.core.display.HTML object>"
            ]
          },
          "metadata": {},
          "output_type": "display_data"
        },
        {
          "data": {
            "text/html": [
              "Syncing run <strong><a href='https://wandb.ai/inflaton-ai/uncategorized/runs/xflumwy4' target=\"_blank\">apricot-sweep-1</a></strong> to <a href='https://wandb.ai/inflaton-ai/uncategorized' target=\"_blank\">Weights & Biases</a> (<a href='https://wandb.me/developer-guide' target=\"_blank\">docs</a>)<br>Sweep page: <a href='https://wandb.ai/inflaton-ai/uncategorized/sweeps/uyvcwcf5' target=\"_blank\">https://wandb.ai/inflaton-ai/uncategorized/sweeps/uyvcwcf5</a>"
            ],
            "text/plain": [
              "<IPython.core.display.HTML object>"
            ]
          },
          "metadata": {},
          "output_type": "display_data"
        },
        {
          "data": {
            "text/html": [
              " View project at <a href='https://wandb.ai/inflaton-ai/uncategorized' target=\"_blank\">https://wandb.ai/inflaton-ai/uncategorized</a>"
            ],
            "text/plain": [
              "<IPython.core.display.HTML object>"
            ]
          },
          "metadata": {},
          "output_type": "display_data"
        },
        {
          "data": {
            "text/html": [
              " View sweep at <a href='https://wandb.ai/inflaton-ai/uncategorized/sweeps/uyvcwcf5' target=\"_blank\">https://wandb.ai/inflaton-ai/uncategorized/sweeps/uyvcwcf5</a>"
            ],
            "text/plain": [
              "<IPython.core.display.HTML object>"
            ]
          },
          "metadata": {},
          "output_type": "display_data"
        },
        {
          "data": {
            "text/html": [
              " View run at <a href='https://wandb.ai/inflaton-ai/uncategorized/runs/xflumwy4' target=\"_blank\">https://wandb.ai/inflaton-ai/uncategorized/runs/xflumwy4</a>"
            ],
            "text/plain": [
              "<IPython.core.display.HTML object>"
            ]
          },
          "metadata": {},
          "output_type": "display_data"
        },
        {
          "name": "stderr",
          "output_type": "stream",
          "text": [
            "\u001b[34m\u001b[1mwandb\u001b[0m: \u001b[33mWARNING\u001b[0m Config item 'per_device_train_batch_size' was locked by 'sweep' (ignored update).\n",
            "\u001b[34m\u001b[1mwandb\u001b[0m: \u001b[33mWARNING\u001b[0m Config item 'learning_rate' was locked by 'sweep' (ignored update).\n"
          ]
        },
        {
          "data": {
            "text/html": [
              "\n",
              "    <div>\n",
              "      \n",
              "      <progress value='13612' max='13612' style='width:300px; height:20px; vertical-align: middle;'></progress>\n",
              "      [13612/13612 40:59, Epoch 4/4]\n",
              "    </div>\n",
              "    <table border=\"1\" class=\"dataframe\">\n",
              "  <thead>\n",
              " <tr style=\"text-align: left;\">\n",
              "      <th>Epoch</th>\n",
              "      <th>Training Loss</th>\n",
              "      <th>Validation Loss</th>\n",
              "      <th>Accuracy</th>\n",
              "    </tr>\n",
              "  </thead>\n",
              "  <tbody>\n",
              "    <tr>\n",
              "      <td>1</td>\n",
              "      <td>0.222900</td>\n",
              "      <td>0.193758</td>\n",
              "      <td>0.919835</td>\n",
              "    </tr>\n",
              "    <tr>\n",
              "      <td>2</td>\n",
              "      <td>0.170400</td>\n",
              "      <td>0.206717</td>\n",
              "      <td>0.924132</td>\n",
              "    </tr>\n",
              "    <tr>\n",
              "      <td>3</td>\n",
              "      <td>0.109700</td>\n",
              "      <td>0.244847</td>\n",
              "      <td>0.928595</td>\n",
              "    </tr>\n",
              "    <tr>\n",
              "      <td>4</td>\n",
              "      <td>0.077200</td>\n",
              "      <td>0.273574</td>\n",
              "      <td>0.930909</td>\n",
              "    </tr>\n",
              "  </tbody>\n",
              "</table><p>"
            ],
            "text/plain": [
              "<IPython.core.display.HTML object>"
            ]
          },
          "metadata": {},
          "output_type": "display_data"
        },
        {
          "data": {
            "text/html": [],
            "text/plain": [
              "<IPython.core.display.HTML object>"
            ]
          },
          "metadata": {},
          "output_type": "display_data"
        },
        {
          "data": {
            "text/html": [
              "<br>    <style><br>        .wandb-row {<br>            display: flex;<br>            flex-direction: row;<br>            flex-wrap: wrap;<br>            justify-content: flex-start;<br>            width: 100%;<br>        }<br>        .wandb-col {<br>            display: flex;<br>            flex-direction: column;<br>            flex-basis: 100%;<br>            flex: 1;<br>            padding: 10px;<br>        }<br>    </style><br><div class=\"wandb-row\"><div class=\"wandb-col\"><h3>Run history:</h3><br/><table class=\"wandb\"><tr><td>eval/accuracy</td><td>▁▄▇█</td></tr><tr><td>eval/loss</td><td>▁▂▅█</td></tr><tr><td>eval/runtime</td><td>█▁▁█</td></tr><tr><td>eval/samples_per_second</td><td>▁██▁</td></tr><tr><td>eval/steps_per_second</td><td>▁██▁</td></tr><tr><td>train/epoch</td><td>▁▁▂▂▂▂▃▃▃▃▃▄▄▄▄▄▅▅▅▆▆▆▆▆▇▇▇▇████</td></tr><tr><td>train/global_step</td><td>▁▁▂▂▂▂▃▃▃▃▃▄▄▄▄▄▅▅▅▆▆▆▆▆▇▇▇▇████</td></tr><tr><td>train/grad_norm</td><td>▂▂▁▁▂▂▂▂▁▂▃▃▂▁▃▁▁▁█▂▂▂▁▁▁▁▁</td></tr><tr><td>train/learning_rate</td><td>██▇▇▇▇▆▆▆▆▅▅▅▄▄▄▄▃▃▃▃▂▂▂▂▁▁</td></tr><tr><td>train/loss</td><td>█▆▅▅▅▄▄▃▃▃▃▃▃▃▂▂▂▂▂▂▂▁▁▁▁▁▁</td></tr></table><br/></div><div class=\"wandb-col\"><h3>Run summary:</h3><br/><table class=\"wandb\"><tr><td>eval/accuracy</td><td>0.93091</td></tr><tr><td>eval/loss</td><td>0.27357</td></tr><tr><td>eval/runtime</td><td>22.0061</td></tr><tr><td>eval/samples_per_second</td><td>274.924</td></tr><tr><td>eval/steps_per_second</td><td>34.4</td></tr><tr><td>total_flos</td><td>2.8846630600925184e+16</td></tr><tr><td>train/epoch</td><td>4</td></tr><tr><td>train/global_step</td><td>13612</td></tr><tr><td>train/grad_norm</td><td>0.20265</td></tr><tr><td>train/learning_rate</td><td>0.0</td></tr><tr><td>train/loss</td><td>0.0772</td></tr><tr><td>train_loss</td><td>0.15904</td></tr><tr><td>train_runtime</td><td>2465.4464</td></tr><tr><td>train_samples_per_second</td><td>88.326</td></tr><tr><td>train_steps_per_second</td><td>5.521</td></tr></table><br/></div></div>"
            ],
            "text/plain": [
              "<IPython.core.display.HTML object>"
            ]
          },
          "metadata": {},
          "output_type": "display_data"
        },
        {
          "data": {
            "text/html": [
              " View run <strong style=\"color:#cdcd00\">apricot-sweep-1</strong> at: <a href='https://wandb.ai/inflaton-ai/uncategorized/runs/xflumwy4' target=\"_blank\">https://wandb.ai/inflaton-ai/uncategorized/runs/xflumwy4</a><br> View project at: <a href='https://wandb.ai/inflaton-ai/uncategorized' target=\"_blank\">https://wandb.ai/inflaton-ai/uncategorized</a><br>Synced 5 W&B file(s), 0 media file(s), 0 artifact file(s) and 0 other file(s)"
            ],
            "text/plain": [
              "<IPython.core.display.HTML object>"
            ]
          },
          "metadata": {},
          "output_type": "display_data"
        },
        {
          "data": {
            "text/html": [
              "Find logs at: <code>./wandb/run-20250223_000935-xflumwy4/logs</code>"
            ],
            "text/plain": [
              "<IPython.core.display.HTML object>"
            ]
          },
          "metadata": {},
          "output_type": "display_data"
        },
        {
          "name": "stderr",
          "output_type": "stream",
          "text": [
            "\u001b[34m\u001b[1mwandb\u001b[0m: Agent Starting Run: 21jpsjfc with config:\n",
            "\u001b[34m\u001b[1mwandb\u001b[0m: \tlearning_rate: 8.79030906519343e-05\n",
            "\u001b[34m\u001b[1mwandb\u001b[0m: \tper_device_train_batch_size: 16\n"
          ]
        },
        {
          "data": {
            "text/html": [
              "Tracking run with wandb version 0.19.7"
            ],
            "text/plain": [
              "<IPython.core.display.HTML object>"
            ]
          },
          "metadata": {},
          "output_type": "display_data"
        },
        {
          "data": {
            "text/html": [
              "Run data is saved locally in <code>/home/inflaton/code/CrediNews/wandb/run-20250223_005043-21jpsjfc</code>"
            ],
            "text/plain": [
              "<IPython.core.display.HTML object>"
            ]
          },
          "metadata": {},
          "output_type": "display_data"
        },
        {
          "data": {
            "text/html": [
              "Syncing run <strong><a href='https://wandb.ai/inflaton-ai/uncategorized/runs/21jpsjfc' target=\"_blank\">valiant-sweep-2</a></strong> to <a href='https://wandb.ai/inflaton-ai/uncategorized' target=\"_blank\">Weights & Biases</a> (<a href='https://wandb.me/developer-guide' target=\"_blank\">docs</a>)<br>Sweep page: <a href='https://wandb.ai/inflaton-ai/uncategorized/sweeps/uyvcwcf5' target=\"_blank\">https://wandb.ai/inflaton-ai/uncategorized/sweeps/uyvcwcf5</a>"
            ],
            "text/plain": [
              "<IPython.core.display.HTML object>"
            ]
          },
          "metadata": {},
          "output_type": "display_data"
        },
        {
          "data": {
            "text/html": [
              " View project at <a href='https://wandb.ai/inflaton-ai/uncategorized' target=\"_blank\">https://wandb.ai/inflaton-ai/uncategorized</a>"
            ],
            "text/plain": [
              "<IPython.core.display.HTML object>"
            ]
          },
          "metadata": {},
          "output_type": "display_data"
        },
        {
          "data": {
            "text/html": [
              " View sweep at <a href='https://wandb.ai/inflaton-ai/uncategorized/sweeps/uyvcwcf5' target=\"_blank\">https://wandb.ai/inflaton-ai/uncategorized/sweeps/uyvcwcf5</a>"
            ],
            "text/plain": [
              "<IPython.core.display.HTML object>"
            ]
          },
          "metadata": {},
          "output_type": "display_data"
        },
        {
          "data": {
            "text/html": [
              " View run at <a href='https://wandb.ai/inflaton-ai/uncategorized/runs/21jpsjfc' target=\"_blank\">https://wandb.ai/inflaton-ai/uncategorized/runs/21jpsjfc</a>"
            ],
            "text/plain": [
              "<IPython.core.display.HTML object>"
            ]
          },
          "metadata": {},
          "output_type": "display_data"
        },
        {
          "name": "stderr",
          "output_type": "stream",
          "text": [
            "Trying to set _wandb in the hyperparameter search but there is no corresponding field in `TrainingArguments`.\n",
            "Trying to set assignments in the hyperparameter search but there is no corresponding field in `TrainingArguments`.\n",
            "Trying to set metric in the hyperparameter search but there is no corresponding field in `TrainingArguments`.\n",
            "Some weights of DistilBertForSequenceClassification were not initialized from the model checkpoint at distilbert/distilbert-base-uncased and are newly initialized: ['classifier.bias', 'classifier.weight', 'pre_classifier.bias', 'pre_classifier.weight']\n",
            "You should probably TRAIN this model on a down-stream task to be able to use it for predictions and inference.\n"
          ]
        },
        {
          "data": {
            "text/html": [],
            "text/plain": [
              "<IPython.core.display.HTML object>"
            ]
          },
          "metadata": {},
          "output_type": "display_data"
        },
        {
          "data": {
            "text/html": [
              " View run <strong style=\"color:#cdcd00\">valiant-sweep-2</strong> at: <a href='https://wandb.ai/inflaton-ai/uncategorized/runs/21jpsjfc' target=\"_blank\">https://wandb.ai/inflaton-ai/uncategorized/runs/21jpsjfc</a><br> View project at: <a href='https://wandb.ai/inflaton-ai/uncategorized' target=\"_blank\">https://wandb.ai/inflaton-ai/uncategorized</a><br>Synced 5 W&B file(s), 0 media file(s), 0 artifact file(s) and 0 other file(s)"
            ],
            "text/plain": [
              "<IPython.core.display.HTML object>"
            ]
          },
          "metadata": {},
          "output_type": "display_data"
        },
        {
          "data": {
            "text/html": [
              "Find logs at: <code>./wandb/run-20250223_005043-21jpsjfc/logs</code>"
            ],
            "text/plain": [
              "<IPython.core.display.HTML object>"
            ]
          },
          "metadata": {},
          "output_type": "display_data"
        },
        {
          "data": {
            "text/html": [
              "Ignoring project 'uncategorized' when running a sweep."
            ],
            "text/plain": [
              "<IPython.core.display.HTML object>"
            ]
          },
          "metadata": {},
          "output_type": "display_data"
        },
        {
          "data": {
            "text/html": [
              "Tracking run with wandb version 0.19.7"
            ],
            "text/plain": [
              "<IPython.core.display.HTML object>"
            ]
          },
          "metadata": {},
          "output_type": "display_data"
        },
        {
          "data": {
            "text/html": [
              "Run data is saved locally in <code>/home/inflaton/code/CrediNews/wandb/run-20250223_005047-21jpsjfc</code>"
            ],
            "text/plain": [
              "<IPython.core.display.HTML object>"
            ]
          },
          "metadata": {},
          "output_type": "display_data"
        },
        {
          "data": {
            "text/html": [
              "Syncing run <strong><a href='https://wandb.ai/inflaton-ai/uncategorized/runs/21jpsjfc' target=\"_blank\">valiant-sweep-2</a></strong> to <a href='https://wandb.ai/inflaton-ai/uncategorized' target=\"_blank\">Weights & Biases</a> (<a href='https://wandb.me/developer-guide' target=\"_blank\">docs</a>)<br>Sweep page: <a href='https://wandb.ai/inflaton-ai/uncategorized/sweeps/uyvcwcf5' target=\"_blank\">https://wandb.ai/inflaton-ai/uncategorized/sweeps/uyvcwcf5</a>"
            ],
            "text/plain": [
              "<IPython.core.display.HTML object>"
            ]
          },
          "metadata": {},
          "output_type": "display_data"
        },
        {
          "data": {
            "text/html": [
              " View project at <a href='https://wandb.ai/inflaton-ai/uncategorized' target=\"_blank\">https://wandb.ai/inflaton-ai/uncategorized</a>"
            ],
            "text/plain": [
              "<IPython.core.display.HTML object>"
            ]
          },
          "metadata": {},
          "output_type": "display_data"
        },
        {
          "data": {
            "text/html": [
              " View sweep at <a href='https://wandb.ai/inflaton-ai/uncategorized/sweeps/uyvcwcf5' target=\"_blank\">https://wandb.ai/inflaton-ai/uncategorized/sweeps/uyvcwcf5</a>"
            ],
            "text/plain": [
              "<IPython.core.display.HTML object>"
            ]
          },
          "metadata": {},
          "output_type": "display_data"
        },
        {
          "data": {
            "text/html": [
              " View run at <a href='https://wandb.ai/inflaton-ai/uncategorized/runs/21jpsjfc' target=\"_blank\">https://wandb.ai/inflaton-ai/uncategorized/runs/21jpsjfc</a>"
            ],
            "text/plain": [
              "<IPython.core.display.HTML object>"
            ]
          },
          "metadata": {},
          "output_type": "display_data"
        },
        {
          "name": "stderr",
          "output_type": "stream",
          "text": [
            "\u001b[34m\u001b[1mwandb\u001b[0m: \u001b[33mWARNING\u001b[0m Config item 'per_device_train_batch_size' was locked by 'sweep' (ignored update).\n",
            "\u001b[34m\u001b[1mwandb\u001b[0m: \u001b[33mWARNING\u001b[0m Config item 'learning_rate' was locked by 'sweep' (ignored update).\n"
          ]
        },
        {
          "data": {
            "text/html": [
              "\n",
              "    <div>\n",
              "      \n",
              "      <progress value='13612' max='13612' style='width:300px; height:20px; vertical-align: middle;'></progress>\n",
              "      [13612/13612 38:53, Epoch 4/4]\n",
              "    </div>\n",
              "    <table border=\"1\" class=\"dataframe\">\n",
              "  <thead>\n",
              " <tr style=\"text-align: left;\">\n",
              "      <th>Epoch</th>\n",
              "      <th>Training Loss</th>\n",
              "      <th>Validation Loss</th>\n",
              "      <th>Accuracy</th>\n",
              "    </tr>\n",
              "  </thead>\n",
              "  <tbody>\n",
              "    <tr>\n",
              "      <td>1</td>\n",
              "      <td>0.240800</td>\n",
              "      <td>0.206024</td>\n",
              "      <td>0.915868</td>\n",
              "    </tr>\n",
              "    <tr>\n",
              "      <td>2</td>\n",
              "      <td>0.185100</td>\n",
              "      <td>0.241340</td>\n",
              "      <td>0.925950</td>\n",
              "    </tr>\n",
              "    <tr>\n",
              "      <td>3</td>\n",
              "      <td>0.128800</td>\n",
              "      <td>0.250319</td>\n",
              "      <td>0.927438</td>\n",
              "    </tr>\n",
              "    <tr>\n",
              "      <td>4</td>\n",
              "      <td>0.095100</td>\n",
              "      <td>0.237847</td>\n",
              "      <td>0.930248</td>\n",
              "    </tr>\n",
              "  </tbody>\n",
              "</table><p>"
            ],
            "text/plain": [
              "<IPython.core.display.HTML object>"
            ]
          },
          "metadata": {},
          "output_type": "display_data"
        },
        {
          "data": {
            "text/html": [],
            "text/plain": [
              "<IPython.core.display.HTML object>"
            ]
          },
          "metadata": {},
          "output_type": "display_data"
        },
        {
          "data": {
            "text/html": [
              "<br>    <style><br>        .wandb-row {<br>            display: flex;<br>            flex-direction: row;<br>            flex-wrap: wrap;<br>            justify-content: flex-start;<br>            width: 100%;<br>        }<br>        .wandb-col {<br>            display: flex;<br>            flex-direction: column;<br>            flex-basis: 100%;<br>            flex: 1;<br>            padding: 10px;<br>        }<br>    </style><br><div class=\"wandb-row\"><div class=\"wandb-col\"><h3>Run history:</h3><br/><table class=\"wandb\"><tr><td>eval/accuracy</td><td>▁▆▇█</td></tr><tr><td>eval/loss</td><td>▁▇█▆</td></tr><tr><td>eval/runtime</td><td>█▂▂▁</td></tr><tr><td>eval/samples_per_second</td><td>▁▇▇█</td></tr><tr><td>eval/steps_per_second</td><td>▁▇▇█</td></tr><tr><td>train/epoch</td><td>▁▁▂▂▂▂▃▃▃▃▃▄▄▄▄▄▅▅▅▆▆▆▆▆▇▇▇▇████</td></tr><tr><td>train/global_step</td><td>▁▁▂▂▂▂▃▃▃▃▃▄▄▄▄▄▅▅▅▆▆▆▆▆▇▇▇▇████</td></tr><tr><td>train/grad_norm</td><td>▁▁▁▁▁▁▂▂▁▂▁▂▂▁▁▂▂▂▂▁█▂▁▁▁▁▁</td></tr><tr><td>train/learning_rate</td><td>██▇▇▇▇▆▆▆▆▅▅▅▄▄▄▄▃▃▃▃▂▂▂▂▁▁</td></tr><tr><td>train/loss</td><td>█▅▅▅▅▄▄▃▄▃▃▃▃▃▂▂▂▂▂▂▂▁▁▁▁▁▁</td></tr></table><br/></div><div class=\"wandb-col\"><h3>Run summary:</h3><br/><table class=\"wandb\"><tr><td>eval/accuracy</td><td>0.93025</td></tr><tr><td>eval/loss</td><td>0.23785</td></tr><tr><td>eval/runtime</td><td>21.763</td></tr><tr><td>eval/samples_per_second</td><td>277.994</td></tr><tr><td>eval/steps_per_second</td><td>34.784</td></tr><tr><td>total_flos</td><td>2.8846630600925184e+16</td></tr><tr><td>train/epoch</td><td>4</td></tr><tr><td>train/global_step</td><td>13612</td></tr><tr><td>train/grad_norm</td><td>1.53222</td></tr><tr><td>train/learning_rate</td><td>0.0</td></tr><tr><td>train/loss</td><td>0.0951</td></tr><tr><td>train_loss</td><td>0.17887</td></tr><tr><td>train_runtime</td><td>2336.9129</td></tr><tr><td>train_samples_per_second</td><td>93.184</td></tr><tr><td>train_steps_per_second</td><td>5.825</td></tr></table><br/></div></div>"
            ],
            "text/plain": [
              "<IPython.core.display.HTML object>"
            ]
          },
          "metadata": {},
          "output_type": "display_data"
        },
        {
          "data": {
            "text/html": [
              " View run <strong style=\"color:#cdcd00\">valiant-sweep-2</strong> at: <a href='https://wandb.ai/inflaton-ai/uncategorized/runs/21jpsjfc' target=\"_blank\">https://wandb.ai/inflaton-ai/uncategorized/runs/21jpsjfc</a><br> View project at: <a href='https://wandb.ai/inflaton-ai/uncategorized' target=\"_blank\">https://wandb.ai/inflaton-ai/uncategorized</a><br>Synced 5 W&B file(s), 0 media file(s), 0 artifact file(s) and 0 other file(s)"
            ],
            "text/plain": [
              "<IPython.core.display.HTML object>"
            ]
          },
          "metadata": {},
          "output_type": "display_data"
        },
        {
          "data": {
            "text/html": [
              "Find logs at: <code>./wandb/run-20250223_005047-21jpsjfc/logs</code>"
            ],
            "text/plain": [
              "<IPython.core.display.HTML object>"
            ]
          },
          "metadata": {},
          "output_type": "display_data"
        },
        {
          "name": "stderr",
          "output_type": "stream",
          "text": [
            "\u001b[34m\u001b[1mwandb\u001b[0m: Agent Starting Run: dncx5amf with config:\n",
            "\u001b[34m\u001b[1mwandb\u001b[0m: \tlearning_rate: 6.620470345481528e-06\n",
            "\u001b[34m\u001b[1mwandb\u001b[0m: \tper_device_train_batch_size: 32\n"
          ]
        },
        {
          "data": {
            "text/html": [
              "Tracking run with wandb version 0.19.7"
            ],
            "text/plain": [
              "<IPython.core.display.HTML object>"
            ]
          },
          "metadata": {},
          "output_type": "display_data"
        },
        {
          "data": {
            "text/html": [
              "Run data is saved locally in <code>/home/inflaton/code/CrediNews/wandb/run-20250223_012949-dncx5amf</code>"
            ],
            "text/plain": [
              "<IPython.core.display.HTML object>"
            ]
          },
          "metadata": {},
          "output_type": "display_data"
        },
        {
          "data": {
            "text/html": [
              "Syncing run <strong><a href='https://wandb.ai/inflaton-ai/uncategorized/runs/dncx5amf' target=\"_blank\">misunderstood-sweep-3</a></strong> to <a href='https://wandb.ai/inflaton-ai/uncategorized' target=\"_blank\">Weights & Biases</a> (<a href='https://wandb.me/developer-guide' target=\"_blank\">docs</a>)<br>Sweep page: <a href='https://wandb.ai/inflaton-ai/uncategorized/sweeps/uyvcwcf5' target=\"_blank\">https://wandb.ai/inflaton-ai/uncategorized/sweeps/uyvcwcf5</a>"
            ],
            "text/plain": [
              "<IPython.core.display.HTML object>"
            ]
          },
          "metadata": {},
          "output_type": "display_data"
        },
        {
          "data": {
            "text/html": [
              " View project at <a href='https://wandb.ai/inflaton-ai/uncategorized' target=\"_blank\">https://wandb.ai/inflaton-ai/uncategorized</a>"
            ],
            "text/plain": [
              "<IPython.core.display.HTML object>"
            ]
          },
          "metadata": {},
          "output_type": "display_data"
        },
        {
          "data": {
            "text/html": [
              " View sweep at <a href='https://wandb.ai/inflaton-ai/uncategorized/sweeps/uyvcwcf5' target=\"_blank\">https://wandb.ai/inflaton-ai/uncategorized/sweeps/uyvcwcf5</a>"
            ],
            "text/plain": [
              "<IPython.core.display.HTML object>"
            ]
          },
          "metadata": {},
          "output_type": "display_data"
        },
        {
          "data": {
            "text/html": [
              " View run at <a href='https://wandb.ai/inflaton-ai/uncategorized/runs/dncx5amf' target=\"_blank\">https://wandb.ai/inflaton-ai/uncategorized/runs/dncx5amf</a>"
            ],
            "text/plain": [
              "<IPython.core.display.HTML object>"
            ]
          },
          "metadata": {},
          "output_type": "display_data"
        },
        {
          "name": "stderr",
          "output_type": "stream",
          "text": [
            "Trying to set _wandb in the hyperparameter search but there is no corresponding field in `TrainingArguments`.\n",
            "Trying to set assignments in the hyperparameter search but there is no corresponding field in `TrainingArguments`.\n",
            "Trying to set metric in the hyperparameter search but there is no corresponding field in `TrainingArguments`.\n",
            "Some weights of DistilBertForSequenceClassification were not initialized from the model checkpoint at distilbert/distilbert-base-uncased and are newly initialized: ['classifier.bias', 'classifier.weight', 'pre_classifier.bias', 'pre_classifier.weight']\n",
            "You should probably TRAIN this model on a down-stream task to be able to use it for predictions and inference.\n"
          ]
        },
        {
          "data": {
            "text/html": [],
            "text/plain": [
              "<IPython.core.display.HTML object>"
            ]
          },
          "metadata": {},
          "output_type": "display_data"
        },
        {
          "data": {
            "text/html": [
              " View run <strong style=\"color:#cdcd00\">misunderstood-sweep-3</strong> at: <a href='https://wandb.ai/inflaton-ai/uncategorized/runs/dncx5amf' target=\"_blank\">https://wandb.ai/inflaton-ai/uncategorized/runs/dncx5amf</a><br> View project at: <a href='https://wandb.ai/inflaton-ai/uncategorized' target=\"_blank\">https://wandb.ai/inflaton-ai/uncategorized</a><br>Synced 5 W&B file(s), 0 media file(s), 0 artifact file(s) and 0 other file(s)"
            ],
            "text/plain": [
              "<IPython.core.display.HTML object>"
            ]
          },
          "metadata": {},
          "output_type": "display_data"
        },
        {
          "data": {
            "text/html": [
              "Find logs at: <code>./wandb/run-20250223_012949-dncx5amf/logs</code>"
            ],
            "text/plain": [
              "<IPython.core.display.HTML object>"
            ]
          },
          "metadata": {},
          "output_type": "display_data"
        },
        {
          "data": {
            "text/html": [
              "Ignoring project 'uncategorized' when running a sweep."
            ],
            "text/plain": [
              "<IPython.core.display.HTML object>"
            ]
          },
          "metadata": {},
          "output_type": "display_data"
        },
        {
          "data": {
            "text/html": [
              "Tracking run with wandb version 0.19.7"
            ],
            "text/plain": [
              "<IPython.core.display.HTML object>"
            ]
          },
          "metadata": {},
          "output_type": "display_data"
        },
        {
          "data": {
            "text/html": [
              "Run data is saved locally in <code>/home/inflaton/code/CrediNews/wandb/run-20250223_012953-dncx5amf</code>"
            ],
            "text/plain": [
              "<IPython.core.display.HTML object>"
            ]
          },
          "metadata": {},
          "output_type": "display_data"
        },
        {
          "data": {
            "text/html": [
              "Syncing run <strong><a href='https://wandb.ai/inflaton-ai/uncategorized/runs/dncx5amf' target=\"_blank\">misunderstood-sweep-3</a></strong> to <a href='https://wandb.ai/inflaton-ai/uncategorized' target=\"_blank\">Weights & Biases</a> (<a href='https://wandb.me/developer-guide' target=\"_blank\">docs</a>)<br>Sweep page: <a href='https://wandb.ai/inflaton-ai/uncategorized/sweeps/uyvcwcf5' target=\"_blank\">https://wandb.ai/inflaton-ai/uncategorized/sweeps/uyvcwcf5</a>"
            ],
            "text/plain": [
              "<IPython.core.display.HTML object>"
            ]
          },
          "metadata": {},
          "output_type": "display_data"
        },
        {
          "data": {
            "text/html": [
              " View project at <a href='https://wandb.ai/inflaton-ai/uncategorized' target=\"_blank\">https://wandb.ai/inflaton-ai/uncategorized</a>"
            ],
            "text/plain": [
              "<IPython.core.display.HTML object>"
            ]
          },
          "metadata": {},
          "output_type": "display_data"
        },
        {
          "data": {
            "text/html": [
              " View sweep at <a href='https://wandb.ai/inflaton-ai/uncategorized/sweeps/uyvcwcf5' target=\"_blank\">https://wandb.ai/inflaton-ai/uncategorized/sweeps/uyvcwcf5</a>"
            ],
            "text/plain": [
              "<IPython.core.display.HTML object>"
            ]
          },
          "metadata": {},
          "output_type": "display_data"
        },
        {
          "data": {
            "text/html": [
              " View run at <a href='https://wandb.ai/inflaton-ai/uncategorized/runs/dncx5amf' target=\"_blank\">https://wandb.ai/inflaton-ai/uncategorized/runs/dncx5amf</a>"
            ],
            "text/plain": [
              "<IPython.core.display.HTML object>"
            ]
          },
          "metadata": {},
          "output_type": "display_data"
        },
        {
          "name": "stderr",
          "output_type": "stream",
          "text": [
            "\u001b[34m\u001b[1mwandb\u001b[0m: \u001b[33mWARNING\u001b[0m Config item 'per_device_train_batch_size' was locked by 'sweep' (ignored update).\n",
            "\u001b[34m\u001b[1mwandb\u001b[0m: \u001b[33mWARNING\u001b[0m Config item 'learning_rate' was locked by 'sweep' (ignored update).\n"
          ]
        },
        {
          "data": {
            "text/html": [
              "\n",
              "    <div>\n",
              "      \n",
              "      <progress value='6808' max='6808' style='width:300px; height:20px; vertical-align: middle;'></progress>\n",
              "      [6808/6808 37:37, Epoch 4/4]\n",
              "    </div>\n",
              "    <table border=\"1\" class=\"dataframe\">\n",
              "  <thead>\n",
              " <tr style=\"text-align: left;\">\n",
              "      <th>Epoch</th>\n",
              "      <th>Training Loss</th>\n",
              "      <th>Validation Loss</th>\n",
              "      <th>Accuracy</th>\n",
              "    </tr>\n",
              "  </thead>\n",
              "  <tbody>\n",
              "    <tr>\n",
              "      <td>1</td>\n",
              "      <td>0.226000</td>\n",
              "      <td>0.198782</td>\n",
              "      <td>0.917190</td>\n",
              "    </tr>\n",
              "    <tr>\n",
              "      <td>2</td>\n",
              "      <td>0.175100</td>\n",
              "      <td>0.172637</td>\n",
              "      <td>0.930413</td>\n",
              "    </tr>\n",
              "    <tr>\n",
              "      <td>3</td>\n",
              "      <td>0.139400</td>\n",
              "      <td>0.181399</td>\n",
              "      <td>0.931736</td>\n",
              "    </tr>\n",
              "    <tr>\n",
              "      <td>4</td>\n",
              "      <td>0.127900</td>\n",
              "      <td>0.173352</td>\n",
              "      <td>0.933058</td>\n",
              "    </tr>\n",
              "  </tbody>\n",
              "</table><p>"
            ],
            "text/plain": [
              "<IPython.core.display.HTML object>"
            ]
          },
          "metadata": {},
          "output_type": "display_data"
        },
        {
          "data": {
            "text/html": [],
            "text/plain": [
              "<IPython.core.display.HTML object>"
            ]
          },
          "metadata": {},
          "output_type": "display_data"
        },
        {
          "data": {
            "text/html": [
              "<br>    <style><br>        .wandb-row {<br>            display: flex;<br>            flex-direction: row;<br>            flex-wrap: wrap;<br>            justify-content: flex-start;<br>            width: 100%;<br>        }<br>        .wandb-col {<br>            display: flex;<br>            flex-direction: column;<br>            flex-basis: 100%;<br>            flex: 1;<br>            padding: 10px;<br>        }<br>    </style><br><div class=\"wandb-row\"><div class=\"wandb-col\"><h3>Run history:</h3><br/><table class=\"wandb\"><tr><td>eval/accuracy</td><td>▁▇▇█</td></tr><tr><td>eval/loss</td><td>█▁▃▁</td></tr><tr><td>eval/runtime</td><td>▆▁█▁</td></tr><tr><td>eval/samples_per_second</td><td>▂█▁█</td></tr><tr><td>eval/steps_per_second</td><td>▂█▁█</td></tr><tr><td>train/epoch</td><td>▁▂▂▂▃▃▄▄▄▅▅▆▆▇▇███</td></tr><tr><td>train/global_step</td><td>▁▂▂▂▃▃▄▄▄▅▅▆▆▇▇███</td></tr><tr><td>train/grad_norm</td><td>▃▂▂▂▂▂▂▂█▂▄▁▁</td></tr><tr><td>train/learning_rate</td><td>█▇▇▆▆▅▅▄▃▃▂▂▁</td></tr><tr><td>train/loss</td><td>█▄▄▃▂▂▂▂▂▁▁▁▁</td></tr></table><br/></div><div class=\"wandb-col\"><h3>Run summary:</h3><br/><table class=\"wandb\"><tr><td>eval/accuracy</td><td>0.93306</td></tr><tr><td>eval/loss</td><td>0.17335</td></tr><tr><td>eval/runtime</td><td>19.9903</td></tr><tr><td>eval/samples_per_second</td><td>302.647</td></tr><tr><td>eval/steps_per_second</td><td>37.868</td></tr><tr><td>total_flos</td><td>2.8846630600925184e+16</td></tr><tr><td>train/epoch</td><td>4</td></tr><tr><td>train/global_step</td><td>6808</td></tr><tr><td>train/grad_norm</td><td>4.37748</td></tr><tr><td>train/learning_rate</td><td>0.0</td></tr><tr><td>train/loss</td><td>0.1279</td></tr><tr><td>train_loss</td><td>0.18347</td></tr><tr><td>train_runtime</td><td>2263.477</td></tr><tr><td>train_samples_per_second</td><td>96.208</td></tr><tr><td>train_steps_per_second</td><td>3.008</td></tr></table><br/></div></div>"
            ],
            "text/plain": [
              "<IPython.core.display.HTML object>"
            ]
          },
          "metadata": {},
          "output_type": "display_data"
        },
        {
          "data": {
            "text/html": [
              " View run <strong style=\"color:#cdcd00\">misunderstood-sweep-3</strong> at: <a href='https://wandb.ai/inflaton-ai/uncategorized/runs/dncx5amf' target=\"_blank\">https://wandb.ai/inflaton-ai/uncategorized/runs/dncx5amf</a><br> View project at: <a href='https://wandb.ai/inflaton-ai/uncategorized' target=\"_blank\">https://wandb.ai/inflaton-ai/uncategorized</a><br>Synced 5 W&B file(s), 0 media file(s), 0 artifact file(s) and 0 other file(s)"
            ],
            "text/plain": [
              "<IPython.core.display.HTML object>"
            ]
          },
          "metadata": {},
          "output_type": "display_data"
        },
        {
          "data": {
            "text/html": [
              "Find logs at: <code>./wandb/run-20250223_012953-dncx5amf/logs</code>"
            ],
            "text/plain": [
              "<IPython.core.display.HTML object>"
            ]
          },
          "metadata": {},
          "output_type": "display_data"
        },
        {
          "name": "stderr",
          "output_type": "stream",
          "text": [
            "\u001b[34m\u001b[1mwandb\u001b[0m: Agent Starting Run: 6iv4aycl with config:\n",
            "\u001b[34m\u001b[1mwandb\u001b[0m: \tlearning_rate: 6.490693450061599e-05\n",
            "\u001b[34m\u001b[1mwandb\u001b[0m: \tper_device_train_batch_size: 32\n"
          ]
        },
        {
          "data": {
            "text/html": [
              "Tracking run with wandb version 0.19.7"
            ],
            "text/plain": [
              "<IPython.core.display.HTML object>"
            ]
          },
          "metadata": {},
          "output_type": "display_data"
        },
        {
          "data": {
            "text/html": [
              "Run data is saved locally in <code>/home/inflaton/code/CrediNews/wandb/run-20250223_020742-6iv4aycl</code>"
            ],
            "text/plain": [
              "<IPython.core.display.HTML object>"
            ]
          },
          "metadata": {},
          "output_type": "display_data"
        },
        {
          "data": {
            "text/html": [
              "Syncing run <strong><a href='https://wandb.ai/inflaton-ai/uncategorized/runs/6iv4aycl' target=\"_blank\">mild-sweep-4</a></strong> to <a href='https://wandb.ai/inflaton-ai/uncategorized' target=\"_blank\">Weights & Biases</a> (<a href='https://wandb.me/developer-guide' target=\"_blank\">docs</a>)<br>Sweep page: <a href='https://wandb.ai/inflaton-ai/uncategorized/sweeps/uyvcwcf5' target=\"_blank\">https://wandb.ai/inflaton-ai/uncategorized/sweeps/uyvcwcf5</a>"
            ],
            "text/plain": [
              "<IPython.core.display.HTML object>"
            ]
          },
          "metadata": {},
          "output_type": "display_data"
        },
        {
          "data": {
            "text/html": [
              " View project at <a href='https://wandb.ai/inflaton-ai/uncategorized' target=\"_blank\">https://wandb.ai/inflaton-ai/uncategorized</a>"
            ],
            "text/plain": [
              "<IPython.core.display.HTML object>"
            ]
          },
          "metadata": {},
          "output_type": "display_data"
        },
        {
          "data": {
            "text/html": [
              " View sweep at <a href='https://wandb.ai/inflaton-ai/uncategorized/sweeps/uyvcwcf5' target=\"_blank\">https://wandb.ai/inflaton-ai/uncategorized/sweeps/uyvcwcf5</a>"
            ],
            "text/plain": [
              "<IPython.core.display.HTML object>"
            ]
          },
          "metadata": {},
          "output_type": "display_data"
        },
        {
          "data": {
            "text/html": [
              " View run at <a href='https://wandb.ai/inflaton-ai/uncategorized/runs/6iv4aycl' target=\"_blank\">https://wandb.ai/inflaton-ai/uncategorized/runs/6iv4aycl</a>"
            ],
            "text/plain": [
              "<IPython.core.display.HTML object>"
            ]
          },
          "metadata": {},
          "output_type": "display_data"
        },
        {
          "name": "stderr",
          "output_type": "stream",
          "text": [
            "Trying to set _wandb in the hyperparameter search but there is no corresponding field in `TrainingArguments`.\n",
            "Trying to set assignments in the hyperparameter search but there is no corresponding field in `TrainingArguments`.\n",
            "Trying to set metric in the hyperparameter search but there is no corresponding field in `TrainingArguments`.\n",
            "Some weights of DistilBertForSequenceClassification were not initialized from the model checkpoint at distilbert/distilbert-base-uncased and are newly initialized: ['classifier.bias', 'classifier.weight', 'pre_classifier.bias', 'pre_classifier.weight']\n",
            "You should probably TRAIN this model on a down-stream task to be able to use it for predictions and inference.\n"
          ]
        },
        {
          "data": {
            "text/html": [],
            "text/plain": [
              "<IPython.core.display.HTML object>"
            ]
          },
          "metadata": {},
          "output_type": "display_data"
        },
        {
          "data": {
            "text/html": [
              " View run <strong style=\"color:#cdcd00\">mild-sweep-4</strong> at: <a href='https://wandb.ai/inflaton-ai/uncategorized/runs/6iv4aycl' target=\"_blank\">https://wandb.ai/inflaton-ai/uncategorized/runs/6iv4aycl</a><br> View project at: <a href='https://wandb.ai/inflaton-ai/uncategorized' target=\"_blank\">https://wandb.ai/inflaton-ai/uncategorized</a><br>Synced 5 W&B file(s), 0 media file(s), 0 artifact file(s) and 0 other file(s)"
            ],
            "text/plain": [
              "<IPython.core.display.HTML object>"
            ]
          },
          "metadata": {},
          "output_type": "display_data"
        },
        {
          "data": {
            "text/html": [
              "Find logs at: <code>./wandb/run-20250223_020742-6iv4aycl/logs</code>"
            ],
            "text/plain": [
              "<IPython.core.display.HTML object>"
            ]
          },
          "metadata": {},
          "output_type": "display_data"
        },
        {
          "data": {
            "text/html": [
              "Ignoring project 'uncategorized' when running a sweep."
            ],
            "text/plain": [
              "<IPython.core.display.HTML object>"
            ]
          },
          "metadata": {},
          "output_type": "display_data"
        },
        {
          "data": {
            "text/html": [
              "Tracking run with wandb version 0.19.7"
            ],
            "text/plain": [
              "<IPython.core.display.HTML object>"
            ]
          },
          "metadata": {},
          "output_type": "display_data"
        },
        {
          "data": {
            "text/html": [
              "Run data is saved locally in <code>/home/inflaton/code/CrediNews/wandb/run-20250223_020746-6iv4aycl</code>"
            ],
            "text/plain": [
              "<IPython.core.display.HTML object>"
            ]
          },
          "metadata": {},
          "output_type": "display_data"
        },
        {
          "data": {
            "text/html": [
              "Syncing run <strong><a href='https://wandb.ai/inflaton-ai/uncategorized/runs/6iv4aycl' target=\"_blank\">mild-sweep-4</a></strong> to <a href='https://wandb.ai/inflaton-ai/uncategorized' target=\"_blank\">Weights & Biases</a> (<a href='https://wandb.me/developer-guide' target=\"_blank\">docs</a>)<br>Sweep page: <a href='https://wandb.ai/inflaton-ai/uncategorized/sweeps/uyvcwcf5' target=\"_blank\">https://wandb.ai/inflaton-ai/uncategorized/sweeps/uyvcwcf5</a>"
            ],
            "text/plain": [
              "<IPython.core.display.HTML object>"
            ]
          },
          "metadata": {},
          "output_type": "display_data"
        },
        {
          "data": {
            "text/html": [
              " View project at <a href='https://wandb.ai/inflaton-ai/uncategorized' target=\"_blank\">https://wandb.ai/inflaton-ai/uncategorized</a>"
            ],
            "text/plain": [
              "<IPython.core.display.HTML object>"
            ]
          },
          "metadata": {},
          "output_type": "display_data"
        },
        {
          "data": {
            "text/html": [
              " View sweep at <a href='https://wandb.ai/inflaton-ai/uncategorized/sweeps/uyvcwcf5' target=\"_blank\">https://wandb.ai/inflaton-ai/uncategorized/sweeps/uyvcwcf5</a>"
            ],
            "text/plain": [
              "<IPython.core.display.HTML object>"
            ]
          },
          "metadata": {},
          "output_type": "display_data"
        },
        {
          "data": {
            "text/html": [
              " View run at <a href='https://wandb.ai/inflaton-ai/uncategorized/runs/6iv4aycl' target=\"_blank\">https://wandb.ai/inflaton-ai/uncategorized/runs/6iv4aycl</a>"
            ],
            "text/plain": [
              "<IPython.core.display.HTML object>"
            ]
          },
          "metadata": {},
          "output_type": "display_data"
        },
        {
          "name": "stderr",
          "output_type": "stream",
          "text": [
            "\u001b[34m\u001b[1mwandb\u001b[0m: \u001b[33mWARNING\u001b[0m Config item 'per_device_train_batch_size' was locked by 'sweep' (ignored update).\n",
            "\u001b[34m\u001b[1mwandb\u001b[0m: \u001b[33mWARNING\u001b[0m Config item 'learning_rate' was locked by 'sweep' (ignored update).\n"
          ]
        },
        {
          "data": {
            "text/html": [
              "\n",
              "    <div>\n",
              "      \n",
              "      <progress value='6808' max='6808' style='width:300px; height:20px; vertical-align: middle;'></progress>\n",
              "      [6808/6808 37:38, Epoch 4/4]\n",
              "    </div>\n",
              "    <table border=\"1\" class=\"dataframe\">\n",
              "  <thead>\n",
              " <tr style=\"text-align: left;\">\n",
              "      <th>Epoch</th>\n",
              "      <th>Training Loss</th>\n",
              "      <th>Validation Loss</th>\n",
              "      <th>Accuracy</th>\n",
              "    </tr>\n",
              "  </thead>\n",
              "  <tbody>\n",
              "    <tr>\n",
              "      <td>1</td>\n",
              "      <td>0.196700</td>\n",
              "      <td>0.169178</td>\n",
              "      <td>0.928264</td>\n",
              "    </tr>\n",
              "    <tr>\n",
              "      <td>2</td>\n",
              "      <td>0.131600</td>\n",
              "      <td>0.151050</td>\n",
              "      <td>0.937686</td>\n",
              "    </tr>\n",
              "    <tr>\n",
              "      <td>3</td>\n",
              "      <td>0.070000</td>\n",
              "      <td>0.228628</td>\n",
              "      <td>0.936364</td>\n",
              "    </tr>\n",
              "    <tr>\n",
              "      <td>4</td>\n",
              "      <td>0.033100</td>\n",
              "      <td>0.272132</td>\n",
              "      <td>0.937521</td>\n",
              "    </tr>\n",
              "  </tbody>\n",
              "</table><p>"
            ],
            "text/plain": [
              "<IPython.core.display.HTML object>"
            ]
          },
          "metadata": {},
          "output_type": "display_data"
        },
        {
          "data": {
            "text/html": [],
            "text/plain": [
              "<IPython.core.display.HTML object>"
            ]
          },
          "metadata": {},
          "output_type": "display_data"
        },
        {
          "data": {
            "text/html": [
              "<br>    <style><br>        .wandb-row {<br>            display: flex;<br>            flex-direction: row;<br>            flex-wrap: wrap;<br>            justify-content: flex-start;<br>            width: 100%;<br>        }<br>        .wandb-col {<br>            display: flex;<br>            flex-direction: column;<br>            flex-basis: 100%;<br>            flex: 1;<br>            padding: 10px;<br>        }<br>    </style><br><div class=\"wandb-row\"><div class=\"wandb-col\"><h3>Run history:</h3><br/><table class=\"wandb\"><tr><td>eval/accuracy</td><td>▁█▇█</td></tr><tr><td>eval/loss</td><td>▂▁▅█</td></tr><tr><td>eval/runtime</td><td>█▁▆▄</td></tr><tr><td>eval/samples_per_second</td><td>▁█▃▅</td></tr><tr><td>eval/steps_per_second</td><td>▁█▃▅</td></tr><tr><td>train/epoch</td><td>▁▂▂▂▃▃▄▄▄▅▅▆▆▇▇███</td></tr><tr><td>train/global_step</td><td>▁▂▂▂▃▃▄▄▄▅▅▆▆▇▇███</td></tr><tr><td>train/grad_norm</td><td>▂▂▂▁▃▂▃▃▆▃█▁▁</td></tr><tr><td>train/learning_rate</td><td>█▇▇▆▆▅▄▄▃▃▂▂▁</td></tr><tr><td>train/loss</td><td>█▆▅▄▃▃▃▂▂▂▁▁▁</td></tr></table><br/></div><div class=\"wandb-col\"><h3>Run summary:</h3><br/><table class=\"wandb\"><tr><td>eval/accuracy</td><td>0.93752</td></tr><tr><td>eval/loss</td><td>0.27213</td></tr><tr><td>eval/runtime</td><td>20.5598</td></tr><tr><td>eval/samples_per_second</td><td>294.264</td></tr><tr><td>eval/steps_per_second</td><td>36.819</td></tr><tr><td>total_flos</td><td>2.8846630600925184e+16</td></tr><tr><td>train/epoch</td><td>4</td></tr><tr><td>train/global_step</td><td>6808</td></tr><tr><td>train/grad_norm</td><td>0.12919</td></tr><tr><td>train/learning_rate</td><td>0.0</td></tr><tr><td>train/loss</td><td>0.0331</td></tr><tr><td>train_loss</td><td>0.11798</td></tr><tr><td>train_runtime</td><td>2262.6164</td></tr><tr><td>train_samples_per_second</td><td>96.244</td></tr><tr><td>train_steps_per_second</td><td>3.009</td></tr></table><br/></div></div>"
            ],
            "text/plain": [
              "<IPython.core.display.HTML object>"
            ]
          },
          "metadata": {},
          "output_type": "display_data"
        },
        {
          "data": {
            "text/html": [
              " View run <strong style=\"color:#cdcd00\">mild-sweep-4</strong> at: <a href='https://wandb.ai/inflaton-ai/uncategorized/runs/6iv4aycl' target=\"_blank\">https://wandb.ai/inflaton-ai/uncategorized/runs/6iv4aycl</a><br> View project at: <a href='https://wandb.ai/inflaton-ai/uncategorized' target=\"_blank\">https://wandb.ai/inflaton-ai/uncategorized</a><br>Synced 5 W&B file(s), 0 media file(s), 0 artifact file(s) and 0 other file(s)"
            ],
            "text/plain": [
              "<IPython.core.display.HTML object>"
            ]
          },
          "metadata": {},
          "output_type": "display_data"
        },
        {
          "data": {
            "text/html": [
              "Find logs at: <code>./wandb/run-20250223_020746-6iv4aycl/logs</code>"
            ],
            "text/plain": [
              "<IPython.core.display.HTML object>"
            ]
          },
          "metadata": {},
          "output_type": "display_data"
        },
        {
          "name": "stderr",
          "output_type": "stream",
          "text": [
            "\u001b[34m\u001b[1mwandb\u001b[0m: Agent Starting Run: l919sqxc with config:\n",
            "\u001b[34m\u001b[1mwandb\u001b[0m: \tlearning_rate: 8.360568780731033e-05\n",
            "\u001b[34m\u001b[1mwandb\u001b[0m: \tper_device_train_batch_size: 16\n"
          ]
        },
        {
          "data": {
            "text/html": [
              "Tracking run with wandb version 0.19.7"
            ],
            "text/plain": [
              "<IPython.core.display.HTML object>"
            ]
          },
          "metadata": {},
          "output_type": "display_data"
        },
        {
          "data": {
            "text/html": [
              "Run data is saved locally in <code>/home/inflaton/code/CrediNews/wandb/run-20250223_024535-l919sqxc</code>"
            ],
            "text/plain": [
              "<IPython.core.display.HTML object>"
            ]
          },
          "metadata": {},
          "output_type": "display_data"
        },
        {
          "data": {
            "text/html": [
              "Syncing run <strong><a href='https://wandb.ai/inflaton-ai/uncategorized/runs/l919sqxc' target=\"_blank\">denim-sweep-5</a></strong> to <a href='https://wandb.ai/inflaton-ai/uncategorized' target=\"_blank\">Weights & Biases</a> (<a href='https://wandb.me/developer-guide' target=\"_blank\">docs</a>)<br>Sweep page: <a href='https://wandb.ai/inflaton-ai/uncategorized/sweeps/uyvcwcf5' target=\"_blank\">https://wandb.ai/inflaton-ai/uncategorized/sweeps/uyvcwcf5</a>"
            ],
            "text/plain": [
              "<IPython.core.display.HTML object>"
            ]
          },
          "metadata": {},
          "output_type": "display_data"
        },
        {
          "data": {
            "text/html": [
              " View project at <a href='https://wandb.ai/inflaton-ai/uncategorized' target=\"_blank\">https://wandb.ai/inflaton-ai/uncategorized</a>"
            ],
            "text/plain": [
              "<IPython.core.display.HTML object>"
            ]
          },
          "metadata": {},
          "output_type": "display_data"
        },
        {
          "data": {
            "text/html": [
              " View sweep at <a href='https://wandb.ai/inflaton-ai/uncategorized/sweeps/uyvcwcf5' target=\"_blank\">https://wandb.ai/inflaton-ai/uncategorized/sweeps/uyvcwcf5</a>"
            ],
            "text/plain": [
              "<IPython.core.display.HTML object>"
            ]
          },
          "metadata": {},
          "output_type": "display_data"
        },
        {
          "data": {
            "text/html": [
              " View run at <a href='https://wandb.ai/inflaton-ai/uncategorized/runs/l919sqxc' target=\"_blank\">https://wandb.ai/inflaton-ai/uncategorized/runs/l919sqxc</a>"
            ],
            "text/plain": [
              "<IPython.core.display.HTML object>"
            ]
          },
          "metadata": {},
          "output_type": "display_data"
        },
        {
          "name": "stderr",
          "output_type": "stream",
          "text": [
            "Trying to set _wandb in the hyperparameter search but there is no corresponding field in `TrainingArguments`.\n",
            "Trying to set assignments in the hyperparameter search but there is no corresponding field in `TrainingArguments`.\n",
            "Trying to set metric in the hyperparameter search but there is no corresponding field in `TrainingArguments`.\n",
            "Some weights of DistilBertForSequenceClassification were not initialized from the model checkpoint at distilbert/distilbert-base-uncased and are newly initialized: ['classifier.bias', 'classifier.weight', 'pre_classifier.bias', 'pre_classifier.weight']\n",
            "You should probably TRAIN this model on a down-stream task to be able to use it for predictions and inference.\n"
          ]
        },
        {
          "data": {
            "text/html": [],
            "text/plain": [
              "<IPython.core.display.HTML object>"
            ]
          },
          "metadata": {},
          "output_type": "display_data"
        },
        {
          "data": {
            "text/html": [
              " View run <strong style=\"color:#cdcd00\">denim-sweep-5</strong> at: <a href='https://wandb.ai/inflaton-ai/uncategorized/runs/l919sqxc' target=\"_blank\">https://wandb.ai/inflaton-ai/uncategorized/runs/l919sqxc</a><br> View project at: <a href='https://wandb.ai/inflaton-ai/uncategorized' target=\"_blank\">https://wandb.ai/inflaton-ai/uncategorized</a><br>Synced 5 W&B file(s), 0 media file(s), 0 artifact file(s) and 0 other file(s)"
            ],
            "text/plain": [
              "<IPython.core.display.HTML object>"
            ]
          },
          "metadata": {},
          "output_type": "display_data"
        },
        {
          "data": {
            "text/html": [
              "Find logs at: <code>./wandb/run-20250223_024535-l919sqxc/logs</code>"
            ],
            "text/plain": [
              "<IPython.core.display.HTML object>"
            ]
          },
          "metadata": {},
          "output_type": "display_data"
        },
        {
          "data": {
            "text/html": [
              "Ignoring project 'uncategorized' when running a sweep."
            ],
            "text/plain": [
              "<IPython.core.display.HTML object>"
            ]
          },
          "metadata": {},
          "output_type": "display_data"
        },
        {
          "data": {
            "text/html": [
              "Tracking run with wandb version 0.19.7"
            ],
            "text/plain": [
              "<IPython.core.display.HTML object>"
            ]
          },
          "metadata": {},
          "output_type": "display_data"
        },
        {
          "data": {
            "text/html": [
              "Run data is saved locally in <code>/home/inflaton/code/CrediNews/wandb/run-20250223_024539-l919sqxc</code>"
            ],
            "text/plain": [
              "<IPython.core.display.HTML object>"
            ]
          },
          "metadata": {},
          "output_type": "display_data"
        },
        {
          "data": {
            "text/html": [
              "Syncing run <strong><a href='https://wandb.ai/inflaton-ai/uncategorized/runs/l919sqxc' target=\"_blank\">denim-sweep-5</a></strong> to <a href='https://wandb.ai/inflaton-ai/uncategorized' target=\"_blank\">Weights & Biases</a> (<a href='https://wandb.me/developer-guide' target=\"_blank\">docs</a>)<br>Sweep page: <a href='https://wandb.ai/inflaton-ai/uncategorized/sweeps/uyvcwcf5' target=\"_blank\">https://wandb.ai/inflaton-ai/uncategorized/sweeps/uyvcwcf5</a>"
            ],
            "text/plain": [
              "<IPython.core.display.HTML object>"
            ]
          },
          "metadata": {},
          "output_type": "display_data"
        },
        {
          "data": {
            "text/html": [
              " View project at <a href='https://wandb.ai/inflaton-ai/uncategorized' target=\"_blank\">https://wandb.ai/inflaton-ai/uncategorized</a>"
            ],
            "text/plain": [
              "<IPython.core.display.HTML object>"
            ]
          },
          "metadata": {},
          "output_type": "display_data"
        },
        {
          "data": {
            "text/html": [
              " View sweep at <a href='https://wandb.ai/inflaton-ai/uncategorized/sweeps/uyvcwcf5' target=\"_blank\">https://wandb.ai/inflaton-ai/uncategorized/sweeps/uyvcwcf5</a>"
            ],
            "text/plain": [
              "<IPython.core.display.HTML object>"
            ]
          },
          "metadata": {},
          "output_type": "display_data"
        },
        {
          "data": {
            "text/html": [
              " View run at <a href='https://wandb.ai/inflaton-ai/uncategorized/runs/l919sqxc' target=\"_blank\">https://wandb.ai/inflaton-ai/uncategorized/runs/l919sqxc</a>"
            ],
            "text/plain": [
              "<IPython.core.display.HTML object>"
            ]
          },
          "metadata": {},
          "output_type": "display_data"
        },
        {
          "name": "stderr",
          "output_type": "stream",
          "text": [
            "\u001b[34m\u001b[1mwandb\u001b[0m: \u001b[33mWARNING\u001b[0m Config item 'per_device_train_batch_size' was locked by 'sweep' (ignored update).\n",
            "\u001b[34m\u001b[1mwandb\u001b[0m: \u001b[33mWARNING\u001b[0m Config item 'learning_rate' was locked by 'sweep' (ignored update).\n"
          ]
        },
        {
          "data": {
            "text/html": [
              "\n",
              "    <div>\n",
              "      \n",
              "      <progress value='13612' max='13612' style='width:300px; height:20px; vertical-align: middle;'></progress>\n",
              "      [13612/13612 38:51, Epoch 4/4]\n",
              "    </div>\n",
              "    <table border=\"1\" class=\"dataframe\">\n",
              "  <thead>\n",
              " <tr style=\"text-align: left;\">\n",
              "      <th>Epoch</th>\n",
              "      <th>Training Loss</th>\n",
              "      <th>Validation Loss</th>\n",
              "      <th>Accuracy</th>\n",
              "    </tr>\n",
              "  </thead>\n",
              "  <tbody>\n",
              "    <tr>\n",
              "      <td>1</td>\n",
              "      <td>0.254300</td>\n",
              "      <td>0.262873</td>\n",
              "      <td>0.919008</td>\n",
              "    </tr>\n",
              "    <tr>\n",
              "      <td>2</td>\n",
              "      <td>0.207000</td>\n",
              "      <td>0.216914</td>\n",
              "      <td>0.918017</td>\n",
              "    </tr>\n",
              "    <tr>\n",
              "      <td>3</td>\n",
              "      <td>0.141300</td>\n",
              "      <td>0.256720</td>\n",
              "      <td>0.927934</td>\n",
              "    </tr>\n",
              "    <tr>\n",
              "      <td>4</td>\n",
              "      <td>0.107000</td>\n",
              "      <td>0.232754</td>\n",
              "      <td>0.928926</td>\n",
              "    </tr>\n",
              "  </tbody>\n",
              "</table><p>"
            ],
            "text/plain": [
              "<IPython.core.display.HTML object>"
            ]
          },
          "metadata": {},
          "output_type": "display_data"
        },
        {
          "data": {
            "text/html": [],
            "text/plain": [
              "<IPython.core.display.HTML object>"
            ]
          },
          "metadata": {},
          "output_type": "display_data"
        },
        {
          "data": {
            "text/html": [
              "<br>    <style><br>        .wandb-row {<br>            display: flex;<br>            flex-direction: row;<br>            flex-wrap: wrap;<br>            justify-content: flex-start;<br>            width: 100%;<br>        }<br>        .wandb-col {<br>            display: flex;<br>            flex-direction: column;<br>            flex-basis: 100%;<br>            flex: 1;<br>            padding: 10px;<br>        }<br>    </style><br><div class=\"wandb-row\"><div class=\"wandb-col\"><h3>Run history:</h3><br/><table class=\"wandb\"><tr><td>eval/accuracy</td><td>▂▁▇█</td></tr><tr><td>eval/loss</td><td>█▁▇▃</td></tr><tr><td>eval/runtime</td><td>█▆▄▁</td></tr><tr><td>eval/samples_per_second</td><td>▁▃▅█</td></tr><tr><td>eval/steps_per_second</td><td>▁▃▅█</td></tr><tr><td>train/epoch</td><td>▁▁▂▂▂▂▃▃▃▃▃▄▄▄▄▄▅▅▅▆▆▆▆▆▇▇▇▇████</td></tr><tr><td>train/global_step</td><td>▁▁▂▂▂▂▃▃▃▃▃▄▄▄▄▄▅▅▅▆▆▆▆▆▇▇▇▇████</td></tr><tr><td>train/grad_norm</td><td>▁▂▂▁▁▁▂█▁▁▁▂▂▁▆▁▂▁▁▁▂▂▁▁▁▁▂</td></tr><tr><td>train/learning_rate</td><td>██▇▇▇▇▆▆▆▆▅▅▅▅▄▄▄▃▃▃▃▂▂▂▂▁▁</td></tr><tr><td>train/loss</td><td>█▆▆▅▅▅▅▄▄▄▄▃▄▃▂▂▂▂▂▂▁▁▁▁▁▁▁</td></tr></table><br/></div><div class=\"wandb-col\"><h3>Run summary:</h3><br/><table class=\"wandb\"><tr><td>eval/accuracy</td><td>0.92893</td></tr><tr><td>eval/loss</td><td>0.23275</td></tr><tr><td>eval/runtime</td><td>21.5225</td></tr><tr><td>eval/samples_per_second</td><td>281.101</td></tr><tr><td>eval/steps_per_second</td><td>35.173</td></tr><tr><td>total_flos</td><td>2.8846630600925184e+16</td></tr><tr><td>train/epoch</td><td>4</td></tr><tr><td>train/global_step</td><td>13612</td></tr><tr><td>train/grad_norm</td><td>3.49825</td></tr><tr><td>train/learning_rate</td><td>0.0</td></tr><tr><td>train/loss</td><td>0.107</td></tr><tr><td>train_loss</td><td>0.19244</td></tr><tr><td>train_runtime</td><td>2334.8964</td></tr><tr><td>train_samples_per_second</td><td>93.265</td></tr><tr><td>train_steps_per_second</td><td>5.83</td></tr></table><br/></div></div>"
            ],
            "text/plain": [
              "<IPython.core.display.HTML object>"
            ]
          },
          "metadata": {},
          "output_type": "display_data"
        },
        {
          "data": {
            "text/html": [
              " View run <strong style=\"color:#cdcd00\">denim-sweep-5</strong> at: <a href='https://wandb.ai/inflaton-ai/uncategorized/runs/l919sqxc' target=\"_blank\">https://wandb.ai/inflaton-ai/uncategorized/runs/l919sqxc</a><br> View project at: <a href='https://wandb.ai/inflaton-ai/uncategorized' target=\"_blank\">https://wandb.ai/inflaton-ai/uncategorized</a><br>Synced 5 W&B file(s), 0 media file(s), 0 artifact file(s) and 0 other file(s)"
            ],
            "text/plain": [
              "<IPython.core.display.HTML object>"
            ]
          },
          "metadata": {},
          "output_type": "display_data"
        },
        {
          "data": {
            "text/html": [
              "Find logs at: <code>./wandb/run-20250223_024539-l919sqxc/logs</code>"
            ],
            "text/plain": [
              "<IPython.core.display.HTML object>"
            ]
          },
          "metadata": {},
          "output_type": "display_data"
        },
        {
          "name": "stdout",
          "output_type": "stream",
          "text": [
            "CPU times: user 3h 12min 20s, sys: 2min 11s, total: 3h 14min 32s\n",
            "Wall time: 3h 15min 8s\n"
          ]
        },
        {
          "data": {
            "text/plain": [
              "BestRun(run_id='6iv4aycl', objective=0.9375206611570248, hyperparameters={'learning_rate': 6.490693450061599e-05, 'per_device_train_batch_size': 32, 'assignments': {}, 'metric': 'eval/loss'}, run_summary=None)"
            ]
          },
          "execution_count": 12,
          "metadata": {},
          "output_type": "execute_result"
        }
      ],
      "source": [
        "%%time\n",
        "\n",
        "best_trial_rewritten = do_grid_search(\"rewritten\")\n",
        "best_trial_rewritten"
      ]
    }
  ],
  "metadata": {
    "accelerator": "GPU",
    "colab": {
      "private_outputs": true,
      "provenance": [],
      "toc_visible": true
    },
    "kernelspec": {
      "display_name": "fake-news",
      "language": "python",
      "name": "python3"
    },
    "language_info": {
      "codemirror_mode": {
        "name": "ipython",
        "version": 3
      },
      "file_extension": ".py",
      "mimetype": "text/x-python",
      "name": "python",
      "nbconvert_exporter": "python",
      "pygments_lexer": "ipython3",
      "version": "3.11.11"
    }
  },
  "nbformat": 4,
  "nbformat_minor": 0
}
