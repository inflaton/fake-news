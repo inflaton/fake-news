{
  "cells": [
    {
      "cell_type": "code",
      "execution_count": 1,
      "metadata": {},
      "outputs": [],
      "source": [
        "%load_ext autoreload\n",
        "%autoreload 2"
      ]
    },
    {
      "cell_type": "code",
      "execution_count": 2,
      "metadata": {},
      "outputs": [
        {
          "name": "stdout",
          "output_type": "stream",
          "text": [
            "working dir: /home/inflaton/code/CrediNews\n"
          ]
        }
      ],
      "source": [
        "import os\n",
        "import sys\n",
        "from pathlib import Path\n",
        "\n",
        "if \"workding_dir\" not in locals():\n",
        "    workding_dir = str(Path.cwd().parent)\n",
        "os.chdir(workding_dir)\n",
        "sys.path.append(workding_dir)\n",
        "print(\"working dir:\", workding_dir)"
      ]
    },
    {
      "cell_type": "code",
      "execution_count": 3,
      "metadata": {},
      "outputs": [
        {
          "name": "stdout",
          "output_type": "stream",
          "text": [
            "loading env vars from: /home/inflaton/code/CrediNews/.env\n"
          ]
        },
        {
          "data": {
            "text/plain": [
              "True"
            ]
          },
          "execution_count": 3,
          "metadata": {},
          "output_type": "execute_result"
        }
      ],
      "source": [
        "from dotenv import find_dotenv, load_dotenv\n",
        "\n",
        "found_dotenv = find_dotenv(\".env\")\n",
        "\n",
        "if len(found_dotenv) == 0:\n",
        "    found_dotenv = find_dotenv(\".env.example\")\n",
        "print(f\"loading env vars from: {found_dotenv}\")\n",
        "load_dotenv(found_dotenv, override=True)"
      ]
    },
    {
      "cell_type": "code",
      "execution_count": 4,
      "metadata": {},
      "outputs": [
        {
          "name": "stderr",
          "output_type": "stream",
          "text": [
            "2025-02-25 10:12:36.812915: I tensorflow/core/util/port.cc:153] oneDNN custom operations are on. You may see slightly different numerical results due to floating-point round-off errors from different computation orders. To turn them off, set the environment variable `TF_ENABLE_ONEDNN_OPTS=0`.\n",
            "2025-02-25 10:12:36.819556: E external/local_xla/xla/stream_executor/cuda/cuda_fft.cc:477] Unable to register cuFFT factory: Attempting to register factory for plugin cuFFT when one has already been registered\n",
            "WARNING: All log messages before absl::InitializeLog() is called are written to STDERR\n",
            "E0000 00:00:1740449556.827172  121318 cuda_dnn.cc:8310] Unable to register cuDNN factory: Attempting to register factory for plugin cuDNN when one has already been registered\n",
            "E0000 00:00:1740449556.829576  121318 cuda_blas.cc:1418] Unable to register cuBLAS factory: Attempting to register factory for plugin cuBLAS when one has already been registered\n",
            "2025-02-25 10:12:36.838369: I tensorflow/core/platform/cpu_feature_guard.cc:210] This TensorFlow binary is optimized to use available CPU instructions in performance-critical operations.\n",
            "To enable the following instructions: AVX2 AVX512F AVX512_VNNI AVX512_BF16 AVX_VNNI FMA, in other operations, rebuild TensorFlow with the appropriate compiler flags.\n"
          ]
        }
      ],
      "source": [
        "from llm_experiements.utils import *"
      ]
    },
    {
      "cell_type": "code",
      "execution_count": 5,
      "metadata": {},
      "outputs": [],
      "source": [
        "model_name = \"./results/RoBERTa-original\""
      ]
    },
    {
      "cell_type": "code",
      "execution_count": 6,
      "metadata": {},
      "outputs": [
        {
          "data": {
            "application/vnd.jupyter.widget-view+json": {
              "model_id": "659420cbe5dc4cf0b862d5bec2ef7d40",
              "version_major": 2,
              "version_minor": 0
            },
            "text/plain": [
              "Map:   0%|          | 0/54441 [00:00<?, ? examples/s]"
            ]
          },
          "metadata": {},
          "output_type": "display_data"
        },
        {
          "data": {
            "application/vnd.jupyter.widget-view+json": {
              "model_id": "44198d50456b4cdc8da8efa640e0e63d",
              "version_major": 2,
              "version_minor": 0
            },
            "text/plain": [
              "Map:   0%|          | 0/6050 [00:00<?, ? examples/s]"
            ]
          },
          "metadata": {},
          "output_type": "display_data"
        },
        {
          "data": {
            "application/vnd.jupyter.widget-view+json": {
              "model_id": "4b80cd62c03d4be993325e1f986e307f",
              "version_major": 2,
              "version_minor": 0
            },
            "text/plain": [
              "Map:   0%|          | 0/54441 [00:00<?, ? examples/s]"
            ]
          },
          "metadata": {},
          "output_type": "display_data"
        },
        {
          "data": {
            "application/vnd.jupyter.widget-view+json": {
              "model_id": "912f02489dac4cc99eb0c0b50374840b",
              "version_major": 2,
              "version_minor": 0
            },
            "text/plain": [
              "Map:   0%|          | 0/6050 [00:00<?, ? examples/s]"
            ]
          },
          "metadata": {},
          "output_type": "display_data"
        },
        {
          "name": "stderr",
          "output_type": "stream",
          "text": [
            "Using the `WANDB_DISABLED` environment variable is deprecated and will be removed in v5. Use the --report_to flag to control the integrations used for logging result (for instance --report_to none).\n"
          ]
        },
        {
          "data": {
            "text/html": [
              "\n",
              "    <div>\n",
              "      \n",
              "      <progress value='379' max='379' style='width:300px; height:20px; vertical-align: middle;'></progress>\n",
              "      [379/379 00:27]\n",
              "    </div>\n",
              "    "
            ],
            "text/plain": [
              "<IPython.core.display.HTML object>"
            ]
          },
          "metadata": {},
          "output_type": "display_data"
        },
        {
          "name": "stdout",
          "output_type": "stream",
          "text": [
            "Evaluation Results: {'eval_loss': 0.04458817467093468, 'eval_model_preparation_time': 0.0012, 'eval_accuracy': 0.9930578512396694, 'eval_precision': 0.9916949792374481, 'eval_recall': 0.9924442765394786, 'eval_f1_score': 0.9920694864048338, 'eval_runtime': 27.9885, 'eval_samples_per_second': 216.161, 'eval_steps_per_second': 13.541}\n",
            "\n",
            "🏆 Final Evaluation Results:\n",
            "🔹 Accuracy: 0.9931\n",
            "🔹 Precision: 0.9917\n",
            "🔹 Recall: 0.9924\n",
            "🔹 F1_score: 0.9921\n",
            "🔹 Throughput: 139.3590\n",
            "CPU times: user 1min 46s, sys: 2.4 s, total: 1min 49s\n",
            "Wall time: 59.7 s\n"
          ]
        }
      ],
      "source": [
        "%%time\n",
        "\n",
        "perf_original_model_val_data = evaluate_fine_tuned_llm(model_name, config=\"original\")"
      ]
    },
    {
      "cell_type": "code",
      "execution_count": 7,
      "metadata": {},
      "outputs": [
        {
          "name": "stderr",
          "output_type": "stream",
          "text": [
            "Using the `WANDB_DISABLED` environment variable is deprecated and will be removed in v5. Use the --report_to flag to control the integrations used for logging result (for instance --report_to none).\n"
          ]
        },
        {
          "data": {
            "text/html": [
              "\n",
              "    <div>\n",
              "      \n",
              "      <progress value='379' max='379' style='width:300px; height:20px; vertical-align: middle;'></progress>\n",
              "      [379/379 00:28]\n",
              "    </div>\n",
              "    "
            ],
            "text/plain": [
              "<IPython.core.display.HTML object>"
            ]
          },
          "metadata": {},
          "output_type": "display_data"
        },
        {
          "name": "stdout",
          "output_type": "stream",
          "text": [
            "Evaluation Results: {'eval_loss': 1.1064867973327637, 'eval_model_preparation_time': 0.0013, 'eval_accuracy': 0.8251239669421487, 'eval_precision': 0.9047376464595007, 'eval_recall': 0.6709482432942955, 'eval_f1_score': 0.7704989154013016, 'eval_runtime': 28.8622, 'eval_samples_per_second': 209.616, 'eval_steps_per_second': 13.131}\n",
            "\n",
            "🏆 Final Evaluation Results:\n",
            "🔹 Accuracy: 0.8251\n",
            "🔹 Precision: 0.9047\n",
            "🔹 Recall: 0.6709\n",
            "🔹 F1_score: 0.7705\n",
            "🔹 Throughput: 207.1418\n",
            "CPU times: user 29 s, sys: 338 ms, total: 29.3 s\n",
            "Wall time: 44.9 s\n"
          ]
        }
      ],
      "source": [
        "%%time\n",
        "\n",
        "perf_original_model_val_data_rewritten = evaluate_fine_tuned_llm(\n",
        "    model_name, config=\"rewritten\"\n",
        ")"
      ]
    },
    {
      "cell_type": "code",
      "execution_count": 8,
      "metadata": {},
      "outputs": [],
      "source": [
        "model_name = \"./results/RoBERTa-combined\""
      ]
    },
    {
      "cell_type": "code",
      "execution_count": 9,
      "metadata": {},
      "outputs": [
        {
          "data": {
            "application/vnd.jupyter.widget-view+json": {
              "model_id": "dea8e33c6072460b8cee9a520f79dfec",
              "version_major": 2,
              "version_minor": 0
            },
            "text/plain": [
              "Map:   0%|          | 0/54441 [00:00<?, ? examples/s]"
            ]
          },
          "metadata": {},
          "output_type": "display_data"
        },
        {
          "data": {
            "application/vnd.jupyter.widget-view+json": {
              "model_id": "55e273a490c14e658ce3036e7929ec66",
              "version_major": 2,
              "version_minor": 0
            },
            "text/plain": [
              "Map:   0%|          | 0/6050 [00:00<?, ? examples/s]"
            ]
          },
          "metadata": {},
          "output_type": "display_data"
        },
        {
          "data": {
            "application/vnd.jupyter.widget-view+json": {
              "model_id": "ed2594561af448aebba23b1db5b64960",
              "version_major": 2,
              "version_minor": 0
            },
            "text/plain": [
              "Map:   0%|          | 0/54441 [00:00<?, ? examples/s]"
            ]
          },
          "metadata": {},
          "output_type": "display_data"
        },
        {
          "data": {
            "application/vnd.jupyter.widget-view+json": {
              "model_id": "003cf321646442e699a20eb3e7973ff7",
              "version_major": 2,
              "version_minor": 0
            },
            "text/plain": [
              "Map:   0%|          | 0/6050 [00:00<?, ? examples/s]"
            ]
          },
          "metadata": {},
          "output_type": "display_data"
        },
        {
          "name": "stderr",
          "output_type": "stream",
          "text": [
            "Using the `WANDB_DISABLED` environment variable is deprecated and will be removed in v5. Use the --report_to flag to control the integrations used for logging result (for instance --report_to none).\n"
          ]
        },
        {
          "data": {
            "text/html": [
              "\n",
              "    <div>\n",
              "      \n",
              "      <progress value='379' max='379' style='width:300px; height:20px; vertical-align: middle;'></progress>\n",
              "      [379/379 00:28]\n",
              "    </div>\n",
              "    "
            ],
            "text/plain": [
              "<IPython.core.display.HTML object>"
            ]
          },
          "metadata": {},
          "output_type": "display_data"
        },
        {
          "name": "stdout",
          "output_type": "stream",
          "text": [
            "Evaluation Results: {'eval_loss': 0.024076024070382118, 'eval_model_preparation_time': 0.0013, 'eval_accuracy': 0.9923966942148761, 'eval_precision': 0.9883589936162223, 'eval_recall': 0.994333207404609, 'eval_f1_score': 0.9913370998116761, 'eval_runtime': 28.6603, 'eval_samples_per_second': 211.094, 'eval_steps_per_second': 13.224}\n",
            "\n",
            "🏆 Final Evaluation Results:\n",
            "🔹 Accuracy: 0.9924\n",
            "🔹 Precision: 0.9884\n",
            "🔹 Recall: 0.9943\n",
            "🔹 F1_score: 0.9913\n",
            "🔹 Throughput: 138.7672\n",
            "CPU times: user 1min 51s, sys: 2.29 s, total: 1min 53s\n",
            "Wall time: 1min 5s\n"
          ]
        }
      ],
      "source": [
        "%%time\n",
        "\n",
        "perf_combined_model_val_data = evaluate_fine_tuned_llm(model_name, config=\"original\")"
      ]
    },
    {
      "cell_type": "code",
      "execution_count": 10,
      "metadata": {},
      "outputs": [
        {
          "name": "stderr",
          "output_type": "stream",
          "text": [
            "Using the `WANDB_DISABLED` environment variable is deprecated and will be removed in v5. Use the --report_to flag to control the integrations used for logging result (for instance --report_to none).\n"
          ]
        },
        {
          "data": {
            "text/html": [
              "\n",
              "    <div>\n",
              "      \n",
              "      <progress value='379' max='379' style='width:300px; height:20px; vertical-align: middle;'></progress>\n",
              "      [379/379 00:28]\n",
              "    </div>\n",
              "    "
            ],
            "text/plain": [
              "<IPython.core.display.HTML object>"
            ]
          },
          "metadata": {},
          "output_type": "display_data"
        },
        {
          "name": "stdout",
          "output_type": "stream",
          "text": [
            "Evaluation Results: {'eval_loss': 0.19011032581329346, 'eval_model_preparation_time': 0.0012, 'eval_accuracy': 0.9406611570247934, 'eval_precision': 0.9291072768192048, 'eval_recall': 0.9357763505855685, 'eval_f1_score': 0.932429888951628, 'eval_runtime': 29.0863, 'eval_samples_per_second': 208.002, 'eval_steps_per_second': 13.03}\n",
            "\n",
            "🏆 Final Evaluation Results:\n",
            "🔹 Accuracy: 0.9407\n",
            "🔹 Precision: 0.9291\n",
            "🔹 Recall: 0.9358\n",
            "🔹 F1_score: 0.9324\n",
            "🔹 Throughput: 205.0409\n",
            "CPU times: user 29.1 s, sys: 469 ms, total: 29.6 s\n",
            "Wall time: 49.3 s\n"
          ]
        }
      ],
      "source": [
        "%%time\n",
        "\n",
        "perf_combined_model_val_data_rewritten = evaluate_fine_tuned_llm(model_name, config=\"rewritten\")"
      ]
    },
    {
      "cell_type": "code",
      "execution_count": 11,
      "metadata": {},
      "outputs": [],
      "source": [
        "model_name = \"./results/RoBERTa-rewritten\""
      ]
    },
    {
      "cell_type": "code",
      "execution_count": 12,
      "metadata": {},
      "outputs": [
        {
          "data": {
            "application/vnd.jupyter.widget-view+json": {
              "model_id": "9c007ddaf66a48cba9007e3d4319c52d",
              "version_major": 2,
              "version_minor": 0
            },
            "text/plain": [
              "Map:   0%|          | 0/54441 [00:00<?, ? examples/s]"
            ]
          },
          "metadata": {},
          "output_type": "display_data"
        },
        {
          "data": {
            "application/vnd.jupyter.widget-view+json": {
              "model_id": "430b6416d2cd46d693e8ea3ab84f2953",
              "version_major": 2,
              "version_minor": 0
            },
            "text/plain": [
              "Map:   0%|          | 0/6050 [00:00<?, ? examples/s]"
            ]
          },
          "metadata": {},
          "output_type": "display_data"
        },
        {
          "data": {
            "application/vnd.jupyter.widget-view+json": {
              "model_id": "6b288601958f45e8bd5233d81bf0a4af",
              "version_major": 2,
              "version_minor": 0
            },
            "text/plain": [
              "Map:   0%|          | 0/54441 [00:00<?, ? examples/s]"
            ]
          },
          "metadata": {},
          "output_type": "display_data"
        },
        {
          "data": {
            "application/vnd.jupyter.widget-view+json": {
              "model_id": "2a1267fe6f984dc99cd9eadb2e10255f",
              "version_major": 2,
              "version_minor": 0
            },
            "text/plain": [
              "Map:   0%|          | 0/6050 [00:00<?, ? examples/s]"
            ]
          },
          "metadata": {},
          "output_type": "display_data"
        },
        {
          "name": "stderr",
          "output_type": "stream",
          "text": [
            "Using the `WANDB_DISABLED` environment variable is deprecated and will be removed in v5. Use the --report_to flag to control the integrations used for logging result (for instance --report_to none).\n"
          ]
        },
        {
          "data": {
            "text/html": [
              "\n",
              "    <div>\n",
              "      \n",
              "      <progress value='379' max='379' style='width:300px; height:20px; vertical-align: middle;'></progress>\n",
              "      [379/379 00:29]\n",
              "    </div>\n",
              "    "
            ],
            "text/plain": [
              "<IPython.core.display.HTML object>"
            ]
          },
          "metadata": {},
          "output_type": "display_data"
        },
        {
          "name": "stdout",
          "output_type": "stream",
          "text": [
            "Evaluation Results: {'eval_loss': 0.12030333280563354, 'eval_model_preparation_time': 0.0013, 'eval_accuracy': 0.9738842975206612, 'eval_precision': 0.9770026830203143, 'eval_recall': 0.9629769550434454, 'eval_f1_score': 0.9699391171993912, 'eval_runtime': 29.9272, 'eval_samples_per_second': 202.157, 'eval_steps_per_second': 12.664}\n",
            "\n",
            "🏆 Final Evaluation Results:\n",
            "🔹 Accuracy: 0.9739\n",
            "🔹 Precision: 0.9770\n",
            "🔹 Recall: 0.9630\n",
            "🔹 F1_score: 0.9699\n",
            "🔹 Throughput: 134.3188\n",
            "CPU times: user 1min 51s, sys: 1.98 s, total: 1min 53s\n",
            "Wall time: 1min\n"
          ]
        }
      ],
      "source": [
        "%%time\n",
        "\n",
        "perf_rewritten_model_val_data = evaluate_fine_tuned_llm(model_name, config=\"original\")"
      ]
    },
    {
      "cell_type": "code",
      "execution_count": 13,
      "metadata": {},
      "outputs": [
        {
          "name": "stderr",
          "output_type": "stream",
          "text": [
            "Using the `WANDB_DISABLED` environment variable is deprecated and will be removed in v5. Use the --report_to flag to control the integrations used for logging result (for instance --report_to none).\n"
          ]
        },
        {
          "data": {
            "text/html": [
              "\n",
              "    <div>\n",
              "      \n",
              "      <progress value='379' max='379' style='width:300px; height:20px; vertical-align: middle;'></progress>\n",
              "      [379/379 00:30]\n",
              "    </div>\n",
              "    "
            ],
            "text/plain": [
              "<IPython.core.display.HTML object>"
            ]
          },
          "metadata": {},
          "output_type": "display_data"
        },
        {
          "name": "stdout",
          "output_type": "stream",
          "text": [
            "Evaluation Results: {'eval_loss': 0.22525285184383392, 'eval_model_preparation_time': 0.0012, 'eval_accuracy': 0.947603305785124, 'eval_precision': 0.9392911010558069, 'eval_recall': 0.9410653570079335, 'eval_f1_score': 0.9401773919607473, 'eval_runtime': 30.1624, 'eval_samples_per_second': 200.581, 'eval_steps_per_second': 12.565}\n",
            "\n",
            "🏆 Final Evaluation Results:\n",
            "🔹 Accuracy: 0.9476\n",
            "🔹 Precision: 0.9393\n",
            "🔹 Recall: 0.9411\n",
            "🔹 F1_score: 0.9402\n",
            "🔹 Throughput: 197.7899\n",
            "CPU times: user 30.1 s, sys: 561 ms, total: 30.7 s\n",
            "Wall time: 48.3 s\n"
          ]
        }
      ],
      "source": [
        "%%time\n",
        "\n",
        "perf_rewritten_model_val_data_rewritten = evaluate_fine_tuned_llm(model_name, config=\"rewritten\")"
      ]
    },
    {
      "cell_type": "code",
      "execution_count": 14,
      "metadata": {},
      "outputs": [
        {
          "name": "stdout",
          "output_type": "stream",
          "text": [
            "Results saved to results/RoBERTa_metrics.csv\n"
          ]
        }
      ],
      "source": [
        "from llm_experiements.utils import *\n",
        "\n",
        "model = \"RoBERTa\"\n",
        "save_results(\n",
        "    model,\n",
        "    perf_original_model_val_data,\n",
        "    perf_original_model_val_data_rewritten,\n",
        "    perf_combined_model_val_data,\n",
        "    perf_combined_model_val_data_rewritten,\n",
        "    perf_rewritten_model_val_data,\n",
        "    perf_rewritten_model_val_data_rewritten,\n",
        ")"
      ]
    },
    {
      "cell_type": "code",
      "execution_count": 15,
      "metadata": {},
      "outputs": [
        {
          "data": {
            "image/png": "[encoded data removed]",
            "text/plain": [
              "<Figure size 1500x500 with 6 Axes>"
            ]
          },
          "metadata": {},
          "output_type": "display_data"
        }
      ],
      "source": [
        "plot_results(\n",
        "    model,\n",
        "    perf_original_model_val_data,\n",
        "    perf_original_model_val_data_rewritten,\n",
        "    perf_combined_model_val_data,\n",
        "    perf_combined_model_val_data_rewritten,\n",
        "    perf_rewritten_model_val_data,\n",
        "    perf_rewritten_model_val_data_rewritten,\n",
        ")"
      ]
    }
  ],
  "metadata": {
    "accelerator": "GPU",
    "colab": {
      "private_outputs": true,
      "provenance": [],
      "toc_visible": true
    },
    "kernelspec": {
      "display_name": "fake-news",
      "language": "python",
      "name": "python3"
    },
    "language_info": {
      "codemirror_mode": {
        "name": "ipython",
        "version": 3
      },
      "file_extension": ".py",
      "mimetype": "text/x-python",
      "name": "python",
      "nbconvert_exporter": "python",
      "pygments_lexer": "ipython3",
      "version": "3.11.11"
    }
  },
  "nbformat": 4,
  "nbformat_minor": 0
}
