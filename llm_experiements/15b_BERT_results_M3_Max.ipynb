{
  "cells": [
    {
      "cell_type": "code",
      "execution_count": 1,
      "metadata": {},
      "outputs": [
        {
          "name": "stdout",
          "output_type": "stream",
          "text": [
            "working dir: /Users/inflaton/code/engd/papers/DM-Fake-News-Detection\n"
          ]
        }
      ],
      "source": [
        "import os\n",
        "import sys\n",
        "from pathlib import Path\n",
        "\n",
        "if \"workding_dir\" not in locals():\n",
        "    workding_dir = str(Path.cwd().parent)\n",
        "os.chdir(workding_dir)\n",
        "sys.path.append(workding_dir)\n",
        "print(\"working dir:\", workding_dir)"
      ]
    },
    {
      "cell_type": "code",
      "execution_count": 2,
      "metadata": {},
      "outputs": [
        {
          "name": "stdout",
          "output_type": "stream",
          "text": [
            "loading env vars from: /Users/inflaton/code/engd/papers/DM-Fake-News-Detection/.env\n"
          ]
        },
        {
          "data": {
            "text/plain": [
              "True"
            ]
          },
          "execution_count": 2,
          "metadata": {},
          "output_type": "execute_result"
        }
      ],
      "source": [
        "from dotenv import find_dotenv, load_dotenv\n",
        "\n",
        "found_dotenv = find_dotenv(\".env\")\n",
        "\n",
        "if len(found_dotenv) == 0:\n",
        "    found_dotenv = find_dotenv(\".env.example\")\n",
        "print(f\"loading env vars from: {found_dotenv}\")\n",
        "load_dotenv(found_dotenv, override=True)"
      ]
    },
    {
      "cell_type": "code",
      "execution_count": 3,
      "metadata": {},
      "outputs": [],
      "source": [
        "from llm_experiements.utils import *"
      ]
    },
    {
      "cell_type": "code",
      "execution_count": 4,
      "metadata": {},
      "outputs": [],
      "source": [
        "model_name = \"./results/BERT-original\""
      ]
    },
    {
      "cell_type": "code",
      "execution_count": 5,
      "metadata": {},
      "outputs": [
        {
          "data": {
            "text/html": [
              "\n",
              "    <div>\n",
              "      \n",
              "      <progress value='379' max='379' style='width:300px; height:20px; vertical-align: middle;'></progress>\n",
              "      [379/379 02:02]\n",
              "    </div>\n",
              "    "
            ],
            "text/plain": [
              "<IPython.core.display.HTML object>"
            ]
          },
          "metadata": {},
          "output_type": "display_data"
        },
        {
          "name": "stderr",
          "output_type": "stream",
          "text": [
            "\u001b[34m\u001b[1mwandb\u001b[0m: \u001b[33mWARNING\u001b[0m The `run_name` is currently set to the same value as `TrainingArguments.output_dir`. If this was not intended, please specify a different run name by setting the `TrainingArguments.run_name` parameter.\n",
            "\u001b[34m\u001b[1mwandb\u001b[0m: Using wandb-core as the SDK backend.  Please refer to https://wandb.me/wandb-core for more information.\n",
            "\u001b[34m\u001b[1mwandb\u001b[0m: Currently logged in as: \u001b[33minflaton-sg\u001b[0m (\u001b[33minflaton-ai\u001b[0m) to \u001b[32mhttps://api.wandb.ai\u001b[0m. Use \u001b[1m`wandb login --relogin`\u001b[0m to force relogin\n"
          ]
        },
        {
          "data": {
            "text/html": [
              "Tracking run with wandb version 0.19.7"
            ],
            "text/plain": [
              "<IPython.core.display.HTML object>"
            ]
          },
          "metadata": {},
          "output_type": "display_data"
        },
        {
          "data": {
            "text/html": [
              "Run data is saved locally in <code>/Users/inflaton/code/engd/papers/DM-Fake-News-Detection/wandb/run-20250222_232831-v453zhsl</code>"
            ],
            "text/plain": [
              "<IPython.core.display.HTML object>"
            ]
          },
          "metadata": {},
          "output_type": "display_data"
        },
        {
          "data": {
            "text/html": [
              "Syncing run <strong><a href='https://wandb.ai/inflaton-ai/huggingface/runs/v453zhsl' target=\"_blank\">./results</a></strong> to <a href='https://wandb.ai/inflaton-ai/huggingface' target=\"_blank\">Weights & Biases</a> (<a href='https://wandb.me/developer-guide' target=\"_blank\">docs</a>)<br>"
            ],
            "text/plain": [
              "<IPython.core.display.HTML object>"
            ]
          },
          "metadata": {},
          "output_type": "display_data"
        },
        {
          "data": {
            "text/html": [
              " View project at <a href='https://wandb.ai/inflaton-ai/huggingface' target=\"_blank\">https://wandb.ai/inflaton-ai/huggingface</a>"
            ],
            "text/plain": [
              "<IPython.core.display.HTML object>"
            ]
          },
          "metadata": {},
          "output_type": "display_data"
        },
        {
          "data": {
            "text/html": [
              " View run at <a href='https://wandb.ai/inflaton-ai/huggingface/runs/v453zhsl' target=\"_blank\">https://wandb.ai/inflaton-ai/huggingface/runs/v453zhsl</a>"
            ],
            "text/plain": [
              "<IPython.core.display.HTML object>"
            ]
          },
          "metadata": {},
          "output_type": "display_data"
        },
        {
          "name": "stdout",
          "output_type": "stream",
          "text": [
            "Evaluation Results: {'eval_loss': 0.0358753502368927, 'eval_model_preparation_time': 0.001, 'eval_accuracy': 0.9945454545454545, 'eval_precision': 0.9920933734939759, 'eval_recall': 0.9954665659236872, 'eval_f1_score': 0.993777107297756, 'eval_runtime': 122.9945, 'eval_samples_per_second': 49.189, 'eval_steps_per_second': 3.081}\n",
            "\n",
            "🏆 Final Evaluation Results:\n",
            "🔹 Accuracy: 0.9945\n",
            "🔹 Precision: 0.9921\n",
            "🔹 Recall: 0.9955\n",
            "🔹 F1_score: 0.9938\n",
            "CPU times: user 9.96 s, sys: 2.69 s, total: 12.7 s\n",
            "Wall time: 2min 10s\n"
          ]
        }
      ],
      "source": [
        "%%time\n",
        "\n",
        "perf_original_model_val_data = evaluate_fine_tuned_llm(model_name, config=\"original\")"
      ]
    },
    {
      "cell_type": "code",
      "execution_count": 6,
      "metadata": {},
      "outputs": [
        {
          "data": {
            "text/html": [
              "\n",
              "    <div>\n",
              "      \n",
              "      <progress value='379' max='379' style='width:300px; height:20px; vertical-align: middle;'></progress>\n",
              "      [379/379 03:59]\n",
              "    </div>\n",
              "    "
            ],
            "text/plain": [
              "<IPython.core.display.HTML object>"
            ]
          },
          "metadata": {},
          "output_type": "display_data"
        },
        {
          "name": "stdout",
          "output_type": "stream",
          "text": [
            "Evaluation Results: {'eval_loss': 1.6217832565307617, 'eval_model_preparation_time': 0.0012, 'eval_accuracy': 0.7725619834710744, 'eval_precision': 0.9156311314584696, 'eval_recall': 0.5289006422364941, 'eval_f1_score': 0.6704980842911877, 'eval_runtime': 239.7678, 'eval_samples_per_second': 25.233, 'eval_steps_per_second': 1.581}\n",
            "\n",
            "🏆 Final Evaluation Results:\n",
            "🔹 Accuracy: 0.7726\n",
            "🔹 Precision: 0.9156\n",
            "🔹 Recall: 0.5289\n",
            "🔹 F1_score: 0.6705\n",
            "CPU times: user 14.8 s, sys: 3.96 s, total: 18.8 s\n",
            "Wall time: 4min 5s\n"
          ]
        }
      ],
      "source": [
        "%%time\n",
        "\n",
        "perf_original_model_val_data_rewritten = evaluate_fine_tuned_llm(\n",
        "    model_name, config=\"rewritten\"\n",
        ")"
      ]
    }
  ],
  "metadata": {
    "accelerator": "GPU",
    "colab": {
      "private_outputs": true,
      "provenance": [],
      "toc_visible": true
    },
    "kernelspec": {
      "display_name": "fake-news",
      "language": "python",
      "name": "python3"
    },
    "language_info": {
      "codemirror_mode": {
        "name": "ipython",
        "version": 3
      },
      "file_extension": ".py",
      "mimetype": "text/x-python",
      "name": "python",
      "nbconvert_exporter": "python",
      "pygments_lexer": "ipython3",
      "version": "3.11.11"
    }
  },
  "nbformat": 4,
  "nbformat_minor": 0
}
