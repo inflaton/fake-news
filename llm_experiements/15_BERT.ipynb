{
  "cells": [
    {
      "cell_type": "code",
      "execution_count": 1,
      "metadata": {},
      "outputs": [
        {
          "name": "stdout",
          "output_type": "stream",
          "text": [
            "working dir: c:\\Users\\admin\\code\\CrediNews\n"
          ]
        }
      ],
      "source": [
        "import os\n",
        "import sys\n",
        "from pathlib import Path\n",
        "\n",
        "if \"workding_dir\" not in locals():\n",
        "    workding_dir = str(Path.cwd().parent)\n",
        "os.chdir(workding_dir)\n",
        "sys.path.append(workding_dir)\n",
        "print(\"working dir:\", workding_dir)"
      ]
    },
    {
      "cell_type": "code",
      "execution_count": 2,
      "metadata": {},
      "outputs": [
        {
          "name": "stdout",
          "output_type": "stream",
          "text": [
            "loading env vars from: c:\\Users\\admin\\code\\CrediNews\\.env\n"
          ]
        },
        {
          "data": {
            "text/plain": [
              "True"
            ]
          },
          "execution_count": 2,
          "metadata": {},
          "output_type": "execute_result"
        }
      ],
      "source": [
        "from dotenv import find_dotenv, load_dotenv\n",
        "\n",
        "found_dotenv = find_dotenv(\".env\")\n",
        "\n",
        "if len(found_dotenv) == 0:\n",
        "    found_dotenv = find_dotenv(\".env.example\")\n",
        "print(f\"loading env vars from: {found_dotenv}\")\n",
        "load_dotenv(found_dotenv, override=True)"
      ]
    },
    {
      "cell_type": "code",
      "execution_count": 3,
      "metadata": {
        "id": "Jqhhzz6YtRqD"
      },
      "outputs": [
        {
          "data": {
            "text/plain": [
              "'f541b'"
            ]
          },
          "execution_count": 3,
          "metadata": {},
          "output_type": "execute_result"
        }
      ],
      "source": [
        "# !pip install wandb\n",
        "import os\n",
        "os.getenv(\"WANDB_API_KEY\", \"empty\")[-5:]"
      ]
    },
    {
      "cell_type": "code",
      "execution_count": 4,
      "metadata": {
        "id": "hcfbQ8FmuIM9"
      },
      "outputs": [
        {
          "name": "stdout",
          "output_type": "stream",
          "text": [
            "WARNING:tensorflow:From c:\\Users\\admin\\.conda\\envs\\fake-news\\Lib\\site-packages\\tf_keras\\src\\losses.py:2976: The name tf.losses.sparse_softmax_cross_entropy is deprecated. Please use tf.compat.v1.losses.sparse_softmax_cross_entropy instead.\n",
            "\n",
            "Downloading and caching pre-trained model\n"
          ]
        },
        {
          "name": "stderr",
          "output_type": "stream",
          "text": [
            "Some weights of BertForSequenceClassification were not initialized from the model checkpoint at bert-base-uncased and are newly initialized: ['classifier.bias', 'classifier.weight']\n",
            "You should probably TRAIN this model on a down-stream task to be able to use it for predictions and inference.\n"
          ]
        },
        {
          "data": {
            "text/plain": [
              "BertForSequenceClassification(\n",
              "  (bert): BertModel(\n",
              "    (embeddings): BertEmbeddings(\n",
              "      (word_embeddings): Embedding(30522, 768, padding_idx=0)\n",
              "      (position_embeddings): Embedding(512, 768)\n",
              "      (token_type_embeddings): Embedding(2, 768)\n",
              "      (LayerNorm): LayerNorm((768,), eps=1e-12, elementwise_affine=True)\n",
              "      (dropout): Dropout(p=0.1, inplace=False)\n",
              "    )\n",
              "    (encoder): BertEncoder(\n",
              "      (layer): ModuleList(\n",
              "        (0-11): 12 x BertLayer(\n",
              "          (attention): BertAttention(\n",
              "            (self): BertSdpaSelfAttention(\n",
              "              (query): Linear(in_features=768, out_features=768, bias=True)\n",
              "              (key): Linear(in_features=768, out_features=768, bias=True)\n",
              "              (value): Linear(in_features=768, out_features=768, bias=True)\n",
              "              (dropout): Dropout(p=0.1, inplace=False)\n",
              "            )\n",
              "            (output): BertSelfOutput(\n",
              "              (dense): Linear(in_features=768, out_features=768, bias=True)\n",
              "              (LayerNorm): LayerNorm((768,), eps=1e-12, elementwise_affine=True)\n",
              "              (dropout): Dropout(p=0.1, inplace=False)\n",
              "            )\n",
              "          )\n",
              "          (intermediate): BertIntermediate(\n",
              "            (dense): Linear(in_features=768, out_features=3072, bias=True)\n",
              "            (intermediate_act_fn): GELUActivation()\n",
              "          )\n",
              "          (output): BertOutput(\n",
              "            (dense): Linear(in_features=3072, out_features=768, bias=True)\n",
              "            (LayerNorm): LayerNorm((768,), eps=1e-12, elementwise_affine=True)\n",
              "            (dropout): Dropout(p=0.1, inplace=False)\n",
              "          )\n",
              "        )\n",
              "      )\n",
              "    )\n",
              "    (pooler): BertPooler(\n",
              "      (dense): Linear(in_features=768, out_features=768, bias=True)\n",
              "      (activation): Tanh()\n",
              "    )\n",
              "  )\n",
              "  (dropout): Dropout(p=0.1, inplace=False)\n",
              "  (classifier): Linear(in_features=768, out_features=2, bias=True)\n",
              ")"
            ]
          },
          "execution_count": 4,
          "metadata": {},
          "output_type": "execute_result"
        }
      ],
      "source": [
        "import os\n",
        "from transformers import DataCollatorWithPadding, AutoTokenizer, AutoModelForSequenceClassification\n",
        "\n",
        "# Change these as needed.\n",
        "model_name = \"bert-base-uncased\"\n",
        "\n",
        "# Triggers tokenizer download to cache\n",
        "tokenizer = AutoTokenizer.from_pretrained(model_name)\n",
        "print(\"Downloading and caching pre-trained model\")\n",
        "\n",
        "data_collator = DataCollatorWithPadding(tokenizer=tokenizer)\n",
        "\n",
        "# Triggers model download to cache\n",
        "AutoModelForSequenceClassification.from_pretrained(model_name)"
      ]
    },
    {
      "cell_type": "markdown",
      "metadata": {
        "id": "KB5BLmKev_6-"
      },
      "source": [
        "## Training"
      ]
    },
    {
      "cell_type": "markdown",
      "metadata": {
        "id": "u3ICOgXTwEIh"
      },
      "source": [
        "With everything now downloaded and cached, we can now set up our training function. Our training function defines the training execution for a single hyperparameter configuration. For now we pull these hyperparameters from a config argument, but we’ll see later how this is passed in."
      ]
    },
    {
      "cell_type": "markdown",
      "metadata": {
        "id": "m9GTvUzawE5b"
      },
      "source": [
        "First we get our datasets- we only use the first half of the dev dataset for validation, and leave the rest of testing:"
      ]
    },
    {
      "cell_type": "code",
      "execution_count": 5,
      "metadata": {
        "id": "uikm4YpavIOh"
      },
      "outputs": [
        {
          "data": {
            "application/vnd.jupyter.widget-view+json": {
              "model_id": "7e5e1637a84f4630b669c881976d1546",
              "version_major": 2,
              "version_minor": 0
            },
            "text/plain": [
              "Map:   0%|          | 0/54441 [00:00<?, ? examples/s]"
            ]
          },
          "metadata": {},
          "output_type": "display_data"
        }
      ],
      "source": [
        "from datasets import load_dataset, concatenate_datasets, Dataset\n",
        "\n",
        "datasets = load_dataset(\n",
        "    \"csv\",\n",
        "    data_files={\n",
        "        \"train\": [\n",
        "            \"dataset/train_data_1.csv\",\n",
        "            \"dataset/train_data_2.csv\",\n",
        "            \"dataset/train_data_3.csv\",\n",
        "            \"dataset/train_data_4.csv\",\n",
        "        ],\n",
        "        \"test\": \"dataset/test_data.csv\",\n",
        "        \"rewritten_train\": [\n",
        "            \"dataset/rewritten_train_data_1.csv\",\n",
        "            \"dataset/rewritten_train_data_2.csv\",\n",
        "            \"dataset/rewritten_train_data_3.csv\",\n",
        "            \"dataset/rewritten_train_data_4.csv\",\n",
        "        ],\n",
        "        \"rewritten_test\": \"dataset/rewritten_test_data.csv\",\n",
        "    },\n",
        ")\n",
        "\n",
        "# Tokenize the dataset\n",
        "def tokenize_function(example):\n",
        "    return tokenizer(example[\"processed_full_content\"], padding=\"max_length\", truncation=True)\n",
        "\n",
        "tokenized_datasets = datasets.map(tokenize_function, batched=True)\n",
        "\n",
        "def get_datasets(config=\"original\"):\n",
        "    if config == \"rewritten\":\n",
        "        train_dataset = tokenized_datasets[\"rewritten_train\"]\n",
        "        eval_dataset = tokenized_datasets[\"rewritten_test\"]\n",
        "    elif config == \"original\":\n",
        "        train_dataset = tokenized_datasets[\"train\"]\n",
        "        eval_dataset = tokenized_datasets[\"test\"]\n",
        "    else:\n",
        "        train_dataset = concatenate_datasets(\n",
        "            [tokenized_datasets[\"train\"], tokenized_datasets[\"rewritten_train\"]]\n",
        "        )\n",
        "        eval_dataset = concatenate_datasets(\n",
        "            [tokenized_datasets[\"test\"], tokenized_datasets[\"rewritten_test\"]]\n",
        "        )\n",
        "\n",
        "    return train_dataset, eval_dataset"
      ]
    },
    {
      "cell_type": "code",
      "execution_count": 6,
      "metadata": {},
      "outputs": [
        {
          "data": {
            "text/plain": [
              "((Dataset({\n",
              "      features: ['label', 'full_content', 'processed_full_content', 'input_ids', 'token_type_ids', 'attention_mask'],\n",
              "      num_rows: 54441\n",
              "  }),\n",
              "  Dataset({\n",
              "      features: ['label', 'full_content', 'processed_full_content', 'input_ids', 'token_type_ids', 'attention_mask'],\n",
              "      num_rows: 6050\n",
              "  })),\n",
              " (Dataset({\n",
              "      features: ['label', 'full_content', 'processed_full_content', 'input_ids', 'token_type_ids', 'attention_mask'],\n",
              "      num_rows: 54441\n",
              "  }),\n",
              "  Dataset({\n",
              "      features: ['label', 'full_content', 'processed_full_content', 'input_ids', 'token_type_ids', 'attention_mask'],\n",
              "      num_rows: 6050\n",
              "  })),\n",
              " (Dataset({\n",
              "      features: ['label', 'full_content', 'processed_full_content', 'input_ids', 'token_type_ids', 'attention_mask'],\n",
              "      num_rows: 108882\n",
              "  }),\n",
              "  Dataset({\n",
              "      features: ['label', 'full_content', 'processed_full_content', 'input_ids', 'token_type_ids', 'attention_mask'],\n",
              "      num_rows: 12100\n",
              "  })))"
            ]
          },
          "execution_count": 6,
          "metadata": {},
          "output_type": "execute_result"
        }
      ],
      "source": [
        "get_datasets(config=\"original\"), get_datasets(config=\"rewritten\"), get_datasets(config=\"all\")"
      ]
    },
    {
      "cell_type": "code",
      "execution_count": 7,
      "metadata": {},
      "outputs": [],
      "source": [
        "def wandb_hp_space(trial):\n",
        "    return {\n",
        "        \"method\": \"random\",\n",
        "        \"metric\": {\"name\": \"accuracy\", \"goal\": \"maximize\"},\n",
        "        \"parameters\": {\n",
        "            \"learning_rate\": {\"distribution\": \"uniform\", \"min\": 1e-6, \"max\": 1e-4},\n",
        "            \"per_device_train_batch_size\": {\"values\": [16, 32]},\n",
        "        },\n",
        "    }"
      ]
    },
    {
      "cell_type": "code",
      "execution_count": 8,
      "metadata": {},
      "outputs": [],
      "source": [
        "from transformers import AutoModelForSequenceClassification\n",
        "import numpy as np\n",
        "import evaluate\n",
        "from transformers import EvalPrediction\n",
        "\n",
        "# Load the accuracy metric from the evaluate library\n",
        "accuracy_metric = evaluate.load(\"accuracy\")\n",
        "\n",
        "def compute_metrics(eval_pred: EvalPrediction) -> dict:\n",
        "    logits, labels = eval_pred\n",
        "    predictions = np.argmax(logits, axis=-1)\n",
        "    accuracy = accuracy_metric.compute(predictions=predictions, references=labels)\n",
        "    return accuracy\n",
        "\n",
        "def model_init():\n",
        "    return AutoModelForSequenceClassification.from_pretrained(model_name, num_labels=2)\n"
      ]
    },
    {
      "cell_type": "code",
      "execution_count": 9,
      "metadata": {},
      "outputs": [],
      "source": [
        "from transformers import Trainer, TrainingArguments\n",
        "\n",
        "def do_grid_search(config):\n",
        "    train_dataset, eval_dataset = get_datasets(config)\n",
        "    training_args = TrainingArguments(\n",
        "        output_dir=\"./results\",\n",
        "        evaluation_strategy=\"epoch\",\n",
        "        save_strategy=\"epoch\",\n",
        "        per_device_train_batch_size=8,\n",
        "        per_device_eval_batch_size=8,\n",
        "        num_train_epochs=4,\n",
        "        weight_decay=0.01,\n",
        "    )\n",
        "\n",
        "    trainer = Trainer(\n",
        "        model_init=model_init,\n",
        "        args=training_args,\n",
        "        train_dataset=train_dataset,\n",
        "        eval_dataset=eval_dataset,\n",
        "        compute_metrics=compute_metrics,\n",
        "        tokenizer=tokenizer,\n",
        "        data_collator=data_collator,\n",
        "    )\n",
        "\n",
        "    return trainer.hyperparameter_search(\n",
        "        direction=\"maximize\",\n",
        "        backend=\"wandb\", # or \"ray\", \"optuna\", \"sigopt\"\n",
        "        hp_space=wandb_hp_space, #ray_hp_space, \n",
        "        n_trials=5,\n",
        "    )"
      ]
    },
    {
      "cell_type": "code",
      "execution_count": 10,
      "metadata": {},
      "outputs": [
        {
          "name": "stderr",
          "output_type": "stream",
          "text": [
            "c:\\Users\\admin\\.conda\\envs\\fake-news\\Lib\\site-packages\\transformers\\training_args.py:1575: FutureWarning: `evaluation_strategy` is deprecated and will be removed in version 4.46 of 🤗 Transformers. Use `eval_strategy` instead\n",
            "  warnings.warn(\n",
            "C:\\Users\\admin\\AppData\\Local\\Temp\\ipykernel_19372\\1062649897.py:15: FutureWarning: `tokenizer` is deprecated and will be removed in version 5.0.0 for `Trainer.__init__`. Use `processing_class` instead.\n",
            "  trainer = Trainer(\n",
            "Some weights of BertForSequenceClassification were not initialized from the model checkpoint at bert-base-uncased and are newly initialized: ['classifier.bias', 'classifier.weight']\n",
            "You should probably TRAIN this model on a down-stream task to be able to use it for predictions and inference.\n",
            "\u001b[34m\u001b[1mwandb\u001b[0m: Using wandb-core as the SDK backend.  Please refer to https://wandb.me/wandb-core for more information.\n"
          ]
        },
        {
          "name": "stdout",
          "output_type": "stream",
          "text": [
            "Create sweep with ID: dzz7i5uy\n",
            "Sweep URL: https://wandb.ai/inflaton-ai/uncategorized/sweeps/dzz7i5uy\n"
          ]
        },
        {
          "name": "stderr",
          "output_type": "stream",
          "text": [
            "\u001b[34m\u001b[1mwandb\u001b[0m: Agent Starting Run: f01ucrel with config:\n",
            "\u001b[34m\u001b[1mwandb\u001b[0m: \tlearning_rate: 4.5475191027464986e-05\n",
            "\u001b[34m\u001b[1mwandb\u001b[0m: \tper_device_train_batch_size: 32\n",
            "\u001b[34m\u001b[1mwandb\u001b[0m: Currently logged in as: \u001b[33minflaton-sg\u001b[0m (\u001b[33minflaton-ai\u001b[0m) to \u001b[32mhttps://api.wandb.ai\u001b[0m. Use \u001b[1m`wandb login --relogin`\u001b[0m to force relogin\n"
          ]
        },
        {
          "data": {
            "text/html": [
              "Tracking run with wandb version 0.19.7"
            ],
            "text/plain": [
              "<IPython.core.display.HTML object>"
            ]
          },
          "metadata": {},
          "output_type": "display_data"
        },
        {
          "data": {
            "text/html": [
              "Run data is saved locally in <code>c:\\Users\\admin\\code\\CrediNews\\wandb\\run-20250222_141649-f01ucrel</code>"
            ],
            "text/plain": [
              "<IPython.core.display.HTML object>"
            ]
          },
          "metadata": {},
          "output_type": "display_data"
        },
        {
          "data": {
            "text/html": [
              "Syncing run <strong><a href='https://wandb.ai/inflaton-ai/uncategorized/runs/f01ucrel' target=\"_blank\">lively-sweep-1</a></strong> to <a href='https://wandb.ai/inflaton-ai/uncategorized' target=\"_blank\">Weights & Biases</a> (<a href='https://wandb.me/developer-guide' target=\"_blank\">docs</a>)<br>Sweep page: <a href='https://wandb.ai/inflaton-ai/uncategorized/sweeps/dzz7i5uy' target=\"_blank\">https://wandb.ai/inflaton-ai/uncategorized/sweeps/dzz7i5uy</a>"
            ],
            "text/plain": [
              "<IPython.core.display.HTML object>"
            ]
          },
          "metadata": {},
          "output_type": "display_data"
        },
        {
          "data": {
            "text/html": [
              " View project at <a href='https://wandb.ai/inflaton-ai/uncategorized' target=\"_blank\">https://wandb.ai/inflaton-ai/uncategorized</a>"
            ],
            "text/plain": [
              "<IPython.core.display.HTML object>"
            ]
          },
          "metadata": {},
          "output_type": "display_data"
        },
        {
          "data": {
            "text/html": [
              " View sweep at <a href='https://wandb.ai/inflaton-ai/uncategorized/sweeps/dzz7i5uy' target=\"_blank\">https://wandb.ai/inflaton-ai/uncategorized/sweeps/dzz7i5uy</a>"
            ],
            "text/plain": [
              "<IPython.core.display.HTML object>"
            ]
          },
          "metadata": {},
          "output_type": "display_data"
        },
        {
          "data": {
            "text/html": [
              " View run at <a href='https://wandb.ai/inflaton-ai/uncategorized/runs/f01ucrel' target=\"_blank\">https://wandb.ai/inflaton-ai/uncategorized/runs/f01ucrel</a>"
            ],
            "text/plain": [
              "<IPython.core.display.HTML object>"
            ]
          },
          "metadata": {},
          "output_type": "display_data"
        },
        {
          "name": "stderr",
          "output_type": "stream",
          "text": [
            "Trying to set _wandb in the hyperparameter search but there is no corresponding field in `TrainingArguments`.\n",
            "Trying to set assignments in the hyperparameter search but there is no corresponding field in `TrainingArguments`.\n",
            "Trying to set metric in the hyperparameter search but there is no corresponding field in `TrainingArguments`.\n",
            "Some weights of BertForSequenceClassification were not initialized from the model checkpoint at bert-base-uncased and are newly initialized: ['classifier.bias', 'classifier.weight']\n",
            "You should probably TRAIN this model on a down-stream task to be able to use it for predictions and inference.\n"
          ]
        },
        {
          "data": {
            "text/html": [],
            "text/plain": [
              "<IPython.core.display.HTML object>"
            ]
          },
          "metadata": {},
          "output_type": "display_data"
        },
        {
          "data": {
            "text/html": [
              " View run <strong style=\"color:#cdcd00\">lively-sweep-1</strong> at: <a href='https://wandb.ai/inflaton-ai/uncategorized/runs/f01ucrel' target=\"_blank\">https://wandb.ai/inflaton-ai/uncategorized/runs/f01ucrel</a><br> View project at: <a href='https://wandb.ai/inflaton-ai/uncategorized' target=\"_blank\">https://wandb.ai/inflaton-ai/uncategorized</a><br>Synced 5 W&B file(s), 0 media file(s), 0 artifact file(s) and 0 other file(s)"
            ],
            "text/plain": [
              "<IPython.core.display.HTML object>"
            ]
          },
          "metadata": {},
          "output_type": "display_data"
        },
        {
          "data": {
            "text/html": [
              "Find logs at: <code>.\\wandb\\run-20250222_141649-f01ucrel\\logs</code>"
            ],
            "text/plain": [
              "<IPython.core.display.HTML object>"
            ]
          },
          "metadata": {},
          "output_type": "display_data"
        },
        {
          "data": {
            "text/html": [
              "Ignoring project 'uncategorized' when running a sweep."
            ],
            "text/plain": [
              "<IPython.core.display.HTML object>"
            ]
          },
          "metadata": {},
          "output_type": "display_data"
        },
        {
          "data": {
            "text/html": [
              "Tracking run with wandb version 0.19.7"
            ],
            "text/plain": [
              "<IPython.core.display.HTML object>"
            ]
          },
          "metadata": {},
          "output_type": "display_data"
        },
        {
          "data": {
            "text/html": [
              "Run data is saved locally in <code>c:\\Users\\admin\\code\\CrediNews\\wandb\\run-20250222_141654-f01ucrel</code>"
            ],
            "text/plain": [
              "<IPython.core.display.HTML object>"
            ]
          },
          "metadata": {},
          "output_type": "display_data"
        },
        {
          "data": {
            "text/html": [
              "Syncing run <strong><a href='https://wandb.ai/inflaton-ai/uncategorized/runs/f01ucrel' target=\"_blank\">lively-sweep-1</a></strong> to <a href='https://wandb.ai/inflaton-ai/uncategorized' target=\"_blank\">Weights & Biases</a> (<a href='https://wandb.me/developer-guide' target=\"_blank\">docs</a>)<br>Sweep page: <a href='https://wandb.ai/inflaton-ai/uncategorized/sweeps/dzz7i5uy' target=\"_blank\">https://wandb.ai/inflaton-ai/uncategorized/sweeps/dzz7i5uy</a>"
            ],
            "text/plain": [
              "<IPython.core.display.HTML object>"
            ]
          },
          "metadata": {},
          "output_type": "display_data"
        },
        {
          "data": {
            "text/html": [
              " View project at <a href='https://wandb.ai/inflaton-ai/uncategorized' target=\"_blank\">https://wandb.ai/inflaton-ai/uncategorized</a>"
            ],
            "text/plain": [
              "<IPython.core.display.HTML object>"
            ]
          },
          "metadata": {},
          "output_type": "display_data"
        },
        {
          "data": {
            "text/html": [
              " View sweep at <a href='https://wandb.ai/inflaton-ai/uncategorized/sweeps/dzz7i5uy' target=\"_blank\">https://wandb.ai/inflaton-ai/uncategorized/sweeps/dzz7i5uy</a>"
            ],
            "text/plain": [
              "<IPython.core.display.HTML object>"
            ]
          },
          "metadata": {},
          "output_type": "display_data"
        },
        {
          "data": {
            "text/html": [
              " View run at <a href='https://wandb.ai/inflaton-ai/uncategorized/runs/f01ucrel' target=\"_blank\">https://wandb.ai/inflaton-ai/uncategorized/runs/f01ucrel</a>"
            ],
            "text/plain": [
              "<IPython.core.display.HTML object>"
            ]
          },
          "metadata": {},
          "output_type": "display_data"
        },
        {
          "name": "stderr",
          "output_type": "stream",
          "text": [
            "\u001b[34m\u001b[1mwandb\u001b[0m: \u001b[33mWARNING\u001b[0m Config item 'per_device_train_batch_size' was locked by 'sweep' (ignored update).\n",
            "\u001b[34m\u001b[1mwandb\u001b[0m: \u001b[33mWARNING\u001b[0m Config item 'learning_rate' was locked by 'sweep' (ignored update).\n"
          ]
        },
        {
          "data": {
            "text/html": [
              "\n",
              "    <div>\n",
              "      \n",
              "      <progress value='6808' max='6808' style='width:300px; height:20px; vertical-align: middle;'></progress>\n",
              "      [6808/6808 57:34, Epoch 4/4]\n",
              "    </div>\n",
              "    <table border=\"1\" class=\"dataframe\">\n",
              "  <thead>\n",
              " <tr style=\"text-align: left;\">\n",
              "      <th>Epoch</th>\n",
              "      <th>Training Loss</th>\n",
              "      <th>Validation Loss</th>\n",
              "      <th>Accuracy</th>\n",
              "    </tr>\n",
              "  </thead>\n",
              "  <tbody>\n",
              "    <tr>\n",
              "      <td>1</td>\n",
              "      <td>0.048500</td>\n",
              "      <td>0.033718</td>\n",
              "      <td>0.990744</td>\n",
              "    </tr>\n",
              "    <tr>\n",
              "      <td>2</td>\n",
              "      <td>0.024000</td>\n",
              "      <td>0.031024</td>\n",
              "      <td>0.992893</td>\n",
              "    </tr>\n",
              "    <tr>\n",
              "      <td>3</td>\n",
              "      <td>0.008100</td>\n",
              "      <td>0.032119</td>\n",
              "      <td>0.993058</td>\n",
              "    </tr>\n",
              "    <tr>\n",
              "      <td>4</td>\n",
              "      <td>0.003600</td>\n",
              "      <td>0.039606</td>\n",
              "      <td>0.992893</td>\n",
              "    </tr>\n",
              "  </tbody>\n",
              "</table><p>"
            ],
            "text/plain": [
              "<IPython.core.display.HTML object>"
            ]
          },
          "metadata": {},
          "output_type": "display_data"
        },
        {
          "data": {
            "text/html": [],
            "text/plain": [
              "<IPython.core.display.HTML object>"
            ]
          },
          "metadata": {},
          "output_type": "display_data"
        },
        {
          "data": {
            "text/html": [
              "<br>    <style><br>        .wandb-row {<br>            display: flex;<br>            flex-direction: row;<br>            flex-wrap: wrap;<br>            justify-content: flex-start;<br>            width: 100%;<br>        }<br>        .wandb-col {<br>            display: flex;<br>            flex-direction: column;<br>            flex-basis: 100%;<br>            flex: 1;<br>            padding: 10px;<br>        }<br>    </style><br><div class=\"wandb-row\"><div class=\"wandb-col\"><h3>Run history:</h3><br/><table class=\"wandb\"><tr><td>eval/accuracy</td><td>▁███</td></tr><tr><td>eval/loss</td><td>▃▁▂█</td></tr><tr><td>eval/runtime</td><td>▄█▄▁</td></tr><tr><td>eval/samples_per_second</td><td>▅▁▅█</td></tr><tr><td>eval/steps_per_second</td><td>▅▁▅█</td></tr><tr><td>train/epoch</td><td>▁▂▂▂▃▃▄▄▄▅▅▆▆▇▇███</td></tr><tr><td>train/global_step</td><td>▁▂▂▂▃▃▄▄▄▅▅▆▆▇▇███</td></tr><tr><td>train/grad_norm</td><td>▁▁▂▁▁▁▁▁▁█▁▁▁</td></tr><tr><td>train/learning_rate</td><td>█▇▇▆▆▅▄▄▃▃▂▂▁</td></tr><tr><td>train/loss</td><td>█▄▃▂▂▂▂▁▁▁▁▁▁</td></tr></table><br/></div><div class=\"wandb-col\"><h3>Run summary:</h3><br/><table class=\"wandb\"><tr><td>eval/accuracy</td><td>0.99289</td></tr><tr><td>eval/loss</td><td>0.03961</td></tr><tr><td>eval/runtime</td><td>35.0222</td></tr><tr><td>eval/samples_per_second</td><td>172.748</td></tr><tr><td>eval/steps_per_second</td><td>21.615</td></tr><tr><td>total_flos</td><td>5.729611585941504e+16</td></tr><tr><td>train/epoch</td><td>4</td></tr><tr><td>train/global_step</td><td>6808</td></tr><tr><td>train/grad_norm</td><td>0.00071</td></tr><tr><td>train/learning_rate</td><td>0.0</td></tr><tr><td>train/loss</td><td>0.0036</td></tr><tr><td>train_loss</td><td>0.02836</td></tr><tr><td>train_runtime</td><td>3458.1813</td></tr><tr><td>train_samples_per_second</td><td>62.971</td></tr><tr><td>train_steps_per_second</td><td>1.969</td></tr></table><br/></div></div>"
            ],
            "text/plain": [
              "<IPython.core.display.HTML object>"
            ]
          },
          "metadata": {},
          "output_type": "display_data"
        },
        {
          "data": {
            "text/html": [
              " View run <strong style=\"color:#cdcd00\">lively-sweep-1</strong> at: <a href='https://wandb.ai/inflaton-ai/uncategorized/runs/f01ucrel' target=\"_blank\">https://wandb.ai/inflaton-ai/uncategorized/runs/f01ucrel</a><br> View project at: <a href='https://wandb.ai/inflaton-ai/uncategorized' target=\"_blank\">https://wandb.ai/inflaton-ai/uncategorized</a><br>Synced 5 W&B file(s), 0 media file(s), 0 artifact file(s) and 0 other file(s)"
            ],
            "text/plain": [
              "<IPython.core.display.HTML object>"
            ]
          },
          "metadata": {},
          "output_type": "display_data"
        },
        {
          "data": {
            "text/html": [
              "Find logs at: <code>.\\wandb\\run-20250222_141654-f01ucrel\\logs</code>"
            ],
            "text/plain": [
              "<IPython.core.display.HTML object>"
            ]
          },
          "metadata": {},
          "output_type": "display_data"
        },
        {
          "name": "stderr",
          "output_type": "stream",
          "text": [
            "\u001b[34m\u001b[1mwandb\u001b[0m: Agent Starting Run: offgdgwn with config:\n",
            "\u001b[34m\u001b[1mwandb\u001b[0m: \tlearning_rate: 4.6127491547304976e-05\n",
            "\u001b[34m\u001b[1mwandb\u001b[0m: \tper_device_train_batch_size: 32\n"
          ]
        },
        {
          "data": {
            "text/html": [
              "Tracking run with wandb version 0.19.7"
            ],
            "text/plain": [
              "<IPython.core.display.HTML object>"
            ]
          },
          "metadata": {},
          "output_type": "display_data"
        },
        {
          "data": {
            "text/html": [
              "Run data is saved locally in <code>c:\\Users\\admin\\code\\CrediNews\\wandb\\run-20250222_151436-offgdgwn</code>"
            ],
            "text/plain": [
              "<IPython.core.display.HTML object>"
            ]
          },
          "metadata": {},
          "output_type": "display_data"
        },
        {
          "data": {
            "text/html": [
              "Syncing run <strong><a href='https://wandb.ai/inflaton-ai/uncategorized/runs/offgdgwn' target=\"_blank\">rare-sweep-2</a></strong> to <a href='https://wandb.ai/inflaton-ai/uncategorized' target=\"_blank\">Weights & Biases</a> (<a href='https://wandb.me/developer-guide' target=\"_blank\">docs</a>)<br>Sweep page: <a href='https://wandb.ai/inflaton-ai/uncategorized/sweeps/dzz7i5uy' target=\"_blank\">https://wandb.ai/inflaton-ai/uncategorized/sweeps/dzz7i5uy</a>"
            ],
            "text/plain": [
              "<IPython.core.display.HTML object>"
            ]
          },
          "metadata": {},
          "output_type": "display_data"
        },
        {
          "data": {
            "text/html": [
              " View project at <a href='https://wandb.ai/inflaton-ai/uncategorized' target=\"_blank\">https://wandb.ai/inflaton-ai/uncategorized</a>"
            ],
            "text/plain": [
              "<IPython.core.display.HTML object>"
            ]
          },
          "metadata": {},
          "output_type": "display_data"
        },
        {
          "data": {
            "text/html": [
              " View sweep at <a href='https://wandb.ai/inflaton-ai/uncategorized/sweeps/dzz7i5uy' target=\"_blank\">https://wandb.ai/inflaton-ai/uncategorized/sweeps/dzz7i5uy</a>"
            ],
            "text/plain": [
              "<IPython.core.display.HTML object>"
            ]
          },
          "metadata": {},
          "output_type": "display_data"
        },
        {
          "data": {
            "text/html": [
              " View run at <a href='https://wandb.ai/inflaton-ai/uncategorized/runs/offgdgwn' target=\"_blank\">https://wandb.ai/inflaton-ai/uncategorized/runs/offgdgwn</a>"
            ],
            "text/plain": [
              "<IPython.core.display.HTML object>"
            ]
          },
          "metadata": {},
          "output_type": "display_data"
        },
        {
          "name": "stderr",
          "output_type": "stream",
          "text": [
            "Trying to set _wandb in the hyperparameter search but there is no corresponding field in `TrainingArguments`.\n",
            "Trying to set assignments in the hyperparameter search but there is no corresponding field in `TrainingArguments`.\n",
            "Trying to set metric in the hyperparameter search but there is no corresponding field in `TrainingArguments`.\n",
            "Some weights of BertForSequenceClassification were not initialized from the model checkpoint at bert-base-uncased and are newly initialized: ['classifier.bias', 'classifier.weight']\n",
            "You should probably TRAIN this model on a down-stream task to be able to use it for predictions and inference.\n"
          ]
        },
        {
          "data": {
            "text/html": [],
            "text/plain": [
              "<IPython.core.display.HTML object>"
            ]
          },
          "metadata": {},
          "output_type": "display_data"
        },
        {
          "data": {
            "text/html": [
              " View run <strong style=\"color:#cdcd00\">rare-sweep-2</strong> at: <a href='https://wandb.ai/inflaton-ai/uncategorized/runs/offgdgwn' target=\"_blank\">https://wandb.ai/inflaton-ai/uncategorized/runs/offgdgwn</a><br> View project at: <a href='https://wandb.ai/inflaton-ai/uncategorized' target=\"_blank\">https://wandb.ai/inflaton-ai/uncategorized</a><br>Synced 5 W&B file(s), 0 media file(s), 0 artifact file(s) and 0 other file(s)"
            ],
            "text/plain": [
              "<IPython.core.display.HTML object>"
            ]
          },
          "metadata": {},
          "output_type": "display_data"
        },
        {
          "data": {
            "text/html": [
              "Find logs at: <code>.\\wandb\\run-20250222_151436-offgdgwn\\logs</code>"
            ],
            "text/plain": [
              "<IPython.core.display.HTML object>"
            ]
          },
          "metadata": {},
          "output_type": "display_data"
        },
        {
          "data": {
            "text/html": [
              "Ignoring project 'uncategorized' when running a sweep."
            ],
            "text/plain": [
              "<IPython.core.display.HTML object>"
            ]
          },
          "metadata": {},
          "output_type": "display_data"
        },
        {
          "data": {
            "text/html": [
              "Tracking run with wandb version 0.19.7"
            ],
            "text/plain": [
              "<IPython.core.display.HTML object>"
            ]
          },
          "metadata": {},
          "output_type": "display_data"
        },
        {
          "data": {
            "text/html": [
              "Run data is saved locally in <code>c:\\Users\\admin\\code\\CrediNews\\wandb\\run-20250222_151442-offgdgwn</code>"
            ],
            "text/plain": [
              "<IPython.core.display.HTML object>"
            ]
          },
          "metadata": {},
          "output_type": "display_data"
        },
        {
          "data": {
            "text/html": [
              "Syncing run <strong><a href='https://wandb.ai/inflaton-ai/uncategorized/runs/offgdgwn' target=\"_blank\">rare-sweep-2</a></strong> to <a href='https://wandb.ai/inflaton-ai/uncategorized' target=\"_blank\">Weights & Biases</a> (<a href='https://wandb.me/developer-guide' target=\"_blank\">docs</a>)<br>Sweep page: <a href='https://wandb.ai/inflaton-ai/uncategorized/sweeps/dzz7i5uy' target=\"_blank\">https://wandb.ai/inflaton-ai/uncategorized/sweeps/dzz7i5uy</a>"
            ],
            "text/plain": [
              "<IPython.core.display.HTML object>"
            ]
          },
          "metadata": {},
          "output_type": "display_data"
        },
        {
          "data": {
            "text/html": [
              " View project at <a href='https://wandb.ai/inflaton-ai/uncategorized' target=\"_blank\">https://wandb.ai/inflaton-ai/uncategorized</a>"
            ],
            "text/plain": [
              "<IPython.core.display.HTML object>"
            ]
          },
          "metadata": {},
          "output_type": "display_data"
        },
        {
          "data": {
            "text/html": [
              " View sweep at <a href='https://wandb.ai/inflaton-ai/uncategorized/sweeps/dzz7i5uy' target=\"_blank\">https://wandb.ai/inflaton-ai/uncategorized/sweeps/dzz7i5uy</a>"
            ],
            "text/plain": [
              "<IPython.core.display.HTML object>"
            ]
          },
          "metadata": {},
          "output_type": "display_data"
        },
        {
          "data": {
            "text/html": [
              " View run at <a href='https://wandb.ai/inflaton-ai/uncategorized/runs/offgdgwn' target=\"_blank\">https://wandb.ai/inflaton-ai/uncategorized/runs/offgdgwn</a>"
            ],
            "text/plain": [
              "<IPython.core.display.HTML object>"
            ]
          },
          "metadata": {},
          "output_type": "display_data"
        },
        {
          "name": "stderr",
          "output_type": "stream",
          "text": [
            "\u001b[34m\u001b[1mwandb\u001b[0m: \u001b[33mWARNING\u001b[0m Config item 'per_device_train_batch_size' was locked by 'sweep' (ignored update).\n",
            "\u001b[34m\u001b[1mwandb\u001b[0m: \u001b[33mWARNING\u001b[0m Config item 'learning_rate' was locked by 'sweep' (ignored update).\n"
          ]
        },
        {
          "data": {
            "text/html": [
              "\n",
              "    <div>\n",
              "      \n",
              "      <progress value='6808' max='6808' style='width:300px; height:20px; vertical-align: middle;'></progress>\n",
              "      [6808/6808 57:52, Epoch 4/4]\n",
              "    </div>\n",
              "    <table border=\"1\" class=\"dataframe\">\n",
              "  <thead>\n",
              " <tr style=\"text-align: left;\">\n",
              "      <th>Epoch</th>\n",
              "      <th>Training Loss</th>\n",
              "      <th>Validation Loss</th>\n",
              "      <th>Accuracy</th>\n",
              "    </tr>\n",
              "  </thead>\n",
              "  <tbody>\n",
              "    <tr>\n",
              "      <td>1</td>\n",
              "      <td>0.051200</td>\n",
              "      <td>0.033346</td>\n",
              "      <td>0.991240</td>\n",
              "    </tr>\n",
              "    <tr>\n",
              "      <td>2</td>\n",
              "      <td>0.027600</td>\n",
              "      <td>0.035557</td>\n",
              "      <td>0.991901</td>\n",
              "    </tr>\n",
              "    <tr>\n",
              "      <td>3</td>\n",
              "      <td>0.010200</td>\n",
              "      <td>0.033677</td>\n",
              "      <td>0.993388</td>\n",
              "    </tr>\n",
              "    <tr>\n",
              "      <td>4</td>\n",
              "      <td>0.002800</td>\n",
              "      <td>0.038500</td>\n",
              "      <td>0.993223</td>\n",
              "    </tr>\n",
              "  </tbody>\n",
              "</table><p>"
            ],
            "text/plain": [
              "<IPython.core.display.HTML object>"
            ]
          },
          "metadata": {},
          "output_type": "display_data"
        },
        {
          "data": {
            "text/html": [],
            "text/plain": [
              "<IPython.core.display.HTML object>"
            ]
          },
          "metadata": {},
          "output_type": "display_data"
        },
        {
          "data": {
            "text/html": [
              "<br>    <style><br>        .wandb-row {<br>            display: flex;<br>            flex-direction: row;<br>            flex-wrap: wrap;<br>            justify-content: flex-start;<br>            width: 100%;<br>        }<br>        .wandb-col {<br>            display: flex;<br>            flex-direction: column;<br>            flex-basis: 100%;<br>            flex: 1;<br>            padding: 10px;<br>        }<br>    </style><br><div class=\"wandb-row\"><div class=\"wandb-col\"><h3>Run history:</h3><br/><table class=\"wandb\"><tr><td>eval/accuracy</td><td>▁▃█▇</td></tr><tr><td>eval/loss</td><td>▁▄▁█</td></tr><tr><td>eval/runtime</td><td>▁▃▃█</td></tr><tr><td>eval/samples_per_second</td><td>█▆▆▁</td></tr><tr><td>eval/steps_per_second</td><td>█▆▆▁</td></tr><tr><td>train/epoch</td><td>▁▂▂▂▃▃▄▄▄▅▅▆▆▇▇███</td></tr><tr><td>train/global_step</td><td>▁▂▂▂▃▃▄▄▄▅▅▆▆▇▇███</td></tr><tr><td>train/grad_norm</td><td>▁▁▃█▁▁▅▁▁▁▁▁▁</td></tr><tr><td>train/learning_rate</td><td>█▇▇▆▆▅▅▄▃▃▂▂▁</td></tr><tr><td>train/loss</td><td>█▄▃▃▂▂▂▁▁▁▁▁▁</td></tr></table><br/></div><div class=\"wandb-col\"><h3>Run summary:</h3><br/><table class=\"wandb\"><tr><td>eval/accuracy</td><td>0.99322</td></tr><tr><td>eval/loss</td><td>0.0385</td></tr><tr><td>eval/runtime</td><td>35.1124</td></tr><tr><td>eval/samples_per_second</td><td>172.304</td></tr><tr><td>eval/steps_per_second</td><td>21.559</td></tr><tr><td>total_flos</td><td>5.729611585941504e+16</td></tr><tr><td>train/epoch</td><td>4</td></tr><tr><td>train/global_step</td><td>6808</td></tr><tr><td>train/grad_norm</td><td>0.00219</td></tr><tr><td>train/learning_rate</td><td>0.0</td></tr><tr><td>train/loss</td><td>0.0028</td></tr><tr><td>train_loss</td><td>0.03012</td></tr><tr><td>train_runtime</td><td>3475.761</td></tr><tr><td>train_samples_per_second</td><td>62.652</td></tr><tr><td>train_steps_per_second</td><td>1.959</td></tr></table><br/></div></div>"
            ],
            "text/plain": [
              "<IPython.core.display.HTML object>"
            ]
          },
          "metadata": {},
          "output_type": "display_data"
        },
        {
          "data": {
            "text/html": [
              " View run <strong style=\"color:#cdcd00\">rare-sweep-2</strong> at: <a href='https://wandb.ai/inflaton-ai/uncategorized/runs/offgdgwn' target=\"_blank\">https://wandb.ai/inflaton-ai/uncategorized/runs/offgdgwn</a><br> View project at: <a href='https://wandb.ai/inflaton-ai/uncategorized' target=\"_blank\">https://wandb.ai/inflaton-ai/uncategorized</a><br>Synced 5 W&B file(s), 0 media file(s), 0 artifact file(s) and 0 other file(s)"
            ],
            "text/plain": [
              "<IPython.core.display.HTML object>"
            ]
          },
          "metadata": {},
          "output_type": "display_data"
        },
        {
          "data": {
            "text/html": [
              "Find logs at: <code>.\\wandb\\run-20250222_151442-offgdgwn\\logs</code>"
            ],
            "text/plain": [
              "<IPython.core.display.HTML object>"
            ]
          },
          "metadata": {},
          "output_type": "display_data"
        },
        {
          "name": "stderr",
          "output_type": "stream",
          "text": [
            "\u001b[34m\u001b[1mwandb\u001b[0m: Agent Starting Run: jnhzqjh9 with config:\n",
            "\u001b[34m\u001b[1mwandb\u001b[0m: \tlearning_rate: 3.897684881994952e-05\n",
            "\u001b[34m\u001b[1mwandb\u001b[0m: \tper_device_train_batch_size: 32\n"
          ]
        },
        {
          "data": {
            "text/html": [
              "Tracking run with wandb version 0.19.7"
            ],
            "text/plain": [
              "<IPython.core.display.HTML object>"
            ]
          },
          "metadata": {},
          "output_type": "display_data"
        },
        {
          "data": {
            "text/html": [
              "Run data is saved locally in <code>c:\\Users\\admin\\code\\CrediNews\\wandb\\run-20250222_161242-jnhzqjh9</code>"
            ],
            "text/plain": [
              "<IPython.core.display.HTML object>"
            ]
          },
          "metadata": {},
          "output_type": "display_data"
        },
        {
          "data": {
            "text/html": [
              "Syncing run <strong><a href='https://wandb.ai/inflaton-ai/uncategorized/runs/jnhzqjh9' target=\"_blank\">deep-sweep-3</a></strong> to <a href='https://wandb.ai/inflaton-ai/uncategorized' target=\"_blank\">Weights & Biases</a> (<a href='https://wandb.me/developer-guide' target=\"_blank\">docs</a>)<br>Sweep page: <a href='https://wandb.ai/inflaton-ai/uncategorized/sweeps/dzz7i5uy' target=\"_blank\">https://wandb.ai/inflaton-ai/uncategorized/sweeps/dzz7i5uy</a>"
            ],
            "text/plain": [
              "<IPython.core.display.HTML object>"
            ]
          },
          "metadata": {},
          "output_type": "display_data"
        },
        {
          "data": {
            "text/html": [
              " View project at <a href='https://wandb.ai/inflaton-ai/uncategorized' target=\"_blank\">https://wandb.ai/inflaton-ai/uncategorized</a>"
            ],
            "text/plain": [
              "<IPython.core.display.HTML object>"
            ]
          },
          "metadata": {},
          "output_type": "display_data"
        },
        {
          "data": {
            "text/html": [
              " View sweep at <a href='https://wandb.ai/inflaton-ai/uncategorized/sweeps/dzz7i5uy' target=\"_blank\">https://wandb.ai/inflaton-ai/uncategorized/sweeps/dzz7i5uy</a>"
            ],
            "text/plain": [
              "<IPython.core.display.HTML object>"
            ]
          },
          "metadata": {},
          "output_type": "display_data"
        },
        {
          "data": {
            "text/html": [
              " View run at <a href='https://wandb.ai/inflaton-ai/uncategorized/runs/jnhzqjh9' target=\"_blank\">https://wandb.ai/inflaton-ai/uncategorized/runs/jnhzqjh9</a>"
            ],
            "text/plain": [
              "<IPython.core.display.HTML object>"
            ]
          },
          "metadata": {},
          "output_type": "display_data"
        },
        {
          "name": "stderr",
          "output_type": "stream",
          "text": [
            "Trying to set _wandb in the hyperparameter search but there is no corresponding field in `TrainingArguments`.\n",
            "Trying to set assignments in the hyperparameter search but there is no corresponding field in `TrainingArguments`.\n",
            "Trying to set metric in the hyperparameter search but there is no corresponding field in `TrainingArguments`.\n",
            "Some weights of BertForSequenceClassification were not initialized from the model checkpoint at bert-base-uncased and are newly initialized: ['classifier.bias', 'classifier.weight']\n",
            "You should probably TRAIN this model on a down-stream task to be able to use it for predictions and inference.\n"
          ]
        },
        {
          "data": {
            "text/html": [],
            "text/plain": [
              "<IPython.core.display.HTML object>"
            ]
          },
          "metadata": {},
          "output_type": "display_data"
        },
        {
          "data": {
            "text/html": [
              " View run <strong style=\"color:#cdcd00\">deep-sweep-3</strong> at: <a href='https://wandb.ai/inflaton-ai/uncategorized/runs/jnhzqjh9' target=\"_blank\">https://wandb.ai/inflaton-ai/uncategorized/runs/jnhzqjh9</a><br> View project at: <a href='https://wandb.ai/inflaton-ai/uncategorized' target=\"_blank\">https://wandb.ai/inflaton-ai/uncategorized</a><br>Synced 5 W&B file(s), 0 media file(s), 0 artifact file(s) and 0 other file(s)"
            ],
            "text/plain": [
              "<IPython.core.display.HTML object>"
            ]
          },
          "metadata": {},
          "output_type": "display_data"
        },
        {
          "data": {
            "text/html": [
              "Find logs at: <code>.\\wandb\\run-20250222_161242-jnhzqjh9\\logs</code>"
            ],
            "text/plain": [
              "<IPython.core.display.HTML object>"
            ]
          },
          "metadata": {},
          "output_type": "display_data"
        },
        {
          "data": {
            "text/html": [
              "Ignoring project 'uncategorized' when running a sweep."
            ],
            "text/plain": [
              "<IPython.core.display.HTML object>"
            ]
          },
          "metadata": {},
          "output_type": "display_data"
        },
        {
          "data": {
            "text/html": [
              "creating run (0.9s)"
            ],
            "text/plain": [
              "<IPython.core.display.HTML object>"
            ]
          },
          "metadata": {},
          "output_type": "display_data"
        },
        {
          "data": {
            "text/html": [
              "Tracking run with wandb version 0.19.7"
            ],
            "text/plain": [
              "<IPython.core.display.HTML object>"
            ]
          },
          "metadata": {},
          "output_type": "display_data"
        },
        {
          "data": {
            "text/html": [
              "Run data is saved locally in <code>c:\\Users\\admin\\code\\CrediNews\\wandb\\run-20250222_161247-jnhzqjh9</code>"
            ],
            "text/plain": [
              "<IPython.core.display.HTML object>"
            ]
          },
          "metadata": {},
          "output_type": "display_data"
        },
        {
          "data": {
            "text/html": [
              "Syncing run <strong><a href='https://wandb.ai/inflaton-ai/uncategorized/runs/jnhzqjh9' target=\"_blank\">deep-sweep-3</a></strong> to <a href='https://wandb.ai/inflaton-ai/uncategorized' target=\"_blank\">Weights & Biases</a> (<a href='https://wandb.me/developer-guide' target=\"_blank\">docs</a>)<br>Sweep page: <a href='https://wandb.ai/inflaton-ai/uncategorized/sweeps/dzz7i5uy' target=\"_blank\">https://wandb.ai/inflaton-ai/uncategorized/sweeps/dzz7i5uy</a>"
            ],
            "text/plain": [
              "<IPython.core.display.HTML object>"
            ]
          },
          "metadata": {},
          "output_type": "display_data"
        },
        {
          "data": {
            "text/html": [
              " View project at <a href='https://wandb.ai/inflaton-ai/uncategorized' target=\"_blank\">https://wandb.ai/inflaton-ai/uncategorized</a>"
            ],
            "text/plain": [
              "<IPython.core.display.HTML object>"
            ]
          },
          "metadata": {},
          "output_type": "display_data"
        },
        {
          "data": {
            "text/html": [
              " View sweep at <a href='https://wandb.ai/inflaton-ai/uncategorized/sweeps/dzz7i5uy' target=\"_blank\">https://wandb.ai/inflaton-ai/uncategorized/sweeps/dzz7i5uy</a>"
            ],
            "text/plain": [
              "<IPython.core.display.HTML object>"
            ]
          },
          "metadata": {},
          "output_type": "display_data"
        },
        {
          "data": {
            "text/html": [
              " View run at <a href='https://wandb.ai/inflaton-ai/uncategorized/runs/jnhzqjh9' target=\"_blank\">https://wandb.ai/inflaton-ai/uncategorized/runs/jnhzqjh9</a>"
            ],
            "text/plain": [
              "<IPython.core.display.HTML object>"
            ]
          },
          "metadata": {},
          "output_type": "display_data"
        },
        {
          "name": "stderr",
          "output_type": "stream",
          "text": [
            "\u001b[34m\u001b[1mwandb\u001b[0m: \u001b[33mWARNING\u001b[0m Config item 'per_device_train_batch_size' was locked by 'sweep' (ignored update).\n",
            "\u001b[34m\u001b[1mwandb\u001b[0m: \u001b[33mWARNING\u001b[0m Config item 'learning_rate' was locked by 'sweep' (ignored update).\n"
          ]
        },
        {
          "data": {
            "text/html": [
              "\n",
              "    <div>\n",
              "      \n",
              "      <progress value='6808' max='6808' style='width:300px; height:20px; vertical-align: middle;'></progress>\n",
              "      [6808/6808 57:54, Epoch 4/4]\n",
              "    </div>\n",
              "    <table border=\"1\" class=\"dataframe\">\n",
              "  <thead>\n",
              " <tr style=\"text-align: left;\">\n",
              "      <th>Epoch</th>\n",
              "      <th>Training Loss</th>\n",
              "      <th>Validation Loss</th>\n",
              "      <th>Accuracy</th>\n",
              "    </tr>\n",
              "  </thead>\n",
              "  <tbody>\n",
              "    <tr>\n",
              "      <td>1</td>\n",
              "      <td>0.049000</td>\n",
              "      <td>0.048821</td>\n",
              "      <td>0.988099</td>\n",
              "    </tr>\n",
              "    <tr>\n",
              "      <td>2</td>\n",
              "      <td>0.025600</td>\n",
              "      <td>0.029931</td>\n",
              "      <td>0.993058</td>\n",
              "    </tr>\n",
              "    <tr>\n",
              "      <td>3</td>\n",
              "      <td>0.010100</td>\n",
              "      <td>0.029862</td>\n",
              "      <td>0.994711</td>\n",
              "    </tr>\n",
              "    <tr>\n",
              "      <td>4</td>\n",
              "      <td>0.002600</td>\n",
              "      <td>0.035875</td>\n",
              "      <td>0.994545</td>\n",
              "    </tr>\n",
              "  </tbody>\n",
              "</table><p>"
            ],
            "text/plain": [
              "<IPython.core.display.HTML object>"
            ]
          },
          "metadata": {},
          "output_type": "display_data"
        },
        {
          "data": {
            "text/html": [],
            "text/plain": [
              "<IPython.core.display.HTML object>"
            ]
          },
          "metadata": {},
          "output_type": "display_data"
        },
        {
          "data": {
            "text/html": [
              "<br>    <style><br>        .wandb-row {<br>            display: flex;<br>            flex-direction: row;<br>            flex-wrap: wrap;<br>            justify-content: flex-start;<br>            width: 100%;<br>        }<br>        .wandb-col {<br>            display: flex;<br>            flex-direction: column;<br>            flex-basis: 100%;<br>            flex: 1;<br>            padding: 10px;<br>        }<br>    </style><br><div class=\"wandb-row\"><div class=\"wandb-col\"><h3>Run history:</h3><br/><table class=\"wandb\"><tr><td>eval/accuracy</td><td>▁▆██</td></tr><tr><td>eval/loss</td><td>█▁▁▃</td></tr><tr><td>eval/runtime</td><td>▁▂█▂</td></tr><tr><td>eval/samples_per_second</td><td>█▇▁▇</td></tr><tr><td>eval/steps_per_second</td><td>█▇▁▇</td></tr><tr><td>train/epoch</td><td>▁▂▂▂▃▃▄▄▄▅▅▆▆▇▇███</td></tr><tr><td>train/global_step</td><td>▁▂▂▂▃▃▄▄▄▅▅▆▆▇▇███</td></tr><tr><td>train/grad_norm</td><td>▁▁▂▁▁▁█▁▁▁▁▁▁</td></tr><tr><td>train/learning_rate</td><td>█▇▇▆▆▅▅▄▃▃▂▂▁</td></tr><tr><td>train/loss</td><td>█▄▃▂▂▂▂▁▁▁▁▁▁</td></tr></table><br/></div><div class=\"wandb-col\"><h3>Run summary:</h3><br/><table class=\"wandb\"><tr><td>eval/accuracy</td><td>0.99455</td></tr><tr><td>eval/loss</td><td>0.03588</td></tr><tr><td>eval/runtime</td><td>35.1237</td></tr><tr><td>eval/samples_per_second</td><td>172.248</td></tr><tr><td>eval/steps_per_second</td><td>21.552</td></tr><tr><td>total_flos</td><td>5.729611585941504e+16</td></tr><tr><td>train/epoch</td><td>4</td></tr><tr><td>train/global_step</td><td>6808</td></tr><tr><td>train/grad_norm</td><td>0.00064</td></tr><tr><td>train/learning_rate</td><td>0.0</td></tr><tr><td>train/loss</td><td>0.0026</td></tr><tr><td>train_loss</td><td>0.02952</td></tr><tr><td>train_runtime</td><td>3479.7792</td></tr><tr><td>train_samples_per_second</td><td>62.58</td></tr><tr><td>train_steps_per_second</td><td>1.956</td></tr></table><br/></div></div>"
            ],
            "text/plain": [
              "<IPython.core.display.HTML object>"
            ]
          },
          "metadata": {},
          "output_type": "display_data"
        },
        {
          "data": {
            "text/html": [
              " View run <strong style=\"color:#cdcd00\">deep-sweep-3</strong> at: <a href='https://wandb.ai/inflaton-ai/uncategorized/runs/jnhzqjh9' target=\"_blank\">https://wandb.ai/inflaton-ai/uncategorized/runs/jnhzqjh9</a><br> View project at: <a href='https://wandb.ai/inflaton-ai/uncategorized' target=\"_blank\">https://wandb.ai/inflaton-ai/uncategorized</a><br>Synced 5 W&B file(s), 0 media file(s), 0 artifact file(s) and 0 other file(s)"
            ],
            "text/plain": [
              "<IPython.core.display.HTML object>"
            ]
          },
          "metadata": {},
          "output_type": "display_data"
        },
        {
          "data": {
            "text/html": [
              "Find logs at: <code>.\\wandb\\run-20250222_161247-jnhzqjh9\\logs</code>"
            ],
            "text/plain": [
              "<IPython.core.display.HTML object>"
            ]
          },
          "metadata": {},
          "output_type": "display_data"
        },
        {
          "name": "stderr",
          "output_type": "stream",
          "text": [
            "\u001b[34m\u001b[1mwandb\u001b[0m: Agent Starting Run: udayicr4 with config:\n",
            "\u001b[34m\u001b[1mwandb\u001b[0m: \tlearning_rate: 7.952574230669924e-06\n",
            "\u001b[34m\u001b[1mwandb\u001b[0m: \tper_device_train_batch_size: 32\n"
          ]
        },
        {
          "data": {
            "text/html": [
              "creating run (1.4s)"
            ],
            "text/plain": [
              "<IPython.core.display.HTML object>"
            ]
          },
          "metadata": {},
          "output_type": "display_data"
        },
        {
          "data": {
            "text/html": [
              "Tracking run with wandb version 0.19.7"
            ],
            "text/plain": [
              "<IPython.core.display.HTML object>"
            ]
          },
          "metadata": {},
          "output_type": "display_data"
        },
        {
          "data": {
            "text/html": [
              "Run data is saved locally in <code>c:\\Users\\admin\\code\\CrediNews\\wandb\\run-20250222_171051-udayicr4</code>"
            ],
            "text/plain": [
              "<IPython.core.display.HTML object>"
            ]
          },
          "metadata": {},
          "output_type": "display_data"
        },
        {
          "data": {
            "text/html": [
              "Syncing run <strong><a href='https://wandb.ai/inflaton-ai/uncategorized/runs/udayicr4' target=\"_blank\">stilted-sweep-4</a></strong> to <a href='https://wandb.ai/inflaton-ai/uncategorized' target=\"_blank\">Weights & Biases</a> (<a href='https://wandb.me/developer-guide' target=\"_blank\">docs</a>)<br>Sweep page: <a href='https://wandb.ai/inflaton-ai/uncategorized/sweeps/dzz7i5uy' target=\"_blank\">https://wandb.ai/inflaton-ai/uncategorized/sweeps/dzz7i5uy</a>"
            ],
            "text/plain": [
              "<IPython.core.display.HTML object>"
            ]
          },
          "metadata": {},
          "output_type": "display_data"
        },
        {
          "data": {
            "text/html": [
              " View project at <a href='https://wandb.ai/inflaton-ai/uncategorized' target=\"_blank\">https://wandb.ai/inflaton-ai/uncategorized</a>"
            ],
            "text/plain": [
              "<IPython.core.display.HTML object>"
            ]
          },
          "metadata": {},
          "output_type": "display_data"
        },
        {
          "data": {
            "text/html": [
              " View sweep at <a href='https://wandb.ai/inflaton-ai/uncategorized/sweeps/dzz7i5uy' target=\"_blank\">https://wandb.ai/inflaton-ai/uncategorized/sweeps/dzz7i5uy</a>"
            ],
            "text/plain": [
              "<IPython.core.display.HTML object>"
            ]
          },
          "metadata": {},
          "output_type": "display_data"
        },
        {
          "data": {
            "text/html": [
              " View run at <a href='https://wandb.ai/inflaton-ai/uncategorized/runs/udayicr4' target=\"_blank\">https://wandb.ai/inflaton-ai/uncategorized/runs/udayicr4</a>"
            ],
            "text/plain": [
              "<IPython.core.display.HTML object>"
            ]
          },
          "metadata": {},
          "output_type": "display_data"
        },
        {
          "name": "stderr",
          "output_type": "stream",
          "text": [
            "Trying to set _wandb in the hyperparameter search but there is no corresponding field in `TrainingArguments`.\n",
            "Trying to set assignments in the hyperparameter search but there is no corresponding field in `TrainingArguments`.\n",
            "Trying to set metric in the hyperparameter search but there is no corresponding field in `TrainingArguments`.\n",
            "Some weights of BertForSequenceClassification were not initialized from the model checkpoint at bert-base-uncased and are newly initialized: ['classifier.bias', 'classifier.weight']\n",
            "You should probably TRAIN this model on a down-stream task to be able to use it for predictions and inference.\n"
          ]
        },
        {
          "data": {
            "text/html": [],
            "text/plain": [
              "<IPython.core.display.HTML object>"
            ]
          },
          "metadata": {},
          "output_type": "display_data"
        },
        {
          "data": {
            "text/html": [
              " View run <strong style=\"color:#cdcd00\">stilted-sweep-4</strong> at: <a href='https://wandb.ai/inflaton-ai/uncategorized/runs/udayicr4' target=\"_blank\">https://wandb.ai/inflaton-ai/uncategorized/runs/udayicr4</a><br> View project at: <a href='https://wandb.ai/inflaton-ai/uncategorized' target=\"_blank\">https://wandb.ai/inflaton-ai/uncategorized</a><br>Synced 5 W&B file(s), 0 media file(s), 0 artifact file(s) and 0 other file(s)"
            ],
            "text/plain": [
              "<IPython.core.display.HTML object>"
            ]
          },
          "metadata": {},
          "output_type": "display_data"
        },
        {
          "data": {
            "text/html": [
              "Find logs at: <code>.\\wandb\\run-20250222_171051-udayicr4\\logs</code>"
            ],
            "text/plain": [
              "<IPython.core.display.HTML object>"
            ]
          },
          "metadata": {},
          "output_type": "display_data"
        },
        {
          "data": {
            "text/html": [
              "Ignoring project 'uncategorized' when running a sweep."
            ],
            "text/plain": [
              "<IPython.core.display.HTML object>"
            ]
          },
          "metadata": {},
          "output_type": "display_data"
        },
        {
          "data": {
            "text/html": [
              "Tracking run with wandb version 0.19.7"
            ],
            "text/plain": [
              "<IPython.core.display.HTML object>"
            ]
          },
          "metadata": {},
          "output_type": "display_data"
        },
        {
          "data": {
            "text/html": [
              "Run data is saved locally in <code>c:\\Users\\admin\\code\\CrediNews\\wandb\\run-20250222_171057-udayicr4</code>"
            ],
            "text/plain": [
              "<IPython.core.display.HTML object>"
            ]
          },
          "metadata": {},
          "output_type": "display_data"
        },
        {
          "data": {
            "text/html": [
              "Syncing run <strong><a href='https://wandb.ai/inflaton-ai/uncategorized/runs/udayicr4' target=\"_blank\">stilted-sweep-4</a></strong> to <a href='https://wandb.ai/inflaton-ai/uncategorized' target=\"_blank\">Weights & Biases</a> (<a href='https://wandb.me/developer-guide' target=\"_blank\">docs</a>)<br>Sweep page: <a href='https://wandb.ai/inflaton-ai/uncategorized/sweeps/dzz7i5uy' target=\"_blank\">https://wandb.ai/inflaton-ai/uncategorized/sweeps/dzz7i5uy</a>"
            ],
            "text/plain": [
              "<IPython.core.display.HTML object>"
            ]
          },
          "metadata": {},
          "output_type": "display_data"
        },
        {
          "data": {
            "text/html": [
              " View project at <a href='https://wandb.ai/inflaton-ai/uncategorized' target=\"_blank\">https://wandb.ai/inflaton-ai/uncategorized</a>"
            ],
            "text/plain": [
              "<IPython.core.display.HTML object>"
            ]
          },
          "metadata": {},
          "output_type": "display_data"
        },
        {
          "data": {
            "text/html": [
              " View sweep at <a href='https://wandb.ai/inflaton-ai/uncategorized/sweeps/dzz7i5uy' target=\"_blank\">https://wandb.ai/inflaton-ai/uncategorized/sweeps/dzz7i5uy</a>"
            ],
            "text/plain": [
              "<IPython.core.display.HTML object>"
            ]
          },
          "metadata": {},
          "output_type": "display_data"
        },
        {
          "data": {
            "text/html": [
              " View run at <a href='https://wandb.ai/inflaton-ai/uncategorized/runs/udayicr4' target=\"_blank\">https://wandb.ai/inflaton-ai/uncategorized/runs/udayicr4</a>"
            ],
            "text/plain": [
              "<IPython.core.display.HTML object>"
            ]
          },
          "metadata": {},
          "output_type": "display_data"
        },
        {
          "name": "stderr",
          "output_type": "stream",
          "text": [
            "\u001b[34m\u001b[1mwandb\u001b[0m: \u001b[33mWARNING\u001b[0m Config item 'per_device_train_batch_size' was locked by 'sweep' (ignored update).\n",
            "\u001b[34m\u001b[1mwandb\u001b[0m: \u001b[33mWARNING\u001b[0m Config item 'learning_rate' was locked by 'sweep' (ignored update).\n"
          ]
        },
        {
          "data": {
            "text/html": [
              "\n",
              "    <div>\n",
              "      \n",
              "      <progress value='6808' max='6808' style='width:300px; height:20px; vertical-align: middle;'></progress>\n",
              "      [6808/6808 57:50, Epoch 4/4]\n",
              "    </div>\n",
              "    <table border=\"1\" class=\"dataframe\">\n",
              "  <thead>\n",
              " <tr style=\"text-align: left;\">\n",
              "      <th>Epoch</th>\n",
              "      <th>Training Loss</th>\n",
              "      <th>Validation Loss</th>\n",
              "      <th>Accuracy</th>\n",
              "    </tr>\n",
              "  </thead>\n",
              "  <tbody>\n",
              "    <tr>\n",
              "      <td>1</td>\n",
              "      <td>0.056100</td>\n",
              "      <td>0.047220</td>\n",
              "      <td>0.988430</td>\n",
              "    </tr>\n",
              "    <tr>\n",
              "      <td>2</td>\n",
              "      <td>0.031200</td>\n",
              "      <td>0.037890</td>\n",
              "      <td>0.990248</td>\n",
              "    </tr>\n",
              "    <tr>\n",
              "      <td>3</td>\n",
              "      <td>0.018900</td>\n",
              "      <td>0.036003</td>\n",
              "      <td>0.991405</td>\n",
              "    </tr>\n",
              "    <tr>\n",
              "      <td>4</td>\n",
              "      <td>0.009600</td>\n",
              "      <td>0.035474</td>\n",
              "      <td>0.992231</td>\n",
              "    </tr>\n",
              "  </tbody>\n",
              "</table><p>"
            ],
            "text/plain": [
              "<IPython.core.display.HTML object>"
            ]
          },
          "metadata": {},
          "output_type": "display_data"
        },
        {
          "data": {
            "text/html": [],
            "text/plain": [
              "<IPython.core.display.HTML object>"
            ]
          },
          "metadata": {},
          "output_type": "display_data"
        },
        {
          "data": {
            "text/html": [
              "<br>    <style><br>        .wandb-row {<br>            display: flex;<br>            flex-direction: row;<br>            flex-wrap: wrap;<br>            justify-content: flex-start;<br>            width: 100%;<br>        }<br>        .wandb-col {<br>            display: flex;<br>            flex-direction: column;<br>            flex-basis: 100%;<br>            flex: 1;<br>            padding: 10px;<br>        }<br>    </style><br><div class=\"wandb-row\"><div class=\"wandb-col\"><h3>Run history:</h3><br/><table class=\"wandb\"><tr><td>eval/accuracy</td><td>▁▄▆█</td></tr><tr><td>eval/loss</td><td>█▂▁▁</td></tr><tr><td>eval/runtime</td><td>█▁▇▃</td></tr><tr><td>eval/samples_per_second</td><td>▁█▂▆</td></tr><tr><td>eval/steps_per_second</td><td>▁█▂▆</td></tr><tr><td>train/epoch</td><td>▁▂▂▂▃▃▄▄▄▅▅▆▆▇▇███</td></tr><tr><td>train/global_step</td><td>▁▂▂▂▃▃▄▄▄▅▅▆▆▇▇███</td></tr><tr><td>train/grad_norm</td><td>▂▁▄█▁▁▆▁▁▁▁▁▁</td></tr><tr><td>train/learning_rate</td><td>█▇▇▆▆▅▅▄▃▃▂▂▁</td></tr><tr><td>train/loss</td><td>█▃▃▂▂▂▂▁▁▁▁▁▁</td></tr></table><br/></div><div class=\"wandb-col\"><h3>Run summary:</h3><br/><table class=\"wandb\"><tr><td>eval/accuracy</td><td>0.99223</td></tr><tr><td>eval/loss</td><td>0.03547</td></tr><tr><td>eval/runtime</td><td>34.9803</td></tr><tr><td>eval/samples_per_second</td><td>172.954</td></tr><tr><td>eval/steps_per_second</td><td>21.641</td></tr><tr><td>total_flos</td><td>5.729611585941504e+16</td></tr><tr><td>train/epoch</td><td>4</td></tr><tr><td>train/global_step</td><td>6808</td></tr><tr><td>train/grad_norm</td><td>0.00733</td></tr><tr><td>train/learning_rate</td><td>0.0</td></tr><tr><td>train/loss</td><td>0.0096</td></tr><tr><td>train_loss</td><td>0.03917</td></tr><tr><td>train_runtime</td><td>3474.5778</td></tr><tr><td>train_samples_per_second</td><td>62.674</td></tr><tr><td>train_steps_per_second</td><td>1.959</td></tr></table><br/></div></div>"
            ],
            "text/plain": [
              "<IPython.core.display.HTML object>"
            ]
          },
          "metadata": {},
          "output_type": "display_data"
        },
        {
          "data": {
            "text/html": [
              " View run <strong style=\"color:#cdcd00\">stilted-sweep-4</strong> at: <a href='https://wandb.ai/inflaton-ai/uncategorized/runs/udayicr4' target=\"_blank\">https://wandb.ai/inflaton-ai/uncategorized/runs/udayicr4</a><br> View project at: <a href='https://wandb.ai/inflaton-ai/uncategorized' target=\"_blank\">https://wandb.ai/inflaton-ai/uncategorized</a><br>Synced 5 W&B file(s), 0 media file(s), 0 artifact file(s) and 0 other file(s)"
            ],
            "text/plain": [
              "<IPython.core.display.HTML object>"
            ]
          },
          "metadata": {},
          "output_type": "display_data"
        },
        {
          "data": {
            "text/html": [
              "Find logs at: <code>.\\wandb\\run-20250222_171057-udayicr4\\logs</code>"
            ],
            "text/plain": [
              "<IPython.core.display.HTML object>"
            ]
          },
          "metadata": {},
          "output_type": "display_data"
        },
        {
          "name": "stderr",
          "output_type": "stream",
          "text": [
            "\u001b[34m\u001b[1mwandb\u001b[0m: Agent Starting Run: 2q74m15a with config:\n",
            "\u001b[34m\u001b[1mwandb\u001b[0m: \tlearning_rate: 3.900009239754426e-06\n",
            "\u001b[34m\u001b[1mwandb\u001b[0m: \tper_device_train_batch_size: 16\n"
          ]
        },
        {
          "data": {
            "text/html": [
              "Tracking run with wandb version 0.19.7"
            ],
            "text/plain": [
              "<IPython.core.display.HTML object>"
            ]
          },
          "metadata": {},
          "output_type": "display_data"
        },
        {
          "data": {
            "text/html": [
              "Run data is saved locally in <code>c:\\Users\\admin\\code\\CrediNews\\wandb\\run-20250222_180857-2q74m15a</code>"
            ],
            "text/plain": [
              "<IPython.core.display.HTML object>"
            ]
          },
          "metadata": {},
          "output_type": "display_data"
        },
        {
          "data": {
            "text/html": [
              "Syncing run <strong><a href='https://wandb.ai/inflaton-ai/uncategorized/runs/2q74m15a' target=\"_blank\">playful-sweep-5</a></strong> to <a href='https://wandb.ai/inflaton-ai/uncategorized' target=\"_blank\">Weights & Biases</a> (<a href='https://wandb.me/developer-guide' target=\"_blank\">docs</a>)<br>Sweep page: <a href='https://wandb.ai/inflaton-ai/uncategorized/sweeps/dzz7i5uy' target=\"_blank\">https://wandb.ai/inflaton-ai/uncategorized/sweeps/dzz7i5uy</a>"
            ],
            "text/plain": [
              "<IPython.core.display.HTML object>"
            ]
          },
          "metadata": {},
          "output_type": "display_data"
        },
        {
          "data": {
            "text/html": [
              " View project at <a href='https://wandb.ai/inflaton-ai/uncategorized' target=\"_blank\">https://wandb.ai/inflaton-ai/uncategorized</a>"
            ],
            "text/plain": [
              "<IPython.core.display.HTML object>"
            ]
          },
          "metadata": {},
          "output_type": "display_data"
        },
        {
          "data": {
            "text/html": [
              " View sweep at <a href='https://wandb.ai/inflaton-ai/uncategorized/sweeps/dzz7i5uy' target=\"_blank\">https://wandb.ai/inflaton-ai/uncategorized/sweeps/dzz7i5uy</a>"
            ],
            "text/plain": [
              "<IPython.core.display.HTML object>"
            ]
          },
          "metadata": {},
          "output_type": "display_data"
        },
        {
          "data": {
            "text/html": [
              " View run at <a href='https://wandb.ai/inflaton-ai/uncategorized/runs/2q74m15a' target=\"_blank\">https://wandb.ai/inflaton-ai/uncategorized/runs/2q74m15a</a>"
            ],
            "text/plain": [
              "<IPython.core.display.HTML object>"
            ]
          },
          "metadata": {},
          "output_type": "display_data"
        },
        {
          "name": "stderr",
          "output_type": "stream",
          "text": [
            "Trying to set _wandb in the hyperparameter search but there is no corresponding field in `TrainingArguments`.\n",
            "Trying to set assignments in the hyperparameter search but there is no corresponding field in `TrainingArguments`.\n",
            "Trying to set metric in the hyperparameter search but there is no corresponding field in `TrainingArguments`.\n",
            "Some weights of BertForSequenceClassification were not initialized from the model checkpoint at bert-base-uncased and are newly initialized: ['classifier.bias', 'classifier.weight']\n",
            "You should probably TRAIN this model on a down-stream task to be able to use it for predictions and inference.\n"
          ]
        },
        {
          "data": {
            "text/html": [],
            "text/plain": [
              "<IPython.core.display.HTML object>"
            ]
          },
          "metadata": {},
          "output_type": "display_data"
        },
        {
          "data": {
            "text/html": [
              " View run <strong style=\"color:#cdcd00\">playful-sweep-5</strong> at: <a href='https://wandb.ai/inflaton-ai/uncategorized/runs/2q74m15a' target=\"_blank\">https://wandb.ai/inflaton-ai/uncategorized/runs/2q74m15a</a><br> View project at: <a href='https://wandb.ai/inflaton-ai/uncategorized' target=\"_blank\">https://wandb.ai/inflaton-ai/uncategorized</a><br>Synced 5 W&B file(s), 0 media file(s), 0 artifact file(s) and 0 other file(s)"
            ],
            "text/plain": [
              "<IPython.core.display.HTML object>"
            ]
          },
          "metadata": {},
          "output_type": "display_data"
        },
        {
          "data": {
            "text/html": [
              "Find logs at: <code>.\\wandb\\run-20250222_180857-2q74m15a\\logs</code>"
            ],
            "text/plain": [
              "<IPython.core.display.HTML object>"
            ]
          },
          "metadata": {},
          "output_type": "display_data"
        },
        {
          "data": {
            "text/html": [
              "Ignoring project 'uncategorized' when running a sweep."
            ],
            "text/plain": [
              "<IPython.core.display.HTML object>"
            ]
          },
          "metadata": {},
          "output_type": "display_data"
        },
        {
          "data": {
            "text/html": [
              "Tracking run with wandb version 0.19.7"
            ],
            "text/plain": [
              "<IPython.core.display.HTML object>"
            ]
          },
          "metadata": {},
          "output_type": "display_data"
        },
        {
          "data": {
            "text/html": [
              "Run data is saved locally in <code>c:\\Users\\admin\\code\\CrediNews\\wandb\\run-20250222_180903-2q74m15a</code>"
            ],
            "text/plain": [
              "<IPython.core.display.HTML object>"
            ]
          },
          "metadata": {},
          "output_type": "display_data"
        },
        {
          "data": {
            "text/html": [
              "Syncing run <strong><a href='https://wandb.ai/inflaton-ai/uncategorized/runs/2q74m15a' target=\"_blank\">playful-sweep-5</a></strong> to <a href='https://wandb.ai/inflaton-ai/uncategorized' target=\"_blank\">Weights & Biases</a> (<a href='https://wandb.me/developer-guide' target=\"_blank\">docs</a>)<br>Sweep page: <a href='https://wandb.ai/inflaton-ai/uncategorized/sweeps/dzz7i5uy' target=\"_blank\">https://wandb.ai/inflaton-ai/uncategorized/sweeps/dzz7i5uy</a>"
            ],
            "text/plain": [
              "<IPython.core.display.HTML object>"
            ]
          },
          "metadata": {},
          "output_type": "display_data"
        },
        {
          "data": {
            "text/html": [
              " View project at <a href='https://wandb.ai/inflaton-ai/uncategorized' target=\"_blank\">https://wandb.ai/inflaton-ai/uncategorized</a>"
            ],
            "text/plain": [
              "<IPython.core.display.HTML object>"
            ]
          },
          "metadata": {},
          "output_type": "display_data"
        },
        {
          "data": {
            "text/html": [
              " View sweep at <a href='https://wandb.ai/inflaton-ai/uncategorized/sweeps/dzz7i5uy' target=\"_blank\">https://wandb.ai/inflaton-ai/uncategorized/sweeps/dzz7i5uy</a>"
            ],
            "text/plain": [
              "<IPython.core.display.HTML object>"
            ]
          },
          "metadata": {},
          "output_type": "display_data"
        },
        {
          "data": {
            "text/html": [
              " View run at <a href='https://wandb.ai/inflaton-ai/uncategorized/runs/2q74m15a' target=\"_blank\">https://wandb.ai/inflaton-ai/uncategorized/runs/2q74m15a</a>"
            ],
            "text/plain": [
              "<IPython.core.display.HTML object>"
            ]
          },
          "metadata": {},
          "output_type": "display_data"
        },
        {
          "name": "stderr",
          "output_type": "stream",
          "text": [
            "\u001b[34m\u001b[1mwandb\u001b[0m: \u001b[33mWARNING\u001b[0m Config item 'per_device_train_batch_size' was locked by 'sweep' (ignored update).\n",
            "\u001b[34m\u001b[1mwandb\u001b[0m: \u001b[33mWARNING\u001b[0m Config item 'learning_rate' was locked by 'sweep' (ignored update).\n"
          ]
        },
        {
          "data": {
            "text/html": [
              "\n",
              "    <div>\n",
              "      \n",
              "      <progress value='13612' max='13612' style='width:300px; height:20px; vertical-align: middle;'></progress>\n",
              "      [13612/13612 57:40, Epoch 4/4]\n",
              "    </div>\n",
              "    <table border=\"1\" class=\"dataframe\">\n",
              "  <thead>\n",
              " <tr style=\"text-align: left;\">\n",
              "      <th>Epoch</th>\n",
              "      <th>Training Loss</th>\n",
              "      <th>Validation Loss</th>\n",
              "      <th>Accuracy</th>\n",
              "    </tr>\n",
              "  </thead>\n",
              "  <tbody>\n",
              "    <tr>\n",
              "      <td>1</td>\n",
              "      <td>0.072200</td>\n",
              "      <td>0.056308</td>\n",
              "      <td>0.986942</td>\n",
              "    </tr>\n",
              "    <tr>\n",
              "      <td>2</td>\n",
              "      <td>0.043100</td>\n",
              "      <td>0.047212</td>\n",
              "      <td>0.990413</td>\n",
              "    </tr>\n",
              "    <tr>\n",
              "      <td>3</td>\n",
              "      <td>0.025300</td>\n",
              "      <td>0.050280</td>\n",
              "      <td>0.990579</td>\n",
              "    </tr>\n",
              "    <tr>\n",
              "      <td>4</td>\n",
              "      <td>0.014000</td>\n",
              "      <td>0.041323</td>\n",
              "      <td>0.992727</td>\n",
              "    </tr>\n",
              "  </tbody>\n",
              "</table><p>"
            ],
            "text/plain": [
              "<IPython.core.display.HTML object>"
            ]
          },
          "metadata": {},
          "output_type": "display_data"
        },
        {
          "data": {
            "text/html": [],
            "text/plain": [
              "<IPython.core.display.HTML object>"
            ]
          },
          "metadata": {},
          "output_type": "display_data"
        },
        {
          "data": {
            "text/html": [
              "<br>    <style><br>        .wandb-row {<br>            display: flex;<br>            flex-direction: row;<br>            flex-wrap: wrap;<br>            justify-content: flex-start;<br>            width: 100%;<br>        }<br>        .wandb-col {<br>            display: flex;<br>            flex-direction: column;<br>            flex-basis: 100%;<br>            flex: 1;<br>            padding: 10px;<br>        }<br>    </style><br><div class=\"wandb-row\"><div class=\"wandb-col\"><h3>Run history:</h3><br/><table class=\"wandb\"><tr><td>eval/accuracy</td><td>▁▅▅█</td></tr><tr><td>eval/loss</td><td>█▄▅▁</td></tr><tr><td>eval/runtime</td><td>█▅▆▁</td></tr><tr><td>eval/samples_per_second</td><td>▁▄▃█</td></tr><tr><td>eval/steps_per_second</td><td>▁▄▃█</td></tr><tr><td>train/epoch</td><td>▁▁▂▂▂▂▃▃▃▃▃▄▄▄▄▄▅▅▅▆▆▆▆▆▇▇▇▇████</td></tr><tr><td>train/global_step</td><td>▁▁▂▂▂▂▃▃▃▃▃▄▄▄▄▄▅▅▅▆▆▆▆▆▇▇▇▇████</td></tr><tr><td>train/grad_norm</td><td>▂▁▁▁▁▂▁▄▁▁▁▁▁▁▁▁▁▁▁▁▁█▁▁▁▁▁</td></tr><tr><td>train/learning_rate</td><td>██▇▇▇▇▆▆▆▆▅▅▅▅▄▄▄▃▃▃▃▂▂▂▂▁▁</td></tr><tr><td>train/loss</td><td>█▃▃▂▂▂▂▂▂▂▂▂▂▁▁▁▁▁▁▁▁▁▁▁▁▁▁</td></tr></table><br/></div><div class=\"wandb-col\"><h3>Run summary:</h3><br/><table class=\"wandb\"><tr><td>eval/accuracy</td><td>0.99273</td></tr><tr><td>eval/loss</td><td>0.04132</td></tr><tr><td>eval/runtime</td><td>35.1185</td></tr><tr><td>eval/samples_per_second</td><td>172.274</td></tr><tr><td>eval/steps_per_second</td><td>21.556</td></tr><tr><td>total_flos</td><td>5.729611585941504e+16</td></tr><tr><td>train/epoch</td><td>4</td></tr><tr><td>train/global_step</td><td>13612</td></tr><tr><td>train/grad_norm</td><td>0.015</td></tr><tr><td>train/learning_rate</td><td>0.0</td></tr><tr><td>train/loss</td><td>0.014</td></tr><tr><td>train_loss</td><td>0.05003</td></tr><tr><td>train_runtime</td><td>3464.0299</td></tr><tr><td>train_samples_per_second</td><td>62.864</td></tr><tr><td>train_steps_per_second</td><td>3.93</td></tr></table><br/></div></div>"
            ],
            "text/plain": [
              "<IPython.core.display.HTML object>"
            ]
          },
          "metadata": {},
          "output_type": "display_data"
        },
        {
          "data": {
            "text/html": [
              " View run <strong style=\"color:#cdcd00\">playful-sweep-5</strong> at: <a href='https://wandb.ai/inflaton-ai/uncategorized/runs/2q74m15a' target=\"_blank\">https://wandb.ai/inflaton-ai/uncategorized/runs/2q74m15a</a><br> View project at: <a href='https://wandb.ai/inflaton-ai/uncategorized' target=\"_blank\">https://wandb.ai/inflaton-ai/uncategorized</a><br>Synced 5 W&B file(s), 0 media file(s), 0 artifact file(s) and 0 other file(s)"
            ],
            "text/plain": [
              "<IPython.core.display.HTML object>"
            ]
          },
          "metadata": {},
          "output_type": "display_data"
        },
        {
          "data": {
            "text/html": [
              "Find logs at: <code>.\\wandb\\run-20250222_180903-2q74m15a\\logs</code>"
            ],
            "text/plain": [
              "<IPython.core.display.HTML object>"
            ]
          },
          "metadata": {},
          "output_type": "display_data"
        },
        {
          "name": "stdout",
          "output_type": "stream",
          "text": [
            "CPU times: total: 4h 18min 53s\n",
            "Wall time: 4h 50min 4s\n"
          ]
        },
        {
          "data": {
            "text/plain": [
              "BestRun(run_id='jnhzqjh9', objective=0.9945454545454545, hyperparameters={'learning_rate': 3.897684881994952e-05, 'per_device_train_batch_size': 32, 'assignments': {}, 'metric': 'eval/loss'}, run_summary=None)"
            ]
          },
          "execution_count": 10,
          "metadata": {},
          "output_type": "execute_result"
        }
      ],
      "source": [
        "%%time\n",
        "\n",
        "best_trial = do_grid_search(\"original\")\n",
        "best_trial"
      ]
    },
    {
      "cell_type": "code",
      "execution_count": 10,
      "metadata": {},
      "outputs": [
        {
          "name": "stderr",
          "output_type": "stream",
          "text": [
            "c:\\Users\\admin\\.conda\\envs\\fake-news\\Lib\\site-packages\\transformers\\training_args.py:1575: FutureWarning: `evaluation_strategy` is deprecated and will be removed in version 4.46 of 🤗 Transformers. Use `eval_strategy` instead\n",
            "  warnings.warn(\n",
            "C:\\Users\\admin\\AppData\\Local\\Temp\\ipykernel_21172\\1062649897.py:15: FutureWarning: `tokenizer` is deprecated and will be removed in version 5.0.0 for `Trainer.__init__`. Use `processing_class` instead.\n",
            "  trainer = Trainer(\n",
            "Some weights of BertForSequenceClassification were not initialized from the model checkpoint at bert-base-uncased and are newly initialized: ['classifier.bias', 'classifier.weight']\n",
            "You should probably TRAIN this model on a down-stream task to be able to use it for predictions and inference.\n",
            "\u001b[34m\u001b[1mwandb\u001b[0m: Using wandb-core as the SDK backend.  Please refer to https://wandb.me/wandb-core for more information.\n"
          ]
        },
        {
          "name": "stdout",
          "output_type": "stream",
          "text": [
            "Create sweep with ID: su7a4p7b\n",
            "Sweep URL: https://wandb.ai/inflaton-ai/uncategorized/sweeps/su7a4p7b\n"
          ]
        },
        {
          "name": "stderr",
          "output_type": "stream",
          "text": [
            "\u001b[34m\u001b[1mwandb\u001b[0m: Agent Starting Run: 8fhrlx1u with config:\n",
            "\u001b[34m\u001b[1mwandb\u001b[0m: \tlearning_rate: 9.674440968778798e-06\n",
            "\u001b[34m\u001b[1mwandb\u001b[0m: \tper_device_train_batch_size: 32\n",
            "\u001b[34m\u001b[1mwandb\u001b[0m: Currently logged in as: \u001b[33minflaton-sg\u001b[0m (\u001b[33minflaton-ai\u001b[0m) to \u001b[32mhttps://api.wandb.ai\u001b[0m. Use \u001b[1m`wandb login --relogin`\u001b[0m to force relogin\n"
          ]
        },
        {
          "data": {
            "text/html": [
              "Tracking run with wandb version 0.19.7"
            ],
            "text/plain": [
              "<IPython.core.display.HTML object>"
            ]
          },
          "metadata": {},
          "output_type": "display_data"
        },
        {
          "data": {
            "text/html": [
              "Run data is saved locally in <code>c:\\Users\\admin\\code\\CrediNews\\wandb\\run-20250223_021321-8fhrlx1u</code>"
            ],
            "text/plain": [
              "<IPython.core.display.HTML object>"
            ]
          },
          "metadata": {},
          "output_type": "display_data"
        },
        {
          "data": {
            "text/html": [
              "Syncing run <strong><a href='https://wandb.ai/inflaton-ai/uncategorized/runs/8fhrlx1u' target=\"_blank\">classic-sweep-1</a></strong> to <a href='https://wandb.ai/inflaton-ai/uncategorized' target=\"_blank\">Weights & Biases</a> (<a href='https://wandb.me/developer-guide' target=\"_blank\">docs</a>)<br>Sweep page: <a href='https://wandb.ai/inflaton-ai/uncategorized/sweeps/su7a4p7b' target=\"_blank\">https://wandb.ai/inflaton-ai/uncategorized/sweeps/su7a4p7b</a>"
            ],
            "text/plain": [
              "<IPython.core.display.HTML object>"
            ]
          },
          "metadata": {},
          "output_type": "display_data"
        },
        {
          "data": {
            "text/html": [
              " View project at <a href='https://wandb.ai/inflaton-ai/uncategorized' target=\"_blank\">https://wandb.ai/inflaton-ai/uncategorized</a>"
            ],
            "text/plain": [
              "<IPython.core.display.HTML object>"
            ]
          },
          "metadata": {},
          "output_type": "display_data"
        },
        {
          "data": {
            "text/html": [
              " View sweep at <a href='https://wandb.ai/inflaton-ai/uncategorized/sweeps/su7a4p7b' target=\"_blank\">https://wandb.ai/inflaton-ai/uncategorized/sweeps/su7a4p7b</a>"
            ],
            "text/plain": [
              "<IPython.core.display.HTML object>"
            ]
          },
          "metadata": {},
          "output_type": "display_data"
        },
        {
          "data": {
            "text/html": [
              " View run at <a href='https://wandb.ai/inflaton-ai/uncategorized/runs/8fhrlx1u' target=\"_blank\">https://wandb.ai/inflaton-ai/uncategorized/runs/8fhrlx1u</a>"
            ],
            "text/plain": [
              "<IPython.core.display.HTML object>"
            ]
          },
          "metadata": {},
          "output_type": "display_data"
        },
        {
          "name": "stderr",
          "output_type": "stream",
          "text": [
            "Trying to set _wandb in the hyperparameter search but there is no corresponding field in `TrainingArguments`.\n",
            "Trying to set assignments in the hyperparameter search but there is no corresponding field in `TrainingArguments`.\n",
            "Trying to set metric in the hyperparameter search but there is no corresponding field in `TrainingArguments`.\n",
            "Some weights of BertForSequenceClassification were not initialized from the model checkpoint at bert-base-uncased and are newly initialized: ['classifier.bias', 'classifier.weight']\n",
            "You should probably TRAIN this model on a down-stream task to be able to use it for predictions and inference.\n"
          ]
        },
        {
          "data": {
            "text/html": [],
            "text/plain": [
              "<IPython.core.display.HTML object>"
            ]
          },
          "metadata": {},
          "output_type": "display_data"
        },
        {
          "data": {
            "text/html": [
              " View run <strong style=\"color:#cdcd00\">classic-sweep-1</strong> at: <a href='https://wandb.ai/inflaton-ai/uncategorized/runs/8fhrlx1u' target=\"_blank\">https://wandb.ai/inflaton-ai/uncategorized/runs/8fhrlx1u</a><br> View project at: <a href='https://wandb.ai/inflaton-ai/uncategorized' target=\"_blank\">https://wandb.ai/inflaton-ai/uncategorized</a><br>Synced 5 W&B file(s), 0 media file(s), 0 artifact file(s) and 0 other file(s)"
            ],
            "text/plain": [
              "<IPython.core.display.HTML object>"
            ]
          },
          "metadata": {},
          "output_type": "display_data"
        },
        {
          "data": {
            "text/html": [
              "Find logs at: <code>.\\wandb\\run-20250223_021321-8fhrlx1u\\logs</code>"
            ],
            "text/plain": [
              "<IPython.core.display.HTML object>"
            ]
          },
          "metadata": {},
          "output_type": "display_data"
        },
        {
          "data": {
            "text/html": [
              "Ignoring project 'uncategorized' when running a sweep."
            ],
            "text/plain": [
              "<IPython.core.display.HTML object>"
            ]
          },
          "metadata": {},
          "output_type": "display_data"
        },
        {
          "data": {
            "text/html": [
              "Tracking run with wandb version 0.19.7"
            ],
            "text/plain": [
              "<IPython.core.display.HTML object>"
            ]
          },
          "metadata": {},
          "output_type": "display_data"
        },
        {
          "data": {
            "text/html": [
              "Run data is saved locally in <code>c:\\Users\\admin\\code\\CrediNews\\wandb\\run-20250223_021325-8fhrlx1u</code>"
            ],
            "text/plain": [
              "<IPython.core.display.HTML object>"
            ]
          },
          "metadata": {},
          "output_type": "display_data"
        },
        {
          "data": {
            "text/html": [
              "Syncing run <strong><a href='https://wandb.ai/inflaton-ai/uncategorized/runs/8fhrlx1u' target=\"_blank\">classic-sweep-1</a></strong> to <a href='https://wandb.ai/inflaton-ai/uncategorized' target=\"_blank\">Weights & Biases</a> (<a href='https://wandb.me/developer-guide' target=\"_blank\">docs</a>)<br>Sweep page: <a href='https://wandb.ai/inflaton-ai/uncategorized/sweeps/su7a4p7b' target=\"_blank\">https://wandb.ai/inflaton-ai/uncategorized/sweeps/su7a4p7b</a>"
            ],
            "text/plain": [
              "<IPython.core.display.HTML object>"
            ]
          },
          "metadata": {},
          "output_type": "display_data"
        },
        {
          "data": {
            "text/html": [
              " View project at <a href='https://wandb.ai/inflaton-ai/uncategorized' target=\"_blank\">https://wandb.ai/inflaton-ai/uncategorized</a>"
            ],
            "text/plain": [
              "<IPython.core.display.HTML object>"
            ]
          },
          "metadata": {},
          "output_type": "display_data"
        },
        {
          "data": {
            "text/html": [
              " View sweep at <a href='https://wandb.ai/inflaton-ai/uncategorized/sweeps/su7a4p7b' target=\"_blank\">https://wandb.ai/inflaton-ai/uncategorized/sweeps/su7a4p7b</a>"
            ],
            "text/plain": [
              "<IPython.core.display.HTML object>"
            ]
          },
          "metadata": {},
          "output_type": "display_data"
        },
        {
          "data": {
            "text/html": [
              " View run at <a href='https://wandb.ai/inflaton-ai/uncategorized/runs/8fhrlx1u' target=\"_blank\">https://wandb.ai/inflaton-ai/uncategorized/runs/8fhrlx1u</a>"
            ],
            "text/plain": [
              "<IPython.core.display.HTML object>"
            ]
          },
          "metadata": {},
          "output_type": "display_data"
        },
        {
          "name": "stderr",
          "output_type": "stream",
          "text": [
            "\u001b[34m\u001b[1mwandb\u001b[0m: \u001b[33mWARNING\u001b[0m Config item 'per_device_train_batch_size' was locked by 'sweep' (ignored update).\n",
            "\u001b[34m\u001b[1mwandb\u001b[0m: \u001b[33mWARNING\u001b[0m Config item 'learning_rate' was locked by 'sweep' (ignored update).\n"
          ]
        },
        {
          "data": {
            "text/html": [
              "\n",
              "    <div>\n",
              "      \n",
              "      <progress value='13612' max='13612' style='width:300px; height:20px; vertical-align: middle;'></progress>\n",
              "      [13612/13612 4:39:19, Epoch 4/4]\n",
              "    </div>\n",
              "    <table border=\"1\" class=\"dataframe\">\n",
              "  <thead>\n",
              " <tr style=\"text-align: left;\">\n",
              "      <th>Epoch</th>\n",
              "      <th>Training Loss</th>\n",
              "      <th>Validation Loss</th>\n",
              "      <th>Accuracy</th>\n",
              "    </tr>\n",
              "  </thead>\n",
              "  <tbody>\n",
              "    <tr>\n",
              "      <td>1</td>\n",
              "      <td>0.122400</td>\n",
              "      <td>0.112944</td>\n",
              "      <td>0.956612</td>\n",
              "    </tr>\n",
              "    <tr>\n",
              "      <td>2</td>\n",
              "      <td>0.087200</td>\n",
              "      <td>0.109373</td>\n",
              "      <td>0.961653</td>\n",
              "    </tr>\n",
              "    <tr>\n",
              "      <td>3</td>\n",
              "      <td>0.064600</td>\n",
              "      <td>0.137290</td>\n",
              "      <td>0.962727</td>\n",
              "    </tr>\n",
              "    <tr>\n",
              "      <td>4</td>\n",
              "      <td>0.043700</td>\n",
              "      <td>0.145524</td>\n",
              "      <td>0.962231</td>\n",
              "    </tr>\n",
              "  </tbody>\n",
              "</table><p>"
            ],
            "text/plain": [
              "<IPython.core.display.HTML object>"
            ]
          },
          "metadata": {},
          "output_type": "display_data"
        },
        {
          "data": {
            "text/html": [],
            "text/plain": [
              "<IPython.core.display.HTML object>"
            ]
          },
          "metadata": {},
          "output_type": "display_data"
        },
        {
          "data": {
            "text/html": [
              "<br>    <style><br>        .wandb-row {<br>            display: flex;<br>            flex-direction: row;<br>            flex-wrap: wrap;<br>            justify-content: flex-start;<br>            width: 100%;<br>        }<br>        .wandb-col {<br>            display: flex;<br>            flex-direction: column;<br>            flex-basis: 100%;<br>            flex: 1;<br>            padding: 10px;<br>        }<br>    </style><br><div class=\"wandb-row\"><div class=\"wandb-col\"><h3>Run history:</h3><br/><table class=\"wandb\"><tr><td>eval/accuracy</td><td>▁▇█▇</td></tr><tr><td>eval/loss</td><td>▂▁▆█</td></tr><tr><td>eval/runtime</td><td>▁▄▄█</td></tr><tr><td>eval/samples_per_second</td><td>█▅▅▁</td></tr><tr><td>eval/steps_per_second</td><td>█▅▅▁</td></tr><tr><td>train/epoch</td><td>▁▁▂▂▂▂▃▃▃▃▃▄▄▄▄▄▅▅▅▆▆▆▆▆▇▇▇▇████</td></tr><tr><td>train/global_step</td><td>▁▁▂▂▂▂▃▃▃▃▃▄▄▄▄▄▅▅▅▆▆▆▆▆▇▇▇▇████</td></tr><tr><td>train/grad_norm</td><td>▂▂▂▁▂▂▂▂▂▂▂▁▃▃▃▃▁▃▂▁█▁▃▃▂▄▃</td></tr><tr><td>train/learning_rate</td><td>██▇▇▇▇▆▆▆▆▅▅▅▅▄▄▄▃▃▃▃▂▂▂▂▁▁</td></tr><tr><td>train/loss</td><td>█▄▄▃▃▃▃▂▂▂▂▂▂▂▂▂▂▁▂▂▁▁▁▁▁▁▁</td></tr></table><br/></div><div class=\"wandb-col\"><h3>Run summary:</h3><br/><table class=\"wandb\"><tr><td>eval/accuracy</td><td>0.96223</td></tr><tr><td>eval/loss</td><td>0.14552</td></tr><tr><td>eval/runtime</td><td>167.9102</td></tr><tr><td>eval/samples_per_second</td><td>72.062</td></tr><tr><td>eval/steps_per_second</td><td>9.011</td></tr><tr><td>total_flos</td><td>1.1459223171883008e+17</td></tr><tr><td>train/epoch</td><td>4</td></tr><tr><td>train/global_step</td><td>13612</td></tr><tr><td>train/grad_norm</td><td>11.81995</td></tr><tr><td>train/learning_rate</td><td>0.0</td></tr><tr><td>train/loss</td><td>0.0437</td></tr><tr><td>train_loss</td><td>0.08986</td></tr><tr><td>train_runtime</td><td>16764.6068</td></tr><tr><td>train_samples_per_second</td><td>25.979</td></tr><tr><td>train_steps_per_second</td><td>0.812</td></tr></table><br/></div></div>"
            ],
            "text/plain": [
              "<IPython.core.display.HTML object>"
            ]
          },
          "metadata": {},
          "output_type": "display_data"
        },
        {
          "data": {
            "text/html": [
              " View run <strong style=\"color:#cdcd00\">classic-sweep-1</strong> at: <a href='https://wandb.ai/inflaton-ai/uncategorized/runs/8fhrlx1u' target=\"_blank\">https://wandb.ai/inflaton-ai/uncategorized/runs/8fhrlx1u</a><br> View project at: <a href='https://wandb.ai/inflaton-ai/uncategorized' target=\"_blank\">https://wandb.ai/inflaton-ai/uncategorized</a><br>Synced 5 W&B file(s), 0 media file(s), 0 artifact file(s) and 0 other file(s)"
            ],
            "text/plain": [
              "<IPython.core.display.HTML object>"
            ]
          },
          "metadata": {},
          "output_type": "display_data"
        },
        {
          "data": {
            "text/html": [
              "Find logs at: <code>.\\wandb\\run-20250223_021325-8fhrlx1u\\logs</code>"
            ],
            "text/plain": [
              "<IPython.core.display.HTML object>"
            ]
          },
          "metadata": {},
          "output_type": "display_data"
        },
        {
          "name": "stderr",
          "output_type": "stream",
          "text": [
            "\u001b[34m\u001b[1mwandb\u001b[0m: Sweep Agent: Waiting for job.\n",
            "\u001b[34m\u001b[1mwandb\u001b[0m: Job received.\n",
            "\u001b[34m\u001b[1mwandb\u001b[0m: Agent Starting Run: u7685nf5 with config:\n",
            "\u001b[34m\u001b[1mwandb\u001b[0m: \tlearning_rate: 7.397204197231888e-05\n",
            "\u001b[34m\u001b[1mwandb\u001b[0m: \tper_device_train_batch_size: 16\n"
          ]
        },
        {
          "data": {
            "text/html": [
              "Tracking run with wandb version 0.19.7"
            ],
            "text/plain": [
              "<IPython.core.display.HTML object>"
            ]
          },
          "metadata": {},
          "output_type": "display_data"
        },
        {
          "data": {
            "text/html": [
              "Run data is saved locally in <code>c:\\Users\\admin\\code\\CrediNews\\wandb\\run-20250223_065302-u7685nf5</code>"
            ],
            "text/plain": [
              "<IPython.core.display.HTML object>"
            ]
          },
          "metadata": {},
          "output_type": "display_data"
        },
        {
          "data": {
            "text/html": [
              "Syncing run <strong><a href='https://wandb.ai/inflaton-ai/uncategorized/runs/u7685nf5' target=\"_blank\">fanciful-sweep-2</a></strong> to <a href='https://wandb.ai/inflaton-ai/uncategorized' target=\"_blank\">Weights & Biases</a> (<a href='https://wandb.me/developer-guide' target=\"_blank\">docs</a>)<br>Sweep page: <a href='https://wandb.ai/inflaton-ai/uncategorized/sweeps/su7a4p7b' target=\"_blank\">https://wandb.ai/inflaton-ai/uncategorized/sweeps/su7a4p7b</a>"
            ],
            "text/plain": [
              "<IPython.core.display.HTML object>"
            ]
          },
          "metadata": {},
          "output_type": "display_data"
        },
        {
          "data": {
            "text/html": [
              " View project at <a href='https://wandb.ai/inflaton-ai/uncategorized' target=\"_blank\">https://wandb.ai/inflaton-ai/uncategorized</a>"
            ],
            "text/plain": [
              "<IPython.core.display.HTML object>"
            ]
          },
          "metadata": {},
          "output_type": "display_data"
        },
        {
          "data": {
            "text/html": [
              " View sweep at <a href='https://wandb.ai/inflaton-ai/uncategorized/sweeps/su7a4p7b' target=\"_blank\">https://wandb.ai/inflaton-ai/uncategorized/sweeps/su7a4p7b</a>"
            ],
            "text/plain": [
              "<IPython.core.display.HTML object>"
            ]
          },
          "metadata": {},
          "output_type": "display_data"
        },
        {
          "data": {
            "text/html": [
              " View run at <a href='https://wandb.ai/inflaton-ai/uncategorized/runs/u7685nf5' target=\"_blank\">https://wandb.ai/inflaton-ai/uncategorized/runs/u7685nf5</a>"
            ],
            "text/plain": [
              "<IPython.core.display.HTML object>"
            ]
          },
          "metadata": {},
          "output_type": "display_data"
        },
        {
          "name": "stderr",
          "output_type": "stream",
          "text": [
            "Trying to set _wandb in the hyperparameter search but there is no corresponding field in `TrainingArguments`.\n",
            "Trying to set assignments in the hyperparameter search but there is no corresponding field in `TrainingArguments`.\n",
            "Trying to set metric in the hyperparameter search but there is no corresponding field in `TrainingArguments`.\n",
            "Some weights of BertForSequenceClassification were not initialized from the model checkpoint at bert-base-uncased and are newly initialized: ['classifier.bias', 'classifier.weight']\n",
            "You should probably TRAIN this model on a down-stream task to be able to use it for predictions and inference.\n"
          ]
        },
        {
          "data": {
            "text/html": [],
            "text/plain": [
              "<IPython.core.display.HTML object>"
            ]
          },
          "metadata": {},
          "output_type": "display_data"
        },
        {
          "data": {
            "text/html": [
              " View run <strong style=\"color:#cdcd00\">fanciful-sweep-2</strong> at: <a href='https://wandb.ai/inflaton-ai/uncategorized/runs/u7685nf5' target=\"_blank\">https://wandb.ai/inflaton-ai/uncategorized/runs/u7685nf5</a><br> View project at: <a href='https://wandb.ai/inflaton-ai/uncategorized' target=\"_blank\">https://wandb.ai/inflaton-ai/uncategorized</a><br>Synced 5 W&B file(s), 0 media file(s), 0 artifact file(s) and 0 other file(s)"
            ],
            "text/plain": [
              "<IPython.core.display.HTML object>"
            ]
          },
          "metadata": {},
          "output_type": "display_data"
        },
        {
          "data": {
            "text/html": [
              "Find logs at: <code>.\\wandb\\run-20250223_065302-u7685nf5\\logs</code>"
            ],
            "text/plain": [
              "<IPython.core.display.HTML object>"
            ]
          },
          "metadata": {},
          "output_type": "display_data"
        },
        {
          "data": {
            "text/html": [
              "Ignoring project 'uncategorized' when running a sweep."
            ],
            "text/plain": [
              "<IPython.core.display.HTML object>"
            ]
          },
          "metadata": {},
          "output_type": "display_data"
        },
        {
          "data": {
            "text/html": [
              "Tracking run with wandb version 0.19.7"
            ],
            "text/plain": [
              "<IPython.core.display.HTML object>"
            ]
          },
          "metadata": {},
          "output_type": "display_data"
        },
        {
          "data": {
            "text/html": [
              "Run data is saved locally in <code>c:\\Users\\admin\\code\\CrediNews\\wandb\\run-20250223_065308-u7685nf5</code>"
            ],
            "text/plain": [
              "<IPython.core.display.HTML object>"
            ]
          },
          "metadata": {},
          "output_type": "display_data"
        },
        {
          "data": {
            "text/html": [
              "Syncing run <strong><a href='https://wandb.ai/inflaton-ai/uncategorized/runs/u7685nf5' target=\"_blank\">fanciful-sweep-2</a></strong> to <a href='https://wandb.ai/inflaton-ai/uncategorized' target=\"_blank\">Weights & Biases</a> (<a href='https://wandb.me/developer-guide' target=\"_blank\">docs</a>)<br>Sweep page: <a href='https://wandb.ai/inflaton-ai/uncategorized/sweeps/su7a4p7b' target=\"_blank\">https://wandb.ai/inflaton-ai/uncategorized/sweeps/su7a4p7b</a>"
            ],
            "text/plain": [
              "<IPython.core.display.HTML object>"
            ]
          },
          "metadata": {},
          "output_type": "display_data"
        },
        {
          "data": {
            "text/html": [
              " View project at <a href='https://wandb.ai/inflaton-ai/uncategorized' target=\"_blank\">https://wandb.ai/inflaton-ai/uncategorized</a>"
            ],
            "text/plain": [
              "<IPython.core.display.HTML object>"
            ]
          },
          "metadata": {},
          "output_type": "display_data"
        },
        {
          "data": {
            "text/html": [
              " View sweep at <a href='https://wandb.ai/inflaton-ai/uncategorized/sweeps/su7a4p7b' target=\"_blank\">https://wandb.ai/inflaton-ai/uncategorized/sweeps/su7a4p7b</a>"
            ],
            "text/plain": [
              "<IPython.core.display.HTML object>"
            ]
          },
          "metadata": {},
          "output_type": "display_data"
        },
        {
          "data": {
            "text/html": [
              " View run at <a href='https://wandb.ai/inflaton-ai/uncategorized/runs/u7685nf5' target=\"_blank\">https://wandb.ai/inflaton-ai/uncategorized/runs/u7685nf5</a>"
            ],
            "text/plain": [
              "<IPython.core.display.HTML object>"
            ]
          },
          "metadata": {},
          "output_type": "display_data"
        },
        {
          "name": "stderr",
          "output_type": "stream",
          "text": [
            "\u001b[34m\u001b[1mwandb\u001b[0m: \u001b[33mWARNING\u001b[0m Config item 'per_device_train_batch_size' was locked by 'sweep' (ignored update).\n",
            "\u001b[34m\u001b[1mwandb\u001b[0m: \u001b[33mWARNING\u001b[0m Config item 'learning_rate' was locked by 'sweep' (ignored update).\n"
          ]
        },
        {
          "data": {
            "text/html": [
              "\n",
              "    <div>\n",
              "      \n",
              "      <progress value='27224' max='27224' style='width:300px; height:20px; vertical-align: middle;'></progress>\n",
              "      [27224/27224 4:47:40, Epoch 4/4]\n",
              "    </div>\n",
              "    <table border=\"1\" class=\"dataframe\">\n",
              "  <thead>\n",
              " <tr style=\"text-align: left;\">\n",
              "      <th>Epoch</th>\n",
              "      <th>Training Loss</th>\n",
              "      <th>Validation Loss</th>\n",
              "      <th>Accuracy</th>\n",
              "    </tr>\n",
              "  </thead>\n",
              "  <tbody>\n",
              "    <tr>\n",
              "      <td>1</td>\n",
              "      <td>0.688000</td>\n",
              "      <td>0.685526</td>\n",
              "      <td>0.562479</td>\n",
              "    </tr>\n",
              "    <tr>\n",
              "      <td>2</td>\n",
              "      <td>0.684700</td>\n",
              "      <td>0.685383</td>\n",
              "      <td>0.562479</td>\n",
              "    </tr>\n",
              "    <tr>\n",
              "      <td>3</td>\n",
              "      <td>0.687800</td>\n",
              "      <td>0.689068</td>\n",
              "      <td>0.562479</td>\n",
              "    </tr>\n",
              "    <tr>\n",
              "      <td>4</td>\n",
              "      <td>0.688500</td>\n",
              "      <td>0.685433</td>\n",
              "      <td>0.562479</td>\n",
              "    </tr>\n",
              "  </tbody>\n",
              "</table><p>"
            ],
            "text/plain": [
              "<IPython.core.display.HTML object>"
            ]
          },
          "metadata": {},
          "output_type": "display_data"
        },
        {
          "data": {
            "text/html": [],
            "text/plain": [
              "<IPython.core.display.HTML object>"
            ]
          },
          "metadata": {},
          "output_type": "display_data"
        },
        {
          "data": {
            "text/html": [
              "<br>    <style><br>        .wandb-row {<br>            display: flex;<br>            flex-direction: row;<br>            flex-wrap: wrap;<br>            justify-content: flex-start;<br>            width: 100%;<br>        }<br>        .wandb-col {<br>            display: flex;<br>            flex-direction: column;<br>            flex-basis: 100%;<br>            flex: 1;<br>            padding: 10px;<br>        }<br>    </style><br><div class=\"wandb-row\"><div class=\"wandb-col\"><h3>Run history:</h3><br/><table class=\"wandb\"><tr><td>eval/accuracy</td><td>▁▁▁▁</td></tr><tr><td>eval/loss</td><td>▁▁█▁</td></tr><tr><td>eval/runtime</td><td>█▄▁▁</td></tr><tr><td>eval/samples_per_second</td><td>▁▅██</td></tr><tr><td>eval/steps_per_second</td><td>▁▅██</td></tr><tr><td>train/epoch</td><td>▁▁▂▂▂▂▃▃▃▃▃▃▃▄▄▄▄▄▄▅▅▅▅▅▅▆▆▆▆▆▇▇▇▇▇█████</td></tr><tr><td>train/global_step</td><td>▁▁▁▁▂▂▂▂▂▂▃▃▃▃▃▃▃▄▄▄▄▄▅▅▅▅▅▅▅▆▆▆▆▇▇▇▇███</td></tr><tr><td>train/grad_norm</td><td>▃█▃▄▂▁▂▁▁▁▂▁▄▁▃▃▂▁▂▂▆▁▂▂▁▁▂▂▃▁▂▃▃▂▁▁▂▂▁▂</td></tr><tr><td>train/learning_rate</td><td>███▇▇▇▇▆▆▆▆▆▅▅▅▅▅▅▄▄▄▄▄▄▄▃▃▃▃▃▂▂▂▂▂▂▂▁▁▁</td></tr><tr><td>train/loss</td><td>▁███████████████████████████████████████</td></tr></table><br/></div><div class=\"wandb-col\"><h3>Run summary:</h3><br/><table class=\"wandb\"><tr><td>eval/accuracy</td><td>0.56248</td></tr><tr><td>eval/loss</td><td>0.68543</td></tr><tr><td>eval/runtime</td><td>160.7158</td></tr><tr><td>eval/samples_per_second</td><td>75.288</td></tr><tr><td>eval/steps_per_second</td><td>9.414</td></tr><tr><td>total_flos</td><td>1.1459223171883008e+17</td></tr><tr><td>train/epoch</td><td>4</td></tr><tr><td>train/global_step</td><td>27224</td></tr><tr><td>train/grad_norm</td><td>3.02784</td></tr><tr><td>train/learning_rate</td><td>0.0</td></tr><tr><td>train/loss</td><td>0.6885</td></tr><tr><td>train_loss</td><td>0.68317</td></tr><tr><td>train_runtime</td><td>17263.8456</td></tr><tr><td>train_samples_per_second</td><td>25.228</td></tr><tr><td>train_steps_per_second</td><td>1.577</td></tr></table><br/></div></div>"
            ],
            "text/plain": [
              "<IPython.core.display.HTML object>"
            ]
          },
          "metadata": {},
          "output_type": "display_data"
        },
        {
          "data": {
            "text/html": [
              " View run <strong style=\"color:#cdcd00\">fanciful-sweep-2</strong> at: <a href='https://wandb.ai/inflaton-ai/uncategorized/runs/u7685nf5' target=\"_blank\">https://wandb.ai/inflaton-ai/uncategorized/runs/u7685nf5</a><br> View project at: <a href='https://wandb.ai/inflaton-ai/uncategorized' target=\"_blank\">https://wandb.ai/inflaton-ai/uncategorized</a><br>Synced 5 W&B file(s), 0 media file(s), 0 artifact file(s) and 0 other file(s)"
            ],
            "text/plain": [
              "<IPython.core.display.HTML object>"
            ]
          },
          "metadata": {},
          "output_type": "display_data"
        },
        {
          "data": {
            "text/html": [
              "Find logs at: <code>.\\wandb\\run-20250223_065308-u7685nf5\\logs</code>"
            ],
            "text/plain": [
              "<IPython.core.display.HTML object>"
            ]
          },
          "metadata": {},
          "output_type": "display_data"
        },
        {
          "name": "stderr",
          "output_type": "stream",
          "text": [
            "\u001b[34m\u001b[1mwandb\u001b[0m: Agent Starting Run: xo3iqeep with config:\n",
            "\u001b[34m\u001b[1mwandb\u001b[0m: \tlearning_rate: 2.1205357854158003e-05\n",
            "\u001b[34m\u001b[1mwandb\u001b[0m: \tper_device_train_batch_size: 32\n"
          ]
        },
        {
          "data": {
            "text/html": [
              "Tracking run with wandb version 0.19.7"
            ],
            "text/plain": [
              "<IPython.core.display.HTML object>"
            ]
          },
          "metadata": {},
          "output_type": "display_data"
        },
        {
          "data": {
            "text/html": [
              "Run data is saved locally in <code>c:\\Users\\admin\\code\\CrediNews\\wandb\\run-20250223_114058-xo3iqeep</code>"
            ],
            "text/plain": [
              "<IPython.core.display.HTML object>"
            ]
          },
          "metadata": {},
          "output_type": "display_data"
        },
        {
          "data": {
            "text/html": [
              "Syncing run <strong><a href='https://wandb.ai/inflaton-ai/uncategorized/runs/xo3iqeep' target=\"_blank\">solar-sweep-3</a></strong> to <a href='https://wandb.ai/inflaton-ai/uncategorized' target=\"_blank\">Weights & Biases</a> (<a href='https://wandb.me/developer-guide' target=\"_blank\">docs</a>)<br>Sweep page: <a href='https://wandb.ai/inflaton-ai/uncategorized/sweeps/su7a4p7b' target=\"_blank\">https://wandb.ai/inflaton-ai/uncategorized/sweeps/su7a4p7b</a>"
            ],
            "text/plain": [
              "<IPython.core.display.HTML object>"
            ]
          },
          "metadata": {},
          "output_type": "display_data"
        },
        {
          "data": {
            "text/html": [
              " View project at <a href='https://wandb.ai/inflaton-ai/uncategorized' target=\"_blank\">https://wandb.ai/inflaton-ai/uncategorized</a>"
            ],
            "text/plain": [
              "<IPython.core.display.HTML object>"
            ]
          },
          "metadata": {},
          "output_type": "display_data"
        },
        {
          "data": {
            "text/html": [
              " View sweep at <a href='https://wandb.ai/inflaton-ai/uncategorized/sweeps/su7a4p7b' target=\"_blank\">https://wandb.ai/inflaton-ai/uncategorized/sweeps/su7a4p7b</a>"
            ],
            "text/plain": [
              "<IPython.core.display.HTML object>"
            ]
          },
          "metadata": {},
          "output_type": "display_data"
        },
        {
          "data": {
            "text/html": [
              " View run at <a href='https://wandb.ai/inflaton-ai/uncategorized/runs/xo3iqeep' target=\"_blank\">https://wandb.ai/inflaton-ai/uncategorized/runs/xo3iqeep</a>"
            ],
            "text/plain": [
              "<IPython.core.display.HTML object>"
            ]
          },
          "metadata": {},
          "output_type": "display_data"
        },
        {
          "name": "stderr",
          "output_type": "stream",
          "text": [
            "Trying to set _wandb in the hyperparameter search but there is no corresponding field in `TrainingArguments`.\n",
            "Trying to set assignments in the hyperparameter search but there is no corresponding field in `TrainingArguments`.\n",
            "Trying to set metric in the hyperparameter search but there is no corresponding field in `TrainingArguments`.\n",
            "Some weights of BertForSequenceClassification were not initialized from the model checkpoint at bert-base-uncased and are newly initialized: ['classifier.bias', 'classifier.weight']\n",
            "You should probably TRAIN this model on a down-stream task to be able to use it for predictions and inference.\n"
          ]
        },
        {
          "data": {
            "text/html": [],
            "text/plain": [
              "<IPython.core.display.HTML object>"
            ]
          },
          "metadata": {},
          "output_type": "display_data"
        },
        {
          "data": {
            "text/html": [
              " View run <strong style=\"color:#cdcd00\">solar-sweep-3</strong> at: <a href='https://wandb.ai/inflaton-ai/uncategorized/runs/xo3iqeep' target=\"_blank\">https://wandb.ai/inflaton-ai/uncategorized/runs/xo3iqeep</a><br> View project at: <a href='https://wandb.ai/inflaton-ai/uncategorized' target=\"_blank\">https://wandb.ai/inflaton-ai/uncategorized</a><br>Synced 5 W&B file(s), 0 media file(s), 0 artifact file(s) and 0 other file(s)"
            ],
            "text/plain": [
              "<IPython.core.display.HTML object>"
            ]
          },
          "metadata": {},
          "output_type": "display_data"
        },
        {
          "data": {
            "text/html": [
              "Find logs at: <code>.\\wandb\\run-20250223_114058-xo3iqeep\\logs</code>"
            ],
            "text/plain": [
              "<IPython.core.display.HTML object>"
            ]
          },
          "metadata": {},
          "output_type": "display_data"
        },
        {
          "data": {
            "text/html": [
              "Ignoring project 'uncategorized' when running a sweep."
            ],
            "text/plain": [
              "<IPython.core.display.HTML object>"
            ]
          },
          "metadata": {},
          "output_type": "display_data"
        },
        {
          "data": {
            "text/html": [
              "Tracking run with wandb version 0.19.7"
            ],
            "text/plain": [
              "<IPython.core.display.HTML object>"
            ]
          },
          "metadata": {},
          "output_type": "display_data"
        },
        {
          "data": {
            "text/html": [
              "Run data is saved locally in <code>c:\\Users\\admin\\code\\CrediNews\\wandb\\run-20250223_114102-xo3iqeep</code>"
            ],
            "text/plain": [
              "<IPython.core.display.HTML object>"
            ]
          },
          "metadata": {},
          "output_type": "display_data"
        },
        {
          "data": {
            "text/html": [
              "Syncing run <strong><a href='https://wandb.ai/inflaton-ai/uncategorized/runs/xo3iqeep' target=\"_blank\">solar-sweep-3</a></strong> to <a href='https://wandb.ai/inflaton-ai/uncategorized' target=\"_blank\">Weights & Biases</a> (<a href='https://wandb.me/developer-guide' target=\"_blank\">docs</a>)<br>Sweep page: <a href='https://wandb.ai/inflaton-ai/uncategorized/sweeps/su7a4p7b' target=\"_blank\">https://wandb.ai/inflaton-ai/uncategorized/sweeps/su7a4p7b</a>"
            ],
            "text/plain": [
              "<IPython.core.display.HTML object>"
            ]
          },
          "metadata": {},
          "output_type": "display_data"
        },
        {
          "data": {
            "text/html": [
              " View project at <a href='https://wandb.ai/inflaton-ai/uncategorized' target=\"_blank\">https://wandb.ai/inflaton-ai/uncategorized</a>"
            ],
            "text/plain": [
              "<IPython.core.display.HTML object>"
            ]
          },
          "metadata": {},
          "output_type": "display_data"
        },
        {
          "data": {
            "text/html": [
              " View sweep at <a href='https://wandb.ai/inflaton-ai/uncategorized/sweeps/su7a4p7b' target=\"_blank\">https://wandb.ai/inflaton-ai/uncategorized/sweeps/su7a4p7b</a>"
            ],
            "text/plain": [
              "<IPython.core.display.HTML object>"
            ]
          },
          "metadata": {},
          "output_type": "display_data"
        },
        {
          "data": {
            "text/html": [
              " View run at <a href='https://wandb.ai/inflaton-ai/uncategorized/runs/xo3iqeep' target=\"_blank\">https://wandb.ai/inflaton-ai/uncategorized/runs/xo3iqeep</a>"
            ],
            "text/plain": [
              "<IPython.core.display.HTML object>"
            ]
          },
          "metadata": {},
          "output_type": "display_data"
        },
        {
          "name": "stderr",
          "output_type": "stream",
          "text": [
            "\u001b[34m\u001b[1mwandb\u001b[0m: \u001b[33mWARNING\u001b[0m Config item 'per_device_train_batch_size' was locked by 'sweep' (ignored update).\n",
            "\u001b[34m\u001b[1mwandb\u001b[0m: \u001b[33mWARNING\u001b[0m Config item 'learning_rate' was locked by 'sweep' (ignored update).\n"
          ]
        },
        {
          "data": {
            "text/html": [
              "\n",
              "    <div>\n",
              "      \n",
              "      <progress value='13612' max='13612' style='width:300px; height:20px; vertical-align: middle;'></progress>\n",
              "      [13612/13612 4:39:18, Epoch 4/4]\n",
              "    </div>\n",
              "    <table border=\"1\" class=\"dataframe\">\n",
              "  <thead>\n",
              " <tr style=\"text-align: left;\">\n",
              "      <th>Epoch</th>\n",
              "      <th>Training Loss</th>\n",
              "      <th>Validation Loss</th>\n",
              "      <th>Accuracy</th>\n",
              "    </tr>\n",
              "  </thead>\n",
              "  <tbody>\n",
              "    <tr>\n",
              "      <td>1</td>\n",
              "      <td>0.114200</td>\n",
              "      <td>0.110435</td>\n",
              "      <td>0.958926</td>\n",
              "    </tr>\n",
              "    <tr>\n",
              "      <td>2</td>\n",
              "      <td>0.077900</td>\n",
              "      <td>0.110411</td>\n",
              "      <td>0.963802</td>\n",
              "    </tr>\n",
              "    <tr>\n",
              "      <td>3</td>\n",
              "      <td>0.047000</td>\n",
              "      <td>0.135768</td>\n",
              "      <td>0.965372</td>\n",
              "    </tr>\n",
              "    <tr>\n",
              "      <td>4</td>\n",
              "      <td>0.022100</td>\n",
              "      <td>0.158420</td>\n",
              "      <td>0.967521</td>\n",
              "    </tr>\n",
              "  </tbody>\n",
              "</table><p>"
            ],
            "text/plain": [
              "<IPython.core.display.HTML object>"
            ]
          },
          "metadata": {},
          "output_type": "display_data"
        },
        {
          "data": {
            "text/html": [],
            "text/plain": [
              "<IPython.core.display.HTML object>"
            ]
          },
          "metadata": {},
          "output_type": "display_data"
        },
        {
          "data": {
            "text/html": [
              "<br>    <style><br>        .wandb-row {<br>            display: flex;<br>            flex-direction: row;<br>            flex-wrap: wrap;<br>            justify-content: flex-start;<br>            width: 100%;<br>        }<br>        .wandb-col {<br>            display: flex;<br>            flex-direction: column;<br>            flex-basis: 100%;<br>            flex: 1;<br>            padding: 10px;<br>        }<br>    </style><br><div class=\"wandb-row\"><div class=\"wandb-col\"><h3>Run history:</h3><br/><table class=\"wandb\"><tr><td>eval/accuracy</td><td>▁▅▆█</td></tr><tr><td>eval/loss</td><td>▁▁▅█</td></tr><tr><td>eval/runtime</td><td>▁▅█▆</td></tr><tr><td>eval/samples_per_second</td><td>█▄▁▃</td></tr><tr><td>eval/steps_per_second</td><td>█▄▁▃</td></tr><tr><td>train/epoch</td><td>▁▁▂▂▂▂▃▃▃▃▃▄▄▄▄▄▅▅▅▆▆▆▆▆▇▇▇▇████</td></tr><tr><td>train/global_step</td><td>▁▁▂▂▂▂▃▃▃▃▃▄▄▄▄▄▅▅▅▆▆▆▆▆▇▇▇▇████</td></tr><tr><td>train/grad_norm</td><td>▂▃▂▂▂▂▂▂▅▂▃▁▅▅▁▃▁▃█▁▇▁▃▆▃▁▁</td></tr><tr><td>train/learning_rate</td><td>██▇▇▇▇▆▆▆▆▅▅▅▅▄▄▄▃▃▃▃▂▂▂▂▁▁</td></tr><tr><td>train/loss</td><td>█▅▄▄▄▄▄▃▃▃▃▃▃▂▂▂▂▂▂▂▁▁▁▁▁▁▁</td></tr></table><br/></div><div class=\"wandb-col\"><h3>Run summary:</h3><br/><table class=\"wandb\"><tr><td>eval/accuracy</td><td>0.96752</td></tr><tr><td>eval/loss</td><td>0.15842</td></tr><tr><td>eval/runtime</td><td>168.2775</td></tr><tr><td>eval/samples_per_second</td><td>71.905</td></tr><tr><td>eval/steps_per_second</td><td>8.991</td></tr><tr><td>total_flos</td><td>1.1459223171883008e+17</td></tr><tr><td>train/epoch</td><td>4</td></tr><tr><td>train/global_step</td><td>13612</td></tr><tr><td>train/grad_norm</td><td>0.02897</td></tr><tr><td>train/learning_rate</td><td>0.0</td></tr><tr><td>train/loss</td><td>0.0221</td></tr><tr><td>train_loss</td><td>0.07557</td></tr><tr><td>train_runtime</td><td>16763.1023</td></tr><tr><td>train_samples_per_second</td><td>25.981</td></tr><tr><td>train_steps_per_second</td><td>0.812</td></tr></table><br/></div></div>"
            ],
            "text/plain": [
              "<IPython.core.display.HTML object>"
            ]
          },
          "metadata": {},
          "output_type": "display_data"
        },
        {
          "data": {
            "text/html": [
              " View run <strong style=\"color:#cdcd00\">solar-sweep-3</strong> at: <a href='https://wandb.ai/inflaton-ai/uncategorized/runs/xo3iqeep' target=\"_blank\">https://wandb.ai/inflaton-ai/uncategorized/runs/xo3iqeep</a><br> View project at: <a href='https://wandb.ai/inflaton-ai/uncategorized' target=\"_blank\">https://wandb.ai/inflaton-ai/uncategorized</a><br>Synced 5 W&B file(s), 0 media file(s), 0 artifact file(s) and 0 other file(s)"
            ],
            "text/plain": [
              "<IPython.core.display.HTML object>"
            ]
          },
          "metadata": {},
          "output_type": "display_data"
        },
        {
          "data": {
            "text/html": [
              "Find logs at: <code>.\\wandb\\run-20250223_114102-xo3iqeep\\logs</code>"
            ],
            "text/plain": [
              "<IPython.core.display.HTML object>"
            ]
          },
          "metadata": {},
          "output_type": "display_data"
        },
        {
          "name": "stderr",
          "output_type": "stream",
          "text": [
            "\u001b[34m\u001b[1mwandb\u001b[0m: Agent Starting Run: lnaql1c7 with config:\n",
            "\u001b[34m\u001b[1mwandb\u001b[0m: \tlearning_rate: 2.304693588855464e-05\n",
            "\u001b[34m\u001b[1mwandb\u001b[0m: \tper_device_train_batch_size: 16\n"
          ]
        },
        {
          "data": {
            "text/html": [
              "Tracking run with wandb version 0.19.7"
            ],
            "text/plain": [
              "<IPython.core.display.HTML object>"
            ]
          },
          "metadata": {},
          "output_type": "display_data"
        },
        {
          "data": {
            "text/html": [
              "Run data is saved locally in <code>c:\\Users\\admin\\code\\CrediNews\\wandb\\run-20250223_162028-lnaql1c7</code>"
            ],
            "text/plain": [
              "<IPython.core.display.HTML object>"
            ]
          },
          "metadata": {},
          "output_type": "display_data"
        },
        {
          "data": {
            "text/html": [
              "Syncing run <strong><a href='https://wandb.ai/inflaton-ai/uncategorized/runs/lnaql1c7' target=\"_blank\">prime-sweep-4</a></strong> to <a href='https://wandb.ai/inflaton-ai/uncategorized' target=\"_blank\">Weights & Biases</a> (<a href='https://wandb.me/developer-guide' target=\"_blank\">docs</a>)<br>Sweep page: <a href='https://wandb.ai/inflaton-ai/uncategorized/sweeps/su7a4p7b' target=\"_blank\">https://wandb.ai/inflaton-ai/uncategorized/sweeps/su7a4p7b</a>"
            ],
            "text/plain": [
              "<IPython.core.display.HTML object>"
            ]
          },
          "metadata": {},
          "output_type": "display_data"
        },
        {
          "data": {
            "text/html": [
              " View project at <a href='https://wandb.ai/inflaton-ai/uncategorized' target=\"_blank\">https://wandb.ai/inflaton-ai/uncategorized</a>"
            ],
            "text/plain": [
              "<IPython.core.display.HTML object>"
            ]
          },
          "metadata": {},
          "output_type": "display_data"
        },
        {
          "data": {
            "text/html": [
              " View sweep at <a href='https://wandb.ai/inflaton-ai/uncategorized/sweeps/su7a4p7b' target=\"_blank\">https://wandb.ai/inflaton-ai/uncategorized/sweeps/su7a4p7b</a>"
            ],
            "text/plain": [
              "<IPython.core.display.HTML object>"
            ]
          },
          "metadata": {},
          "output_type": "display_data"
        },
        {
          "data": {
            "text/html": [
              " View run at <a href='https://wandb.ai/inflaton-ai/uncategorized/runs/lnaql1c7' target=\"_blank\">https://wandb.ai/inflaton-ai/uncategorized/runs/lnaql1c7</a>"
            ],
            "text/plain": [
              "<IPython.core.display.HTML object>"
            ]
          },
          "metadata": {},
          "output_type": "display_data"
        },
        {
          "name": "stderr",
          "output_type": "stream",
          "text": [
            "Trying to set _wandb in the hyperparameter search but there is no corresponding field in `TrainingArguments`.\n",
            "Trying to set assignments in the hyperparameter search but there is no corresponding field in `TrainingArguments`.\n",
            "Trying to set metric in the hyperparameter search but there is no corresponding field in `TrainingArguments`.\n",
            "Some weights of BertForSequenceClassification were not initialized from the model checkpoint at bert-base-uncased and are newly initialized: ['classifier.bias', 'classifier.weight']\n",
            "You should probably TRAIN this model on a down-stream task to be able to use it for predictions and inference.\n"
          ]
        },
        {
          "data": {
            "text/html": [],
            "text/plain": [
              "<IPython.core.display.HTML object>"
            ]
          },
          "metadata": {},
          "output_type": "display_data"
        },
        {
          "data": {
            "text/html": [
              " View run <strong style=\"color:#cdcd00\">prime-sweep-4</strong> at: <a href='https://wandb.ai/inflaton-ai/uncategorized/runs/lnaql1c7' target=\"_blank\">https://wandb.ai/inflaton-ai/uncategorized/runs/lnaql1c7</a><br> View project at: <a href='https://wandb.ai/inflaton-ai/uncategorized' target=\"_blank\">https://wandb.ai/inflaton-ai/uncategorized</a><br>Synced 5 W&B file(s), 0 media file(s), 0 artifact file(s) and 0 other file(s)"
            ],
            "text/plain": [
              "<IPython.core.display.HTML object>"
            ]
          },
          "metadata": {},
          "output_type": "display_data"
        },
        {
          "data": {
            "text/html": [
              "Find logs at: <code>.\\wandb\\run-20250223_162028-lnaql1c7\\logs</code>"
            ],
            "text/plain": [
              "<IPython.core.display.HTML object>"
            ]
          },
          "metadata": {},
          "output_type": "display_data"
        },
        {
          "data": {
            "text/html": [
              "Ignoring project 'uncategorized' when running a sweep."
            ],
            "text/plain": [
              "<IPython.core.display.HTML object>"
            ]
          },
          "metadata": {},
          "output_type": "display_data"
        },
        {
          "data": {
            "text/html": [
              "Tracking run with wandb version 0.19.7"
            ],
            "text/plain": [
              "<IPython.core.display.HTML object>"
            ]
          },
          "metadata": {},
          "output_type": "display_data"
        },
        {
          "data": {
            "text/html": [
              "Run data is saved locally in <code>c:\\Users\\admin\\code\\CrediNews\\wandb\\run-20250223_162032-lnaql1c7</code>"
            ],
            "text/plain": [
              "<IPython.core.display.HTML object>"
            ]
          },
          "metadata": {},
          "output_type": "display_data"
        },
        {
          "data": {
            "text/html": [
              "Syncing run <strong><a href='https://wandb.ai/inflaton-ai/uncategorized/runs/lnaql1c7' target=\"_blank\">prime-sweep-4</a></strong> to <a href='https://wandb.ai/inflaton-ai/uncategorized' target=\"_blank\">Weights & Biases</a> (<a href='https://wandb.me/developer-guide' target=\"_blank\">docs</a>)<br>Sweep page: <a href='https://wandb.ai/inflaton-ai/uncategorized/sweeps/su7a4p7b' target=\"_blank\">https://wandb.ai/inflaton-ai/uncategorized/sweeps/su7a4p7b</a>"
            ],
            "text/plain": [
              "<IPython.core.display.HTML object>"
            ]
          },
          "metadata": {},
          "output_type": "display_data"
        },
        {
          "data": {
            "text/html": [
              " View project at <a href='https://wandb.ai/inflaton-ai/uncategorized' target=\"_blank\">https://wandb.ai/inflaton-ai/uncategorized</a>"
            ],
            "text/plain": [
              "<IPython.core.display.HTML object>"
            ]
          },
          "metadata": {},
          "output_type": "display_data"
        },
        {
          "data": {
            "text/html": [
              " View sweep at <a href='https://wandb.ai/inflaton-ai/uncategorized/sweeps/su7a4p7b' target=\"_blank\">https://wandb.ai/inflaton-ai/uncategorized/sweeps/su7a4p7b</a>"
            ],
            "text/plain": [
              "<IPython.core.display.HTML object>"
            ]
          },
          "metadata": {},
          "output_type": "display_data"
        },
        {
          "data": {
            "text/html": [
              " View run at <a href='https://wandb.ai/inflaton-ai/uncategorized/runs/lnaql1c7' target=\"_blank\">https://wandb.ai/inflaton-ai/uncategorized/runs/lnaql1c7</a>"
            ],
            "text/plain": [
              "<IPython.core.display.HTML object>"
            ]
          },
          "metadata": {},
          "output_type": "display_data"
        },
        {
          "name": "stderr",
          "output_type": "stream",
          "text": [
            "\u001b[34m\u001b[1mwandb\u001b[0m: \u001b[33mWARNING\u001b[0m Config item 'per_device_train_batch_size' was locked by 'sweep' (ignored update).\n",
            "\u001b[34m\u001b[1mwandb\u001b[0m: \u001b[33mWARNING\u001b[0m Config item 'learning_rate' was locked by 'sweep' (ignored update).\n"
          ]
        },
        {
          "data": {
            "text/html": [
              "\n",
              "    <div>\n",
              "      \n",
              "      <progress value='27224' max='27224' style='width:300px; height:20px; vertical-align: middle;'></progress>\n",
              "      [27224/27224 4:47:40, Epoch 4/4]\n",
              "    </div>\n",
              "    <table border=\"1\" class=\"dataframe\">\n",
              "  <thead>\n",
              " <tr style=\"text-align: left;\">\n",
              "      <th>Epoch</th>\n",
              "      <th>Training Loss</th>\n",
              "      <th>Validation Loss</th>\n",
              "      <th>Accuracy</th>\n",
              "    </tr>\n",
              "  </thead>\n",
              "  <tbody>\n",
              "    <tr>\n",
              "      <td>1</td>\n",
              "      <td>0.128300</td>\n",
              "      <td>0.129828</td>\n",
              "      <td>0.960413</td>\n",
              "    </tr>\n",
              "    <tr>\n",
              "      <td>2</td>\n",
              "      <td>0.101700</td>\n",
              "      <td>0.175993</td>\n",
              "      <td>0.959669</td>\n",
              "    </tr>\n",
              "    <tr>\n",
              "      <td>3</td>\n",
              "      <td>0.059600</td>\n",
              "      <td>0.164423</td>\n",
              "      <td>0.966364</td>\n",
              "    </tr>\n",
              "    <tr>\n",
              "      <td>4</td>\n",
              "      <td>0.026600</td>\n",
              "      <td>0.198734</td>\n",
              "      <td>0.965289</td>\n",
              "    </tr>\n",
              "  </tbody>\n",
              "</table><p>"
            ],
            "text/plain": [
              "<IPython.core.display.HTML object>"
            ]
          },
          "metadata": {},
          "output_type": "display_data"
        },
        {
          "data": {
            "text/html": [],
            "text/plain": [
              "<IPython.core.display.HTML object>"
            ]
          },
          "metadata": {},
          "output_type": "display_data"
        },
        {
          "data": {
            "text/html": [
              "<br>    <style><br>        .wandb-row {<br>            display: flex;<br>            flex-direction: row;<br>            flex-wrap: wrap;<br>            justify-content: flex-start;<br>            width: 100%;<br>        }<br>        .wandb-col {<br>            display: flex;<br>            flex-direction: column;<br>            flex-basis: 100%;<br>            flex: 1;<br>            padding: 10px;<br>        }<br>    </style><br><div class=\"wandb-row\"><div class=\"wandb-col\"><h3>Run history:</h3><br/><table class=\"wandb\"><tr><td>eval/accuracy</td><td>▂▁█▇</td></tr><tr><td>eval/loss</td><td>▁▆▅█</td></tr><tr><td>eval/runtime</td><td>█▂▄▁</td></tr><tr><td>eval/samples_per_second</td><td>▁▇▅█</td></tr><tr><td>eval/steps_per_second</td><td>▁▇▅█</td></tr><tr><td>train/epoch</td><td>▁▁▁▁▂▂▂▂▂▂▃▃▃▃▃▄▄▄▄▄▅▅▅▅▅▆▆▆▆▆▆▆▇▇▇▇▇███</td></tr><tr><td>train/global_step</td><td>▁▁▁▁▂▂▂▂▂▂▃▃▃▃▃▄▄▄▄▄▅▅▅▅▅▆▆▆▆▆▆▇▇▇▇█████</td></tr><tr><td>train/grad_norm</td><td>▂▃▃▃▂▂▁▅▁▁▅▁▁▁▄█▃▁▁▁▁▄▁▆▁▁▁▁▁▁▁▁▁▁▁▁▃▁▁▁</td></tr><tr><td>train/learning_rate</td><td>███▇▇▇▇▇▇▆▆▆▆▆▆▅▅▅▅▅▄▄▄▄▄▄▃▃▃▃▃▂▂▂▂▂▂▁▁▁</td></tr><tr><td>train/loss</td><td>██▇▇▆▆▆▆▆▅▅▄▄▄▄▅▄▄▄▄▂▃▃▃▃▃▂▃▃▂▂▁▁▁▁▁▁▁▁▁</td></tr></table><br/></div><div class=\"wandb-col\"><h3>Run summary:</h3><br/><table class=\"wandb\"><tr><td>eval/accuracy</td><td>0.96529</td></tr><tr><td>eval/loss</td><td>0.19873</td></tr><tr><td>eval/runtime</td><td>166.7642</td></tr><tr><td>eval/samples_per_second</td><td>72.558</td></tr><tr><td>eval/steps_per_second</td><td>9.073</td></tr><tr><td>total_flos</td><td>1.1459223171883008e+17</td></tr><tr><td>train/epoch</td><td>4</td></tr><tr><td>train/global_step</td><td>27224</td></tr><tr><td>train/grad_norm</td><td>0.04917</td></tr><tr><td>train/learning_rate</td><td>0.0</td></tr><tr><td>train/loss</td><td>0.0266</td></tr><tr><td>train_loss</td><td>0.08744</td></tr><tr><td>train_runtime</td><td>17264.1588</td></tr><tr><td>train_samples_per_second</td><td>25.227</td></tr><tr><td>train_steps_per_second</td><td>1.577</td></tr></table><br/></div></div>"
            ],
            "text/plain": [
              "<IPython.core.display.HTML object>"
            ]
          },
          "metadata": {},
          "output_type": "display_data"
        },
        {
          "data": {
            "text/html": [
              " View run <strong style=\"color:#cdcd00\">prime-sweep-4</strong> at: <a href='https://wandb.ai/inflaton-ai/uncategorized/runs/lnaql1c7' target=\"_blank\">https://wandb.ai/inflaton-ai/uncategorized/runs/lnaql1c7</a><br> View project at: <a href='https://wandb.ai/inflaton-ai/uncategorized' target=\"_blank\">https://wandb.ai/inflaton-ai/uncategorized</a><br>Synced 5 W&B file(s), 0 media file(s), 0 artifact file(s) and 0 other file(s)"
            ],
            "text/plain": [
              "<IPython.core.display.HTML object>"
            ]
          },
          "metadata": {},
          "output_type": "display_data"
        },
        {
          "data": {
            "text/html": [
              "Find logs at: <code>.\\wandb\\run-20250223_162032-lnaql1c7\\logs</code>"
            ],
            "text/plain": [
              "<IPython.core.display.HTML object>"
            ]
          },
          "metadata": {},
          "output_type": "display_data"
        },
        {
          "name": "stderr",
          "output_type": "stream",
          "text": [
            "\u001b[34m\u001b[1mwandb\u001b[0m: Agent Starting Run: yanduh28 with config:\n",
            "\u001b[34m\u001b[1mwandb\u001b[0m: \tlearning_rate: 7.189841685131387e-05\n",
            "\u001b[34m\u001b[1mwandb\u001b[0m: \tper_device_train_batch_size: 16\n"
          ]
        },
        {
          "data": {
            "text/html": [
              "Tracking run with wandb version 0.19.7"
            ],
            "text/plain": [
              "<IPython.core.display.HTML object>"
            ]
          },
          "metadata": {},
          "output_type": "display_data"
        },
        {
          "data": {
            "text/html": [
              "Run data is saved locally in <code>c:\\Users\\admin\\code\\CrediNews\\wandb\\run-20250223_210822-yanduh28</code>"
            ],
            "text/plain": [
              "<IPython.core.display.HTML object>"
            ]
          },
          "metadata": {},
          "output_type": "display_data"
        },
        {
          "data": {
            "text/html": [
              "Syncing run <strong><a href='https://wandb.ai/inflaton-ai/uncategorized/runs/yanduh28' target=\"_blank\">logical-sweep-5</a></strong> to <a href='https://wandb.ai/inflaton-ai/uncategorized' target=\"_blank\">Weights & Biases</a> (<a href='https://wandb.me/developer-guide' target=\"_blank\">docs</a>)<br>Sweep page: <a href='https://wandb.ai/inflaton-ai/uncategorized/sweeps/su7a4p7b' target=\"_blank\">https://wandb.ai/inflaton-ai/uncategorized/sweeps/su7a4p7b</a>"
            ],
            "text/plain": [
              "<IPython.core.display.HTML object>"
            ]
          },
          "metadata": {},
          "output_type": "display_data"
        },
        {
          "data": {
            "text/html": [
              " View project at <a href='https://wandb.ai/inflaton-ai/uncategorized' target=\"_blank\">https://wandb.ai/inflaton-ai/uncategorized</a>"
            ],
            "text/plain": [
              "<IPython.core.display.HTML object>"
            ]
          },
          "metadata": {},
          "output_type": "display_data"
        },
        {
          "data": {
            "text/html": [
              " View sweep at <a href='https://wandb.ai/inflaton-ai/uncategorized/sweeps/su7a4p7b' target=\"_blank\">https://wandb.ai/inflaton-ai/uncategorized/sweeps/su7a4p7b</a>"
            ],
            "text/plain": [
              "<IPython.core.display.HTML object>"
            ]
          },
          "metadata": {},
          "output_type": "display_data"
        },
        {
          "data": {
            "text/html": [
              " View run at <a href='https://wandb.ai/inflaton-ai/uncategorized/runs/yanduh28' target=\"_blank\">https://wandb.ai/inflaton-ai/uncategorized/runs/yanduh28</a>"
            ],
            "text/plain": [
              "<IPython.core.display.HTML object>"
            ]
          },
          "metadata": {},
          "output_type": "display_data"
        },
        {
          "name": "stderr",
          "output_type": "stream",
          "text": [
            "Trying to set _wandb in the hyperparameter search but there is no corresponding field in `TrainingArguments`.\n",
            "Trying to set assignments in the hyperparameter search but there is no corresponding field in `TrainingArguments`.\n",
            "Trying to set metric in the hyperparameter search but there is no corresponding field in `TrainingArguments`.\n",
            "Some weights of BertForSequenceClassification were not initialized from the model checkpoint at bert-base-uncased and are newly initialized: ['classifier.bias', 'classifier.weight']\n",
            "You should probably TRAIN this model on a down-stream task to be able to use it for predictions and inference.\n"
          ]
        },
        {
          "data": {
            "text/html": [],
            "text/plain": [
              "<IPython.core.display.HTML object>"
            ]
          },
          "metadata": {},
          "output_type": "display_data"
        },
        {
          "data": {
            "text/html": [
              " View run <strong style=\"color:#cdcd00\">logical-sweep-5</strong> at: <a href='https://wandb.ai/inflaton-ai/uncategorized/runs/yanduh28' target=\"_blank\">https://wandb.ai/inflaton-ai/uncategorized/runs/yanduh28</a><br> View project at: <a href='https://wandb.ai/inflaton-ai/uncategorized' target=\"_blank\">https://wandb.ai/inflaton-ai/uncategorized</a><br>Synced 5 W&B file(s), 0 media file(s), 0 artifact file(s) and 0 other file(s)"
            ],
            "text/plain": [
              "<IPython.core.display.HTML object>"
            ]
          },
          "metadata": {},
          "output_type": "display_data"
        },
        {
          "data": {
            "text/html": [
              "Find logs at: <code>.\\wandb\\run-20250223_210822-yanduh28\\logs</code>"
            ],
            "text/plain": [
              "<IPython.core.display.HTML object>"
            ]
          },
          "metadata": {},
          "output_type": "display_data"
        },
        {
          "data": {
            "text/html": [
              "Ignoring project 'uncategorized' when running a sweep."
            ],
            "text/plain": [
              "<IPython.core.display.HTML object>"
            ]
          },
          "metadata": {},
          "output_type": "display_data"
        },
        {
          "data": {
            "text/html": [
              "Tracking run with wandb version 0.19.7"
            ],
            "text/plain": [
              "<IPython.core.display.HTML object>"
            ]
          },
          "metadata": {},
          "output_type": "display_data"
        },
        {
          "data": {
            "text/html": [
              "Run data is saved locally in <code>c:\\Users\\admin\\code\\CrediNews\\wandb\\run-20250223_210827-yanduh28</code>"
            ],
            "text/plain": [
              "<IPython.core.display.HTML object>"
            ]
          },
          "metadata": {},
          "output_type": "display_data"
        },
        {
          "data": {
            "text/html": [
              "Syncing run <strong><a href='https://wandb.ai/inflaton-ai/uncategorized/runs/yanduh28' target=\"_blank\">logical-sweep-5</a></strong> to <a href='https://wandb.ai/inflaton-ai/uncategorized' target=\"_blank\">Weights & Biases</a> (<a href='https://wandb.me/developer-guide' target=\"_blank\">docs</a>)<br>Sweep page: <a href='https://wandb.ai/inflaton-ai/uncategorized/sweeps/su7a4p7b' target=\"_blank\">https://wandb.ai/inflaton-ai/uncategorized/sweeps/su7a4p7b</a>"
            ],
            "text/plain": [
              "<IPython.core.display.HTML object>"
            ]
          },
          "metadata": {},
          "output_type": "display_data"
        },
        {
          "data": {
            "text/html": [
              " View project at <a href='https://wandb.ai/inflaton-ai/uncategorized' target=\"_blank\">https://wandb.ai/inflaton-ai/uncategorized</a>"
            ],
            "text/plain": [
              "<IPython.core.display.HTML object>"
            ]
          },
          "metadata": {},
          "output_type": "display_data"
        },
        {
          "data": {
            "text/html": [
              " View sweep at <a href='https://wandb.ai/inflaton-ai/uncategorized/sweeps/su7a4p7b' target=\"_blank\">https://wandb.ai/inflaton-ai/uncategorized/sweeps/su7a4p7b</a>"
            ],
            "text/plain": [
              "<IPython.core.display.HTML object>"
            ]
          },
          "metadata": {},
          "output_type": "display_data"
        },
        {
          "data": {
            "text/html": [
              " View run at <a href='https://wandb.ai/inflaton-ai/uncategorized/runs/yanduh28' target=\"_blank\">https://wandb.ai/inflaton-ai/uncategorized/runs/yanduh28</a>"
            ],
            "text/plain": [
              "<IPython.core.display.HTML object>"
            ]
          },
          "metadata": {},
          "output_type": "display_data"
        },
        {
          "name": "stderr",
          "output_type": "stream",
          "text": [
            "\u001b[34m\u001b[1mwandb\u001b[0m: \u001b[33mWARNING\u001b[0m Config item 'per_device_train_batch_size' was locked by 'sweep' (ignored update).\n",
            "\u001b[34m\u001b[1mwandb\u001b[0m: \u001b[33mWARNING\u001b[0m Config item 'learning_rate' was locked by 'sweep' (ignored update).\n"
          ]
        },
        {
          "data": {
            "text/html": [
              "\n",
              "    <div>\n",
              "      \n",
              "      <progress value='27224' max='27224' style='width:300px; height:20px; vertical-align: middle;'></progress>\n",
              "      [27224/27224 4:47:06, Epoch 4/4]\n",
              "    </div>\n",
              "    <table border=\"1\" class=\"dataframe\">\n",
              "  <thead>\n",
              " <tr style=\"text-align: left;\">\n",
              "      <th>Epoch</th>\n",
              "      <th>Training Loss</th>\n",
              "      <th>Validation Loss</th>\n",
              "      <th>Accuracy</th>\n",
              "    </tr>\n",
              "  </thead>\n",
              "  <tbody>\n",
              "    <tr>\n",
              "      <td>1</td>\n",
              "      <td>0.695700</td>\n",
              "      <td>0.686090</td>\n",
              "      <td>0.562479</td>\n",
              "    </tr>\n",
              "    <tr>\n",
              "      <td>2</td>\n",
              "      <td>0.685900</td>\n",
              "      <td>0.685375</td>\n",
              "      <td>0.562479</td>\n",
              "    </tr>\n",
              "    <tr>\n",
              "      <td>3</td>\n",
              "      <td>0.684700</td>\n",
              "      <td>0.312274</td>\n",
              "      <td>0.901322</td>\n",
              "    </tr>\n",
              "    <tr>\n",
              "      <td>4</td>\n",
              "      <td>0.218000</td>\n",
              "      <td>0.206514</td>\n",
              "      <td>0.931488</td>\n",
              "    </tr>\n",
              "  </tbody>\n",
              "</table><p>"
            ],
            "text/plain": [
              "<IPython.core.display.HTML object>"
            ]
          },
          "metadata": {},
          "output_type": "display_data"
        },
        {
          "data": {
            "text/html": [],
            "text/plain": [
              "<IPython.core.display.HTML object>"
            ]
          },
          "metadata": {},
          "output_type": "display_data"
        },
        {
          "data": {
            "text/html": [
              "<br>    <style><br>        .wandb-row {<br>            display: flex;<br>            flex-direction: row;<br>            flex-wrap: wrap;<br>            justify-content: flex-start;<br>            width: 100%;<br>        }<br>        .wandb-col {<br>            display: flex;<br>            flex-direction: column;<br>            flex-basis: 100%;<br>            flex: 1;<br>            padding: 10px;<br>        }<br>    </style><br><div class=\"wandb-row\"><div class=\"wandb-col\"><h3>Run history:</h3><br/><table class=\"wandb\"><tr><td>eval/accuracy</td><td>▁▁▇█</td></tr><tr><td>eval/loss</td><td>██▃▁</td></tr><tr><td>eval/runtime</td><td>▃▁█▅</td></tr><tr><td>eval/samples_per_second</td><td>▆█▁▄</td></tr><tr><td>eval/steps_per_second</td><td>▆█▁▃</td></tr><tr><td>train/epoch</td><td>▁▁▁▁▂▂▂▂▂▃▃▃▃▃▃▄▄▄▄▄▅▅▅▅▅▆▆▆▆▆▇▇▇▇▇█████</td></tr><tr><td>train/global_step</td><td>▁▁▁▁▂▂▂▂▂▂▃▃▃▃▃▄▄▄▄▅▅▅▅▅▅▆▆▆▆▆▆▇▇▇▇▇▇███</td></tr><tr><td>train/grad_norm</td><td>▁▇▁▁▁▁▁▁▁▁▁▁▁▁▁▁▁▁▁▁▁▂▁▁▁▁▁▁▁▁▁▂▁▁▁▁▂▁█▂</td></tr><tr><td>train/learning_rate</td><td>███▇▇▇▇▇▆▆▆▆▆▆▅▅▅▅▅▅▄▄▄▄▄▄▃▃▃▃▃▂▂▂▂▂▂▂▁▁</td></tr><tr><td>train/loss</td><td>▃▂▅████████████████████████████▇██████▇▁</td></tr></table><br/></div><div class=\"wandb-col\"><h3>Run summary:</h3><br/><table class=\"wandb\"><tr><td>eval/accuracy</td><td>0.93149</td></tr><tr><td>eval/loss</td><td>0.20651</td></tr><tr><td>eval/runtime</td><td>162.6111</td></tr><tr><td>eval/samples_per_second</td><td>74.411</td></tr><tr><td>eval/steps_per_second</td><td>9.304</td></tr><tr><td>total_flos</td><td>1.1459223171883008e+17</td></tr><tr><td>train/epoch</td><td>4</td></tr><tr><td>train/global_step</td><td>27224</td></tr><tr><td>train/grad_norm</td><td>9.55706</td></tr><tr><td>train/learning_rate</td><td>0.0</td></tr><tr><td>train/loss</td><td>0.218</td></tr><tr><td>train_loss</td><td>0.64447</td></tr><tr><td>train_runtime</td><td>17230.3843</td></tr><tr><td>train_samples_per_second</td><td>25.277</td></tr><tr><td>train_steps_per_second</td><td>1.58</td></tr></table><br/></div></div>"
            ],
            "text/plain": [
              "<IPython.core.display.HTML object>"
            ]
          },
          "metadata": {},
          "output_type": "display_data"
        },
        {
          "data": {
            "text/html": [
              " View run <strong style=\"color:#cdcd00\">logical-sweep-5</strong> at: <a href='https://wandb.ai/inflaton-ai/uncategorized/runs/yanduh28' target=\"_blank\">https://wandb.ai/inflaton-ai/uncategorized/runs/yanduh28</a><br> View project at: <a href='https://wandb.ai/inflaton-ai/uncategorized' target=\"_blank\">https://wandb.ai/inflaton-ai/uncategorized</a><br>Synced 5 W&B file(s), 0 media file(s), 0 artifact file(s) and 0 other file(s)"
            ],
            "text/plain": [
              "<IPython.core.display.HTML object>"
            ]
          },
          "metadata": {},
          "output_type": "display_data"
        },
        {
          "data": {
            "text/html": [
              "Find logs at: <code>.\\wandb\\run-20250223_210827-yanduh28\\logs</code>"
            ],
            "text/plain": [
              "<IPython.core.display.HTML object>"
            ]
          },
          "metadata": {},
          "output_type": "display_data"
        },
        {
          "name": "stdout",
          "output_type": "stream",
          "text": [
            "CPU times: total: 21h 24min 58s\n",
            "Wall time: 23h 42min 24s\n"
          ]
        },
        {
          "data": {
            "text/plain": [
              "BestRun(run_id='xo3iqeep', objective=0.9675206611570248, hyperparameters={'learning_rate': 2.1205357854158003e-05, 'per_device_train_batch_size': 32, 'assignments': {}, 'metric': 'eval/loss'}, run_summary=None)"
            ]
          },
          "execution_count": 10,
          "metadata": {},
          "output_type": "execute_result"
        }
      ],
      "source": [
        "%%time\n",
        "\n",
        "best_trial_combined = do_grid_search(\"combined\")\n",
        "best_trial_combined"
      ]
    },
    {
      "cell_type": "code",
      "execution_count": 11,
      "metadata": {},
      "outputs": [
        {
          "name": "stderr",
          "output_type": "stream",
          "text": [
            "c:\\Users\\admin\\.conda\\envs\\fake-news\\Lib\\site-packages\\transformers\\training_args.py:1575: FutureWarning: `evaluation_strategy` is deprecated and will be removed in version 4.46 of 🤗 Transformers. Use `eval_strategy` instead\n",
            "  warnings.warn(\n",
            "C:\\Users\\admin\\AppData\\Local\\Temp\\ipykernel_21172\\1062649897.py:15: FutureWarning: `tokenizer` is deprecated and will be removed in version 5.0.0 for `Trainer.__init__`. Use `processing_class` instead.\n",
            "  trainer = Trainer(\n",
            "Some weights of BertForSequenceClassification were not initialized from the model checkpoint at bert-base-uncased and are newly initialized: ['classifier.bias', 'classifier.weight']\n",
            "You should probably TRAIN this model on a down-stream task to be able to use it for predictions and inference.\n"
          ]
        },
        {
          "name": "stdout",
          "output_type": "stream",
          "text": [
            "Create sweep with ID: 3ih8nbf0\n",
            "Sweep URL: https://wandb.ai/inflaton-ai/uncategorized/sweeps/3ih8nbf0\n"
          ]
        },
        {
          "name": "stderr",
          "output_type": "stream",
          "text": [
            "\u001b[34m\u001b[1mwandb\u001b[0m: Agent Starting Run: 809zjbz0 with config:\n",
            "\u001b[34m\u001b[1mwandb\u001b[0m: \tlearning_rate: 7.792192157362349e-05\n",
            "\u001b[34m\u001b[1mwandb\u001b[0m: \tper_device_train_batch_size: 16\n"
          ]
        },
        {
          "data": {
            "text/html": [
              "Tracking run with wandb version 0.19.7"
            ],
            "text/plain": [
              "<IPython.core.display.HTML object>"
            ]
          },
          "metadata": {},
          "output_type": "display_data"
        },
        {
          "data": {
            "text/html": [
              "Run data is saved locally in <code>c:\\Users\\admin\\code\\CrediNews\\wandb\\run-20250224_015545-809zjbz0</code>"
            ],
            "text/plain": [
              "<IPython.core.display.HTML object>"
            ]
          },
          "metadata": {},
          "output_type": "display_data"
        },
        {
          "data": {
            "text/html": [
              "Syncing run <strong><a href='https://wandb.ai/inflaton-ai/uncategorized/runs/809zjbz0' target=\"_blank\">ancient-sweep-1</a></strong> to <a href='https://wandb.ai/inflaton-ai/uncategorized' target=\"_blank\">Weights & Biases</a> (<a href='https://wandb.me/developer-guide' target=\"_blank\">docs</a>)<br>Sweep page: <a href='https://wandb.ai/inflaton-ai/uncategorized/sweeps/3ih8nbf0' target=\"_blank\">https://wandb.ai/inflaton-ai/uncategorized/sweeps/3ih8nbf0</a>"
            ],
            "text/plain": [
              "<IPython.core.display.HTML object>"
            ]
          },
          "metadata": {},
          "output_type": "display_data"
        },
        {
          "data": {
            "text/html": [
              " View project at <a href='https://wandb.ai/inflaton-ai/uncategorized' target=\"_blank\">https://wandb.ai/inflaton-ai/uncategorized</a>"
            ],
            "text/plain": [
              "<IPython.core.display.HTML object>"
            ]
          },
          "metadata": {},
          "output_type": "display_data"
        },
        {
          "data": {
            "text/html": [
              " View sweep at <a href='https://wandb.ai/inflaton-ai/uncategorized/sweeps/3ih8nbf0' target=\"_blank\">https://wandb.ai/inflaton-ai/uncategorized/sweeps/3ih8nbf0</a>"
            ],
            "text/plain": [
              "<IPython.core.display.HTML object>"
            ]
          },
          "metadata": {},
          "output_type": "display_data"
        },
        {
          "data": {
            "text/html": [
              " View run at <a href='https://wandb.ai/inflaton-ai/uncategorized/runs/809zjbz0' target=\"_blank\">https://wandb.ai/inflaton-ai/uncategorized/runs/809zjbz0</a>"
            ],
            "text/plain": [
              "<IPython.core.display.HTML object>"
            ]
          },
          "metadata": {},
          "output_type": "display_data"
        },
        {
          "name": "stderr",
          "output_type": "stream",
          "text": [
            "Trying to set _wandb in the hyperparameter search but there is no corresponding field in `TrainingArguments`.\n",
            "Trying to set assignments in the hyperparameter search but there is no corresponding field in `TrainingArguments`.\n",
            "Trying to set metric in the hyperparameter search but there is no corresponding field in `TrainingArguments`.\n",
            "Some weights of BertForSequenceClassification were not initialized from the model checkpoint at bert-base-uncased and are newly initialized: ['classifier.bias', 'classifier.weight']\n",
            "You should probably TRAIN this model on a down-stream task to be able to use it for predictions and inference.\n"
          ]
        },
        {
          "data": {
            "text/html": [],
            "text/plain": [
              "<IPython.core.display.HTML object>"
            ]
          },
          "metadata": {},
          "output_type": "display_data"
        },
        {
          "data": {
            "text/html": [
              " View run <strong style=\"color:#cdcd00\">ancient-sweep-1</strong> at: <a href='https://wandb.ai/inflaton-ai/uncategorized/runs/809zjbz0' target=\"_blank\">https://wandb.ai/inflaton-ai/uncategorized/runs/809zjbz0</a><br> View project at: <a href='https://wandb.ai/inflaton-ai/uncategorized' target=\"_blank\">https://wandb.ai/inflaton-ai/uncategorized</a><br>Synced 5 W&B file(s), 0 media file(s), 0 artifact file(s) and 0 other file(s)"
            ],
            "text/plain": [
              "<IPython.core.display.HTML object>"
            ]
          },
          "metadata": {},
          "output_type": "display_data"
        },
        {
          "data": {
            "text/html": [
              "Find logs at: <code>.\\wandb\\run-20250224_015545-809zjbz0\\logs</code>"
            ],
            "text/plain": [
              "<IPython.core.display.HTML object>"
            ]
          },
          "metadata": {},
          "output_type": "display_data"
        },
        {
          "data": {
            "text/html": [
              "Ignoring project 'uncategorized' when running a sweep."
            ],
            "text/plain": [
              "<IPython.core.display.HTML object>"
            ]
          },
          "metadata": {},
          "output_type": "display_data"
        },
        {
          "data": {
            "text/html": [
              "Tracking run with wandb version 0.19.7"
            ],
            "text/plain": [
              "<IPython.core.display.HTML object>"
            ]
          },
          "metadata": {},
          "output_type": "display_data"
        },
        {
          "data": {
            "text/html": [
              "Run data is saved locally in <code>c:\\Users\\admin\\code\\CrediNews\\wandb\\run-20250224_015550-809zjbz0</code>"
            ],
            "text/plain": [
              "<IPython.core.display.HTML object>"
            ]
          },
          "metadata": {},
          "output_type": "display_data"
        },
        {
          "data": {
            "text/html": [
              "Syncing run <strong><a href='https://wandb.ai/inflaton-ai/uncategorized/runs/809zjbz0' target=\"_blank\">ancient-sweep-1</a></strong> to <a href='https://wandb.ai/inflaton-ai/uncategorized' target=\"_blank\">Weights & Biases</a> (<a href='https://wandb.me/developer-guide' target=\"_blank\">docs</a>)<br>Sweep page: <a href='https://wandb.ai/inflaton-ai/uncategorized/sweeps/3ih8nbf0' target=\"_blank\">https://wandb.ai/inflaton-ai/uncategorized/sweeps/3ih8nbf0</a>"
            ],
            "text/plain": [
              "<IPython.core.display.HTML object>"
            ]
          },
          "metadata": {},
          "output_type": "display_data"
        },
        {
          "data": {
            "text/html": [
              " View project at <a href='https://wandb.ai/inflaton-ai/uncategorized' target=\"_blank\">https://wandb.ai/inflaton-ai/uncategorized</a>"
            ],
            "text/plain": [
              "<IPython.core.display.HTML object>"
            ]
          },
          "metadata": {},
          "output_type": "display_data"
        },
        {
          "data": {
            "text/html": [
              " View sweep at <a href='https://wandb.ai/inflaton-ai/uncategorized/sweeps/3ih8nbf0' target=\"_blank\">https://wandb.ai/inflaton-ai/uncategorized/sweeps/3ih8nbf0</a>"
            ],
            "text/plain": [
              "<IPython.core.display.HTML object>"
            ]
          },
          "metadata": {},
          "output_type": "display_data"
        },
        {
          "data": {
            "text/html": [
              " View run at <a href='https://wandb.ai/inflaton-ai/uncategorized/runs/809zjbz0' target=\"_blank\">https://wandb.ai/inflaton-ai/uncategorized/runs/809zjbz0</a>"
            ],
            "text/plain": [
              "<IPython.core.display.HTML object>"
            ]
          },
          "metadata": {},
          "output_type": "display_data"
        },
        {
          "name": "stderr",
          "output_type": "stream",
          "text": [
            "\u001b[34m\u001b[1mwandb\u001b[0m: \u001b[33mWARNING\u001b[0m Config item 'per_device_train_batch_size' was locked by 'sweep' (ignored update).\n",
            "\u001b[34m\u001b[1mwandb\u001b[0m: \u001b[33mWARNING\u001b[0m Config item 'learning_rate' was locked by 'sweep' (ignored update).\n"
          ]
        },
        {
          "data": {
            "text/html": [
              "\n",
              "    <div>\n",
              "      \n",
              "      <progress value='13612' max='13612' style='width:300px; height:20px; vertical-align: middle;'></progress>\n",
              "      [13612/13612 2:23:31, Epoch 4/4]\n",
              "    </div>\n",
              "    <table border=\"1\" class=\"dataframe\">\n",
              "  <thead>\n",
              " <tr style=\"text-align: left;\">\n",
              "      <th>Epoch</th>\n",
              "      <th>Training Loss</th>\n",
              "      <th>Validation Loss</th>\n",
              "      <th>Accuracy</th>\n",
              "    </tr>\n",
              "  </thead>\n",
              "  <tbody>\n",
              "    <tr>\n",
              "      <td>1</td>\n",
              "      <td>0.693600</td>\n",
              "      <td>0.695958</td>\n",
              "      <td>0.437521</td>\n",
              "    </tr>\n",
              "    <tr>\n",
              "      <td>2</td>\n",
              "      <td>0.686600</td>\n",
              "      <td>0.687070</td>\n",
              "      <td>0.562479</td>\n",
              "    </tr>\n",
              "    <tr>\n",
              "      <td>3</td>\n",
              "      <td>0.684400</td>\n",
              "      <td>0.685715</td>\n",
              "      <td>0.562479</td>\n",
              "    </tr>\n",
              "    <tr>\n",
              "      <td>4</td>\n",
              "      <td>0.684300</td>\n",
              "      <td>0.685416</td>\n",
              "      <td>0.562479</td>\n",
              "    </tr>\n",
              "  </tbody>\n",
              "</table><p>"
            ],
            "text/plain": [
              "<IPython.core.display.HTML object>"
            ]
          },
          "metadata": {},
          "output_type": "display_data"
        },
        {
          "data": {
            "text/html": [],
            "text/plain": [
              "<IPython.core.display.HTML object>"
            ]
          },
          "metadata": {},
          "output_type": "display_data"
        },
        {
          "data": {
            "text/html": [
              "<br>    <style><br>        .wandb-row {<br>            display: flex;<br>            flex-direction: row;<br>            flex-wrap: wrap;<br>            justify-content: flex-start;<br>            width: 100%;<br>        }<br>        .wandb-col {<br>            display: flex;<br>            flex-direction: column;<br>            flex-basis: 100%;<br>            flex: 1;<br>            padding: 10px;<br>        }<br>    </style><br><div class=\"wandb-row\"><div class=\"wandb-col\"><h3>Run history:</h3><br/><table class=\"wandb\"><tr><td>eval/accuracy</td><td>▁███</td></tr><tr><td>eval/loss</td><td>█▂▁▁</td></tr><tr><td>eval/runtime</td><td>▅▄▁█</td></tr><tr><td>eval/samples_per_second</td><td>▄▅█▁</td></tr><tr><td>eval/steps_per_second</td><td>▄▅█▁</td></tr><tr><td>train/epoch</td><td>▁▁▂▂▂▂▃▃▃▃▃▄▄▄▄▄▅▅▅▆▆▆▆▆▇▇▇▇████</td></tr><tr><td>train/global_step</td><td>▁▁▂▂▂▂▃▃▃▃▃▄▄▄▄▄▅▅▅▆▆▆▆▆▇▇▇▇████</td></tr><tr><td>train/grad_norm</td><td>▂▃▂█▂▂▂▃▁▂▂▁▄▃▁▁▁▁▂▁▁▂▂▁▁▃▁</td></tr><tr><td>train/learning_rate</td><td>██▇▇▇▇▆▆▆▆▅▅▅▄▄▄▄▃▃▃▃▂▂▂▂▁▁</td></tr><tr><td>train/loss</td><td>▃▁▃████████████████████████</td></tr></table><br/></div><div class=\"wandb-col\"><h3>Run summary:</h3><br/><table class=\"wandb\"><tr><td>eval/accuracy</td><td>0.56248</td></tr><tr><td>eval/loss</td><td>0.68542</td></tr><tr><td>eval/runtime</td><td>80.3402</td></tr><tr><td>eval/samples_per_second</td><td>75.305</td></tr><tr><td>eval/steps_per_second</td><td>9.422</td></tr><tr><td>total_flos</td><td>5.729611585941504e+16</td></tr><tr><td>train/epoch</td><td>4</td></tr><tr><td>train/global_step</td><td>13612</td></tr><tr><td>train/grad_norm</td><td>0.79321</td></tr><tr><td>train/learning_rate</td><td>0.0</td></tr><tr><td>train/loss</td><td>0.6843</td></tr><tr><td>train_loss</td><td>0.66825</td></tr><tr><td>train_runtime</td><td>8615.1444</td></tr><tr><td>train_samples_per_second</td><td>25.277</td></tr><tr><td>train_steps_per_second</td><td>1.58</td></tr></table><br/></div></div>"
            ],
            "text/plain": [
              "<IPython.core.display.HTML object>"
            ]
          },
          "metadata": {},
          "output_type": "display_data"
        },
        {
          "data": {
            "text/html": [
              " View run <strong style=\"color:#cdcd00\">ancient-sweep-1</strong> at: <a href='https://wandb.ai/inflaton-ai/uncategorized/runs/809zjbz0' target=\"_blank\">https://wandb.ai/inflaton-ai/uncategorized/runs/809zjbz0</a><br> View project at: <a href='https://wandb.ai/inflaton-ai/uncategorized' target=\"_blank\">https://wandb.ai/inflaton-ai/uncategorized</a><br>Synced 5 W&B file(s), 0 media file(s), 0 artifact file(s) and 0 other file(s)"
            ],
            "text/plain": [
              "<IPython.core.display.HTML object>"
            ]
          },
          "metadata": {},
          "output_type": "display_data"
        },
        {
          "data": {
            "text/html": [
              "Find logs at: <code>.\\wandb\\run-20250224_015550-809zjbz0\\logs</code>"
            ],
            "text/plain": [
              "<IPython.core.display.HTML object>"
            ]
          },
          "metadata": {},
          "output_type": "display_data"
        },
        {
          "name": "stderr",
          "output_type": "stream",
          "text": [
            "\u001b[34m\u001b[1mwandb\u001b[0m: Agent Starting Run: 4sxiorjl with config:\n",
            "\u001b[34m\u001b[1mwandb\u001b[0m: \tlearning_rate: 4.7796518861039814e-05\n",
            "\u001b[34m\u001b[1mwandb\u001b[0m: \tper_device_train_batch_size: 32\n"
          ]
        },
        {
          "data": {
            "text/html": [
              "Tracking run with wandb version 0.19.7"
            ],
            "text/plain": [
              "<IPython.core.display.HTML object>"
            ]
          },
          "metadata": {},
          "output_type": "display_data"
        },
        {
          "data": {
            "text/html": [
              "Run data is saved locally in <code>c:\\Users\\admin\\code\\CrediNews\\wandb\\run-20250224_041930-4sxiorjl</code>"
            ],
            "text/plain": [
              "<IPython.core.display.HTML object>"
            ]
          },
          "metadata": {},
          "output_type": "display_data"
        },
        {
          "data": {
            "text/html": [
              "Syncing run <strong><a href='https://wandb.ai/inflaton-ai/uncategorized/runs/4sxiorjl' target=\"_blank\">daily-sweep-2</a></strong> to <a href='https://wandb.ai/inflaton-ai/uncategorized' target=\"_blank\">Weights & Biases</a> (<a href='https://wandb.me/developer-guide' target=\"_blank\">docs</a>)<br>Sweep page: <a href='https://wandb.ai/inflaton-ai/uncategorized/sweeps/3ih8nbf0' target=\"_blank\">https://wandb.ai/inflaton-ai/uncategorized/sweeps/3ih8nbf0</a>"
            ],
            "text/plain": [
              "<IPython.core.display.HTML object>"
            ]
          },
          "metadata": {},
          "output_type": "display_data"
        },
        {
          "data": {
            "text/html": [
              " View project at <a href='https://wandb.ai/inflaton-ai/uncategorized' target=\"_blank\">https://wandb.ai/inflaton-ai/uncategorized</a>"
            ],
            "text/plain": [
              "<IPython.core.display.HTML object>"
            ]
          },
          "metadata": {},
          "output_type": "display_data"
        },
        {
          "data": {
            "text/html": [
              " View sweep at <a href='https://wandb.ai/inflaton-ai/uncategorized/sweeps/3ih8nbf0' target=\"_blank\">https://wandb.ai/inflaton-ai/uncategorized/sweeps/3ih8nbf0</a>"
            ],
            "text/plain": [
              "<IPython.core.display.HTML object>"
            ]
          },
          "metadata": {},
          "output_type": "display_data"
        },
        {
          "data": {
            "text/html": [
              " View run at <a href='https://wandb.ai/inflaton-ai/uncategorized/runs/4sxiorjl' target=\"_blank\">https://wandb.ai/inflaton-ai/uncategorized/runs/4sxiorjl</a>"
            ],
            "text/plain": [
              "<IPython.core.display.HTML object>"
            ]
          },
          "metadata": {},
          "output_type": "display_data"
        },
        {
          "name": "stderr",
          "output_type": "stream",
          "text": [
            "Trying to set _wandb in the hyperparameter search but there is no corresponding field in `TrainingArguments`.\n",
            "Trying to set assignments in the hyperparameter search but there is no corresponding field in `TrainingArguments`.\n",
            "Trying to set metric in the hyperparameter search but there is no corresponding field in `TrainingArguments`.\n",
            "Some weights of BertForSequenceClassification were not initialized from the model checkpoint at bert-base-uncased and are newly initialized: ['classifier.bias', 'classifier.weight']\n",
            "You should probably TRAIN this model on a down-stream task to be able to use it for predictions and inference.\n"
          ]
        },
        {
          "data": {
            "text/html": [],
            "text/plain": [
              "<IPython.core.display.HTML object>"
            ]
          },
          "metadata": {},
          "output_type": "display_data"
        },
        {
          "data": {
            "text/html": [
              " View run <strong style=\"color:#cdcd00\">daily-sweep-2</strong> at: <a href='https://wandb.ai/inflaton-ai/uncategorized/runs/4sxiorjl' target=\"_blank\">https://wandb.ai/inflaton-ai/uncategorized/runs/4sxiorjl</a><br> View project at: <a href='https://wandb.ai/inflaton-ai/uncategorized' target=\"_blank\">https://wandb.ai/inflaton-ai/uncategorized</a><br>Synced 5 W&B file(s), 0 media file(s), 0 artifact file(s) and 0 other file(s)"
            ],
            "text/plain": [
              "<IPython.core.display.HTML object>"
            ]
          },
          "metadata": {},
          "output_type": "display_data"
        },
        {
          "data": {
            "text/html": [
              "Find logs at: <code>.\\wandb\\run-20250224_041930-4sxiorjl\\logs</code>"
            ],
            "text/plain": [
              "<IPython.core.display.HTML object>"
            ]
          },
          "metadata": {},
          "output_type": "display_data"
        },
        {
          "data": {
            "text/html": [
              "Ignoring project 'uncategorized' when running a sweep."
            ],
            "text/plain": [
              "<IPython.core.display.HTML object>"
            ]
          },
          "metadata": {},
          "output_type": "display_data"
        },
        {
          "data": {
            "text/html": [
              "Tracking run with wandb version 0.19.7"
            ],
            "text/plain": [
              "<IPython.core.display.HTML object>"
            ]
          },
          "metadata": {},
          "output_type": "display_data"
        },
        {
          "data": {
            "text/html": [
              "Run data is saved locally in <code>c:\\Users\\admin\\code\\CrediNews\\wandb\\run-20250224_041935-4sxiorjl</code>"
            ],
            "text/plain": [
              "<IPython.core.display.HTML object>"
            ]
          },
          "metadata": {},
          "output_type": "display_data"
        },
        {
          "data": {
            "text/html": [
              "Syncing run <strong><a href='https://wandb.ai/inflaton-ai/uncategorized/runs/4sxiorjl' target=\"_blank\">daily-sweep-2</a></strong> to <a href='https://wandb.ai/inflaton-ai/uncategorized' target=\"_blank\">Weights & Biases</a> (<a href='https://wandb.me/developer-guide' target=\"_blank\">docs</a>)<br>Sweep page: <a href='https://wandb.ai/inflaton-ai/uncategorized/sweeps/3ih8nbf0' target=\"_blank\">https://wandb.ai/inflaton-ai/uncategorized/sweeps/3ih8nbf0</a>"
            ],
            "text/plain": [
              "<IPython.core.display.HTML object>"
            ]
          },
          "metadata": {},
          "output_type": "display_data"
        },
        {
          "data": {
            "text/html": [
              " View project at <a href='https://wandb.ai/inflaton-ai/uncategorized' target=\"_blank\">https://wandb.ai/inflaton-ai/uncategorized</a>"
            ],
            "text/plain": [
              "<IPython.core.display.HTML object>"
            ]
          },
          "metadata": {},
          "output_type": "display_data"
        },
        {
          "data": {
            "text/html": [
              " View sweep at <a href='https://wandb.ai/inflaton-ai/uncategorized/sweeps/3ih8nbf0' target=\"_blank\">https://wandb.ai/inflaton-ai/uncategorized/sweeps/3ih8nbf0</a>"
            ],
            "text/plain": [
              "<IPython.core.display.HTML object>"
            ]
          },
          "metadata": {},
          "output_type": "display_data"
        },
        {
          "data": {
            "text/html": [
              " View run at <a href='https://wandb.ai/inflaton-ai/uncategorized/runs/4sxiorjl' target=\"_blank\">https://wandb.ai/inflaton-ai/uncategorized/runs/4sxiorjl</a>"
            ],
            "text/plain": [
              "<IPython.core.display.HTML object>"
            ]
          },
          "metadata": {},
          "output_type": "display_data"
        },
        {
          "name": "stderr",
          "output_type": "stream",
          "text": [
            "\u001b[34m\u001b[1mwandb\u001b[0m: \u001b[33mWARNING\u001b[0m Config item 'per_device_train_batch_size' was locked by 'sweep' (ignored update).\n",
            "\u001b[34m\u001b[1mwandb\u001b[0m: \u001b[33mWARNING\u001b[0m Config item 'learning_rate' was locked by 'sweep' (ignored update).\n"
          ]
        },
        {
          "data": {
            "text/html": [
              "\n",
              "    <div>\n",
              "      \n",
              "      <progress value='6808' max='6808' style='width:300px; height:20px; vertical-align: middle;'></progress>\n",
              "      [6808/6808 2:19:51, Epoch 4/4]\n",
              "    </div>\n",
              "    <table border=\"1\" class=\"dataframe\">\n",
              "  <thead>\n",
              " <tr style=\"text-align: left;\">\n",
              "      <th>Epoch</th>\n",
              "      <th>Training Loss</th>\n",
              "      <th>Validation Loss</th>\n",
              "      <th>Accuracy</th>\n",
              "    </tr>\n",
              "  </thead>\n",
              "  <tbody>\n",
              "    <tr>\n",
              "      <td>1</td>\n",
              "      <td>0.220000</td>\n",
              "      <td>0.209388</td>\n",
              "      <td>0.910579</td>\n",
              "    </tr>\n",
              "    <tr>\n",
              "      <td>2</td>\n",
              "      <td>0.192700</td>\n",
              "      <td>0.231465</td>\n",
              "      <td>0.925124</td>\n",
              "    </tr>\n",
              "    <tr>\n",
              "      <td>3</td>\n",
              "      <td>0.133700</td>\n",
              "      <td>0.208961</td>\n",
              "      <td>0.933388</td>\n",
              "    </tr>\n",
              "    <tr>\n",
              "      <td>4</td>\n",
              "      <td>0.102600</td>\n",
              "      <td>0.202510</td>\n",
              "      <td>0.937025</td>\n",
              "    </tr>\n",
              "  </tbody>\n",
              "</table><p>"
            ],
            "text/plain": [
              "<IPython.core.display.HTML object>"
            ]
          },
          "metadata": {},
          "output_type": "display_data"
        },
        {
          "data": {
            "text/html": [],
            "text/plain": [
              "<IPython.core.display.HTML object>"
            ]
          },
          "metadata": {},
          "output_type": "display_data"
        },
        {
          "data": {
            "text/html": [
              "<br>    <style><br>        .wandb-row {<br>            display: flex;<br>            flex-direction: row;<br>            flex-wrap: wrap;<br>            justify-content: flex-start;<br>            width: 100%;<br>        }<br>        .wandb-col {<br>            display: flex;<br>            flex-direction: column;<br>            flex-basis: 100%;<br>            flex: 1;<br>            padding: 10px;<br>        }<br>    </style><br><div class=\"wandb-row\"><div class=\"wandb-col\"><h3>Run history:</h3><br/><table class=\"wandb\"><tr><td>eval/accuracy</td><td>▁▅▇█</td></tr><tr><td>eval/loss</td><td>▃█▃▁</td></tr><tr><td>eval/runtime</td><td>▁▅█▇</td></tr><tr><td>eval/samples_per_second</td><td>█▄▁▂</td></tr><tr><td>eval/steps_per_second</td><td>█▄▁▂</td></tr><tr><td>train/epoch</td><td>▁▂▂▂▃▃▄▄▄▅▅▆▆▇▇███</td></tr><tr><td>train/global_step</td><td>▁▂▂▂▃▃▄▄▄▅▅▆▆▇▇███</td></tr><tr><td>train/grad_norm</td><td>▁▄▃▂▅▃▁█▇▂▁█▇</td></tr><tr><td>train/learning_rate</td><td>█▇▇▆▆▅▄▄▃▃▂▂▁</td></tr><tr><td>train/loss</td><td>█▅▅▃▃▄▄▃▂▂▁▁▁</td></tr></table><br/></div><div class=\"wandb-col\"><h3>Run summary:</h3><br/><table class=\"wandb\"><tr><td>eval/accuracy</td><td>0.93702</td></tr><tr><td>eval/loss</td><td>0.20251</td></tr><tr><td>eval/runtime</td><td>83.8106</td></tr><tr><td>eval/samples_per_second</td><td>72.187</td></tr><tr><td>eval/steps_per_second</td><td>9.032</td></tr><tr><td>total_flos</td><td>5.729611585941504e+16</td></tr><tr><td>train/epoch</td><td>4</td></tr><tr><td>train/global_step</td><td>6808</td></tr><tr><td>train/grad_norm</td><td>18.84899</td></tr><tr><td>train/learning_rate</td><td>0.0</td></tr><tr><td>train/loss</td><td>0.1026</td></tr><tr><td>train_loss</td><td>0.17163</td></tr><tr><td>train_runtime</td><td>8395.7578</td></tr><tr><td>train_samples_per_second</td><td>25.937</td></tr><tr><td>train_steps_per_second</td><td>0.811</td></tr></table><br/></div></div>"
            ],
            "text/plain": [
              "<IPython.core.display.HTML object>"
            ]
          },
          "metadata": {},
          "output_type": "display_data"
        },
        {
          "data": {
            "text/html": [
              " View run <strong style=\"color:#cdcd00\">daily-sweep-2</strong> at: <a href='https://wandb.ai/inflaton-ai/uncategorized/runs/4sxiorjl' target=\"_blank\">https://wandb.ai/inflaton-ai/uncategorized/runs/4sxiorjl</a><br> View project at: <a href='https://wandb.ai/inflaton-ai/uncategorized' target=\"_blank\">https://wandb.ai/inflaton-ai/uncategorized</a><br>Synced 5 W&B file(s), 0 media file(s), 0 artifact file(s) and 0 other file(s)"
            ],
            "text/plain": [
              "<IPython.core.display.HTML object>"
            ]
          },
          "metadata": {},
          "output_type": "display_data"
        },
        {
          "data": {
            "text/html": [
              "Find logs at: <code>.\\wandb\\run-20250224_041935-4sxiorjl\\logs</code>"
            ],
            "text/plain": [
              "<IPython.core.display.HTML object>"
            ]
          },
          "metadata": {},
          "output_type": "display_data"
        },
        {
          "name": "stderr",
          "output_type": "stream",
          "text": [
            "\u001b[34m\u001b[1mwandb\u001b[0m: Agent Starting Run: rh7989hr with config:\n",
            "\u001b[34m\u001b[1mwandb\u001b[0m: \tlearning_rate: 7.346522135775748e-05\n",
            "\u001b[34m\u001b[1mwandb\u001b[0m: \tper_device_train_batch_size: 32\n"
          ]
        },
        {
          "data": {
            "text/html": [
              "Tracking run with wandb version 0.19.7"
            ],
            "text/plain": [
              "<IPython.core.display.HTML object>"
            ]
          },
          "metadata": {},
          "output_type": "display_data"
        },
        {
          "data": {
            "text/html": [
              "Run data is saved locally in <code>c:\\Users\\admin\\code\\CrediNews\\wandb\\run-20250224_063934-rh7989hr</code>"
            ],
            "text/plain": [
              "<IPython.core.display.HTML object>"
            ]
          },
          "metadata": {},
          "output_type": "display_data"
        },
        {
          "data": {
            "text/html": [
              "Syncing run <strong><a href='https://wandb.ai/inflaton-ai/uncategorized/runs/rh7989hr' target=\"_blank\">helpful-sweep-3</a></strong> to <a href='https://wandb.ai/inflaton-ai/uncategorized' target=\"_blank\">Weights & Biases</a> (<a href='https://wandb.me/developer-guide' target=\"_blank\">docs</a>)<br>Sweep page: <a href='https://wandb.ai/inflaton-ai/uncategorized/sweeps/3ih8nbf0' target=\"_blank\">https://wandb.ai/inflaton-ai/uncategorized/sweeps/3ih8nbf0</a>"
            ],
            "text/plain": [
              "<IPython.core.display.HTML object>"
            ]
          },
          "metadata": {},
          "output_type": "display_data"
        },
        {
          "data": {
            "text/html": [
              " View project at <a href='https://wandb.ai/inflaton-ai/uncategorized' target=\"_blank\">https://wandb.ai/inflaton-ai/uncategorized</a>"
            ],
            "text/plain": [
              "<IPython.core.display.HTML object>"
            ]
          },
          "metadata": {},
          "output_type": "display_data"
        },
        {
          "data": {
            "text/html": [
              " View sweep at <a href='https://wandb.ai/inflaton-ai/uncategorized/sweeps/3ih8nbf0' target=\"_blank\">https://wandb.ai/inflaton-ai/uncategorized/sweeps/3ih8nbf0</a>"
            ],
            "text/plain": [
              "<IPython.core.display.HTML object>"
            ]
          },
          "metadata": {},
          "output_type": "display_data"
        },
        {
          "data": {
            "text/html": [
              " View run at <a href='https://wandb.ai/inflaton-ai/uncategorized/runs/rh7989hr' target=\"_blank\">https://wandb.ai/inflaton-ai/uncategorized/runs/rh7989hr</a>"
            ],
            "text/plain": [
              "<IPython.core.display.HTML object>"
            ]
          },
          "metadata": {},
          "output_type": "display_data"
        },
        {
          "name": "stderr",
          "output_type": "stream",
          "text": [
            "Trying to set _wandb in the hyperparameter search but there is no corresponding field in `TrainingArguments`.\n",
            "Trying to set assignments in the hyperparameter search but there is no corresponding field in `TrainingArguments`.\n",
            "Trying to set metric in the hyperparameter search but there is no corresponding field in `TrainingArguments`.\n",
            "Some weights of BertForSequenceClassification were not initialized from the model checkpoint at bert-base-uncased and are newly initialized: ['classifier.bias', 'classifier.weight']\n",
            "You should probably TRAIN this model on a down-stream task to be able to use it for predictions and inference.\n"
          ]
        },
        {
          "data": {
            "text/html": [],
            "text/plain": [
              "<IPython.core.display.HTML object>"
            ]
          },
          "metadata": {},
          "output_type": "display_data"
        },
        {
          "data": {
            "text/html": [
              " View run <strong style=\"color:#cdcd00\">helpful-sweep-3</strong> at: <a href='https://wandb.ai/inflaton-ai/uncategorized/runs/rh7989hr' target=\"_blank\">https://wandb.ai/inflaton-ai/uncategorized/runs/rh7989hr</a><br> View project at: <a href='https://wandb.ai/inflaton-ai/uncategorized' target=\"_blank\">https://wandb.ai/inflaton-ai/uncategorized</a><br>Synced 5 W&B file(s), 0 media file(s), 0 artifact file(s) and 0 other file(s)"
            ],
            "text/plain": [
              "<IPython.core.display.HTML object>"
            ]
          },
          "metadata": {},
          "output_type": "display_data"
        },
        {
          "data": {
            "text/html": [
              "Find logs at: <code>.\\wandb\\run-20250224_063934-rh7989hr\\logs</code>"
            ],
            "text/plain": [
              "<IPython.core.display.HTML object>"
            ]
          },
          "metadata": {},
          "output_type": "display_data"
        },
        {
          "data": {
            "text/html": [
              "Ignoring project 'uncategorized' when running a sweep."
            ],
            "text/plain": [
              "<IPython.core.display.HTML object>"
            ]
          },
          "metadata": {},
          "output_type": "display_data"
        },
        {
          "data": {
            "text/html": [
              "Tracking run with wandb version 0.19.7"
            ],
            "text/plain": [
              "<IPython.core.display.HTML object>"
            ]
          },
          "metadata": {},
          "output_type": "display_data"
        },
        {
          "data": {
            "text/html": [
              "Run data is saved locally in <code>c:\\Users\\admin\\code\\CrediNews\\wandb\\run-20250224_063939-rh7989hr</code>"
            ],
            "text/plain": [
              "<IPython.core.display.HTML object>"
            ]
          },
          "metadata": {},
          "output_type": "display_data"
        },
        {
          "data": {
            "text/html": [
              "Syncing run <strong><a href='https://wandb.ai/inflaton-ai/uncategorized/runs/rh7989hr' target=\"_blank\">helpful-sweep-3</a></strong> to <a href='https://wandb.ai/inflaton-ai/uncategorized' target=\"_blank\">Weights & Biases</a> (<a href='https://wandb.me/developer-guide' target=\"_blank\">docs</a>)<br>Sweep page: <a href='https://wandb.ai/inflaton-ai/uncategorized/sweeps/3ih8nbf0' target=\"_blank\">https://wandb.ai/inflaton-ai/uncategorized/sweeps/3ih8nbf0</a>"
            ],
            "text/plain": [
              "<IPython.core.display.HTML object>"
            ]
          },
          "metadata": {},
          "output_type": "display_data"
        },
        {
          "data": {
            "text/html": [
              " View project at <a href='https://wandb.ai/inflaton-ai/uncategorized' target=\"_blank\">https://wandb.ai/inflaton-ai/uncategorized</a>"
            ],
            "text/plain": [
              "<IPython.core.display.HTML object>"
            ]
          },
          "metadata": {},
          "output_type": "display_data"
        },
        {
          "data": {
            "text/html": [
              " View sweep at <a href='https://wandb.ai/inflaton-ai/uncategorized/sweeps/3ih8nbf0' target=\"_blank\">https://wandb.ai/inflaton-ai/uncategorized/sweeps/3ih8nbf0</a>"
            ],
            "text/plain": [
              "<IPython.core.display.HTML object>"
            ]
          },
          "metadata": {},
          "output_type": "display_data"
        },
        {
          "data": {
            "text/html": [
              " View run at <a href='https://wandb.ai/inflaton-ai/uncategorized/runs/rh7989hr' target=\"_blank\">https://wandb.ai/inflaton-ai/uncategorized/runs/rh7989hr</a>"
            ],
            "text/plain": [
              "<IPython.core.display.HTML object>"
            ]
          },
          "metadata": {},
          "output_type": "display_data"
        },
        {
          "name": "stderr",
          "output_type": "stream",
          "text": [
            "\u001b[34m\u001b[1mwandb\u001b[0m: \u001b[33mWARNING\u001b[0m Config item 'per_device_train_batch_size' was locked by 'sweep' (ignored update).\n",
            "\u001b[34m\u001b[1mwandb\u001b[0m: \u001b[33mWARNING\u001b[0m Config item 'learning_rate' was locked by 'sweep' (ignored update).\n"
          ]
        },
        {
          "data": {
            "text/html": [
              "\n",
              "    <div>\n",
              "      \n",
              "      <progress value='6808' max='6808' style='width:300px; height:20px; vertical-align: middle;'></progress>\n",
              "      [6808/6808 2:20:08, Epoch 4/4]\n",
              "    </div>\n",
              "    <table border=\"1\" class=\"dataframe\">\n",
              "  <thead>\n",
              " <tr style=\"text-align: left;\">\n",
              "      <th>Epoch</th>\n",
              "      <th>Training Loss</th>\n",
              "      <th>Validation Loss</th>\n",
              "      <th>Accuracy</th>\n",
              "    </tr>\n",
              "  </thead>\n",
              "  <tbody>\n",
              "    <tr>\n",
              "      <td>1</td>\n",
              "      <td>0.393700</td>\n",
              "      <td>0.499309</td>\n",
              "      <td>0.785455</td>\n",
              "    </tr>\n",
              "    <tr>\n",
              "      <td>2</td>\n",
              "      <td>0.353100</td>\n",
              "      <td>0.375494</td>\n",
              "      <td>0.865289</td>\n",
              "    </tr>\n",
              "    <tr>\n",
              "      <td>3</td>\n",
              "      <td>0.263500</td>\n",
              "      <td>0.255872</td>\n",
              "      <td>0.914215</td>\n",
              "    </tr>\n",
              "    <tr>\n",
              "      <td>4</td>\n",
              "      <td>0.184900</td>\n",
              "      <td>0.191771</td>\n",
              "      <td>0.923471</td>\n",
              "    </tr>\n",
              "  </tbody>\n",
              "</table><p>"
            ],
            "text/plain": [
              "<IPython.core.display.HTML object>"
            ]
          },
          "metadata": {},
          "output_type": "display_data"
        },
        {
          "data": {
            "text/html": [],
            "text/plain": [
              "<IPython.core.display.HTML object>"
            ]
          },
          "metadata": {},
          "output_type": "display_data"
        },
        {
          "data": {
            "text/html": [
              "<br>    <style><br>        .wandb-row {<br>            display: flex;<br>            flex-direction: row;<br>            flex-wrap: wrap;<br>            justify-content: flex-start;<br>            width: 100%;<br>        }<br>        .wandb-col {<br>            display: flex;<br>            flex-direction: column;<br>            flex-basis: 100%;<br>            flex: 1;<br>            padding: 10px;<br>        }<br>    </style><br><div class=\"wandb-row\"><div class=\"wandb-col\"><h3>Run history:</h3><br/><table class=\"wandb\"><tr><td>eval/accuracy</td><td>▁▅██</td></tr><tr><td>eval/loss</td><td>█▅▂▁</td></tr><tr><td>eval/runtime</td><td>█▅▄▁</td></tr><tr><td>eval/samples_per_second</td><td>▁▄▅█</td></tr><tr><td>eval/steps_per_second</td><td>▁▄▅█</td></tr><tr><td>train/epoch</td><td>▁▂▂▂▃▃▄▄▄▅▅▆▆▇▇███</td></tr><tr><td>train/global_step</td><td>▁▂▂▂▃▃▄▄▄▅▅▆▆▇▇███</td></tr><tr><td>train/grad_norm</td><td>▅▂▁▁▂▁▁▃█▂▂▁▂</td></tr><tr><td>train/learning_rate</td><td>█▇▇▆▆▅▅▄▃▃▂▂▁</td></tr><tr><td>train/loss</td><td>█▇▆█▆▅▆▄▃▃▂▁▁</td></tr></table><br/></div><div class=\"wandb-col\"><h3>Run summary:</h3><br/><table class=\"wandb\"><tr><td>eval/accuracy</td><td>0.92347</td></tr><tr><td>eval/loss</td><td>0.19177</td></tr><tr><td>eval/runtime</td><td>82.2715</td></tr><tr><td>eval/samples_per_second</td><td>73.537</td></tr><tr><td>eval/steps_per_second</td><td>9.201</td></tr><tr><td>total_flos</td><td>5.729611585941504e+16</td></tr><tr><td>train/epoch</td><td>4</td></tr><tr><td>train/global_step</td><td>6808</td></tr><tr><td>train/grad_norm</td><td>4.47612</td></tr><tr><td>train/learning_rate</td><td>0.0</td></tr><tr><td>train/loss</td><td>0.1849</td></tr><tr><td>train_loss</td><td>0.31979</td></tr><tr><td>train_runtime</td><td>8412.0987</td></tr><tr><td>train_samples_per_second</td><td>25.887</td></tr><tr><td>train_steps_per_second</td><td>0.809</td></tr></table><br/></div></div>"
            ],
            "text/plain": [
              "<IPython.core.display.HTML object>"
            ]
          },
          "metadata": {},
          "output_type": "display_data"
        },
        {
          "data": {
            "text/html": [
              " View run <strong style=\"color:#cdcd00\">helpful-sweep-3</strong> at: <a href='https://wandb.ai/inflaton-ai/uncategorized/runs/rh7989hr' target=\"_blank\">https://wandb.ai/inflaton-ai/uncategorized/runs/rh7989hr</a><br> View project at: <a href='https://wandb.ai/inflaton-ai/uncategorized' target=\"_blank\">https://wandb.ai/inflaton-ai/uncategorized</a><br>Synced 5 W&B file(s), 0 media file(s), 0 artifact file(s) and 0 other file(s)"
            ],
            "text/plain": [
              "<IPython.core.display.HTML object>"
            ]
          },
          "metadata": {},
          "output_type": "display_data"
        },
        {
          "data": {
            "text/html": [
              "Find logs at: <code>.\\wandb\\run-20250224_063939-rh7989hr\\logs</code>"
            ],
            "text/plain": [
              "<IPython.core.display.HTML object>"
            ]
          },
          "metadata": {},
          "output_type": "display_data"
        },
        {
          "name": "stderr",
          "output_type": "stream",
          "text": [
            "\u001b[34m\u001b[1mwandb\u001b[0m: Agent Starting Run: 5zp8fuhk with config:\n",
            "\u001b[34m\u001b[1mwandb\u001b[0m: \tlearning_rate: 9.139473381529488e-05\n",
            "\u001b[34m\u001b[1mwandb\u001b[0m: \tper_device_train_batch_size: 32\n"
          ]
        },
        {
          "data": {
            "text/html": [
              "Tracking run with wandb version 0.19.7"
            ],
            "text/plain": [
              "<IPython.core.display.HTML object>"
            ]
          },
          "metadata": {},
          "output_type": "display_data"
        },
        {
          "data": {
            "text/html": [
              "Run data is saved locally in <code>c:\\Users\\admin\\code\\CrediNews\\wandb\\run-20250224_085954-5zp8fuhk</code>"
            ],
            "text/plain": [
              "<IPython.core.display.HTML object>"
            ]
          },
          "metadata": {},
          "output_type": "display_data"
        },
        {
          "data": {
            "text/html": [
              "Syncing run <strong><a href='https://wandb.ai/inflaton-ai/uncategorized/runs/5zp8fuhk' target=\"_blank\">dainty-sweep-4</a></strong> to <a href='https://wandb.ai/inflaton-ai/uncategorized' target=\"_blank\">Weights & Biases</a> (<a href='https://wandb.me/developer-guide' target=\"_blank\">docs</a>)<br>Sweep page: <a href='https://wandb.ai/inflaton-ai/uncategorized/sweeps/3ih8nbf0' target=\"_blank\">https://wandb.ai/inflaton-ai/uncategorized/sweeps/3ih8nbf0</a>"
            ],
            "text/plain": [
              "<IPython.core.display.HTML object>"
            ]
          },
          "metadata": {},
          "output_type": "display_data"
        },
        {
          "data": {
            "text/html": [
              " View project at <a href='https://wandb.ai/inflaton-ai/uncategorized' target=\"_blank\">https://wandb.ai/inflaton-ai/uncategorized</a>"
            ],
            "text/plain": [
              "<IPython.core.display.HTML object>"
            ]
          },
          "metadata": {},
          "output_type": "display_data"
        },
        {
          "data": {
            "text/html": [
              " View sweep at <a href='https://wandb.ai/inflaton-ai/uncategorized/sweeps/3ih8nbf0' target=\"_blank\">https://wandb.ai/inflaton-ai/uncategorized/sweeps/3ih8nbf0</a>"
            ],
            "text/plain": [
              "<IPython.core.display.HTML object>"
            ]
          },
          "metadata": {},
          "output_type": "display_data"
        },
        {
          "data": {
            "text/html": [
              " View run at <a href='https://wandb.ai/inflaton-ai/uncategorized/runs/5zp8fuhk' target=\"_blank\">https://wandb.ai/inflaton-ai/uncategorized/runs/5zp8fuhk</a>"
            ],
            "text/plain": [
              "<IPython.core.display.HTML object>"
            ]
          },
          "metadata": {},
          "output_type": "display_data"
        },
        {
          "name": "stderr",
          "output_type": "stream",
          "text": [
            "Trying to set _wandb in the hyperparameter search but there is no corresponding field in `TrainingArguments`.\n",
            "Trying to set assignments in the hyperparameter search but there is no corresponding field in `TrainingArguments`.\n",
            "Trying to set metric in the hyperparameter search but there is no corresponding field in `TrainingArguments`.\n",
            "Some weights of BertForSequenceClassification were not initialized from the model checkpoint at bert-base-uncased and are newly initialized: ['classifier.bias', 'classifier.weight']\n",
            "You should probably TRAIN this model on a down-stream task to be able to use it for predictions and inference.\n"
          ]
        },
        {
          "data": {
            "text/html": [],
            "text/plain": [
              "<IPython.core.display.HTML object>"
            ]
          },
          "metadata": {},
          "output_type": "display_data"
        },
        {
          "data": {
            "text/html": [
              " View run <strong style=\"color:#cdcd00\">dainty-sweep-4</strong> at: <a href='https://wandb.ai/inflaton-ai/uncategorized/runs/5zp8fuhk' target=\"_blank\">https://wandb.ai/inflaton-ai/uncategorized/runs/5zp8fuhk</a><br> View project at: <a href='https://wandb.ai/inflaton-ai/uncategorized' target=\"_blank\">https://wandb.ai/inflaton-ai/uncategorized</a><br>Synced 5 W&B file(s), 0 media file(s), 0 artifact file(s) and 0 other file(s)"
            ],
            "text/plain": [
              "<IPython.core.display.HTML object>"
            ]
          },
          "metadata": {},
          "output_type": "display_data"
        },
        {
          "data": {
            "text/html": [
              "Find logs at: <code>.\\wandb\\run-20250224_085954-5zp8fuhk\\logs</code>"
            ],
            "text/plain": [
              "<IPython.core.display.HTML object>"
            ]
          },
          "metadata": {},
          "output_type": "display_data"
        },
        {
          "data": {
            "text/html": [
              "Ignoring project 'uncategorized' when running a sweep."
            ],
            "text/plain": [
              "<IPython.core.display.HTML object>"
            ]
          },
          "metadata": {},
          "output_type": "display_data"
        },
        {
          "data": {
            "text/html": [
              "Tracking run with wandb version 0.19.7"
            ],
            "text/plain": [
              "<IPython.core.display.HTML object>"
            ]
          },
          "metadata": {},
          "output_type": "display_data"
        },
        {
          "data": {
            "text/html": [
              "Run data is saved locally in <code>c:\\Users\\admin\\code\\CrediNews\\wandb\\run-20250224_085958-5zp8fuhk</code>"
            ],
            "text/plain": [
              "<IPython.core.display.HTML object>"
            ]
          },
          "metadata": {},
          "output_type": "display_data"
        },
        {
          "data": {
            "text/html": [
              "Syncing run <strong><a href='https://wandb.ai/inflaton-ai/uncategorized/runs/5zp8fuhk' target=\"_blank\">dainty-sweep-4</a></strong> to <a href='https://wandb.ai/inflaton-ai/uncategorized' target=\"_blank\">Weights & Biases</a> (<a href='https://wandb.me/developer-guide' target=\"_blank\">docs</a>)<br>Sweep page: <a href='https://wandb.ai/inflaton-ai/uncategorized/sweeps/3ih8nbf0' target=\"_blank\">https://wandb.ai/inflaton-ai/uncategorized/sweeps/3ih8nbf0</a>"
            ],
            "text/plain": [
              "<IPython.core.display.HTML object>"
            ]
          },
          "metadata": {},
          "output_type": "display_data"
        },
        {
          "data": {
            "text/html": [
              " View project at <a href='https://wandb.ai/inflaton-ai/uncategorized' target=\"_blank\">https://wandb.ai/inflaton-ai/uncategorized</a>"
            ],
            "text/plain": [
              "<IPython.core.display.HTML object>"
            ]
          },
          "metadata": {},
          "output_type": "display_data"
        },
        {
          "data": {
            "text/html": [
              " View sweep at <a href='https://wandb.ai/inflaton-ai/uncategorized/sweeps/3ih8nbf0' target=\"_blank\">https://wandb.ai/inflaton-ai/uncategorized/sweeps/3ih8nbf0</a>"
            ],
            "text/plain": [
              "<IPython.core.display.HTML object>"
            ]
          },
          "metadata": {},
          "output_type": "display_data"
        },
        {
          "data": {
            "text/html": [
              " View run at <a href='https://wandb.ai/inflaton-ai/uncategorized/runs/5zp8fuhk' target=\"_blank\">https://wandb.ai/inflaton-ai/uncategorized/runs/5zp8fuhk</a>"
            ],
            "text/plain": [
              "<IPython.core.display.HTML object>"
            ]
          },
          "metadata": {},
          "output_type": "display_data"
        },
        {
          "name": "stderr",
          "output_type": "stream",
          "text": [
            "\u001b[34m\u001b[1mwandb\u001b[0m: \u001b[33mWARNING\u001b[0m Config item 'per_device_train_batch_size' was locked by 'sweep' (ignored update).\n",
            "\u001b[34m\u001b[1mwandb\u001b[0m: \u001b[33mWARNING\u001b[0m Config item 'learning_rate' was locked by 'sweep' (ignored update).\n"
          ]
        },
        {
          "data": {
            "text/html": [
              "\n",
              "    <div>\n",
              "      \n",
              "      <progress value='6808' max='6808' style='width:300px; height:20px; vertical-align: middle;'></progress>\n",
              "      [6808/6808 2:21:44, Epoch 4/4]\n",
              "    </div>\n",
              "    <table border=\"1\" class=\"dataframe\">\n",
              "  <thead>\n",
              " <tr style=\"text-align: left;\">\n",
              "      <th>Epoch</th>\n",
              "      <th>Training Loss</th>\n",
              "      <th>Validation Loss</th>\n",
              "      <th>Accuracy</th>\n",
              "    </tr>\n",
              "  </thead>\n",
              "  <tbody>\n",
              "    <tr>\n",
              "      <td>1</td>\n",
              "      <td>0.690700</td>\n",
              "      <td>0.688417</td>\n",
              "      <td>0.562479</td>\n",
              "    </tr>\n",
              "    <tr>\n",
              "      <td>2</td>\n",
              "      <td>0.687300</td>\n",
              "      <td>0.687366</td>\n",
              "      <td>0.562479</td>\n",
              "    </tr>\n",
              "    <tr>\n",
              "      <td>3</td>\n",
              "      <td>0.685300</td>\n",
              "      <td>0.686024</td>\n",
              "      <td>0.562479</td>\n",
              "    </tr>\n",
              "    <tr>\n",
              "      <td>4</td>\n",
              "      <td>0.687300</td>\n",
              "      <td>0.685433</td>\n",
              "      <td>0.562479</td>\n",
              "    </tr>\n",
              "  </tbody>\n",
              "</table><p>"
            ],
            "text/plain": [
              "<IPython.core.display.HTML object>"
            ]
          },
          "metadata": {},
          "output_type": "display_data"
        },
        {
          "data": {
            "text/html": [],
            "text/plain": [
              "<IPython.core.display.HTML object>"
            ]
          },
          "metadata": {},
          "output_type": "display_data"
        },
        {
          "data": {
            "text/html": [
              "<br>    <style><br>        .wandb-row {<br>            display: flex;<br>            flex-direction: row;<br>            flex-wrap: wrap;<br>            justify-content: flex-start;<br>            width: 100%;<br>        }<br>        .wandb-col {<br>            display: flex;<br>            flex-direction: column;<br>            flex-basis: 100%;<br>            flex: 1;<br>            padding: 10px;<br>        }<br>    </style><br><div class=\"wandb-row\"><div class=\"wandb-col\"><h3>Run history:</h3><br/><table class=\"wandb\"><tr><td>eval/accuracy</td><td>▁▁▁▁</td></tr><tr><td>eval/loss</td><td>█▆▂▁</td></tr><tr><td>eval/runtime</td><td>▃▁█▃</td></tr><tr><td>eval/samples_per_second</td><td>▆█▁▆</td></tr><tr><td>eval/steps_per_second</td><td>▆█▁▆</td></tr><tr><td>train/epoch</td><td>▁▂▂▂▃▃▄▄▄▅▅▆▆▇▇███</td></tr><tr><td>train/global_step</td><td>▁▂▂▂▃▃▄▄▄▅▅▆▆▇▇███</td></tr><tr><td>train/grad_norm</td><td>█▇▂▃▂▃▂▃▃▂▁▄▂</td></tr><tr><td>train/learning_rate</td><td>█▇▇▆▆▅▄▄▃▃▂▂▁</td></tr><tr><td>train/loss</td><td>▁▇███████████</td></tr></table><br/></div><div class=\"wandb-col\"><h3>Run summary:</h3><br/><table class=\"wandb\"><tr><td>eval/accuracy</td><td>0.56248</td></tr><tr><td>eval/loss</td><td>0.68543</td></tr><tr><td>eval/runtime</td><td>82.0778</td></tr><tr><td>eval/samples_per_second</td><td>73.711</td></tr><tr><td>eval/steps_per_second</td><td>9.223</td></tr><tr><td>total_flos</td><td>5.729611585941504e+16</td></tr><tr><td>train/epoch</td><td>4</td></tr><tr><td>train/global_step</td><td>6808</td></tr><tr><td>train/grad_norm</td><td>1.02793</td></tr><tr><td>train/learning_rate</td><td>0.0</td></tr><tr><td>train/loss</td><td>0.6873</td></tr><tr><td>train_loss</td><td>0.67706</td></tr><tr><td>train_runtime</td><td>8508.35</td></tr><tr><td>train_samples_per_second</td><td>25.594</td></tr><tr><td>train_steps_per_second</td><td>0.8</td></tr></table><br/></div></div>"
            ],
            "text/plain": [
              "<IPython.core.display.HTML object>"
            ]
          },
          "metadata": {},
          "output_type": "display_data"
        },
        {
          "data": {
            "text/html": [
              " View run <strong style=\"color:#cdcd00\">dainty-sweep-4</strong> at: <a href='https://wandb.ai/inflaton-ai/uncategorized/runs/5zp8fuhk' target=\"_blank\">https://wandb.ai/inflaton-ai/uncategorized/runs/5zp8fuhk</a><br> View project at: <a href='https://wandb.ai/inflaton-ai/uncategorized' target=\"_blank\">https://wandb.ai/inflaton-ai/uncategorized</a><br>Synced 5 W&B file(s), 0 media file(s), 0 artifact file(s) and 0 other file(s)"
            ],
            "text/plain": [
              "<IPython.core.display.HTML object>"
            ]
          },
          "metadata": {},
          "output_type": "display_data"
        },
        {
          "data": {
            "text/html": [
              "Find logs at: <code>.\\wandb\\run-20250224_085958-5zp8fuhk\\logs</code>"
            ],
            "text/plain": [
              "<IPython.core.display.HTML object>"
            ]
          },
          "metadata": {},
          "output_type": "display_data"
        },
        {
          "name": "stderr",
          "output_type": "stream",
          "text": [
            "\u001b[34m\u001b[1mwandb\u001b[0m: Agent Starting Run: dlasjxhr with config:\n",
            "\u001b[34m\u001b[1mwandb\u001b[0m: \tlearning_rate: 4.914667895827951e-05\n",
            "\u001b[34m\u001b[1mwandb\u001b[0m: \tper_device_train_batch_size: 16\n"
          ]
        },
        {
          "data": {
            "text/html": [
              "creating run (0.9s)"
            ],
            "text/plain": [
              "<IPython.core.display.HTML object>"
            ]
          },
          "metadata": {},
          "output_type": "display_data"
        },
        {
          "data": {
            "text/html": [
              "Tracking run with wandb version 0.19.7"
            ],
            "text/plain": [
              "<IPython.core.display.HTML object>"
            ]
          },
          "metadata": {},
          "output_type": "display_data"
        },
        {
          "data": {
            "text/html": [
              "Run data is saved locally in <code>c:\\Users\\admin\\code\\CrediNews\\wandb\\run-20250224_112150-dlasjxhr</code>"
            ],
            "text/plain": [
              "<IPython.core.display.HTML object>"
            ]
          },
          "metadata": {},
          "output_type": "display_data"
        },
        {
          "data": {
            "text/html": [
              "Syncing run <strong><a href='https://wandb.ai/inflaton-ai/uncategorized/runs/dlasjxhr' target=\"_blank\">sweet-sweep-5</a></strong> to <a href='https://wandb.ai/inflaton-ai/uncategorized' target=\"_blank\">Weights & Biases</a> (<a href='https://wandb.me/developer-guide' target=\"_blank\">docs</a>)<br>Sweep page: <a href='https://wandb.ai/inflaton-ai/uncategorized/sweeps/3ih8nbf0' target=\"_blank\">https://wandb.ai/inflaton-ai/uncategorized/sweeps/3ih8nbf0</a>"
            ],
            "text/plain": [
              "<IPython.core.display.HTML object>"
            ]
          },
          "metadata": {},
          "output_type": "display_data"
        },
        {
          "data": {
            "text/html": [
              " View project at <a href='https://wandb.ai/inflaton-ai/uncategorized' target=\"_blank\">https://wandb.ai/inflaton-ai/uncategorized</a>"
            ],
            "text/plain": [
              "<IPython.core.display.HTML object>"
            ]
          },
          "metadata": {},
          "output_type": "display_data"
        },
        {
          "data": {
            "text/html": [
              " View sweep at <a href='https://wandb.ai/inflaton-ai/uncategorized/sweeps/3ih8nbf0' target=\"_blank\">https://wandb.ai/inflaton-ai/uncategorized/sweeps/3ih8nbf0</a>"
            ],
            "text/plain": [
              "<IPython.core.display.HTML object>"
            ]
          },
          "metadata": {},
          "output_type": "display_data"
        },
        {
          "data": {
            "text/html": [
              " View run at <a href='https://wandb.ai/inflaton-ai/uncategorized/runs/dlasjxhr' target=\"_blank\">https://wandb.ai/inflaton-ai/uncategorized/runs/dlasjxhr</a>"
            ],
            "text/plain": [
              "<IPython.core.display.HTML object>"
            ]
          },
          "metadata": {},
          "output_type": "display_data"
        },
        {
          "name": "stderr",
          "output_type": "stream",
          "text": [
            "Trying to set _wandb in the hyperparameter search but there is no corresponding field in `TrainingArguments`.\n",
            "Trying to set assignments in the hyperparameter search but there is no corresponding field in `TrainingArguments`.\n",
            "Trying to set metric in the hyperparameter search but there is no corresponding field in `TrainingArguments`.\n",
            "Some weights of BertForSequenceClassification were not initialized from the model checkpoint at bert-base-uncased and are newly initialized: ['classifier.bias', 'classifier.weight']\n",
            "You should probably TRAIN this model on a down-stream task to be able to use it for predictions and inference.\n"
          ]
        },
        {
          "data": {
            "text/html": [],
            "text/plain": [
              "<IPython.core.display.HTML object>"
            ]
          },
          "metadata": {},
          "output_type": "display_data"
        },
        {
          "data": {
            "text/html": [
              " View run <strong style=\"color:#cdcd00\">sweet-sweep-5</strong> at: <a href='https://wandb.ai/inflaton-ai/uncategorized/runs/dlasjxhr' target=\"_blank\">https://wandb.ai/inflaton-ai/uncategorized/runs/dlasjxhr</a><br> View project at: <a href='https://wandb.ai/inflaton-ai/uncategorized' target=\"_blank\">https://wandb.ai/inflaton-ai/uncategorized</a><br>Synced 5 W&B file(s), 0 media file(s), 0 artifact file(s) and 0 other file(s)"
            ],
            "text/plain": [
              "<IPython.core.display.HTML object>"
            ]
          },
          "metadata": {},
          "output_type": "display_data"
        },
        {
          "data": {
            "text/html": [
              "Find logs at: <code>.\\wandb\\run-20250224_112150-dlasjxhr\\logs</code>"
            ],
            "text/plain": [
              "<IPython.core.display.HTML object>"
            ]
          },
          "metadata": {},
          "output_type": "display_data"
        },
        {
          "data": {
            "text/html": [
              "Ignoring project 'uncategorized' when running a sweep."
            ],
            "text/plain": [
              "<IPython.core.display.HTML object>"
            ]
          },
          "metadata": {},
          "output_type": "display_data"
        },
        {
          "data": {
            "text/html": [
              "Tracking run with wandb version 0.19.7"
            ],
            "text/plain": [
              "<IPython.core.display.HTML object>"
            ]
          },
          "metadata": {},
          "output_type": "display_data"
        },
        {
          "data": {
            "text/html": [
              "Run data is saved locally in <code>c:\\Users\\admin\\code\\CrediNews\\wandb\\run-20250224_112155-dlasjxhr</code>"
            ],
            "text/plain": [
              "<IPython.core.display.HTML object>"
            ]
          },
          "metadata": {},
          "output_type": "display_data"
        },
        {
          "data": {
            "text/html": [
              "Syncing run <strong><a href='https://wandb.ai/inflaton-ai/uncategorized/runs/dlasjxhr' target=\"_blank\">sweet-sweep-5</a></strong> to <a href='https://wandb.ai/inflaton-ai/uncategorized' target=\"_blank\">Weights & Biases</a> (<a href='https://wandb.me/developer-guide' target=\"_blank\">docs</a>)<br>Sweep page: <a href='https://wandb.ai/inflaton-ai/uncategorized/sweeps/3ih8nbf0' target=\"_blank\">https://wandb.ai/inflaton-ai/uncategorized/sweeps/3ih8nbf0</a>"
            ],
            "text/plain": [
              "<IPython.core.display.HTML object>"
            ]
          },
          "metadata": {},
          "output_type": "display_data"
        },
        {
          "data": {
            "text/html": [
              " View project at <a href='https://wandb.ai/inflaton-ai/uncategorized' target=\"_blank\">https://wandb.ai/inflaton-ai/uncategorized</a>"
            ],
            "text/plain": [
              "<IPython.core.display.HTML object>"
            ]
          },
          "metadata": {},
          "output_type": "display_data"
        },
        {
          "data": {
            "text/html": [
              " View sweep at <a href='https://wandb.ai/inflaton-ai/uncategorized/sweeps/3ih8nbf0' target=\"_blank\">https://wandb.ai/inflaton-ai/uncategorized/sweeps/3ih8nbf0</a>"
            ],
            "text/plain": [
              "<IPython.core.display.HTML object>"
            ]
          },
          "metadata": {},
          "output_type": "display_data"
        },
        {
          "data": {
            "text/html": [
              " View run at <a href='https://wandb.ai/inflaton-ai/uncategorized/runs/dlasjxhr' target=\"_blank\">https://wandb.ai/inflaton-ai/uncategorized/runs/dlasjxhr</a>"
            ],
            "text/plain": [
              "<IPython.core.display.HTML object>"
            ]
          },
          "metadata": {},
          "output_type": "display_data"
        },
        {
          "name": "stderr",
          "output_type": "stream",
          "text": [
            "\u001b[34m\u001b[1mwandb\u001b[0m: \u001b[33mWARNING\u001b[0m Config item 'per_device_train_batch_size' was locked by 'sweep' (ignored update).\n",
            "\u001b[34m\u001b[1mwandb\u001b[0m: \u001b[33mWARNING\u001b[0m Config item 'learning_rate' was locked by 'sweep' (ignored update).\n"
          ]
        },
        {
          "data": {
            "text/html": [
              "\n",
              "    <div>\n",
              "      \n",
              "      <progress value='13612' max='13612' style='width:300px; height:20px; vertical-align: middle;'></progress>\n",
              "      [13612/13612 2:24:21, Epoch 4/4]\n",
              "    </div>\n",
              "    <table border=\"1\" class=\"dataframe\">\n",
              "  <thead>\n",
              " <tr style=\"text-align: left;\">\n",
              "      <th>Epoch</th>\n",
              "      <th>Training Loss</th>\n",
              "      <th>Validation Loss</th>\n",
              "      <th>Accuracy</th>\n",
              "    </tr>\n",
              "  </thead>\n",
              "  <tbody>\n",
              "    <tr>\n",
              "      <td>1</td>\n",
              "      <td>0.373900</td>\n",
              "      <td>0.717540</td>\n",
              "      <td>0.437521</td>\n",
              "    </tr>\n",
              "    <tr>\n",
              "      <td>2</td>\n",
              "      <td>0.315600</td>\n",
              "      <td>0.304085</td>\n",
              "      <td>0.900992</td>\n",
              "    </tr>\n",
              "    <tr>\n",
              "      <td>3</td>\n",
              "      <td>0.243400</td>\n",
              "      <td>0.265917</td>\n",
              "      <td>0.919669</td>\n",
              "    </tr>\n",
              "    <tr>\n",
              "      <td>4</td>\n",
              "      <td>0.213900</td>\n",
              "      <td>0.255113</td>\n",
              "      <td>0.922645</td>\n",
              "    </tr>\n",
              "  </tbody>\n",
              "</table><p>"
            ],
            "text/plain": [
              "<IPython.core.display.HTML object>"
            ]
          },
          "metadata": {},
          "output_type": "display_data"
        },
        {
          "data": {
            "text/html": [],
            "text/plain": [
              "<IPython.core.display.HTML object>"
            ]
          },
          "metadata": {},
          "output_type": "display_data"
        },
        {
          "data": {
            "text/html": [
              "<br>    <style><br>        .wandb-row {<br>            display: flex;<br>            flex-direction: row;<br>            flex-wrap: wrap;<br>            justify-content: flex-start;<br>            width: 100%;<br>        }<br>        .wandb-col {<br>            display: flex;<br>            flex-direction: column;<br>            flex-basis: 100%;<br>            flex: 1;<br>            padding: 10px;<br>        }<br>    </style><br><div class=\"wandb-row\"><div class=\"wandb-col\"><h3>Run history:</h3><br/><table class=\"wandb\"><tr><td>eval/accuracy</td><td>▁███</td></tr><tr><td>eval/loss</td><td>█▂▁▁</td></tr><tr><td>eval/runtime</td><td>▄▁█▇</td></tr><tr><td>eval/samples_per_second</td><td>▅█▁▂</td></tr><tr><td>eval/steps_per_second</td><td>▅█▁▂</td></tr><tr><td>train/epoch</td><td>▁▁▂▂▂▂▃▃▃▃▃▄▄▄▄▄▅▅▅▆▆▆▆▆▇▇▇▇████</td></tr><tr><td>train/global_step</td><td>▁▁▂▂▂▂▃▃▃▃▃▄▄▄▄▄▅▅▅▆▆▆▆▆▇▇▇▇████</td></tr><tr><td>train/grad_norm</td><td>▁▁▂▁▁▁▁█▁▁▁▁▁▁▁▄▁▁▁▁▁▁▁▁▁▁▁</td></tr><tr><td>train/learning_rate</td><td>██▇▇▇▇▆▆▆▆▅▅▅▅▄▄▄▃▃▃▃▂▂▂▂▁▁</td></tr><tr><td>train/loss</td><td>▃▂▂▃▃▃█▇▃▄▄▅▂▂▂▂▂▂▂▁▁▁▂▁▁▁▁</td></tr></table><br/></div><div class=\"wandb-col\"><h3>Run summary:</h3><br/><table class=\"wandb\"><tr><td>eval/accuracy</td><td>0.92264</td></tr><tr><td>eval/loss</td><td>0.25511</td></tr><tr><td>eval/runtime</td><td>82.4405</td></tr><tr><td>eval/samples_per_second</td><td>73.386</td></tr><tr><td>eval/steps_per_second</td><td>9.182</td></tr><tr><td>total_flos</td><td>5.729611585941504e+16</td></tr><tr><td>train/epoch</td><td>4</td></tr><tr><td>train/global_step</td><td>13612</td></tr><tr><td>train/grad_norm</td><td>5.62292</td></tr><tr><td>train/learning_rate</td><td>0.0</td></tr><tr><td>train/loss</td><td>0.2139</td></tr><tr><td>train_loss</td><td>0.32239</td></tr><tr><td>train_runtime</td><td>8664.8406</td></tr><tr><td>train_samples_per_second</td><td>25.132</td></tr><tr><td>train_steps_per_second</td><td>1.571</td></tr></table><br/></div></div>"
            ],
            "text/plain": [
              "<IPython.core.display.HTML object>"
            ]
          },
          "metadata": {},
          "output_type": "display_data"
        },
        {
          "data": {
            "text/html": [
              " View run <strong style=\"color:#cdcd00\">sweet-sweep-5</strong> at: <a href='https://wandb.ai/inflaton-ai/uncategorized/runs/dlasjxhr' target=\"_blank\">https://wandb.ai/inflaton-ai/uncategorized/runs/dlasjxhr</a><br> View project at: <a href='https://wandb.ai/inflaton-ai/uncategorized' target=\"_blank\">https://wandb.ai/inflaton-ai/uncategorized</a><br>Synced 5 W&B file(s), 0 media file(s), 0 artifact file(s) and 0 other file(s)"
            ],
            "text/plain": [
              "<IPython.core.display.HTML object>"
            ]
          },
          "metadata": {},
          "output_type": "display_data"
        },
        {
          "data": {
            "text/html": [
              "Find logs at: <code>.\\wandb\\run-20250224_112155-dlasjxhr\\logs</code>"
            ],
            "text/plain": [
              "<IPython.core.display.HTML object>"
            ]
          },
          "metadata": {},
          "output_type": "display_data"
        },
        {
          "name": "stdout",
          "output_type": "stream",
          "text": [
            "CPU times: total: 10h 46min 12s\n",
            "Wall time: 11h 50min 41s\n"
          ]
        },
        {
          "data": {
            "text/plain": [
              "BestRun(run_id='4sxiorjl', objective=0.9370247933884297, hyperparameters={'learning_rate': 4.7796518861039814e-05, 'per_device_train_batch_size': 32, 'assignments': {}, 'metric': 'eval/loss'}, run_summary=None)"
            ]
          },
          "execution_count": 11,
          "metadata": {},
          "output_type": "execute_result"
        }
      ],
      "source": [
        "%%time\n",
        "\n",
        "best_trial_rewritten = do_grid_search(\"rewritten\")\n",
        "best_trial_rewritten"
      ]
    }
  ],
  "metadata": {
    "accelerator": "GPU",
    "colab": {
      "private_outputs": true,
      "provenance": [],
      "toc_visible": true
    },
    "kernelspec": {
      "display_name": "fake-news",
      "language": "python",
      "name": "python3"
    },
    "language_info": {
      "codemirror_mode": {
        "name": "ipython",
        "version": 3
      },
      "file_extension": ".py",
      "mimetype": "text/x-python",
      "name": "python",
      "nbconvert_exporter": "python",
      "pygments_lexer": "ipython3",
      "version": "3.11.11"
    }
  },
  "nbformat": 4,
  "nbformat_minor": 0
}
