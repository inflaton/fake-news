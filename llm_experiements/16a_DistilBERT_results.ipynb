{
  "cells": [
    {
      "cell_type": "code",
      "execution_count": 1,
      "metadata": {},
      "outputs": [],
      "source": [
        "%load_ext autoreload\n",
        "%autoreload 2"
      ]
    },
    {
      "cell_type": "code",
      "execution_count": 2,
      "metadata": {},
      "outputs": [
        {
          "name": "stdout",
          "output_type": "stream",
          "text": [
            "working dir: /home/inflaton/code/CrediNews\n"
          ]
        }
      ],
      "source": [
        "import os\n",
        "import sys\n",
        "from pathlib import Path\n",
        "\n",
        "if \"workding_dir\" not in locals():\n",
        "    workding_dir = str(Path.cwd().parent)\n",
        "os.chdir(workding_dir)\n",
        "sys.path.append(workding_dir)\n",
        "print(\"working dir:\", workding_dir)"
      ]
    },
    {
      "cell_type": "code",
      "execution_count": 3,
      "metadata": {},
      "outputs": [
        {
          "name": "stdout",
          "output_type": "stream",
          "text": [
            "loading env vars from: /home/inflaton/code/CrediNews/.env\n"
          ]
        },
        {
          "data": {
            "text/plain": [
              "True"
            ]
          },
          "execution_count": 3,
          "metadata": {},
          "output_type": "execute_result"
        }
      ],
      "source": [
        "from dotenv import find_dotenv, load_dotenv\n",
        "\n",
        "found_dotenv = find_dotenv(\".env\")\n",
        "\n",
        "if len(found_dotenv) == 0:\n",
        "    found_dotenv = find_dotenv(\".env.example\")\n",
        "print(f\"loading env vars from: {found_dotenv}\")\n",
        "load_dotenv(found_dotenv, override=True)"
      ]
    },
    {
      "cell_type": "code",
      "execution_count": 4,
      "metadata": {},
      "outputs": [
        {
          "name": "stderr",
          "output_type": "stream",
          "text": [
            "2025-02-25 09:46:58.739813: I tensorflow/core/util/port.cc:153] oneDNN custom operations are on. You may see slightly different numerical results due to floating-point round-off errors from different computation orders. To turn them off, set the environment variable `TF_ENABLE_ONEDNN_OPTS=0`.\n",
            "2025-02-25 09:46:58.747415: E external/local_xla/xla/stream_executor/cuda/cuda_fft.cc:477] Unable to register cuFFT factory: Attempting to register factory for plugin cuFFT when one has already been registered\n",
            "WARNING: All log messages before absl::InitializeLog() is called are written to STDERR\n",
            "E0000 00:00:1740448018.755822  116607 cuda_dnn.cc:8310] Unable to register cuDNN factory: Attempting to register factory for plugin cuDNN when one has already been registered\n",
            "E0000 00:00:1740448018.758521  116607 cuda_blas.cc:1418] Unable to register cuBLAS factory: Attempting to register factory for plugin cuBLAS when one has already been registered\n",
            "2025-02-25 09:46:58.767733: I tensorflow/core/platform/cpu_feature_guard.cc:210] This TensorFlow binary is optimized to use available CPU instructions in performance-critical operations.\n",
            "To enable the following instructions: AVX2 AVX512F AVX512_VNNI AVX512_BF16 AVX_VNNI FMA, in other operations, rebuild TensorFlow with the appropriate compiler flags.\n"
          ]
        }
      ],
      "source": [
        "from llm_experiements.utils import *"
      ]
    },
    {
      "cell_type": "code",
      "execution_count": 5,
      "metadata": {},
      "outputs": [],
      "source": [
        "model_name = \"./results/DistilBERT-original\""
      ]
    },
    {
      "cell_type": "code",
      "execution_count": 6,
      "metadata": {},
      "outputs": [
        {
          "data": {
            "application/vnd.jupyter.widget-view+json": {
              "model_id": "46f495f336eb4ffa97a30c230253c084",
              "version_major": 2,
              "version_minor": 0
            },
            "text/plain": [
              "Map:   0%|          | 0/54441 [00:00<?, ? examples/s]"
            ]
          },
          "metadata": {},
          "output_type": "display_data"
        },
        {
          "data": {
            "application/vnd.jupyter.widget-view+json": {
              "model_id": "11dd651947d04a8d948c9ba62eb260c9",
              "version_major": 2,
              "version_minor": 0
            },
            "text/plain": [
              "Map:   0%|          | 0/6050 [00:00<?, ? examples/s]"
            ]
          },
          "metadata": {},
          "output_type": "display_data"
        },
        {
          "data": {
            "application/vnd.jupyter.widget-view+json": {
              "model_id": "d080af239baa4e0b95e499e5f5939ad5",
              "version_major": 2,
              "version_minor": 0
            },
            "text/plain": [
              "Map:   0%|          | 0/54441 [00:00<?, ? examples/s]"
            ]
          },
          "metadata": {},
          "output_type": "display_data"
        },
        {
          "data": {
            "application/vnd.jupyter.widget-view+json": {
              "model_id": "61d0a7a7b7ff4fa1888689a1e557d35c",
              "version_major": 2,
              "version_minor": 0
            },
            "text/plain": [
              "Map:   0%|          | 0/6050 [00:00<?, ? examples/s]"
            ]
          },
          "metadata": {},
          "output_type": "display_data"
        },
        {
          "name": "stderr",
          "output_type": "stream",
          "text": [
            "Using the `WANDB_DISABLED` environment variable is deprecated and will be removed in v5. Use the --report_to flag to control the integrations used for logging result (for instance --report_to none).\n"
          ]
        },
        {
          "data": {
            "text/html": [
              "\n",
              "    <div>\n",
              "      \n",
              "      <progress value='379' max='379' style='width:300px; height:20px; vertical-align: middle;'></progress>\n",
              "      [379/379 00:14]\n",
              "    </div>\n",
              "    "
            ],
            "text/plain": [
              "<IPython.core.display.HTML object>"
            ]
          },
          "metadata": {},
          "output_type": "display_data"
        },
        {
          "name": "stdout",
          "output_type": "stream",
          "text": [
            "Evaluation Results: {'eval_loss': 0.03182598203420639, 'eval_model_preparation_time': 0.0006, 'eval_accuracy': 0.9948760330578512, 'eval_precision': 0.9928409947249435, 'eval_recall': 0.9954665659236872, 'eval_f1_score': 0.9941520467836257, 'eval_runtime': 14.4546, 'eval_samples_per_second': 418.551, 'eval_steps_per_second': 26.22}\n",
            "\n",
            "🏆 Final Evaluation Results:\n",
            "🔹 Accuracy: 0.9949\n",
            "🔹 Precision: 0.9928\n",
            "🔹 Recall: 0.9955\n",
            "🔹 F1_score: 0.9942\n",
            "🔹 Throughput: 201.3172\n",
            "CPU times: user 1min 43s, sys: 2.62 s, total: 1min 45s\n",
            "Wall time: 52 s\n"
          ]
        }
      ],
      "source": [
        "%%time\n",
        "\n",
        "perf_original_model_val_data = evaluate_fine_tuned_llm(model_name, config=\"original\")"
      ]
    },
    {
      "cell_type": "code",
      "execution_count": 7,
      "metadata": {},
      "outputs": [
        {
          "name": "stderr",
          "output_type": "stream",
          "text": [
            "Using the `WANDB_DISABLED` environment variable is deprecated and will be removed in v5. Use the --report_to flag to control the integrations used for logging result (for instance --report_to none).\n"
          ]
        },
        {
          "data": {
            "text/html": [
              "\n",
              "    <div>\n",
              "      \n",
              "      <progress value='379' max='379' style='width:300px; height:20px; vertical-align: middle;'></progress>\n",
              "      [379/379 00:14]\n",
              "    </div>\n",
              "    "
            ],
            "text/plain": [
              "<IPython.core.display.HTML object>"
            ]
          },
          "metadata": {},
          "output_type": "display_data"
        },
        {
          "name": "stdout",
          "output_type": "stream",
          "text": [
            "Evaluation Results: {'eval_loss': 1.7086505889892578, 'eval_model_preparation_time': 0.0006, 'eval_accuracy': 0.7687603305785125, 'eval_precision': 0.9121532364597094, 'eval_recall': 0.5217227049489989, 'eval_f1_score': 0.6637827445325643, 'eval_runtime': 14.8184, 'eval_samples_per_second': 408.277, 'eval_steps_per_second': 25.576}\n",
            "\n",
            "🏆 Final Evaluation Results:\n",
            "🔹 Accuracy: 0.7688\n",
            "🔹 Precision: 0.9122\n",
            "🔹 Recall: 0.5217\n",
            "🔹 F1_score: 0.6638\n",
            "🔹 Throughput: 402.0337\n",
            "CPU times: user 15 s, sys: 139 ms, total: 15.1 s\n",
            "Wall time: 31.9 s\n"
          ]
        }
      ],
      "source": [
        "%%time\n",
        "\n",
        "perf_original_model_val_data_rewritten = evaluate_fine_tuned_llm(\n",
        "    model_name, config=\"rewritten\"\n",
        ")"
      ]
    },
    {
      "cell_type": "code",
      "execution_count": 8,
      "metadata": {},
      "outputs": [],
      "source": [
        "model_name = \"./results/DistilBERT-combined\""
      ]
    },
    {
      "cell_type": "code",
      "execution_count": 9,
      "metadata": {},
      "outputs": [
        {
          "data": {
            "application/vnd.jupyter.widget-view+json": {
              "model_id": "aafb918cd8c74ba98822ab098ff7138f",
              "version_major": 2,
              "version_minor": 0
            },
            "text/plain": [
              "Map:   0%|          | 0/54441 [00:00<?, ? examples/s]"
            ]
          },
          "metadata": {},
          "output_type": "display_data"
        },
        {
          "data": {
            "application/vnd.jupyter.widget-view+json": {
              "model_id": "8b355de14b194c9e9ca10590b7cda26d",
              "version_major": 2,
              "version_minor": 0
            },
            "text/plain": [
              "Map:   0%|          | 0/6050 [00:00<?, ? examples/s]"
            ]
          },
          "metadata": {},
          "output_type": "display_data"
        },
        {
          "data": {
            "application/vnd.jupyter.widget-view+json": {
              "model_id": "8be40cb597a144cc8746445850fa9a6a",
              "version_major": 2,
              "version_minor": 0
            },
            "text/plain": [
              "Map:   0%|          | 0/54441 [00:00<?, ? examples/s]"
            ]
          },
          "metadata": {},
          "output_type": "display_data"
        },
        {
          "data": {
            "application/vnd.jupyter.widget-view+json": {
              "model_id": "8cf2e377c74f4a17866c1ea592c152da",
              "version_major": 2,
              "version_minor": 0
            },
            "text/plain": [
              "Map:   0%|          | 0/6050 [00:00<?, ? examples/s]"
            ]
          },
          "metadata": {},
          "output_type": "display_data"
        },
        {
          "name": "stderr",
          "output_type": "stream",
          "text": [
            "Using the `WANDB_DISABLED` environment variable is deprecated and will be removed in v5. Use the --report_to flag to control the integrations used for logging result (for instance --report_to none).\n"
          ]
        },
        {
          "data": {
            "text/html": [
              "\n",
              "    <div>\n",
              "      \n",
              "      <progress value='379' max='379' style='width:300px; height:20px; vertical-align: middle;'></progress>\n",
              "      [379/379 00:15]\n",
              "    </div>\n",
              "    "
            ],
            "text/plain": [
              "<IPython.core.display.HTML object>"
            ]
          },
          "metadata": {},
          "output_type": "display_data"
        },
        {
          "name": "stdout",
          "output_type": "stream",
          "text": [
            "Evaluation Results: {'eval_loss': 0.037787389010190964, 'eval_model_preparation_time': 0.0006, 'eval_accuracy': 0.9930578512396694, 'eval_precision': 0.9916949792374481, 'eval_recall': 0.9924442765394786, 'eval_f1_score': 0.9920694864048338, 'eval_runtime': 15.3241, 'eval_samples_per_second': 394.804, 'eval_steps_per_second': 24.732}\n",
            "\n",
            "🏆 Final Evaluation Results:\n",
            "🔹 Accuracy: 0.9931\n",
            "🔹 Precision: 0.9917\n",
            "🔹 Recall: 0.9924\n",
            "🔹 F1_score: 0.9921\n",
            "🔹 Throughput: 200.4993\n",
            "CPU times: user 1min 45s, sys: 2.01 s, total: 1min 47s\n",
            "Wall time: 45.9 s\n"
          ]
        }
      ],
      "source": [
        "%%time\n",
        "\n",
        "perf_combined_model_val_data = evaluate_fine_tuned_llm(model_name, config=\"original\")"
      ]
    },
    {
      "cell_type": "code",
      "execution_count": 10,
      "metadata": {},
      "outputs": [
        {
          "name": "stderr",
          "output_type": "stream",
          "text": [
            "Using the `WANDB_DISABLED` environment variable is deprecated and will be removed in v5. Use the --report_to flag to control the integrations used for logging result (for instance --report_to none).\n"
          ]
        },
        {
          "data": {
            "text/html": [
              "\n",
              "    <div>\n",
              "      \n",
              "      <progress value='379' max='379' style='width:300px; height:20px; vertical-align: middle;'></progress>\n",
              "      [379/379 00:15]\n",
              "    </div>\n",
              "    "
            ],
            "text/plain": [
              "<IPython.core.display.HTML object>"
            ]
          },
          "metadata": {},
          "output_type": "display_data"
        },
        {
          "name": "stdout",
          "output_type": "stream",
          "text": [
            "Evaluation Results: {'eval_loss': 0.300254762172699, 'eval_model_preparation_time': 0.0006, 'eval_accuracy': 0.9373553719008264, 'eval_precision': 0.9419329696024942, 'eval_recall': 0.9131091802040046, 'eval_f1_score': 0.9272971417609822, 'eval_runtime': 15.2958, 'eval_samples_per_second': 395.534, 'eval_steps_per_second': 24.778}\n",
            "\n",
            "🏆 Final Evaluation Results:\n",
            "🔹 Accuracy: 0.9374\n",
            "🔹 Precision: 0.9419\n",
            "🔹 Recall: 0.9131\n",
            "🔹 F1_score: 0.9273\n",
            "🔹 Throughput: 389.6957\n",
            "CPU times: user 15.5 s, sys: 149 ms, total: 15.6 s\n",
            "Wall time: 54.9 s\n"
          ]
        }
      ],
      "source": [
        "%%time\n",
        "\n",
        "perf_combined_model_val_data_rewritten = evaluate_fine_tuned_llm(model_name, config=\"rewritten\")"
      ]
    },
    {
      "cell_type": "code",
      "execution_count": 11,
      "metadata": {},
      "outputs": [],
      "source": [
        "model_name = \"./results/DistilBERT-rewritten\""
      ]
    },
    {
      "cell_type": "code",
      "execution_count": 12,
      "metadata": {},
      "outputs": [
        {
          "data": {
            "application/vnd.jupyter.widget-view+json": {
              "model_id": "7814285970e44755af59e907484a80f2",
              "version_major": 2,
              "version_minor": 0
            },
            "text/plain": [
              "Map:   0%|          | 0/54441 [00:00<?, ? examples/s]"
            ]
          },
          "metadata": {},
          "output_type": "display_data"
        },
        {
          "data": {
            "application/vnd.jupyter.widget-view+json": {
              "model_id": "8f90052c109a4ec180a35b1cd3c6f015",
              "version_major": 2,
              "version_minor": 0
            },
            "text/plain": [
              "Map:   0%|          | 0/6050 [00:00<?, ? examples/s]"
            ]
          },
          "metadata": {},
          "output_type": "display_data"
        },
        {
          "data": {
            "application/vnd.jupyter.widget-view+json": {
              "model_id": "b545ed9932a541b885b4c6ba2a9b383c",
              "version_major": 2,
              "version_minor": 0
            },
            "text/plain": [
              "Map:   0%|          | 0/54441 [00:00<?, ? examples/s]"
            ]
          },
          "metadata": {},
          "output_type": "display_data"
        },
        {
          "data": {
            "application/vnd.jupyter.widget-view+json": {
              "model_id": "eae2385cef9a4d96bb2aa74ed9523ed1",
              "version_major": 2,
              "version_minor": 0
            },
            "text/plain": [
              "Map:   0%|          | 0/6050 [00:00<?, ? examples/s]"
            ]
          },
          "metadata": {},
          "output_type": "display_data"
        },
        {
          "name": "stderr",
          "output_type": "stream",
          "text": [
            "Using the `WANDB_DISABLED` environment variable is deprecated and will be removed in v5. Use the --report_to flag to control the integrations used for logging result (for instance --report_to none).\n"
          ]
        },
        {
          "data": {
            "text/html": [
              "\n",
              "    <div>\n",
              "      \n",
              "      <progress value='379' max='379' style='width:300px; height:20px; vertical-align: middle;'></progress>\n",
              "      [379/379 00:15]\n",
              "    </div>\n",
              "    "
            ],
            "text/plain": [
              "<IPython.core.display.HTML object>"
            ]
          },
          "metadata": {},
          "output_type": "display_data"
        },
        {
          "name": "stdout",
          "output_type": "stream",
          "text": [
            "Evaluation Results: {'eval_loss': 0.15522734820842743, 'eval_model_preparation_time': 0.0006, 'eval_accuracy': 0.9659504132231405, 'eval_precision': 0.9739805825242719, 'eval_recall': 0.9474877219493767, 'eval_f1_score': 0.9605515128303332, 'eval_runtime': 15.3247, 'eval_samples_per_second': 394.787, 'eval_steps_per_second': 24.731}\n",
            "\n",
            "🏆 Final Evaluation Results:\n",
            "🔹 Accuracy: 0.9660\n",
            "🔹 Precision: 0.9740\n",
            "🔹 Recall: 0.9475\n",
            "🔹 F1_score: 0.9606\n",
            "🔹 Throughput: 199.4021\n",
            "CPU times: user 1min 42s, sys: 1.83 s, total: 1min 44s\n",
            "Wall time: 54.3 s\n"
          ]
        }
      ],
      "source": [
        "%%time\n",
        "\n",
        "perf_rewritten_model_val_data = evaluate_fine_tuned_llm(model_name, config=\"original\")"
      ]
    },
    {
      "cell_type": "code",
      "execution_count": 13,
      "metadata": {},
      "outputs": [
        {
          "name": "stderr",
          "output_type": "stream",
          "text": [
            "Using the `WANDB_DISABLED` environment variable is deprecated and will be removed in v5. Use the --report_to flag to control the integrations used for logging result (for instance --report_to none).\n"
          ]
        },
        {
          "data": {
            "text/html": [
              "\n",
              "    <div>\n",
              "      \n",
              "      <progress value='379' max='379' style='width:300px; height:20px; vertical-align: middle;'></progress>\n",
              "      [379/379 00:15]\n",
              "    </div>\n",
              "    "
            ],
            "text/plain": [
              "<IPython.core.display.HTML object>"
            ]
          },
          "metadata": {},
          "output_type": "display_data"
        },
        {
          "name": "stdout",
          "output_type": "stream",
          "text": [
            "Evaluation Results: {'eval_loss': 0.27213212847709656, 'eval_model_preparation_time': 0.0006, 'eval_accuracy': 0.9375206611570248, 'eval_precision': 0.9292470677260689, 'eval_recall': 0.9278428409520212, 'eval_f1_score': 0.9285444234404537, 'eval_runtime': 15.321, 'eval_samples_per_second': 394.883, 'eval_steps_per_second': 24.737}\n",
            "\n",
            "🏆 Final Evaluation Results:\n",
            "🔹 Accuracy: 0.9375\n",
            "🔹 Precision: 0.9292\n",
            "🔹 Recall: 0.9278\n",
            "🔹 F1_score: 0.9285\n",
            "🔹 Throughput: 389.0182\n",
            "CPU times: user 15.5 s, sys: 171 ms, total: 15.6 s\n",
            "Wall time: 50.2 s\n"
          ]
        }
      ],
      "source": [
        "%%time\n",
        "\n",
        "perf_rewritten_model_val_data_rewritten = evaluate_fine_tuned_llm(model_name, config=\"rewritten\")"
      ]
    },
    {
      "cell_type": "code",
      "execution_count": 14,
      "metadata": {},
      "outputs": [
        {
          "name": "stdout",
          "output_type": "stream",
          "text": [
            "Results saved to results/DistilBERT_metrics.csv\n"
          ]
        }
      ],
      "source": [
        "from llm_experiements.utils import *\n",
        "\n",
        "model = \"DistilBERT\"\n",
        "save_results(\n",
        "    model,\n",
        "    perf_original_model_val_data,\n",
        "    perf_original_model_val_data_rewritten,\n",
        "    perf_combined_model_val_data,\n",
        "    perf_combined_model_val_data_rewritten,\n",
        "    perf_rewritten_model_val_data,\n",
        "    perf_rewritten_model_val_data_rewritten,\n",
        ")"
      ]
    },
    {
      "cell_type": "code",
      "execution_count": 15,
      "metadata": {},
      "outputs": [
        {
          "data": {
            "image/png": "[encoded data removed]",
            "text/plain": [
              "<Figure size 1500x500 with 6 Axes>"
            ]
          },
          "metadata": {},
          "output_type": "display_data"
        }
      ],
      "source": [
        "plot_results(\n",
        "    model,\n",
        "    perf_original_model_val_data,\n",
        "    perf_original_model_val_data_rewritten,\n",
        "    perf_combined_model_val_data,\n",
        "    perf_combined_model_val_data_rewritten,\n",
        "    perf_rewritten_model_val_data,\n",
        "    perf_rewritten_model_val_data_rewritten,\n",
        ")"
      ]
    }
  ],
  "metadata": {
    "accelerator": "GPU",
    "colab": {
      "private_outputs": true,
      "provenance": [],
      "toc_visible": true
    },
    "kernelspec": {
      "display_name": "fake-news",
      "language": "python",
      "name": "python3"
    },
    "language_info": {
      "codemirror_mode": {
        "name": "ipython",
        "version": 3
      },
      "file_extension": ".py",
      "mimetype": "text/x-python",
      "name": "python",
      "nbconvert_exporter": "python",
      "pygments_lexer": "ipython3",
      "version": "3.11.11"
    }
  },
  "nbformat": 4,
  "nbformat_minor": 0
}
