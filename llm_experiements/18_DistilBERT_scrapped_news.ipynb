{
  "cells": [
    {
      "cell_type": "code",
      "execution_count": 1,
      "metadata": {},
      "outputs": [],
      "source": [
        "%load_ext autoreload\n",
        "%autoreload 2"
      ]
    },
    {
      "cell_type": "code",
      "execution_count": 2,
      "metadata": {},
      "outputs": [
        {
          "name": "stdout",
          "output_type": "stream",
          "text": [
            "working dir: /home/inflaton/code/CrediNews\n"
          ]
        }
      ],
      "source": [
        "import os\n",
        "import sys\n",
        "from pathlib import Path\n",
        "\n",
        "if \"workding_dir\" not in locals():\n",
        "    workding_dir = str(Path.cwd().parent)\n",
        "os.chdir(workding_dir)\n",
        "sys.path.append(workding_dir)\n",
        "print(\"working dir:\", workding_dir)"
      ]
    },
    {
      "cell_type": "code",
      "execution_count": 3,
      "metadata": {},
      "outputs": [
        {
          "name": "stdout",
          "output_type": "stream",
          "text": [
            "loading env vars from: /home/inflaton/code/CrediNews/.env\n"
          ]
        },
        {
          "data": {
            "text/plain": [
              "True"
            ]
          },
          "execution_count": 3,
          "metadata": {},
          "output_type": "execute_result"
        }
      ],
      "source": [
        "from dotenv import find_dotenv, load_dotenv\n",
        "\n",
        "found_dotenv = find_dotenv(\".env\")\n",
        "\n",
        "if len(found_dotenv) == 0:\n",
        "    found_dotenv = find_dotenv(\".env.example\")\n",
        "print(f\"loading env vars from: {found_dotenv}\")\n",
        "load_dotenv(found_dotenv, override=True)"
      ]
    },
    {
      "cell_type": "code",
      "execution_count": 4,
      "metadata": {},
      "outputs": [
        {
          "name": "stderr",
          "output_type": "stream",
          "text": [
            "2025-02-23 07:09:58.100866: I tensorflow/core/util/port.cc:153] oneDNN custom operations are on. You may see slightly different numerical results due to floating-point round-off errors from different computation orders. To turn them off, set the environment variable `TF_ENABLE_ONEDNN_OPTS=0`.\n",
            "2025-02-23 07:09:58.110532: E external/local_xla/xla/stream_executor/cuda/cuda_fft.cc:477] Unable to register cuFFT factory: Attempting to register factory for plugin cuFFT when one has already been registered\n",
            "WARNING: All log messages before absl::InitializeLog() is called are written to STDERR\n",
            "E0000 00:00:1740265798.122568 3544182 cuda_dnn.cc:8310] Unable to register cuDNN factory: Attempting to register factory for plugin cuDNN when one has already been registered\n",
            "E0000 00:00:1740265798.126119 3544182 cuda_blas.cc:1418] Unable to register cuBLAS factory: Attempting to register factory for plugin cuBLAS when one has already been registered\n",
            "2025-02-23 07:09:58.137908: I tensorflow/core/platform/cpu_feature_guard.cc:210] This TensorFlow binary is optimized to use available CPU instructions in performance-critical operations.\n",
            "To enable the following instructions: AVX2 AVX_VNNI FMA, in other operations, rebuild TensorFlow with the appropriate compiler flags.\n"
          ]
        },
        {
          "data": {
            "application/vnd.jupyter.widget-view+json": {
              "model_id": "ec4988173ca64915acdc6d2c1e280528",
              "version_major": 2,
              "version_minor": 0
            },
            "text/plain": [
              "Generating test split: 0 examples [00:00, ? examples/s]"
            ]
          },
          "metadata": {},
          "output_type": "display_data"
        },
        {
          "data": {
            "text/plain": [
              "DatasetDict({\n",
              "    test: Dataset({\n",
              "        features: ['source', 'full_content', 'processed_full_content'],\n",
              "        num_rows: 1275\n",
              "    })\n",
              "})"
            ]
          },
          "execution_count": 4,
          "metadata": {},
          "output_type": "execute_result"
        }
      ],
      "source": [
        "from llm_experiements.utils import *\n",
        "from datasets import load_dataset\n",
        "\n",
        "dataset = load_dataset(\n",
        "    \"csv\",\n",
        "    data_files={\n",
        "        \"test\": \"dataset/scrapped_news.csv\",\n",
        "    },\n",
        ")\n",
        "dataset"
      ]
    },
    {
      "cell_type": "code",
      "execution_count": 5,
      "metadata": {},
      "outputs": [
        {
          "data": {
            "application/vnd.jupyter.widget-view+json": {
              "model_id": "17b776045c9e405e9a375051693ce52d",
              "version_major": 2,
              "version_minor": 0
            },
            "text/plain": [
              "Map:   0%|          | 0/1275 [00:00<?, ? examples/s]"
            ]
          },
          "metadata": {},
          "output_type": "display_data"
        },
        {
          "data": {
            "text/html": [],
            "text/plain": [
              "<IPython.core.display.HTML object>"
            ]
          },
          "metadata": {},
          "output_type": "display_data"
        },
        {
          "name": "stderr",
          "output_type": "stream",
          "text": [
            "\u001b[34m\u001b[1mwandb\u001b[0m: \u001b[33mWARNING\u001b[0m The `run_name` is currently set to the same value as `TrainingArguments.output_dir`. If this was not intended, please specify a different run name by setting the `TrainingArguments.run_name` parameter.\n",
            "\u001b[34m\u001b[1mwandb\u001b[0m: Using wandb-core as the SDK backend.  Please refer to https://wandb.me/wandb-core for more information.\n",
            "\u001b[34m\u001b[1mwandb\u001b[0m: Currently logged in as: \u001b[33minflaton-sg\u001b[0m (\u001b[33minflaton-ai\u001b[0m) to \u001b[32mhttps://api.wandb.ai\u001b[0m. Use \u001b[1m`wandb login --relogin`\u001b[0m to force relogin\n"
          ]
        },
        {
          "data": {
            "text/html": [
              "Tracking run with wandb version 0.19.7"
            ],
            "text/plain": [
              "<IPython.core.display.HTML object>"
            ]
          },
          "metadata": {},
          "output_type": "display_data"
        },
        {
          "data": {
            "text/html": [
              "Run data is saved locally in <code>/home/inflaton/code/CrediNews/wandb/run-20250223_071013-sh9815z5</code>"
            ],
            "text/plain": [
              "<IPython.core.display.HTML object>"
            ]
          },
          "metadata": {},
          "output_type": "display_data"
        },
        {
          "data": {
            "text/html": [
              "Syncing run <strong><a href='https://wandb.ai/inflaton-ai/huggingface/runs/sh9815z5' target=\"_blank\">./results</a></strong> to <a href='https://wandb.ai/inflaton-ai/huggingface' target=\"_blank\">Weights & Biases</a> (<a href='https://wandb.me/developer-guide' target=\"_blank\">docs</a>)<br>"
            ],
            "text/plain": [
              "<IPython.core.display.HTML object>"
            ]
          },
          "metadata": {},
          "output_type": "display_data"
        },
        {
          "data": {
            "text/html": [
              " View project at <a href='https://wandb.ai/inflaton-ai/huggingface' target=\"_blank\">https://wandb.ai/inflaton-ai/huggingface</a>"
            ],
            "text/plain": [
              "<IPython.core.display.HTML object>"
            ]
          },
          "metadata": {},
          "output_type": "display_data"
        },
        {
          "data": {
            "text/html": [
              " View run at <a href='https://wandb.ai/inflaton-ai/huggingface/runs/sh9815z5' target=\"_blank\">https://wandb.ai/inflaton-ai/huggingface/runs/sh9815z5</a>"
            ],
            "text/plain": [
              "<IPython.core.display.HTML object>"
            ]
          },
          "metadata": {},
          "output_type": "display_data"
        },
        {
          "name": "stdout",
          "output_type": "stream",
          "text": [
            "\n",
            "🔹 #Predictions:\n",
            "1275\n",
            "CPU times: user 6.89 s, sys: 710 ms, total: 7.6 s\n",
            "Wall time: 13.3 s\n"
          ]
        }
      ],
      "source": [
        "%%time\n",
        "\n",
        "model_name = \"./results/DistilBERT-combined\"\n",
        "pred_combined_model_val_data = evaluate_fine_tuned_llm(model_name, eval_dataset=dataset[\"test\"])"
      ]
    },
    {
      "cell_type": "code",
      "execution_count": 6,
      "metadata": {},
      "outputs": [
        {
          "name": "stdout",
          "output_type": "stream",
          "text": [
            "\n",
            "Predictions by Source:\n",
            "                  Predicted Real  Predicted Fake\n",
            "source                                          \n",
            "AP                           118              20\n",
            "BBC                           51              20\n",
            "Breitbart                    127              47\n",
            "CNN                           80              18\n",
            "Guardian                      43              45\n",
            "NPR                           63              14\n",
            "Natural News                  55              73\n",
            "News Max                      95              94\n",
            "The Daily Caller              67              91\n",
            "Zerohedge                     44             110\n",
            "\n",
            "Percentage of Fake News by Source:\n",
            "source\n",
            "Zerohedge           71.428571\n",
            "The Daily Caller    57.594937\n",
            "Natural News        57.031250\n",
            "Guardian            51.136364\n",
            "News Max            49.735450\n",
            "BBC                 28.169014\n",
            "Breitbart           27.011494\n",
            "CNN                 18.367347\n",
            "NPR                 18.181818\n",
            "AP                  14.492754\n",
            "Name: predicted_label, dtype: float64\n"
          ]
        }
      ],
      "source": [
        "def analyze_predictions(dataset, predictions):\n",
        "    data_copy = dataset[\"test\"].to_pandas()\n",
        "\n",
        "    # Add predictions to scraped data\n",
        "    data_copy[\"predicted_label\"] = predictions\n",
        "\n",
        "    # Print predictions by source\n",
        "    print(\"\\nPredictions by Source:\")\n",
        "    source_predictions = (\n",
        "        data_copy.groupby(\"source\")[\"predicted_label\"].value_counts().unstack()\n",
        "    )\n",
        "    source_predictions.columns = [\"Predicted Real\", \"Predicted Fake\"]\n",
        "    print(source_predictions)\n",
        "\n",
        "    # Calculate percentage of fake news by source\n",
        "    fake_percentages = data_copy.groupby(\"source\")[\"predicted_label\"].mean() * 100\n",
        "    print(\"\\nPercentage of Fake News by Source:\")\n",
        "    print(fake_percentages.sort_values(ascending=False))\n",
        "\n",
        "analyze_predictions(dataset, pred_combined_model_val_data)"
      ]
    },
    {
      "cell_type": "code",
      "execution_count": 8,
      "metadata": {},
      "outputs": [
        {
          "data": {
            "text/html": [],
            "text/plain": [
              "<IPython.core.display.HTML object>"
            ]
          },
          "metadata": {},
          "output_type": "display_data"
        },
        {
          "name": "stdout",
          "output_type": "stream",
          "text": [
            "\n",
            "🔹 #Predictions:\n",
            "1275\n",
            "CPU times: user 4.51 s, sys: 43.3 ms, total: 4.55 s\n",
            "Wall time: 9.84 s\n"
          ]
        }
      ],
      "source": [
        "%%time\n",
        "\n",
        "model_name = \"./results/DistilBERT-original\"\n",
        "pred_original_model_val_data = evaluate_fine_tuned_llm(model_name, eval_dataset=dataset[\"test\"])"
      ]
    },
    {
      "cell_type": "code",
      "execution_count": 9,
      "metadata": {},
      "outputs": [
        {
          "name": "stdout",
          "output_type": "stream",
          "text": [
            "\n",
            "Predictions by Source:\n",
            "                  Predicted Real  Predicted Fake\n",
            "source                                          \n",
            "AP                            90              48\n",
            "BBC                           51              20\n",
            "Breitbart                    105              69\n",
            "CNN                           73              25\n",
            "Guardian                      41              47\n",
            "NPR                           59              18\n",
            "Natural News                  66              62\n",
            "News Max                     163              26\n",
            "The Daily Caller              80              78\n",
            "Zerohedge                     42             112\n",
            "\n",
            "Percentage of Fake News by Source:\n",
            "source\n",
            "Zerohedge           72.727273\n",
            "Guardian            53.409091\n",
            "The Daily Caller    49.367089\n",
            "Natural News        48.437500\n",
            "Breitbart           39.655172\n",
            "AP                  34.782609\n",
            "BBC                 28.169014\n",
            "CNN                 25.510204\n",
            "NPR                 23.376623\n",
            "News Max            13.756614\n",
            "Name: predicted_label, dtype: float64\n"
          ]
        }
      ],
      "source": [
        "analyze_predictions(dataset, pred_original_model_val_data)"
      ]
    }
  ],
  "metadata": {
    "accelerator": "GPU",
    "colab": {
      "private_outputs": true,
      "provenance": [],
      "toc_visible": true
    },
    "kernelspec": {
      "display_name": "fake-news",
      "language": "python",
      "name": "python3"
    },
    "language_info": {
      "codemirror_mode": {
        "name": "ipython",
        "version": 3
      },
      "file_extension": ".py",
      "mimetype": "text/x-python",
      "name": "python",
      "nbconvert_exporter": "python",
      "pygments_lexer": "ipython3",
      "version": "3.11.11"
    }
  },
  "nbformat": 4,
  "nbformat_minor": 0
}
